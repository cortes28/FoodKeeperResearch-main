{
 "cells": [
  {
   "cell_type": "markdown",
   "metadata": {},
   "source": [
    "## Evaluation Notebook"
   ]
  },
  {
   "cell_type": "code",
   "execution_count": 2,
   "metadata": {
    "scrolled": true
   },
   "outputs": [
    {
     "name": "stdout",
     "output_type": "stream",
     "text": [
      "Collecting en-core-web-lg==3.3.0\n",
      "  Downloading https://github.com/explosion/spacy-models/releases/download/en_core_web_lg-3.3.0/en_core_web_lg-3.3.0-py3-none-any.whl (400.7 MB)\n",
      "     -------------------------------------- 400.7/400.7 MB 9.2 MB/s eta 0:00:00\n",
      "Requirement already satisfied: spacy<3.4.0,>=3.3.0.dev0 in c:\\users\\ferna\\anaconda3\\lib\\site-packages (from en-core-web-lg==3.3.0) (3.3.1)\n",
      "Requirement already satisfied: setuptools in c:\\users\\ferna\\anaconda3\\lib\\site-packages (from spacy<3.4.0,>=3.3.0.dev0->en-core-web-lg==3.3.0) (63.4.1)\n",
      "Requirement already satisfied: srsly<3.0.0,>=2.4.3 in c:\\users\\ferna\\anaconda3\\lib\\site-packages (from spacy<3.4.0,>=3.3.0.dev0->en-core-web-lg==3.3.0) (2.4.3)\n",
      "Requirement already satisfied: tqdm<5.0.0,>=4.38.0 in c:\\users\\ferna\\anaconda3\\lib\\site-packages (from spacy<3.4.0,>=3.3.0.dev0->en-core-web-lg==3.3.0) (4.64.1)\n",
      "Requirement already satisfied: wasabi<1.1.0,>=0.9.1 in c:\\users\\ferna\\anaconda3\\lib\\site-packages (from spacy<3.4.0,>=3.3.0.dev0->en-core-web-lg==3.3.0) (0.9.1)\n",
      "Requirement already satisfied: numpy>=1.15.0 in c:\\users\\ferna\\anaconda3\\lib\\site-packages (from spacy<3.4.0,>=3.3.0.dev0->en-core-web-lg==3.3.0) (1.21.5)\n",
      "Requirement already satisfied: blis<0.8.0,>=0.4.0 in c:\\users\\ferna\\anaconda3\\lib\\site-packages (from spacy<3.4.0,>=3.3.0.dev0->en-core-web-lg==3.3.0) (0.7.7)\n",
      "Requirement already satisfied: spacy-legacy<3.1.0,>=3.0.9 in c:\\users\\ferna\\anaconda3\\lib\\site-packages (from spacy<3.4.0,>=3.3.0.dev0->en-core-web-lg==3.3.0) (3.0.9)\n",
      "Requirement already satisfied: spacy-loggers<2.0.0,>=1.0.0 in c:\\users\\ferna\\anaconda3\\lib\\site-packages (from spacy<3.4.0,>=3.3.0.dev0->en-core-web-lg==3.3.0) (1.0.1)\n",
      "Requirement already satisfied: catalogue<2.1.0,>=2.0.6 in c:\\users\\ferna\\anaconda3\\lib\\site-packages (from spacy<3.4.0,>=3.3.0.dev0->en-core-web-lg==3.3.0) (2.0.7)\n",
      "Requirement already satisfied: requests<3.0.0,>=2.13.0 in c:\\users\\ferna\\anaconda3\\lib\\site-packages (from spacy<3.4.0,>=3.3.0.dev0->en-core-web-lg==3.3.0) (2.28.1)\n",
      "Requirement already satisfied: pydantic!=1.8,!=1.8.1,<1.9.0,>=1.7.4 in c:\\users\\ferna\\anaconda3\\lib\\site-packages (from spacy<3.4.0,>=3.3.0.dev0->en-core-web-lg==3.3.0) (1.8.2)\n",
      "Requirement already satisfied: preshed<3.1.0,>=3.0.2 in c:\\users\\ferna\\anaconda3\\lib\\site-packages (from spacy<3.4.0,>=3.3.0.dev0->en-core-web-lg==3.3.0) (3.0.6)\n",
      "Requirement already satisfied: typer<0.5.0,>=0.3.0 in c:\\users\\ferna\\anaconda3\\lib\\site-packages (from spacy<3.4.0,>=3.3.0.dev0->en-core-web-lg==3.3.0) (0.4.1)\n",
      "Requirement already satisfied: packaging>=20.0 in c:\\users\\ferna\\anaconda3\\lib\\site-packages (from spacy<3.4.0,>=3.3.0.dev0->en-core-web-lg==3.3.0) (21.3)\n",
      "Requirement already satisfied: thinc<8.1.0,>=8.0.14 in c:\\users\\ferna\\anaconda3\\lib\\site-packages (from spacy<3.4.0,>=3.3.0.dev0->en-core-web-lg==3.3.0) (8.0.15)\n",
      "Requirement already satisfied: pathy>=0.3.5 in c:\\users\\ferna\\anaconda3\\lib\\site-packages (from spacy<3.4.0,>=3.3.0.dev0->en-core-web-lg==3.3.0) (0.6.1)\n",
      "Requirement already satisfied: jinja2 in c:\\users\\ferna\\anaconda3\\lib\\site-packages (from spacy<3.4.0,>=3.3.0.dev0->en-core-web-lg==3.3.0) (2.11.3)\n",
      "Requirement already satisfied: cymem<2.1.0,>=2.0.2 in c:\\users\\ferna\\anaconda3\\lib\\site-packages (from spacy<3.4.0,>=3.3.0.dev0->en-core-web-lg==3.3.0) (2.0.6)\n",
      "Requirement already satisfied: murmurhash<1.1.0,>=0.28.0 in c:\\users\\ferna\\anaconda3\\lib\\site-packages (from spacy<3.4.0,>=3.3.0.dev0->en-core-web-lg==3.3.0) (1.0.7)\n",
      "Requirement already satisfied: langcodes<4.0.0,>=3.2.0 in c:\\users\\ferna\\anaconda3\\lib\\site-packages (from spacy<3.4.0,>=3.3.0.dev0->en-core-web-lg==3.3.0) (3.3.0)\n",
      "Requirement already satisfied: pyparsing!=3.0.5,>=2.0.2 in c:\\users\\ferna\\anaconda3\\lib\\site-packages (from packaging>=20.0->spacy<3.4.0,>=3.3.0.dev0->en-core-web-lg==3.3.0) (3.0.9)\n",
      "Requirement already satisfied: smart-open<6.0.0,>=5.0.0 in c:\\users\\ferna\\anaconda3\\lib\\site-packages (from pathy>=0.3.5->spacy<3.4.0,>=3.3.0.dev0->en-core-web-lg==3.3.0) (5.2.1)\n",
      "Requirement already satisfied: typing-extensions>=3.7.4.3 in c:\\users\\ferna\\anaconda3\\lib\\site-packages (from pydantic!=1.8,!=1.8.1,<1.9.0,>=1.7.4->spacy<3.4.0,>=3.3.0.dev0->en-core-web-lg==3.3.0) (4.3.0)\n",
      "Requirement already satisfied: urllib3<1.27,>=1.21.1 in c:\\users\\ferna\\anaconda3\\lib\\site-packages (from requests<3.0.0,>=2.13.0->spacy<3.4.0,>=3.3.0.dev0->en-core-web-lg==3.3.0) (1.26.11)\n",
      "Requirement already satisfied: certifi>=2017.4.17 in c:\\users\\ferna\\anaconda3\\lib\\site-packages (from requests<3.0.0,>=2.13.0->spacy<3.4.0,>=3.3.0.dev0->en-core-web-lg==3.3.0) (2022.9.14)\n",
      "Requirement already satisfied: idna<4,>=2.5 in c:\\users\\ferna\\anaconda3\\lib\\site-packages (from requests<3.0.0,>=2.13.0->spacy<3.4.0,>=3.3.0.dev0->en-core-web-lg==3.3.0) (3.3)\n",
      "Requirement already satisfied: charset-normalizer<3,>=2 in c:\\users\\ferna\\anaconda3\\lib\\site-packages (from requests<3.0.0,>=2.13.0->spacy<3.4.0,>=3.3.0.dev0->en-core-web-lg==3.3.0) (2.0.4)\n",
      "Requirement already satisfied: colorama in c:\\users\\ferna\\anaconda3\\lib\\site-packages (from tqdm<5.0.0,>=4.38.0->spacy<3.4.0,>=3.3.0.dev0->en-core-web-lg==3.3.0) (0.4.5)\n",
      "Requirement already satisfied: click<9.0.0,>=7.1.1 in c:\\users\\ferna\\anaconda3\\lib\\site-packages (from typer<0.5.0,>=0.3.0->spacy<3.4.0,>=3.3.0.dev0->en-core-web-lg==3.3.0) (8.0.4)\n",
      "Requirement already satisfied: MarkupSafe>=0.23 in c:\\users\\ferna\\anaconda3\\lib\\site-packages (from jinja2->spacy<3.4.0,>=3.3.0.dev0->en-core-web-lg==3.3.0) (2.0.1)\n",
      "Installing collected packages: en-core-web-lg\n",
      "Successfully installed en-core-web-lg-3.3.0\n",
      "[+] Download and installation successful\n",
      "You can now load the package via spacy.load('en_core_web_lg')\n"
     ]
    }
   ],
   "source": [
    "# !python -m spacy download en_core_web_sm\n",
    "\n",
    "#!python -m spacy download en_core_web_lg\n",
    "\n",
    "# !pip3 install yaspin"
   ]
  },
  {
   "cell_type": "code",
   "execution_count": 4,
   "metadata": {},
   "outputs": [],
   "source": [
    "# pip install spacy"
   ]
  },
  {
   "cell_type": "code",
   "execution_count": 15,
   "metadata": {},
   "outputs": [],
   "source": [
    "import pandas as pd\n",
    "from tqdm import tqdm\n",
    "import spacy\n",
    "from spacy.tokens import DocBin\n",
    "import re\n",
    "import os\n",
    "from spacy import displacy\n",
    "from sklearn import metrics\n",
    "from sklearn.metrics import plot_confusion_matrix\n",
    "from spacy.util import minibatch, compounding\n",
    "import random\n",
    "from pathlib import Path\n",
    "from yaspin import yaspin\n",
    "import random # randomizes training data\n",
    "from spacy.util import filter_spans\n",
    " \n",
    "\n",
    "\n",
    "\n",
    "FOODKEEPER_PATH = \"datasets/FoodKeeper-Data.xls\"\n",
    "TRAINING_DATA_PATH = \"datasets/data.csv\"\n",
    "# As I am creating a new model, I will leave the previous one untouched here\n",
    "MODEL_PATH_OLD = \"output/model-last\"\n",
    "TEST_DATA_PATH = \"datasets/test_data.csv\"\n",
    "REAL_TWITTER_DATA_PATH = \"datasets/data.csv\"\n",
    "#STARTING_KEYWORD_COUNT = 10\n",
    "#TRAINING_LOOP_ITERATIONS = 3\n",
    "#REQUIRED_KEYWORDS = 3\n",
    "MODEL_PATH =  \"output/model-last\"\n",
    "\n",
    "\n",
    "pd.options.mode.chained_assignment = None\n",
    "\n",
    "food_data = pd.read_excel(FOODKEEPER_PATH, sheet_name = \"Product\")\n",
    "\n",
    "## printing - bc |||EX: <col1> ID: 1 ~ Category_ID: 7 ~ Name: Butter ~ Name_subtitle: <blank> NaN ~ Keywords: Butter ~ ...\n",
    "# contains generic info such as the food item, keywords like name: cheese -cheese, parmesan, shredded, grated\n",
    "# there can be multiple of single name like cheese\n",
    "\n",
    "# contains patry info like it may be left at room temperature for 1-2 days < cheese>, time it takes for it to expire. refrigeration\n",
    "# tips and info, max time in there before it goes bad, freezer info like time in there, \n",
    "# print(\"PRINTING food_data excel sheet\")\n",
    "# print(food_data)\n",
    "# print(\"DONE ------------------------\")\n",
    "\n",
    "#----------------------------------------------------------------------------------------------------------------------------#\n",
    "training_data = pd.read_csv(TRAINING_DATA_PATH,index_col = False, header = None)\n",
    "\n",
    "## printing - bc contains unfiltered tweets\n",
    "\n",
    "training_data1 = training_data.sample(frac=0.7)\n",
    "training_data2 = training_data.drop(training_data1.index)\n",
    "#ex: A very special Friday evening....many will enjoy a relaxing glass of.....coffee! #lavathejavadog will \n",
    "#enjoy the remnants of a crunchie peanut butter jar. Life may throw stuff at us all....letâ€™s all eat peanut butter!\n",
    "#Enjoy your weekend! https://t.co/JME6ZmhZYN\n",
    "\n",
    "# print(\"PRINTING training_data excel sheet\")\n",
    "# print(training_data)\n",
    "# print(\"DONE ------------------------\")\n",
    "\n",
    "#----------------------------------------------------------------------------------------------------------------------------#\n",
    "#----------------------------------------------------------------------------------------------------------------------------#\n",
    "test_data = pd.read_csv(TEST_DATA_PATH)\n",
    "\n",
    "\n",
    "## printing - bc\n",
    "# the tweet itself + food column indicating 1: there is a food mention within the tweet or 0: no food in the tweet\n",
    "# ex:just microwaved a kashi chicken and spinach thing, and put in the Milk dvd. anyone seen it? i bet it's good. i still havent seen slumdog\n",
    "# food: 1\n",
    "# print(\"PRINTING test_data excel sheet\")\n",
    "# print(test_data)\n",
    "# print(\"DONE ------------------------\")\n",
    "\n",
    "#----------------------------------------------------------------------------------------------------------------------------#\n",
    "#----------------------------------------------------------------------------------------------------------------------------#\n",
    "live_tweets = pd.read_csv(REAL_TWITTER_DATA_PATH, header = None)\n",
    "\n",
    "## printing - bc contains unfiltered tweets\n",
    "\n",
    "#ex: A very special Friday evening....many will enjoy a relaxing glass of.....coffee! #lavathejavadog will \n",
    "#enjoy the remnants of a crunchie peanut butter jar. Life may throw stuff at us all....letâ€™s all eat peanut butter!\n",
    "#Enjoy your weekend! https://t.co/JME6ZmhZYN\n",
    "\n",
    "# print(\"PRINTING live_tweets excel sheet\")\n",
    "# print(live_tweets)\n",
    "# print(\"DONE ------------------------\")\n",
    "\n",
    "#----------------------------------------------------------------------------------------------------------------------------#\n",
    "#----------------------------------------------------------------------------------------------------------------------------#"
   ]
  },
  {
   "cell_type": "code",
   "execution_count": 7,
   "metadata": {},
   "outputs": [],
   "source": [
    "predict('i would like to eat cheese')"
   ]
  },
  {
   "cell_type": "markdown",
   "metadata": {},
   "source": [
    "# top is reading all the data < nothing has been done yet to it >"
   ]
  },
  {
   "cell_type": "code",
   "execution_count": 27,
   "metadata": {},
   "outputs": [],
   "source": [
    "#loop through and count the specific entities\n",
    "keywords = [] #'chicken', 'milk', 'butter', 'cheese'\n",
    "sampleData = []\n",
    "\n",
    "#\n",
    "# I like to eat cheese and meat return '2'\n",
    "    \n",
    "#update rank tweet to take the counter as a parameter and condense both rankings\n",
    "def rankTweet(tweet, model):\n",
    "#     model = spacy.load(MODEL_PATH)\n",
    "#     tweetKeywords = []\n",
    "    doc = model(tweet)\n",
    "    return len(doc.ents)\n",
    "       \n",
    "    \n",
    "def findNewKeywords(tweet, keywords):\n",
    "    foodkeeperKeys = foodKeeperInfo() #Gathers all the keywords from the FoodKeeper database\n",
    "    x = tweet.split() #splits the tweet into a list\n",
    "    word = \"\" # current word that may be created\n",
    "    i = 0\n",
    "    # looping through the length of the list <word by word>\n",
    "    while i < len(x):\n",
    "    #for i in range(len(x)):\n",
    "        z = 1 # the \"jump\" to iterate\n",
    "        if x[i] in foodkeeperKeys:\n",
    "            word = x[i] # found a word in the database\n",
    "        try:\n",
    "            # if the combination of both words x + (x+1) matches a word in the database, make word = that word and increase z\n",
    "            # to 2 to make the correct iteration\n",
    "            foundBiWord = x[i] + \" \" + x[i+1]\n",
    "            if foundBiWord in foodkeeperKeys: #keywords\n",
    "                word = foundBiWord\n",
    "                z = 2\n",
    "        except:\n",
    "            pass\n",
    "        \n",
    "        try:\n",
    "            # try a triple combination of words after keyword x was found (x+1) + (x+2). if one found then word = that word and\n",
    "            # increase the counter by 3 to make correct iteration\n",
    "            foundTriWord = x[i] + \" \" + x[i+1] + \" \" + x[i+2]\n",
    "            if foundTriWord in foodkeeperKeys: #keywords:\n",
    "                word = foundTriWord\n",
    "                z = 3\n",
    "        except:\n",
    "            pass\n",
    "        i += z\n",
    "        \n",
    "        # add to the list of keywords (not where the foodKeeperInfo is <contains all keywords from database>)\n",
    "        # and returns it\n",
    "        if word not in keywords and word != \"\":\n",
    "            keywords.append(word)\n",
    "    return keywords\n",
    "    \n",
    "\n",
    "#Function to find the most common verbs in the tweets\n",
    "def getCommonVerbs(data):\n",
    "    import en_core_web_md\n",
    "    # individual model here \n",
    "    nlp2 = spacy.load(\"en_core_web_md\")\n",
    "    count = 0\n",
    "    myVerbs = {}\n",
    "    # whats data here? \n",
    "    for i in range(len(data[0])):\n",
    "        doc = nlp2(data[0][i])\n",
    "        for token in doc:\n",
    "            if token.pos_ == \"VERB\": # the part of speech, determine if the word itself is a verb like eat\n",
    "                if token.text in myVerbs: #token.text = word itself to see if it is already in the myVerbs\n",
    "                    myVerbs[token.text] = myVerbs[token.text] + 1 # increase the counter by 1 <counting number of times found?>\n",
    "                else:\n",
    "                    #...Default.stop_words are words like \"I\", \"the\", \"you\" which appear frequently but have no real meaning in the \n",
    "                    # spacy model. Thus it is not considered. If it is not that word, then it will be added to the verbs list with\n",
    "                    # a count of 1 <barely discovered once>\n",
    "                    if token.text not in nlp2.Defaults.stop_words:\n",
    "                        myVerbs[token.text] = 1\n",
    "        \n",
    "    # sorts the most occuring verbs? 10 of them only?\n",
    "    topVerbs = dict(sorted(myVerbs.items(), key = lambda item: item[1], reverse=True)[:10])\n",
    "    return [key for key in topVerbs]\n",
    "    \n",
    "\n",
    " #\n",
    "#\n",
    "# GET MORE INFO regarding how it is\n",
    "#\n",
    "#\n",
    "def convertToTrainingFormat(tweet, keywords):\n",
    "    foodKeeperKeywordsTest = foodKeeperInfo() #Gathers all the keywords from the FoodKeeper database\n",
    "    x = tweet.split()\n",
    "    myEnts = {'entities':[]}\n",
    "    found = False\n",
    "    i = 0\n",
    "    foundWords = []\n",
    "    while i < len(x):\n",
    "        z = 1\n",
    "        newWord = \"\"\n",
    "        if x[i] in keywords:\n",
    "            pos = tweet.find(x[i]) # gets the index of where we found the word in the actual tweet\n",
    "            # (index of where word was found, pos + length of word = end index of the word in tweet, set as a food object <?>)\n",
    "            # set found to true -> found a word\n",
    "            y = (pos, pos + len(x[i]), 'FOOD')\n",
    "            found = True\n",
    "        if x[i] in foodKeeperKeywordsTest:\n",
    "            newWord = x[i]\n",
    "            \n",
    "        try:\n",
    "            # try same thing as above but with 2 words\n",
    "            # ex if we saw something like \"sour\", in the if before it would not locate it. Here we would locate \"sour X\" such as\n",
    "            # \"sour cream\" without having to trace backwards\n",
    "            foundBiWord = x[i] + \" \" + x[i+1]\n",
    "            if foundBiWord in keywords:\n",
    "                pos = tweet.find(x[i])\n",
    "                y = (pos, pos + len(x[i])+len(x[i+1]) + 1, 'FOOD')\n",
    "                found = True\n",
    "                z = 2\n",
    "            if foundBiWord in foodKeeperKeywordsTest:\n",
    "                newWord = foundBiWord\n",
    "        except:\n",
    "            pass\n",
    "        \n",
    "        try:\n",
    "            # try same thing as with 1 word but with 3 words\n",
    "            foundTriWord = x[i] + \" \" + x[i+1] + \" \" + x[i+2]\n",
    "            if foundTriWord in keywords:\n",
    "                pos = tweet.find(x[i])\n",
    "                y = (pos, pos + len(x[i])+len(x[i+1])+len(x[i+2]) + 2, 'FOOD')\n",
    "                found = True\n",
    "                z = 3\n",
    "            if foundTriWord in foodKeeperKeywordsTest:\n",
    "                newWord = foundTriWord\n",
    "        except:\n",
    "            pass\n",
    "        \n",
    "        #my own shot for experimental views\n",
    "        try:\n",
    "            #4 word attempt\n",
    "            found_quad_word = x[i] + \" \" + x[i + 1] + \" \" + x[i + 2] + \" \" + x[i + 3]\n",
    "            if found_quad_word in keywords:\n",
    "                pos = tweet.find(x[i])\n",
    "                y = (pos, pos + len(x[i]) + len(x[i + 1]) + len(x[i + 2]) + len(x[i + 3]) + 3, 'FOOD')\n",
    "                found = True\n",
    "                z = 4\n",
    "            if found_quad_word in foodKeeperKeywoordsTest:\n",
    "                newWord = found_quad_word\n",
    "        except:\n",
    "            pass\n",
    "        # end of trial for my owns sake\n",
    "        \n",
    "        # if that word is not currently as an entity, append the word into that list in the dictionary, otherwise continue\n",
    "        try:\n",
    "            if y not in myEnts['entities']:\n",
    "                myEnts['entities'].append(y)    \n",
    "        except:\n",
    "            pass\n",
    "\n",
    "        # declared lines below <if the work is not within the keywordRanker, create a spot for it and set it to counter 1\n",
    "        #elif increment the counter <meaning we found a word that was already within the keywordRanker>\n",
    "        if newWord != \"\" and newWord not in keywordRanker:\n",
    "            keywordRanker[newWord] = 1\n",
    "        elif newWord != \"\" and newWord in keywordRanker:\n",
    "            keywordRanker[newWord] += 1\n",
    "        #print(z)\n",
    "        i += z\n",
    "        #print(i)\n",
    "    \n",
    "    # format the tweet alongside with the entities found within the tweet\n",
    "    formatted = (tweet, myEnts)\n",
    "    #print(formatted)\n",
    "    # means we did find a related word towards the tweet, otherwise return an empty tuple (i think)\n",
    "    if found:\n",
    "        return formatted\n",
    "    else: \n",
    "        return ()\n",
    "     \n",
    "# food_data contains patry info like it may be left at room temperature for 1-2 days < cheese>, time it takes for it to expire. refrigeration\n",
    "# tips and info, max time in there before it goes bad, freezer info like time in there,\n",
    "\n",
    "# 1/21/2023 Note: I have to see if the fact were adding the entity 'shellfish, oysters, ..., fish' and splitting\n",
    "# it into their own entities causes problems when we are trying to locate its corresponding information\n",
    "\n",
    "def foodKeeperInfo():              \n",
    "    keywords = []\n",
    "    for word in food_data['Name']: #Butter, Buttermilk, Cheese,...\n",
    "        word = word.replace(\" or \", \" \") #word or to \" \"\n",
    "\n",
    "        # print(\"before re.sub[,..]: \" + word)\n",
    "        # word = re.sub('[/]', ' ', word) # sub a character to a ' '\n",
    "        # print(\"after: \" + word)\n",
    "        split_word = word.split(\",\")\n",
    "        word = re.sub('[/,]', ' ', word) # sub a character to a ' '\n",
    "        if len(split_word) > 1:\n",
    "            # still appending as before just in case ex. \"shellfish, oysters\" -> \"shellfish  oysters\"\n",
    "            word = word.lstrip() # rid of left hand side empty characters\n",
    "            word = word.rstrip() # rid of right hand side empty characters\n",
    "\n",
    "#             if word.lower() not in keywords: \n",
    "#                 keywords.append(word.lower())\n",
    "\n",
    "            for x in split_word:\n",
    "                # words like 'butter', 'cheese', would fall into this category\n",
    "                if len(x.split()) == 1:\n",
    "                    temp_word = x.lstrip()\n",
    "                    temp_word = temp_word.rstrip()\n",
    "\n",
    "                    if temp_word.lower() not in keywords:\n",
    "                        keywords.append(temp_word.lower()) \n",
    "                # words such as 'Cheese,cheddar, swiss,parmesan' split by ',' will be seperated as they would very rarely be found\n",
    "                # attributed all as a single entity.\n",
    "                else:\n",
    "                    temp_word = x.lstrip()\n",
    "                    temp_word = temp_word.rstrip()\n",
    "\n",
    "                    var = temp_word.split()\n",
    "                    # it may be as 'Cheese,cheddar, swiss, and parmesan' which may cause problems as itself is not a FOOD, will be\n",
    "                    # ignored\n",
    "                    if var[0].lower() == \"and\":\n",
    "                        temp_word = temp_word[3:]\n",
    "                        temp_word = temp_word.lstrip()\n",
    "                    \n",
    "                        \n",
    "                    if temp_word.lower() not in keywords:\n",
    "                        keywords.append(temp_word.lower()) \n",
    "\n",
    "        else:    \n",
    "            word = word.lstrip() # rid of left hand side empty characters\n",
    "            word = word.rstrip() # rid of right hand side empty characters\n",
    "\n",
    "            # lower cases all the word <if it isn't in keywords> and appends them to the keywords list\n",
    "            if word.lower() not in keywords: \n",
    "                keywords.append(word.lower())\n",
    "\n",
    "    #print(\"Total foodkeeper food names: \" + str(len(keywords)))        \n",
    "    #for element in sorted(keywords):\n",
    "        #print(element)\n",
    "        \n",
    "    # return the keywords witih the food_data set into a list formatted accordingly\n",
    "    return keywords\n",
    "\n",
    "\n",
    "foodKeeperKeywordsTest = foodKeeperInfo()\n",
    "\n",
    "\n",
    "def preProcess(tweet):\n",
    "    #Converts a tweet to lowercase, replaces anyusername w/ <USERNAME> and URLS with <URL>\n",
    "    tweet = tweet.lower()\n",
    "    tweet = re.sub('@[a-zA-z0-9]*', '', tweet)              # <USERNAME>\n",
    "    tweet = re.sub('http[a-zA-z0-9./:]*', '', tweet)       # <URL>\n",
    "    # currently gets rid of ',' and '.' , but not '!', nor '?'.\n",
    "    # with my changes leave the puncuation of ',' and '.' inside, \n",
    "    # results without filtering ',.!?' dropped 88->82\n",
    "    # now testing filtering ALL punctuation\n",
    "#     tweet = re.sub('!?,;', '.', tweet)\n",
    "\n",
    "    # tweet = re.sub('[:;.,-?!]*', '', tweet) #going back to the original with more words (25) + entity counter 2 + get rid of ! and ?\n",
    "\n",
    "    # original\n",
    "    tweet = re.sub('[.,-]*', '', tweet)\n",
    "    \n",
    "    tweet = re.sub('&amp;', 'and', tweet) # whats &amp;?\n",
    "    \n",
    "    return tweet\n",
    "#\n",
    "#\n",
    "# wats this\n",
    "noEntity= []\n",
    "\n",
    "keywordRanker = {}"
   ]
  },
  {
   "cell_type": "code",
   "execution_count": 28,
   "metadata": {},
   "outputs": [],
   "source": [
    "# based on other model (if not using the config file model, you can ignore this. Based on 'old_training(...) model')\n",
    "# save the model to the directory given\n",
    "def saving(model, directory):\n",
    "    out_dir = Path(directory)\n",
    "    if not out_dir.exists():\n",
    "        print(\"Directory '\" + str(directory) + \"' not found! Creating the directory to save model...\")\n",
    "        out_dir.mkdir()\n",
    "    model.to_disk(out_dir)\n",
    "    \n",
    "\n",
    "def load(directory):\n",
    "    try:\n",
    "        print(\"successfully loaded from directory\")\n",
    "        model = spacy.load(directory)\n",
    "        return model\n",
    "    except:\n",
    "        print(\"No model within the given directory...\")\n",
    "        return\n",
    "\n",
    "\n",
    "def create(model):\n",
    "    if (model is not None):\n",
    "        print(\"loading model...\")\n",
    "        model = spacy.load(model)\n",
    "    else:\n",
    "        print(\"No model was found... creating a 'en_core_web_sm' model...\")\n",
    "        model = spacy.load(\"en_core_web_sm\")\n",
    "    \n",
    "    return model"
   ]
  },
  {
   "cell_type": "markdown",
   "metadata": {},
   "source": [
    "## training model (no Config file)\n",
    "\n",
    "Does not work as well, you may look at it. However, the other training model works better"
   ]
  },
  {
   "cell_type": "code",
   "execution_count": 20,
   "metadata": {},
   "outputs": [],
   "source": [
    "\n",
    "# (old - not config)training model\n",
    "def old_training(data, model, commonVerbs):\n",
    "    from spacy.training.example import Example\n",
    "    \n",
    "    keywords = [] #foodKeeperInfo()\n",
    "    oldKeywords = []\n",
    "    newKeywords = []\n",
    "    # how many times we plan to iterate\n",
    "    ITER = 12\n",
    "    FOOD = \"FOOD\"\n",
    "    \n",
    "    commonVerbs = getCommonVerbs(data) \n",
    "    print(commonVerbs)\n",
    "    \n",
    "    print(\"Common Verbs gathered...\", '\\n')\n",
    "\n",
    "    print(commonVerbs)\n",
    "    \n",
    "    #entityCheckCount controls how many entities are required to \n",
    "    #add a Tweet to be trained\n",
    "    \n",
    "    # at first it will be 'en_core_web_sm' if it is None it will create the same type anyways...\n",
    "    nlp = create(model)\n",
    "    # getting the NER component \n",
    "    ner = nlp.get_pipe('ner')\n",
    "    ner.add_label(FOOD)\n",
    "    nlp.meta['name'] = 'food_ner'\n",
    "\n",
    "\n",
    "\n",
    "    #Loop through all the tweets\n",
    "    #This loop is necessary to get the most common keywords \n",
    "    #in the convertToTrainingFormat function\n",
    "\n",
    "\n",
    "\n",
    "\n",
    "     # to train now that we have appropiate data\n",
    "    optimizer = nlp.resume_training()\n",
    "    move_names = list(ner.move_names)\n",
    "\n",
    "    # to only train the current pipes (can be changed)\n",
    "    pipes = [\"ner\", \"trf_wordpiecer\", \"trf_tok2vec\"]\n",
    "    # pipes we do not want to train\n",
    "    no_pipes = [pipe for pipe in nlp.pipe_names if not pipe not in pipes]\n",
    "    \n",
    "    \n",
    "    #\n",
    "    #\n",
    "    #\n",
    "    \n",
    "    with nlp.disable_pipes(*no_pipes) :\n",
    "        \n",
    "        # Have to see what the arguments within compounding specifically are about...\n",
    "        sizes = compounding (5.0, 50.0, 1.001) \n",
    "        db = DocBin() # create a DocBin object\n",
    "        myTweets = []\n",
    "        entityCheckCount = 3\n",
    "        #Loop through all the tweets\n",
    "        #This loop is necessary to get the most common keywords \n",
    "        #in the convertToTrainingFormat function\n",
    "        counter = 0\n",
    "        trainingLoop = True\n",
    "\n",
    "        while trainingLoop:\n",
    "            with yaspin() as loading:     \n",
    "\n",
    "                # getting the training data\n",
    "                loading.text = \"Gathering proper training data on iteration \" + str(counter + 1)\n",
    "                for i in range(len(data[0])): #len(data[0])\n",
    "\n",
    "                    if counter == 0:\n",
    "                        x = convertToTrainingFormat(preProcess(data[0][i]), keywords)\n",
    "                        # x = (tweet, myEnts)\n",
    "                    #If counter is 1 then there is no model to check so \n",
    "                    #a word count is performed\n",
    "                    elif counter == 1:\n",
    "                        x = convertToTrainingFormat(preProcess(data[0][i]), keywords)\n",
    "                        if x!= ():\n",
    "                            if len(x[1]['entities']) > entityCheckCount:\n",
    "                                #print(\"Found tweet\", x[0])\n",
    "                                myTweets.append(x)  \n",
    "                    else:\n",
    "                        #Convert each tweet into spacy training format\n",
    "                        x = convertToTrainingFormat(preProcess(data[0][i]), keywords)\n",
    "                        checkPassed = False\n",
    "                        if x != ():\n",
    "                            #Check the ranking of the tweet\n",
    "\n",
    "# nlp was model (maybe will have to change to model)\n",
    "                            # checks the rank with the model it loaded (previous one or the current one that is being trained?)\n",
    "                            if rankTweet(x[0], model) > entityCheckCount:\n",
    "                                checkTweet = x[0].split()\n",
    "\n",
    "                                #Check to see if tweet has one of the common verbs\n",
    "                                for word in checkTweet:\n",
    "                                    if word in commonVerbs:\n",
    "                                        checkPassed = True\n",
    "\n",
    "                                if True: #checkPassed:\n",
    "                                    #print(\"Checking rank...\")\n",
    "                                    myTweets.append(x)\n",
    "\n",
    "                loading.text = \"Now training on iteration \" + str(counter + 1)               \n",
    "                random.shuffle(myTweets)\n",
    "                \n",
    "                if counter == 0:\n",
    "                    sortedKeywords =  sorted(keywordRanker, key=keywordRanker.get, reverse=True)\n",
    "                    \n",
    "                    # current amount of keywords (food entities) known\n",
    "                    for i in range(15):\n",
    "                        keywords.append(sortedKeywords[i])\n",
    "                \n",
    "                # actual training occurring here...\n",
    "                elif counter > 0 and counter < 3:\n",
    "                    # since there is not as much data in lower iterations of the general training scheme,\n",
    "                    # make it go through this data more\n",
    "                    for i in range(20):\n",
    "                        # shuffle it up\n",
    "                        random.shuffle(myTweets)\n",
    "                        losses = {}\n",
    "                        \n",
    "#                         for raw_text, entity_offsets in MyTweets:\n",
    "#                             doc = nlp.make_doc(raw_text)\n",
    "#                             example = Example.from_\n",
    "                        \n",
    "                        # batches the data \n",
    "                        # Have to see what the arguments within compounding specifically are about...\n",
    "                        #sizes = compounding (5.0, 50.0, 1.001) \n",
    "                        #batches = minibatch(myTweets, size=2)\n",
    "                        \n",
    "                        for batch in minibatch(myTweets, size=2):\n",
    "                            \n",
    "                            for text, annotations in batch:\n",
    "                                #text, annot = zip(*group)\n",
    "\n",
    "                                doc = nlp.make_doc(text)\n",
    "                                example = Example.from_dict(doc, annotations)\n",
    "                                # batch of texts\n",
    "                                # batch of annotations\n",
    "                                # update the model with gathered data\n",
    "                                # dropout - make it harder to memorise data\n",
    "                                nlp.update([example], sgd=optimizer, drop=0.35)\n",
    "\n",
    "                \n",
    "                elif counter > 3:\n",
    "                    \n",
    "                    # have it go through the same data (shuffled) with 2 iterations?\n",
    "                    \n",
    "                    for i in range(2):\n",
    "                        # shuffle it up\n",
    "                        random.shuffle(myTweets)\n",
    "                        losses = {}\n",
    "                        # batches the data \n",
    "                        #sizes = compounding (5.0, 50.0, 1.001)\n",
    "                        batches = minibatch(myTweets, size=2)\n",
    "\n",
    "\n",
    "                        for batch in minibatch(myTweets, size=2):\n",
    "                            \n",
    "                            for text, annotations in batch:\n",
    "                                #text, annot = zip(*group)\n",
    "\n",
    "                                doc = nlp.make_doc(text)\n",
    "                                example = Example.from_dict(doc, annotations)\n",
    "                                # batch of texts\n",
    "                                # batch of annotations\n",
    "                                # update the model with gathered data\n",
    "                                # dropout - make it harder to memorise data\n",
    "                                nlp.update([example], sgd=optimizer, drop=0.35)\n",
    "\n",
    "                        \n",
    "                # saving the model\n",
    "                loading.text = \"Saving the model on iteration \" + str(counter + 1)\n",
    "                saving(nlp, \"/dir_model/\")\n",
    "                \n",
    "                \n",
    "                print(\"Total keywords: \", str(len(keywords)))\n",
    "                print(\"List of Keywords:\\n\\n\",keywords,\"\\n\\n\")\n",
    "                oldKeywords = len(keywords)\n",
    "            \n",
    "                #Look for new keywords\n",
    "                for element in myTweets:\n",
    "                    keywords = findNewKeywords(element[0], keywords)\n",
    "                \n",
    "            \n",
    "                #No new keywords are found\n",
    "                if (oldKeywords == len(keywords)) and counter > 1 and entityCheckCount != 1:\n",
    "                    entityCheckCount -= 1\n",
    "                    print(\"Decreasing entityCheckCount variable by 1\")\n",
    "                    print(\"entityCheckCount = \", entityCheckCount)\n",
    "                \n",
    "\n",
    "                #New keywords are found and entity rank check == 1\n",
    "                elif (oldKeywords == len(keywords)) and entityCheckCount == 1:\n",
    "                    trainingLoop = False\n",
    "            \n",
    "                eval_model()\n",
    "                \n",
    "                print(\"Total keywords: \", str(len(keywords)))\n",
    "                print(\"Total Tweets: \", str(len(myTweets)))\n",
    "                print(\"List of Keywords:\\n\\n\",keywords,\"\\n\\n\")\n",
    "                counter += 1\n",
    "                \n",
    "    print(\"Training is completed\")\n",
    "            "
   ]
  },
  {
   "cell_type": "code",
   "execution_count": null,
   "metadata": {},
   "outputs": [],
   "source": []
  },
  {
   "cell_type": "code",
   "execution_count": 20,
   "metadata": {},
   "outputs": [
    {
     "name": "stdout",
     "output_type": "stream",
     "text": [
      "finished       \n"
     ]
    }
   ],
   "source": [
    "from yaspin import yaspin\n",
    "from time import sleep\n",
    "import time\n",
    "\n",
    "# Run time consuming work here\n",
    "# You can also change properties for spinner as and when you want\n",
    "t_end = time.time() + 5\n",
    "with yaspin() as load:\n",
    "    load.text = \"Running code\"\n",
    "    time.sleep(5)\n",
    "    \n",
    "    \n",
    "print(\"finished\")"
   ]
  },
  {
   "cell_type": "markdown",
   "metadata": {},
   "source": [
    "## Config training model\n"
   ]
  },
  {
   "cell_type": "code",
   "execution_count": 29,
   "metadata": {},
   "outputs": [],
   "source": [
    "def trainModel(data):\n",
    "    #Initialize all the variables\n",
    "    keywords = [] #foodKeeperInfo()\n",
    "    oldKeywords = []\n",
    "    newKeywords = []\n",
    "    \n",
    "      \n",
    "    \n",
    "    commonVerbs = getCommonVerbs(data) \n",
    "    print(commonVerbs)\n",
    "    \n",
    "    print(\"Common Verbs gathered...\", '\\n')\n",
    "\n",
    "    print(commonVerbs)\n",
    "    \n",
    "    #entityCheckCount controls how many entities are required to \n",
    "    #add a Tweet to be trained\n",
    "    \n",
    "    entityCheckCount = 3\n",
    "    \n",
    "    counter = 0\n",
    "    trainingLoop = True\n",
    "    \n",
    "    while trainingLoop:\n",
    "        counterText = \"~~~~~~~~~~~~~~~~~\"+str(counter)+\"~~~~~~~~~~~~~~~~~\"\n",
    "        print(counterText)\n",
    "        \n",
    "        nlp = spacy.blank(\"en\") # load a new spacy model\n",
    "        try:\n",
    "            model = spacy.load(MODEL_PATH)\n",
    "            print('Model loaded...')\n",
    "        except:\n",
    "            print('No model...')\n",
    "        \n",
    "        db = DocBin() # create a DocBin object\n",
    "        \n",
    "        myTweets = []\n",
    "        \n",
    "        #Loop through all the tweets\n",
    "        #This loop is necessary to get the most common keywords \n",
    "        #in the convertToTrainingFormat function\n",
    "        \n",
    "        for i in range(len(data[0])): #len(data[0])\n",
    "            #useless if?\n",
    "#             if i % 500 == 0:\n",
    "#                 print(i)\n",
    "\n",
    "            if counter == 0:\n",
    "                x = convertToTrainingFormat(preProcess(data[0][i]), keywords)\n",
    "                # x = (tweet, myEnts)\n",
    "            #If counter is 1 then there is no model to check so \n",
    "            #a word count is performed\n",
    "            elif counter == 1:\n",
    "                x = convertToTrainingFormat(preProcess(data[0][i]), keywords)\n",
    "                if x!= ():\n",
    "                    if len(x[1]['entities']) > entityCheckCount:\n",
    "                        #print(\"Found tweet\", x[0])\n",
    "                        myTweets.append(x)  \n",
    "            else:\n",
    "                #Convert each tweet into spacy training format\n",
    "                x = convertToTrainingFormat(preProcess(data[0][i]), keywords)\n",
    "                checkPassed = False\n",
    "                if x != ():\n",
    "                    #Check the ranking of the tweet\n",
    "                    \n",
    "                    # checks the rank with the model it loaded (previous one or the current one that is being trained?)\n",
    "                    if rankTweet(x[0], model) > entityCheckCount:\n",
    "                        checkTweet = x[0].split()\n",
    "                        \n",
    "                        #Check to see if tweet has one of the common verbs\n",
    "                        for word in checkTweet:\n",
    "                            if word in commonVerbs:\n",
    "                                checkPassed = True\n",
    "                                \n",
    "                        if True: #checkPassed:\n",
    "                            #print(\"Checking rank...\")\n",
    "                            myTweets.append(x)\n",
    "        \n",
    "            ######\n",
    "            ###### ^ formatted all the tweets with tweet and entities\n",
    "            ######\n",
    "            \n",
    "            \n",
    "#         Initialize the keywords\n",
    "       \n",
    "#         # format the tweet alongside with the entities found within the tweet\n",
    "#     formatted = (tweet, myEnts)\n",
    "#       Value of the myTweets \n",
    "        if counter == 0:  \n",
    "            # Set keywords to be all keywords found in foodkeeper\n",
    "#            keywords = foodKeeperInfo()\n",
    "            sortedKeywords =  sorted(keywordRanker, key=keywordRanker.get, reverse=True)\n",
    "\n",
    "            # changing the range of (15) to 30  # now to 22\n",
    "            for i in range(15): #sortedKeywords\n",
    "                keywords.append(sortedKeywords[i])\n",
    "            #print(sortedKeywords[i], keywordRanker[sortedKeywords[i]])\n",
    "            \n",
    "\n",
    "        elif counter > 0:\n",
    "            for text, annot in tqdm(myTweets): # data in previous format\n",
    "                doc = nlp.make_doc(text) # create doc object from text\n",
    "                ents = []\n",
    "                \n",
    "                \n",
    "                \n",
    "                # start index of food entity, end index, label = Food, alignment =  (span of all tokens completely within the character span)\n",
    "                for start, end, label in annot[\"entities\"]: # add character indexes\n",
    "                            \n",
    "                    span = doc.char_span(start, end, label=label, alignment_mode=\"contract\")\n",
    "                    \n",
    "                    # none when the character indices dont map to a valid span\n",
    "                    if span is None:\n",
    "                        print(\"Skipping entity\")\n",
    "                    elif ents == []: ents.append(span) \n",
    "                    else:\n",
    "                        #Check to see if any entities are overlapping i.e rice and rice cakes\n",
    "                        ents.append(span)\n",
    "                        \n",
    "                        \n",
    "#                         for ent in ents:\n",
    "#                             if ent is not None:\n",
    "#                                 entLength = ent.end - ent.start\n",
    "#                                 if span.start == ent.start or span.end == ent.end:\n",
    "#                                     if entLength > (span.end - span.start):\n",
    "#                                         continue\n",
    "#                                     else:\n",
    "#                                         ents.remove(ent)\n",
    "#                                         ents.append(span)\n",
    "#                                 else:\n",
    "#                                     ents.append(span)\n",
    "                    #if span not in ents: ents.append(span)\n",
    "                            \n",
    "                                #print(span.start, span.end, ents)\n",
    "                    #put into for loop\n",
    "#                 foundEnts = []\n",
    "#                 newEnts = []\n",
    "#                 for ent in ents:\n",
    "#                     if ent.text not in foundEnts:\n",
    "#                         foundEnts.append(ent.text)\n",
    "#                         newEnts.append(ent)\n",
    "                newEnts = filter_spans(ents)              \n",
    "                #try:\n",
    "                doc.ents = newEnts # label the text with the ents\n",
    "                    #print(doc)\n",
    "                db.add(doc)\n",
    "                #except:\n",
    "                    #print(\"Error 10: \", doc)\n",
    "\n",
    "                    \n",
    "                    \n",
    "                    \n",
    "                    \n",
    "            db.to_disk(\"./train.spacy\") # save the docbin object\n",
    "                \n",
    "            #If problems are occuring with the models not appearing\n",
    "            #ensure that the command is valid, specifically python is the correct\n",
    "            #PATH variable name on your machine\n",
    "            #--paths.train should be where the docbin object is saved\n",
    "            stream = os.popen('python -m spacy train config.cfg --output ./output --paths.train ./train.spacy --paths.dev ./train.spacy')\n",
    "            print(stream.read())\n",
    "            print(\"Total keywords: \", str(len(keywords)))\n",
    "            print(\"List of Keywords:\\n\\n\",keywords,\"\\n\\n\")\n",
    "            oldKeywords = len(keywords)\n",
    "            \n",
    "            \n",
    "            #Look for new keywords\n",
    "            for element in myTweets:\n",
    "                keywords = findNewKeywords(element[0], keywords)\n",
    "                \n",
    "            \n",
    "            #No new keywords are found\n",
    "            if (oldKeywords == len(keywords)) and counter > 1 and entityCheckCount != 1:\n",
    "                entityCheckCount -= 1\n",
    "                print(\"Decreasing entityCheckCount variable by 1\")\n",
    "                print(\"entityCheckCount = \", entityCheckCount)\n",
    "                \n",
    "\n",
    "            #New keywords are found and entity rank check == 1\n",
    "            elif (oldKeywords == len(keywords)) and entityCheckCount == 1:\n",
    "                trainingLoop = False\n",
    "            \n",
    "            eval_model()\n",
    "            \n",
    "        \n",
    "\n",
    "        #for element in myTweets:\n",
    "            #findNewKeywords(element[0], keywords)\n",
    "\n",
    "        print(\"Total keywords: \", str(len(keywords)))\n",
    "        print(\"Total Tweets: \", str(len(myTweets)))\n",
    "        print(\"List of Keywords:\\n\\n\",keywords,\"\\n\\n\")\n",
    "        counter += 1\n",
    "        \n",
    "    print('Training Done...')\n",
    "        \n",
    "        # spinach < not in dataset> \n",
    "        # i like to eat spinach <known to have a keyword\n",
    "        "
   ]
  },
  {
   "cell_type": "raw",
   "metadata": {},
   "source": [
    "SPLIT here - bc ^ training done above and done above v more stuff"
   ]
  },
  {
   "cell_type": "code",
   "execution_count": 30,
   "metadata": {
    "scrolled": true
   },
   "outputs": [],
   "source": [
    "# need to find out what data explicitly means\n",
    "def information(data):\n",
    "    myData = {}\n",
    "    totalEnt=0\n",
    "    # believe data at data[0] is tweets\n",
    "    for i in range(len(data[0])):\n",
    "        #extracts each tweet <processes it as mentioned below> and puts it in the nlp->doc\n",
    "        # preProcess #Converts a tweet to lowercase, replaces anyusername w/ <USERNAME> and URLS with <URL>\n",
    "        doc = nlp(preProcess(data[0][i]))\n",
    "        if len(doc.ents) == 0:\n",
    "            noEntity.append(preProcess(data[0][i]))\n",
    "            \n",
    "        # bottom line was commented out but using it to identity what the length is and what doc.ent contains\n",
    "        #print(len(doc.ents))\n",
    "        #print(doc.ents)\n",
    "        if(len(doc.ents) == 4):\n",
    "            print(doc)\n",
    "            \n",
    "        for entity in doc.ents: \n",
    "        #print(entity.label_)\n",
    "            totalEnt+=1\n",
    "            if(entity.label_ == 'FOOD'):\n",
    "                if entity.text in myData:\n",
    "                    myData[entity.text] += 1\n",
    "                else:\n",
    "                    myData[entity.text] = 1\n",
    "                    \n",
    "    print(\"Number of entities found: \" + str(len(myData)))\n",
    "    print(totalEnt)\n",
    "    for i in sorted(myData, key = myData.get):\n",
    "        print(\"Entity: \" + i, \"Count: \" + str(myData[i]), \"Density: \" + str(format(myData[i]/totalEnt, '.2f')), end = \"\\n\")\n",
    "    \n",
    "    \n",
    "    return myData\n",
    "\n",
    "\n",
    "\n",
    "\n",
    "for i in range(len(test_data['tweet'])):\n",
    "    test_data['tweet'][i] = preProcess(test_data['tweet'][i])\n",
    "\n",
    "y = test_data['food'].tolist()\n",
    "# print(test_data)\n",
    "# print(nlp.pipe_names)\n",
    "    \n",
    "def ent_recognize(text):\n",
    "    nlp = spacy.load(MODEL_PATH)\n",
    "    doc = nlp(text)\n",
    "    displacy.render(doc,style = \"ent\")\n",
    "    \n",
    "def predict(tweet):\n",
    "    nlp = spacy.load(MODEL_PATH)\n",
    "    doc = nlp(str(tweet))\n",
    "    print(str(tweet))\n",
    "    print(doc.ents)\n",
    "    if doc.ents:\n",
    "        displacy.render(doc,style = \"ent\")\n",
    "\n",
    "def returnPrediction(tweet):   \n",
    "    nlp = spacy.load(MODEL_PATH)\n",
    "    doc = nlp(str(tweet))\n",
    "    if doc.ents:\n",
    "        return 1\n",
    "    else:\n",
    "        return 0\n",
    "    \n",
    "def get_predictions():\n",
    "    predictions = []\n",
    "    for tweet in test_data['tweet'].tolist():\n",
    "        predictions.append(returnPrediction(tweet))\n",
    "    return predictions\n",
    "\n",
    "def eval_model(model):\n",
    "    nlp = spacy.load(model)\n",
    "    predictions = get_predictions()\n",
    "    print(metrics.confusion_matrix(y,predictions, labels = [1,0]))\n",
    "    print(metrics.classification_report(y,predictions, labels = [1,0]))\n",
    "    \n",
    "    \n",
    "def eval_model():\n",
    "    nlp = spacy.load(MODEL_PATH)\n",
    "    predictions = get_predictions()\n",
    "    print(metrics.confusion_matrix(y,predictions, labels = [1,0]))\n",
    "    print(metrics.classification_report(y,predictions, labels = [1,0]))\n",
    "    \n",
    "def show_tp():\n",
    "    counter = 0\n",
    "    tweets = test_data['tweet'].tolist()\n",
    "    predictions = get_predictions()\n",
    "    for i in range(len(y)):\n",
    "        if predictions[i] == 1 and y[i] == 1:\n",
    "            print(\"True positives:\", tweets[i], \"\\n\")\n",
    "            counter += 1\n",
    "    print(counter)\n",
    "    \n",
    "def show_tn():\n",
    "    counter = 0\n",
    "    predictions = get_predictions()\n",
    "    tweets = test_data['tweet'].tolist()\n",
    "    for i in range(len(y)):\n",
    "        if predictions[i] == 0 and y[i] == 0:\n",
    "            print(\"True Negative:\", tweets[i], \"\\n\")\n",
    "            counter += 1\n",
    "    print(counter)\n",
    "    \n",
    "def show_fn():\n",
    "    predictions = get_predictions()\n",
    "    tweets = test_data['tweet']\n",
    "    counter = 0\n",
    "    for i in range(len(y)):\n",
    "        if predictions[i] == 0 and y[i] == 1:\n",
    "            print(\"False Negative:\", tweets[i], \"\\n\")\n",
    "            counter += 1\n",
    "    print(counter)\n",
    "    \n",
    "def show_fp():\n",
    "    predictions = get_predictions()\n",
    "    tweets = test_data['tweet'].tolist()\n",
    "    for i in range(len(y)):\n",
    "        if predictions[i] == 1 and y[i] == 0:\n",
    "            print(\"False Positive:\")\n",
    "            doc = nlp(str(tweets[i]))\n",
    "            if doc.ents:\n",
    "                displacy.render(doc,style = \"ent\")"
   ]
  },
  {
   "cell_type": "code",
   "execution_count": 13,
   "metadata": {},
   "outputs": [
    {
     "name": "stdout",
     "output_type": "stream",
     "text": [
      "I would like to eat some chicken and eggs\n",
      "(chicken, eggs)\n"
     ]
    },
    {
     "data": {
      "text/html": [
       "<span class=\"tex2jax_ignore\"><div class=\"entities\" style=\"line-height: 2.5; direction: ltr\">I would like to eat some \n",
       "<mark class=\"entity\" style=\"background: #ddd; padding: 0.45em 0.6em; margin: 0 0.25em; line-height: 1; border-radius: 0.35em;\">\n",
       "    chicken\n",
       "    <span style=\"font-size: 0.8em; font-weight: bold; line-height: 1; border-radius: 0.35em; vertical-align: middle; margin-left: 0.5rem\">FOOD</span>\n",
       "</mark>\n",
       " and \n",
       "<mark class=\"entity\" style=\"background: #ddd; padding: 0.45em 0.6em; margin: 0 0.25em; line-height: 1; border-radius: 0.35em;\">\n",
       "    eggs\n",
       "    <span style=\"font-size: 0.8em; font-weight: bold; line-height: 1; border-radius: 0.35em; vertical-align: middle; margin-left: 0.5rem\">FOOD</span>\n",
       "</mark>\n",
       "</div></span>"
      ],
      "text/plain": [
       "<IPython.core.display.HTML object>"
      ]
     },
     "metadata": {},
     "output_type": "display_data"
    }
   ],
   "source": [
    "predict('I would like to eat some chicken and eggs')"
   ]
  },
  {
   "cell_type": "code",
   "execution_count": 14,
   "metadata": {},
   "outputs": [
    {
     "name": "stdout",
     "output_type": "stream",
     "text": [
      "[[35  9]\n",
      " [ 2 37]]\n",
      "              precision    recall  f1-score   support\n",
      "\n",
      "           1       0.95      0.80      0.86        44\n",
      "           0       0.80      0.95      0.87        39\n",
      "\n",
      "    accuracy                           0.87        83\n",
      "   macro avg       0.88      0.87      0.87        83\n",
      "weighted avg       0.88      0.87      0.87        83\n",
      "\n"
     ]
    }
   ],
   "source": [
    "# evaluation of model from MODEL_PATH\n",
    "eval_model()"
   ]
  },
  {
   "cell_type": "markdown",
   "metadata": {},
   "source": [
    "# Checking for overlapping words"
   ]
  },
  {
   "cell_type": "code",
   "execution_count": 5,
   "metadata": {
    "scrolled": true
   },
   "outputs": [],
   "source": [
    "# rankTweet(\"chicken\", None)\n",
    "# def checkForOverlaps(data):\n",
    "    \n",
    "#     print(data)\n",
    "# keywords = foodKeeperInfo()\n",
    "# testdata = convertToTrainingFormat(\"My rice cakes is tasty \", keywords)\n",
    "\n",
    "# # for word in keywords:\n",
    "# #     for word2 in wordsInFoodkeeper:\n",
    "# #         if word in word2 and word != word2:\n",
    "# #             print(word,word2)\n",
    "\n"
   ]
  },
  {
   "cell_type": "markdown",
   "metadata": {},
   "source": [
    "Below is to check how the def foodKeeperInfo() function configures the food entities"
   ]
  },
  {
   "cell_type": "code",
   "execution_count": 23,
   "metadata": {},
   "outputs": [
    {
     "data": {
      "text/plain": [
       "['butter',\n",
       " 'buttermilk',\n",
       " 'cheese',\n",
       " 'coffee creamer',\n",
       " 'cottage cheese',\n",
       " 'cream cheese',\n",
       " 'cream',\n",
       " 'dips',\n",
       " 'egg substitutes',\n",
       " 'eggnog',\n",
       " 'eggs',\n",
       " 'egg dishes',\n",
       " 'kefir',\n",
       " 'margarine',\n",
       " 'milk',\n",
       " 'pudding',\n",
       " 'sour cream',\n",
       " 'whipped cream',\n",
       " 'whipped topping',\n",
       " 'yogurt',\n",
       " 'beef',\n",
       " 'lamb',\n",
       " 'veal',\n",
       " 'pork',\n",
       " 'goat',\n",
       " 'venison',\n",
       " 'variety meats',\n",
       " 'bacon',\n",
       " 'corned beef',\n",
       " 'ham',\n",
       " 'hot dogs',\n",
       " 'sausage',\n",
       " 'stuffed',\n",
       " 'raw pork chops',\n",
       " 'raw kabobs with vegetables',\n",
       " 'jerky',\n",
       " 'meat products',\n",
       " 'retort pouches boxes',\n",
       " 'chicken',\n",
       " 'turkey',\n",
       " 'ground turkey chicken',\n",
       " 'chicken parts',\n",
       " 'turkey parts',\n",
       " 'duckling',\n",
       " 'goose',\n",
       " 'pheasant',\n",
       " 'quail',\n",
       " 'capon',\n",
       " 'cornish hens',\n",
       " 'giblets',\n",
       " 'raw chicken breasts',\n",
       " 'turducken',\n",
       " 'chicken nuggets',\n",
       " 'patties',\n",
       " 'cooked poultry dishes',\n",
       " 'fried chicken',\n",
       " 'poultry pieces',\n",
       " 'rotisserie chicken',\n",
       " 'canned chicken',\n",
       " 'lean fish',\n",
       " 'fatty fish',\n",
       " 'caviar',\n",
       " 'cooked fish',\n",
       " 'surimi seafood',\n",
       " 'scallops',\n",
       " 'shrimp',\n",
       " 'crayfish',\n",
       " 'squid',\n",
       " 'shucked clams',\n",
       " 'mussels',\n",
       " 'oysters',\n",
       " 'crab meat',\n",
       " 'crab legs',\n",
       " 'live clams',\n",
       " 'crab',\n",
       " 'fresh whole lobster',\n",
       " 'fresh lobster tails',\n",
       " 'fresh clams',\n",
       " 'cooked shellfish',\n",
       " 'herring',\n",
       " 'fish',\n",
       " 'tofu',\n",
       " 'miso',\n",
       " 'soy flour',\n",
       " 'textured soy protein',\n",
       " 're-hydrated textured soy protein',\n",
       " 'leftovers',\n",
       " 'commercial brand vacuum-packed dinners',\n",
       " 'cooked pasta',\n",
       " 'cooked rice',\n",
       " 'fruit',\n",
       " 'cut',\n",
       " 'guacamole',\n",
       " 'hummus',\n",
       " 'luncheon meat poultry',\n",
       " 'main dishes meals',\n",
       " 'meats',\n",
       " 'olives',\n",
       " 'pate',\n",
       " 'soup',\n",
       " 'stews',\n",
       " 'casseroles',\n",
       " 'commercial bread products',\n",
       " 'tortillas',\n",
       " 'commercial cakes and muffins',\n",
       " 'cheesecake',\n",
       " 'cookies',\n",
       " 'dairy filled eclairs',\n",
       " 'doughnuts',\n",
       " 'fruit cake',\n",
       " 'pastries',\n",
       " 'danish',\n",
       " 'cream pies',\n",
       " 'chiffon pies',\n",
       " 'fruit pies',\n",
       " 'pies',\n",
       " 'quiche',\n",
       " 'baking powder',\n",
       " 'baking soda',\n",
       " 'biscuit pancake mix',\n",
       " 'cake',\n",
       " 'brownie',\n",
       " 'bread mixes',\n",
       " 'chocolate',\n",
       " 'cocoa and cocoa mixes',\n",
       " 'cornmeal',\n",
       " 'cornstarch',\n",
       " 'flour',\n",
       " 'frosting icing',\n",
       " 'gelatin',\n",
       " 'oils',\n",
       " 'nut oils',\n",
       " 'vegetable oil sprays',\n",
       " 'shortening',\n",
       " 'tamarind paste',\n",
       " 'chili powder',\n",
       " 'seasoning blends',\n",
       " 'flavored herb mixes',\n",
       " 'garlic',\n",
       " 'herbs',\n",
       " 'spice spices',\n",
       " 'sugar',\n",
       " 'sugar substitutes',\n",
       " 'tapiocas',\n",
       " 'tube cans',\n",
       " 'ready-to-bake pie crust',\n",
       " 'cookie dough',\n",
       " 'apples',\n",
       " 'apricots',\n",
       " 'avocados',\n",
       " 'bananas',\n",
       " 'berries',\n",
       " 'blueberries',\n",
       " 'cherimoya',\n",
       " 'citrus fruit',\n",
       " 'coconut',\n",
       " 'coconuts',\n",
       " 'cranberries',\n",
       " 'dates',\n",
       " 'grapes',\n",
       " 'guava',\n",
       " 'kiwi fruit',\n",
       " 'melons',\n",
       " 'papaya',\n",
       " 'mango',\n",
       " 'feijoa',\n",
       " 'passionfruit',\n",
       " 'casaha melon',\n",
       " 'peaches',\n",
       " 'nectarines',\n",
       " 'plums',\n",
       " 'pears',\n",
       " 'sapote',\n",
       " 'pineapple',\n",
       " 'plantains',\n",
       " 'pomegranate',\n",
       " 'artichokes',\n",
       " 'whole',\n",
       " 'asparagus',\n",
       " 'bamboo shoots',\n",
       " 'beans and peas',\n",
       " 'beets',\n",
       " 'bok choy',\n",
       " 'broccoli and broccoli raab (rapini)',\n",
       " 'brussels sprouts',\n",
       " 'cabbage',\n",
       " 'carrots',\n",
       " 'parsnips',\n",
       " 'cauliflower',\n",
       " 'celery',\n",
       " 'corn on the cob',\n",
       " 'cucumbers',\n",
       " 'eggplant',\n",
       " 'ginger root',\n",
       " 'greens',\n",
       " 'leeks',\n",
       " 'lettuce',\n",
       " 'mushrooms',\n",
       " 'okra',\n",
       " 'onions',\n",
       " 'peppers',\n",
       " 'potatoes',\n",
       " 'pumpkins',\n",
       " 'radishes',\n",
       " 'rhubarb',\n",
       " 'rutabagas',\n",
       " 'squash',\n",
       " 'tamarind',\n",
       " 'taro',\n",
       " 'tomatoes',\n",
       " 'turnips',\n",
       " 'yuca cassava',\n",
       " 'dough',\n",
       " 'frozen potato products',\n",
       " 'frozen pretzels',\n",
       " 'fruits',\n",
       " 'ice cream',\n",
       " 'ice pops',\n",
       " 'juice concentrates',\n",
       " 'lobster tails',\n",
       " 'pancakes',\n",
       " 'waffles',\n",
       " 'sausages',\n",
       " 'sherbet',\n",
       " 'sorbet',\n",
       " 'shellfish',\n",
       " 'soy crumbles and hot dogs',\n",
       " 'soy meat substitutes',\n",
       " 'tempeh',\n",
       " 'frozen entrees',\n",
       " 'vegetables',\n",
       " 'fresh pasta',\n",
       " 'beans',\n",
       " 'lentils',\n",
       " 'pasta',\n",
       " 'dry egg noodles',\n",
       " 'peas',\n",
       " 'rice',\n",
       " 'barbecue sauce',\n",
       " 'chutney',\n",
       " 'cream sauces',\n",
       " 'milk solids',\n",
       " 'dry gravy mixes',\n",
       " 'gravy',\n",
       " 'honey',\n",
       " 'horseradish',\n",
       " 'jams',\n",
       " 'jellies',\n",
       " 'preserves',\n",
       " 'ketchup',\n",
       " 'cocktail',\n",
       " 'chili sauce',\n",
       " 'marinades',\n",
       " 'mayonnaise',\n",
       " 'mustard',\n",
       " 'pickles',\n",
       " 'pesto',\n",
       " 'salad dressings',\n",
       " 'salsa',\n",
       " 'sauce mixes',\n",
       " 'spaghetti sauce',\n",
       " 'soy sauce teriyaki sauce',\n",
       " 'vinegar',\n",
       " 'worcestershire sauce',\n",
       " 'jars pouches',\n",
       " 'dinners',\n",
       " 'cereal',\n",
       " 'dry mixes',\n",
       " 'formula',\n",
       " 'liquid concentrate ready-to-feed formula',\n",
       " 'applesauce',\n",
       " 'bacon bits',\n",
       " 'canned goods',\n",
       " 'chocolate syrup',\n",
       " 'crackers',\n",
       " 'graham cracker animal cracker',\n",
       " 'dried',\n",
       " 'gummy (fruit) snacks',\n",
       " 'marshmallows',\n",
       " 'marshmallow crème',\n",
       " 'molasses',\n",
       " 'nuts',\n",
       " 'peanut butter',\n",
       " 'pectin',\n",
       " 'popcorn',\n",
       " 'potato chips',\n",
       " 'pretzels',\n",
       " 'pudding mixes',\n",
       " 'soup mixes',\n",
       " 'sun dried tomatoes',\n",
       " 'syrup',\n",
       " 'toaster pastries',\n",
       " 'coffee',\n",
       " 'diet powder mixes and drink mixes',\n",
       " 'fruit juice in cartons',\n",
       " 'fruit drinks',\n",
       " 'punch',\n",
       " 'juice',\n",
       " 'boxes',\n",
       " 'nectar',\n",
       " 'soda',\n",
       " 'soy rice beverage',\n",
       " 'tea',\n",
       " 'water',\n",
       " 'kumquats',\n",
       " 'bagged greens',\n",
       " 'tahini',\n",
       " 'egg salad',\n",
       " 'potato salad',\n",
       " 'seafood salads',\n",
       " 'chicken salad',\n",
       " 'ham salad',\n",
       " 'pasta salad',\n",
       " 'soy milk',\n",
       " 'yams sweet potatoes',\n",
       " 'kale',\n",
       " 'quinoa',\n",
       " 'almond milk',\n",
       " 'rice milk',\n",
       " 'coconut milk',\n",
       " 'turkey bacon',\n",
       " 'fruit cocktail',\n",
       " 'black bean sauce',\n",
       " 'oyster sauce',\n",
       " 'hoisin sauce',\n",
       " 'pork roll',\n",
       " 'almonds',\n",
       " 'cashews',\n",
       " 'macadamias',\n",
       " 'peanuts',\n",
       " 'pecans',\n",
       " 'pistachios',\n",
       " 'walnuts',\n",
       " 'lime juice',\n",
       " 'lemon juice',\n",
       " 'bagel',\n",
       " 'muffin',\n",
       " 'coconut oil',\n",
       " 'orange juice',\n",
       " 'roasted red peppers',\n",
       " 'whole wheat flour',\n",
       " 'whole wheat bread',\n",
       " 'red wine',\n",
       " 'white wine',\n",
       " 'dry stuffing mix',\n",
       " 'powdered milk',\n",
       " 'almond butter',\n",
       " 'cashew butter',\n",
       " 'salt',\n",
       " 'black pepper',\n",
       " 'cajun seasoning blend',\n",
       " 'cinnamon',\n",
       " 'cumin',\n",
       " 'garlic powder',\n",
       " 'onion powder',\n",
       " 'nutmeg',\n",
       " 'nacho cheese',\n",
       " 'star fruit',\n",
       " 'prickly pear',\n",
       " 'pitaya dragon fruit',\n",
       " 'strawberries',\n",
       " 'raspberries',\n",
       " 'cherries',\n",
       " 'broth',\n",
       " 'beef broth stock consommé',\n",
       " 'chicken broth stock consommé',\n",
       " 'vegetable stock broth',\n",
       " 'ricotta',\n",
       " 'baby carrots',\n",
       " 'jicama',\n",
       " 'kimchi',\n",
       " 'kohlrabi',\n",
       " 'watermelon',\n",
       " 'cantaloupe',\n",
       " 'honeydew',\n",
       " 'refried beans',\n",
       " 'relish',\n",
       " 'tomato paste',\n",
       " 'tapenade',\n",
       " 'flaxseed',\n",
       " 'lemongrass',\n",
       " 'cilantro',\n",
       " 'mint',\n",
       " 'basil',\n",
       " 'oregano',\n",
       " 'rosemary',\n",
       " 'chives',\n",
       " 'thyme',\n",
       " 'salami',\n",
       " 'canadian bacon',\n",
       " 'canola oil',\n",
       " 'almond oil',\n",
       " 'sunflower oil',\n",
       " 'grapeseed oil',\n",
       " 'duck fat',\n",
       " 'bacon grease',\n",
       " 'frying oil',\n",
       " 'almond extract',\n",
       " 'cinnamon extract',\n",
       " 'lemon extract',\n",
       " 'pure vanilla extract',\n",
       " 'butter flavor',\n",
       " 'coconut flavor',\n",
       " '\"genuine\" maple syrup',\n",
       " 'apple juice',\n",
       " 'carrot juice',\n",
       " 'hard liquors',\n",
       " 'cream liquors',\n",
       " 'macaroons',\n",
       " 'string cheese',\n",
       " 'vegan cheddar cheese',\n",
       " 'quark',\n",
       " 'zucchini',\n",
       " 'hot peppers',\n",
       " 'bean sprouts',\n",
       " 'swiss chard',\n",
       " 'puff pastry',\n",
       " 'biscuits',\n",
       " 'pie crust',\n",
       " 'granola',\n",
       " 'pork rinds',\n",
       " 'apple cider vinegar',\n",
       " 'nutrition supplement drinks',\n",
       " 'hot sauce',\n",
       " 'thai red curry paste',\n",
       " 'yeast',\n",
       " 'cranberry sauce',\n",
       " 'vegetable juice',\n",
       " 'marinated vegetables',\n",
       " 'pizza',\n",
       " 'chia seeds',\n",
       " 'bread',\n",
       " 'amaranth',\n",
       " 'barley',\n",
       " 'buckwheat',\n",
       " 'farro',\n",
       " 'millet',\n",
       " 'oats',\n",
       " 'rye',\n",
       " 'sorghum',\n",
       " 'spelt',\n",
       " 'teff',\n",
       " 'rabbit',\n",
       " 'spaghetti squash',\n",
       " 'garam masala',\n",
       " 'tomato sauce',\n",
       " 'cherry tomatoes',\n",
       " 'coconut cream',\n",
       " 'coleslaw',\n",
       " 'pumpkin seeds',\n",
       " 'sunflower seeds',\n",
       " 'parsley',\n",
       " 'sesame oil',\n",
       " 'sesame seeds',\n",
       " 'capers',\n",
       " 'chocolate hazlenut spread',\n",
       " 'roasted nuts (peanuts',\n",
       " 'almonds)',\n",
       " 'tuna',\n",
       " 'seafood',\n",
       " 'pimento cheese',\n",
       " 'bison',\n",
       " 'salad dressing',\n",
       " 'grits',\n",
       " 'cheese curds',\n",
       " 'vegetable soup',\n",
       " 'chorizo',\n",
       " 'cinnamon rolls',\n",
       " 'cooking wine',\n",
       " 'bulgur',\n",
       " 'bratwurst',\n",
       " 'edamame',\n",
       " 'breadcrumbs',\n",
       " 'ghee',\n",
       " 'corn syrup',\n",
       " 'instant breakfast drinks',\n",
       " 'pine nuts',\n",
       " 'coconut flour',\n",
       " 'polenta',\n",
       " 'cereal granola bars',\n",
       " 'coconut water',\n",
       " 'celery root',\n",
       " 'apple cider',\n",
       " 'yuzu juice',\n",
       " 'yuzu',\n",
       " 'pastrami',\n",
       " 'kugel',\n",
       " 'avocado oil',\n",
       " 'balsamic vinegar',\n",
       " 'aioli',\n",
       " 'base',\n",
       " 'anchovies',\n",
       " 'radicchio',\n",
       " 'prosciutto',\n",
       " 'arugula',\n",
       " 'mung bean',\n",
       " 'croutons']"
      ]
     },
     "execution_count": 23,
     "metadata": {},
     "output_type": "execute_result"
    }
   ],
   "source": [
    "foodKeeperInfo() "
   ]
  },
  {
   "cell_type": "markdown",
   "metadata": {},
   "source": [
    "## Use the function below to check individual sentences"
   ]
  },
  {
   "cell_type": "code",
   "execution_count": 7,
   "metadata": {},
   "outputs": [],
   "source": [
    "# nlp = spacy.load(\"en_core_web_sm\")\n",
    "# ent_recognize(\"my friend is chicken because he is scared\")\n",
    "# print(live_tweets)\n",
    "# testTweets = live_tweets[5]\n",
    "# for tweet in testTweets[:500]:\n",
    "#     if nlp(preProcess(tweet)).ents:\n",
    "#         ent_recognize(preProcess(tweet))\n"
   ]
  },
  {
   "cell_type": "markdown",
   "metadata": {},
   "source": [
    "## Use the function below to check model performance on the entire test set"
   ]
  },
  {
   "cell_type": "code",
   "execution_count": 7,
   "metadata": {
    "scrolled": true
   },
   "outputs": [
    {
     "name": "stdout",
     "output_type": "stream",
     "text": [
      "[[37  7]\n",
      " [ 7 32]]\n",
      "              precision    recall  f1-score   support\n",
      "\n",
      "           1       0.84      0.84      0.84        44\n",
      "           0       0.82      0.82      0.82        39\n",
      "\n",
      "    accuracy                           0.83        83\n",
      "   macro avg       0.83      0.83      0.83        83\n",
      "weighted avg       0.83      0.83      0.83        83\n",
      "\n"
     ]
    }
   ],
   "source": [
    "# eval_model()"
   ]
  },
  {
   "cell_type": "markdown",
   "metadata": {},
   "source": [
    "## Use the functions below to see TP, TN, FP, FN respectively\n"
   ]
  },
  {
   "cell_type": "code",
   "execution_count": 9,
   "metadata": {},
   "outputs": [],
   "source": [
    "#show_tp()\n",
    "# show_tn()\n",
    "# show_fp()\n",
    "#show_fn()"
   ]
  },
  {
   "cell_type": "code",
   "execution_count": 10,
   "metadata": {
    "scrolled": true
   },
   "outputs": [],
   "source": [
    "# foodkeeper = foodKeeperInfo()\n",
    "# print(foodkeeper)\n",
    "# sortedKeywords =  sorted(keywordRanker, key=keywordRanker.get, reverse=True)\n",
    "\n",
    "# for i in range(15): #sortedKeywords\n",
    "#     keywords.append(sortedKeywords[i])\n",
    "# print(keywords)\n",
    "# keywords.append(\"chicken\")\n",
    "# #keywords.append(\"cream cheese\")\n",
    "\n",
    "# abc = convertToTrainingFormat(\"I like to eat cream and cheese with chicken test\", keywords)\n",
    "# print(abc)\n"
   ]
  },
  {
   "cell_type": "markdown",
   "metadata": {},
   "source": [
    "# Find the most common words"
   ]
  },
  {
   "cell_type": "code",
   "execution_count": 11,
   "metadata": {},
   "outputs": [],
   "source": [
    "# commonVerbs = getCommonVerbs(training_data) \n",
    "#commonVerbs = ['eat', 'know', 'think', 'want', 'got', 'like', 'love', 'use', 'need', 'add']"
   ]
  },
  {
   "cell_type": "markdown",
   "metadata": {},
   "source": [
    "# Training Loop (not config file)"
   ]
  },
  {
   "cell_type": "code",
   "execution_count": null,
   "metadata": {
    "scrolled": true
   },
   "outputs": [
    {
     "name": "stdout",
     "output_type": "stream",
     "text": [
      "['eat', 'know', 'think', 'want', 'got', 'like', 'love', 'use', 'need', 'add']\n",
      "Common Verbs gathered... \n",
      "\n",
      "['eat', 'know', 'think', 'want', 'got', 'like', 'love', 'use', 'need', 'add']\n",
      "No model was found... creating a 'en_core_web_sm' model...\n",
      "⠇ Saving the model on iteration 1               Total keywords:  15\n",
      "List of Keywords:\n",
      "\n",
      " ['cheese', 'chicken', 'milk', 'butter', 'juice', 'cream', 'fruit', 'rice', 'water', 'garlic', 'bread', 'sugar', 'salt', 'chocolate', 'fish'] \n",
      "\n",
      "\n",
      "⠹ Saving the model on iteration 1               [[ 0 44]\n",
      " [ 0 39]]\n",
      "              precision    recall  f1-score   support\n",
      "\n",
      "           1       0.00      0.00      0.00        44\n",
      "           0       0.47      1.00      0.64        39\n",
      "\n",
      "    accuracy                           0.47        83\n",
      "   macro avg       0.23      0.50      0.32        83\n",
      "weighted avg       0.22      0.47      0.30        83\n",
      "\n",
      "Total keywords:  15\n",
      "Total Tweets:  0\n",
      "List of Keywords:\n",
      "\n",
      " ['cheese', 'chicken', 'milk', 'butter', 'juice', 'cream', 'fruit', 'rice', 'water', 'garlic', 'bread', 'sugar', 'salt', 'chocolate', 'fish'] \n",
      "\n",
      "\n",
      "⠋                                               "
     ]
    },
    {
     "name": "stderr",
     "output_type": "stream",
     "text": [
      "C:\\Users\\ferna\\anaconda3\\lib\\site-packages\\sklearn\\metrics\\_classification.py:1318: UndefinedMetricWarning: Precision and F-score are ill-defined and being set to 0.0 in labels with no predicted samples. Use `zero_division` parameter to control this behavior.\n",
      "  _warn_prf(average, modifier, msg_start, len(result))\n",
      "C:\\Users\\ferna\\anaconda3\\lib\\site-packages\\sklearn\\metrics\\_classification.py:1318: UndefinedMetricWarning: Precision and F-score are ill-defined and being set to 0.0 in labels with no predicted samples. Use `zero_division` parameter to control this behavior.\n",
      "  _warn_prf(average, modifier, msg_start, len(result))\n",
      "C:\\Users\\ferna\\anaconda3\\lib\\site-packages\\sklearn\\metrics\\_classification.py:1318: UndefinedMetricWarning: Precision and F-score are ill-defined and being set to 0.0 in labels with no predicted samples. Use `zero_division` parameter to control this behavior.\n",
      "  _warn_prf(average, modifier, msg_start, len(result))\n"
     ]
    },
    {
     "name": "stdout",
     "output_type": "stream",
     "text": [
      "⠙ Now training on iteration 2                   "
     ]
    },
    {
     "name": "stderr",
     "output_type": "stream",
     "text": [
      "C:\\Users\\ferna\\anaconda3\\lib\\site-packages\\spacy\\training\\iob_utils.py:141: UserWarning: [W030] Some entities could not be aligned in the text \"2 sticks of unsalted butter at room temp and one s...\" with entities \"[(21, 27, 'FOOD'), (198, 203, 'FOOD'), (242, 247, ...\". Use `spacy.training.offsets_to_biluo_tags(nlp.make_doc(text), entities)` to check the alignment. Misaligned entities ('-') will be ignored during training.\n",
      "  warnings.warn(\n",
      "C:\\Users\\ferna\\anaconda3\\lib\\site-packages\\spacy\\training\\iob_utils.py:141: UserWarning: [W030] Some entities could not be aligned in the text \" don’t need a kit boil full fat milk add lemon jui...\" with entities \"[(32, 36, 'FOOD'), (47, 52, 'FOOD'), (98, 102, 'FO...\". Use `spacy.training.offsets_to_biluo_tags(nlp.make_doc(text), entities)` to check the alignment. Misaligned entities ('-') will be ignored during training.\n",
      "  warnings.warn(\n"
     ]
    },
    {
     "name": "stdout",
     "output_type": "stream",
     "text": [
      "⠴ Now training on iteration 2                   "
     ]
    },
    {
     "name": "stderr",
     "output_type": "stream",
     "text": [
      "C:\\Users\\ferna\\anaconda3\\lib\\site-packages\\spacy\\training\\iob_utils.py:141: UserWarning: [W030] Some entities could not be aligned in the text \" food i like breaded shrimp garlic bread calamari ...\" with entities \"[(28, 34, 'FOOD'), (13, 18, 'FOOD'), (84, 90, 'FOO...\". Use `spacy.training.offsets_to_biluo_tags(nlp.make_doc(text), entities)` to check the alignment. Misaligned entities ('-') will be ignored during training.\n",
      "  warnings.warn(\n"
     ]
    },
    {
     "name": "stdout",
     "output_type": "stream",
     "text": [
      "⠧ Now training on iteration 2                   "
     ]
    },
    {
     "name": "stderr",
     "output_type": "stream",
     "text": [
      "C:\\Users\\ferna\\anaconda3\\lib\\site-packages\\spacy\\training\\iob_utils.py:141: UserWarning: [W030] Some entities could not be aligned in the text \" a fruit curd is basically the juice of a fruit co...\" with entities \"[(3, 8, 'FOOD'), (31, 36, 'FOOD'), (62, 67, 'FOOD'...\". Use `spacy.training.offsets_to_biluo_tags(nlp.make_doc(text), entities)` to check the alignment. Misaligned entities ('-') will be ignored during training.\n",
      "  warnings.warn(\n"
     ]
    },
    {
     "name": "stdout",
     "output_type": "stream",
     "text": [
      "⠴ Saving the model on iteration 2               Total keywords:  15\n",
      "List of Keywords:\n",
      "\n",
      " ['cheese', 'chicken', 'milk', 'butter', 'juice', 'cream', 'fruit', 'rice', 'water', 'garlic', 'bread', 'sugar', 'salt', 'chocolate', 'fish'] \n",
      "\n",
      "\n",
      "⠧ Saving the model on iteration 2               [[ 0 44]\n",
      " [ 0 39]]\n",
      "              precision    recall  f1-score   support\n",
      "\n",
      "           1       0.00      0.00      0.00        44\n",
      "           0       0.47      1.00      0.64        39\n",
      "\n",
      "    accuracy                           0.47        83\n",
      "   macro avg       0.23      0.50      0.32        83\n",
      "weighted avg       0.22      0.47      0.30        83\n",
      "\n",
      "Total keywords:  195\n",
      "Total Tweets:  195\n",
      "List of Keywords:\n",
      "\n",
      " ['cheese', 'chicken', 'milk', 'butter', 'juice', 'cream', 'fruit', 'rice', 'water', 'garlic', 'bread', 'sugar', 'salt', 'chocolate', 'fish', 'shrimp', 'bacon', 'cornstarch', 'broth', 'hot sauce', 'parsley', 'grits', 'apples', 'potatoes', 'onions', 'carrots', 'cottage cheese', 'sour cream', 'turkey', 'beans', 'ham', 'mustard', 'onion powder', 'cumin', 'garam masala', 'tomatoes', 'eggplant', 'lemon juice', 'chicken nuggets', 'boxes', 'string cheese', 'punch', 'waffles', 'pizza', 'bagel', 'margarine', 'flour', 'whipped cream', 'ice cream', 'soup', 'coconut oil', 'quail', 'eggs', 'cream cheese', 'yogurt', 'pretzels', 'celery', 'peanut butter', 'lime juice', 'garlic powder', 'pies', 'tomato sauce', 'stuffed', 'dates', 'scallops', 'yuzu', 'honey', 'peas', 'refried beans', 'bananas', 'tuna', 'dough', 'roasted red peppers', 'black pepper', 'yeast', 'pineapple', 'syrup', 'walnuts', 'lean fish', 'pasta', 'cauliflower', 'nuts', 'pine nuts', 'sesame seeds', 'tea', 'hoisin sauce', 'sesame oil', 'vinegar', 'chili sauce', 'peanuts', 'raspberries', 'lentils', 'fruits', 'vegetables', 'cooked rice', 'oats', 'patties', 'corn syrup', 'baking soda', 'molasses', 'squash', 'goat', 'crackers', 'basil', 'dried', 'mushrooms', 'beef', 'ghee', 'avocado oil', 'almond oil', 'grapeseed oil', 'almond milk', 'greens', 'granola', 'chia seeds', 'whole', 'peaches', 'chili powder', 'soda', 'muffin', 'pie crust', 'coconut milk', 'cake', 'biscuits', 'buttermilk', 'fried chicken', 'potato chips', 'worcestershire sauce', 'pesto', 'soy milk', 'spelt', 'coconut', 'cinnamon', 'baking powder', 'pure vanilla extract', 'sausage', 'pork', 'cereal', 'grapes', 'nectarines', 'pears', 'cashews', 'coconut cream', 'coconut water', 'crab', 'cornmeal', 'chives', 'white wine', 'coffee', 'dips', 'meats', 'frozen entrees', 'canola oil', 'mung bean', 'mango', 'pancakes', 'cocktail', 'mayonnaise', 'orange juice', 'vegetable soup', 'juice concentrates', 'ketchup', 'nutmeg', 'peppers', 'cabbage', 'okra', 'bacon bits', 'pasta salad', 'strawberries', 'berries', 'coleslaw', 'rotisserie chicken', 'hot dogs', 'cut', 'butter flavor', 'thyme', 'tomato paste', 'oregano', 'fruit cocktail', 'tamarind paste', 'pickles', 'sun dried tomatoes', 'gravy', 'olives', 'salsa', 'pudding', 'whipped topping', 'cooked fish', 'chutney', 'apple juice', 'guava', 'puff pastry', 'cheesecake', 'danish', 'whole wheat bread'] \n",
      "\n",
      "\n",
      "⠙ Gathering proper training data on iteration 3 "
     ]
    },
    {
     "name": "stderr",
     "output_type": "stream",
     "text": [
      "C:\\Users\\ferna\\anaconda3\\lib\\site-packages\\sklearn\\metrics\\_classification.py:1318: UndefinedMetricWarning: Precision and F-score are ill-defined and being set to 0.0 in labels with no predicted samples. Use `zero_division` parameter to control this behavior.\n",
      "  _warn_prf(average, modifier, msg_start, len(result))\n",
      "C:\\Users\\ferna\\anaconda3\\lib\\site-packages\\sklearn\\metrics\\_classification.py:1318: UndefinedMetricWarning: Precision and F-score are ill-defined and being set to 0.0 in labels with no predicted samples. Use `zero_division` parameter to control this behavior.\n",
      "  _warn_prf(average, modifier, msg_start, len(result))\n",
      "C:\\Users\\ferna\\anaconda3\\lib\\site-packages\\sklearn\\metrics\\_classification.py:1318: UndefinedMetricWarning: Precision and F-score are ill-defined and being set to 0.0 in labels with no predicted samples. Use `zero_division` parameter to control this behavior.\n",
      "  _warn_prf(average, modifier, msg_start, len(result))\n"
     ]
    },
    {
     "name": "stdout",
     "output_type": "stream",
     "text": [
      "⠋ Now training on iteration 3                   "
     ]
    },
    {
     "name": "stderr",
     "output_type": "stream",
     "text": [
      "C:\\Users\\ferna\\anaconda3\\lib\\site-packages\\spacy\\training\\iob_utils.py:141: UserWarning: [W030] Some entities could not be aligned in the text \"2 sticks of unsalted butter at room temp and one s...\" with entities \"[(21, 27, 'FOOD'), (198, 203, 'FOOD'), (242, 247, ...\". Use `spacy.training.offsets_to_biluo_tags(nlp.make_doc(text), entities)` to check the alignment. Misaligned entities ('-') will be ignored during training.\n",
      "  warnings.warn(\n",
      "C:\\Users\\ferna\\anaconda3\\lib\\site-packages\\spacy\\training\\iob_utils.py:141: UserWarning: [W030] Some entities could not be aligned in the text \" don’t need a kit boil full fat milk add lemon jui...\" with entities \"[(32, 36, 'FOOD'), (47, 52, 'FOOD'), (98, 102, 'FO...\". Use `spacy.training.offsets_to_biluo_tags(nlp.make_doc(text), entities)` to check the alignment. Misaligned entities ('-') will be ignored during training.\n",
      "  warnings.warn(\n"
     ]
    },
    {
     "name": "stdout",
     "output_type": "stream",
     "text": [
      "⠼ Now training on iteration 3                   "
     ]
    },
    {
     "name": "stderr",
     "output_type": "stream",
     "text": [
      "C:\\Users\\ferna\\anaconda3\\lib\\site-packages\\spacy\\training\\iob_utils.py:141: UserWarning: [W030] Some entities could not be aligned in the text \" a fruit curd is basically the juice of a fruit co...\" with entities \"[(3, 8, 'FOOD'), (31, 36, 'FOOD'), (62, 67, 'FOOD'...\". Use `spacy.training.offsets_to_biluo_tags(nlp.make_doc(text), entities)` to check the alignment. Misaligned entities ('-') will be ignored during training.\n",
      "  warnings.warn(\n"
     ]
    },
    {
     "name": "stdout",
     "output_type": "stream",
     "text": [
      "⠧ Now training on iteration 3                   "
     ]
    },
    {
     "name": "stderr",
     "output_type": "stream",
     "text": [
      "C:\\Users\\ferna\\anaconda3\\lib\\site-packages\\spacy\\training\\iob_utils.py:141: UserWarning: [W030] Some entities could not be aligned in the text \" food i like breaded shrimp garlic bread calamari ...\" with entities \"[(28, 34, 'FOOD'), (13, 18, 'FOOD'), (84, 90, 'FOO...\". Use `spacy.training.offsets_to_biluo_tags(nlp.make_doc(text), entities)` to check the alignment. Misaligned entities ('-') will be ignored during training.\n",
      "  warnings.warn(\n"
     ]
    },
    {
     "name": "stdout",
     "output_type": "stream",
     "text": [
      "⠸ Saving the model on iteration 3               Total keywords:  195\n",
      "List of Keywords:\n",
      "\n",
      " ['cheese', 'chicken', 'milk', 'butter', 'juice', 'cream', 'fruit', 'rice', 'water', 'garlic', 'bread', 'sugar', 'salt', 'chocolate', 'fish', 'shrimp', 'bacon', 'cornstarch', 'broth', 'hot sauce', 'parsley', 'grits', 'apples', 'potatoes', 'onions', 'carrots', 'cottage cheese', 'sour cream', 'turkey', 'beans', 'ham', 'mustard', 'onion powder', 'cumin', 'garam masala', 'tomatoes', 'eggplant', 'lemon juice', 'chicken nuggets', 'boxes', 'string cheese', 'punch', 'waffles', 'pizza', 'bagel', 'margarine', 'flour', 'whipped cream', 'ice cream', 'soup', 'coconut oil', 'quail', 'eggs', 'cream cheese', 'yogurt', 'pretzels', 'celery', 'peanut butter', 'lime juice', 'garlic powder', 'pies', 'tomato sauce', 'stuffed', 'dates', 'scallops', 'yuzu', 'honey', 'peas', 'refried beans', 'bananas', 'tuna', 'dough', 'roasted red peppers', 'black pepper', 'yeast', 'pineapple', 'syrup', 'walnuts', 'lean fish', 'pasta', 'cauliflower', 'nuts', 'pine nuts', 'sesame seeds', 'tea', 'hoisin sauce', 'sesame oil', 'vinegar', 'chili sauce', 'peanuts', 'raspberries', 'lentils', 'fruits', 'vegetables', 'cooked rice', 'oats', 'patties', 'corn syrup', 'baking soda', 'molasses', 'squash', 'goat', 'crackers', 'basil', 'dried', 'mushrooms', 'beef', 'ghee', 'avocado oil', 'almond oil', 'grapeseed oil', 'almond milk', 'greens', 'granola', 'chia seeds', 'whole', 'peaches', 'chili powder', 'soda', 'muffin', 'pie crust', 'coconut milk', 'cake', 'biscuits', 'buttermilk', 'fried chicken', 'potato chips', 'worcestershire sauce', 'pesto', 'soy milk', 'spelt', 'coconut', 'cinnamon', 'baking powder', 'pure vanilla extract', 'sausage', 'pork', 'cereal', 'grapes', 'nectarines', 'pears', 'cashews', 'coconut cream', 'coconut water', 'crab', 'cornmeal', 'chives', 'white wine', 'coffee', 'dips', 'meats', 'frozen entrees', 'canola oil', 'mung bean', 'mango', 'pancakes', 'cocktail', 'mayonnaise', 'orange juice', 'vegetable soup', 'juice concentrates', 'ketchup', 'nutmeg', 'peppers', 'cabbage', 'okra', 'bacon bits', 'pasta salad', 'strawberries', 'berries', 'coleslaw', 'rotisserie chicken', 'hot dogs', 'cut', 'butter flavor', 'thyme', 'tomato paste', 'oregano', 'fruit cocktail', 'tamarind paste', 'pickles', 'sun dried tomatoes', 'gravy', 'olives', 'salsa', 'pudding', 'whipped topping', 'cooked fish', 'chutney', 'apple juice', 'guava', 'puff pastry', 'cheesecake', 'danish', 'whole wheat bread'] \n",
      "\n",
      "\n",
      "⠴ Saving the model on iteration 3               Decreasing entityCheckCount variable by 1\n",
      "entityCheckCount =  2\n",
      "⠏ Saving the model on iteration 3               [[ 0 44]\n",
      " [ 0 39]]\n",
      "              precision    recall  f1-score   support\n",
      "\n",
      "           1       0.00      0.00      0.00        44\n",
      "           0       0.47      1.00      0.64        39\n",
      "\n",
      "    accuracy                           0.47        83\n",
      "   macro avg       0.23      0.50      0.32        83\n",
      "weighted avg       0.22      0.47      0.30        83\n",
      "\n",
      "Total keywords:  195\n",
      "Total Tweets:  195\n",
      "List of Keywords:\n",
      "\n",
      " ['cheese', 'chicken', 'milk', 'butter', 'juice', 'cream', 'fruit', 'rice', 'water', 'garlic', 'bread', 'sugar', 'salt', 'chocolate', 'fish', 'shrimp', 'bacon', 'cornstarch', 'broth', 'hot sauce', 'parsley', 'grits', 'apples', 'potatoes', 'onions', 'carrots', 'cottage cheese', 'sour cream', 'turkey', 'beans', 'ham', 'mustard', 'onion powder', 'cumin', 'garam masala', 'tomatoes', 'eggplant', 'lemon juice', 'chicken nuggets', 'boxes', 'string cheese', 'punch', 'waffles', 'pizza', 'bagel', 'margarine', 'flour', 'whipped cream', 'ice cream', 'soup', 'coconut oil', 'quail', 'eggs', 'cream cheese', 'yogurt', 'pretzels', 'celery', 'peanut butter', 'lime juice', 'garlic powder', 'pies', 'tomato sauce', 'stuffed', 'dates', 'scallops', 'yuzu', 'honey', 'peas', 'refried beans', 'bananas', 'tuna', 'dough', 'roasted red peppers', 'black pepper', 'yeast', 'pineapple', 'syrup', 'walnuts', 'lean fish', 'pasta', 'cauliflower', 'nuts', 'pine nuts', 'sesame seeds', 'tea', 'hoisin sauce', 'sesame oil', 'vinegar', 'chili sauce', 'peanuts', 'raspberries', 'lentils', 'fruits', 'vegetables', 'cooked rice', 'oats', 'patties', 'corn syrup', 'baking soda', 'molasses', 'squash', 'goat', 'crackers', 'basil', 'dried', 'mushrooms', 'beef', 'ghee', 'avocado oil', 'almond oil', 'grapeseed oil', 'almond milk', 'greens', 'granola', 'chia seeds', 'whole', 'peaches', 'chili powder', 'soda', 'muffin', 'pie crust', 'coconut milk', 'cake', 'biscuits', 'buttermilk', 'fried chicken', 'potato chips', 'worcestershire sauce', 'pesto', 'soy milk', 'spelt', 'coconut', 'cinnamon', 'baking powder', 'pure vanilla extract', 'sausage', 'pork', 'cereal', 'grapes', 'nectarines', 'pears', 'cashews', 'coconut cream', 'coconut water', 'crab', 'cornmeal', 'chives', 'white wine', 'coffee', 'dips', 'meats', 'frozen entrees', 'canola oil', 'mung bean', 'mango', 'pancakes', 'cocktail', 'mayonnaise', 'orange juice', 'vegetable soup', 'juice concentrates', 'ketchup', 'nutmeg', 'peppers', 'cabbage', 'okra', 'bacon bits', 'pasta salad', 'strawberries', 'berries', 'coleslaw', 'rotisserie chicken', 'hot dogs', 'cut', 'butter flavor', 'thyme', 'tomato paste', 'oregano', 'fruit cocktail', 'tamarind paste', 'pickles', 'sun dried tomatoes', 'gravy', 'olives', 'salsa', 'pudding', 'whipped topping', 'cooked fish', 'chutney', 'apple juice', 'guava', 'puff pastry', 'cheesecake', 'danish', 'whole wheat bread'] \n",
      "\n",
      "\n",
      "⠙ Gathering proper training data on iteration 4 "
     ]
    },
    {
     "name": "stderr",
     "output_type": "stream",
     "text": [
      "C:\\Users\\ferna\\anaconda3\\lib\\site-packages\\sklearn\\metrics\\_classification.py:1318: UndefinedMetricWarning: Precision and F-score are ill-defined and being set to 0.0 in labels with no predicted samples. Use `zero_division` parameter to control this behavior.\n",
      "  _warn_prf(average, modifier, msg_start, len(result))\n",
      "C:\\Users\\ferna\\anaconda3\\lib\\site-packages\\sklearn\\metrics\\_classification.py:1318: UndefinedMetricWarning: Precision and F-score are ill-defined and being set to 0.0 in labels with no predicted samples. Use `zero_division` parameter to control this behavior.\n",
      "  _warn_prf(average, modifier, msg_start, len(result))\n",
      "C:\\Users\\ferna\\anaconda3\\lib\\site-packages\\sklearn\\metrics\\_classification.py:1318: UndefinedMetricWarning: Precision and F-score are ill-defined and being set to 0.0 in labels with no predicted samples. Use `zero_division` parameter to control this behavior.\n",
      "  _warn_prf(average, modifier, msg_start, len(result))\n"
     ]
    },
    {
     "name": "stdout",
     "output_type": "stream",
     "text": [
      "⠴ Gathering proper training data on iteration 4 "
     ]
    }
   ],
   "source": [
    "# new spacy training model\n",
    "#def training(data, model):\n",
    "    \n",
    "#commonVerbs = getCommonVerbs(data) \n",
    "#print(commonVerbs)\n",
    "    \n",
    "#print(\"Common Verbs gathered...\", '\\n')\n",
    "\n",
    "#print(commonVerbs)\n",
    "    \n",
    "\n",
    "# training(training_data, None, commonVerbs)"
   ]
  },
  {
   "cell_type": "markdown",
   "metadata": {},
   "source": [
    "# Training Loop (config file model)"
   ]
  },
  {
   "cell_type": "code",
   "execution_count": 31,
   "metadata": {
    "scrolled": true
   },
   "outputs": [
    {
     "name": "stdout",
     "output_type": "stream",
     "text": [
      "['eat', 'know', 'think', 'want', 'got', 'like', 'love', 'use', 'need', 'add']\n",
      "Common Verbs gathered... \n",
      "\n",
      "['eat', 'know', 'think', 'want', 'got', 'like', 'love', 'use', 'need', 'add']\n",
      "~~~~~~~~~~~~~~~~~0~~~~~~~~~~~~~~~~~\n",
      "Model loaded...\n",
      "Total keywords:  15\n",
      "Total Tweets:  0\n",
      "List of Keywords:\n",
      "\n",
      " ['cheese', 'chicken', 'milk', 'butter', 'juice', 'cream', 'fruit', 'rice', 'water', 'garlic', 'bread', 'sugar', 'salt', 'chocolate', 'fish'] \n",
      "\n",
      "\n",
      "~~~~~~~~~~~~~~~~~1~~~~~~~~~~~~~~~~~\n",
      "Model loaded...\n"
     ]
    },
    {
     "name": "stderr",
     "output_type": "stream",
     "text": [
      "100%|██████████| 195/195 [00:00<00:00, 2505.17it/s]\n"
     ]
    },
    {
     "name": "stdout",
     "output_type": "stream",
     "text": [
      "Skipping entity\n",
      "Skipping entity\n",
      "Skipping entity\n",
      "Skipping entity\n",
      "[i] Saving to output directory: output\n",
      "[i] Using CPU\n",
      "\u001b[1m\n",
      "=========================== Initializing pipeline ===========================\u001b[0m\n",
      "[+] Initialized pipeline\n",
      "\u001b[1m\n",
      "============================= Training pipeline =============================\u001b[0m\n",
      "[i] Pipeline: ['tok2vec', 'ner']\n",
      "[i] Initial learn rate: 0.001\n",
      "E    #       LOSS TOK2VEC  LOSS NER  ENTS_F  ENTS_P  ENTS_R  SCORE \n",
      "---  ------  ------------  --------  ------  ------  ------  ------\n",
      "  0       0          0.00     42.50    0.46    3.28    0.25    0.00\n",
      "  2     200         54.46   1164.77   96.71   93.84   99.75    0.97\n",
      "  5     400        138.04    183.75   99.20   98.66   99.75    0.99\n",
      "  8     600        126.23     75.86   99.81   99.88   99.75    1.00\n",
      " 12     800         70.76     21.64  100.00  100.00  100.00    1.00\n",
      " 18    1000        118.44     24.15   99.88   99.75  100.00    1.00\n",
      " 25    1200        131.01     21.50  100.00  100.00  100.00    1.00\n",
      " 33    1400         88.24     13.54   99.94   99.88  100.00    1.00\n",
      " 43    1600        109.36     16.16   99.94   99.88  100.00    1.00\n",
      " 56    1800         42.27      6.61  100.00  100.00  100.00    1.00\n",
      " 72    2000        183.08     24.83  100.00  100.00  100.00    1.00\n",
      " 91    2200        103.77     11.06  100.00  100.00  100.00    1.00\n",
      "113    2400         33.35      3.22  100.00  100.00  100.00    1.00\n",
      "[+] Saved pipeline to output directory\n",
      "output\\model-last\n",
      "\n",
      "Total keywords:  15\n",
      "List of Keywords:\n",
      "\n",
      " ['cheese', 'chicken', 'milk', 'butter', 'juice', 'cream', 'fruit', 'rice', 'water', 'garlic', 'bread', 'sugar', 'salt', 'chocolate', 'fish'] \n",
      "\n",
      "\n",
      "[[18 26]\n",
      " [ 1 38]]\n",
      "              precision    recall  f1-score   support\n",
      "\n",
      "           1       0.95      0.41      0.57        44\n",
      "           0       0.59      0.97      0.74        39\n",
      "\n",
      "    accuracy                           0.67        83\n",
      "   macro avg       0.77      0.69      0.65        83\n",
      "weighted avg       0.78      0.67      0.65        83\n",
      "\n",
      "Total keywords:  195\n",
      "Total Tweets:  195\n",
      "List of Keywords:\n",
      "\n",
      " ['cheese', 'chicken', 'milk', 'butter', 'juice', 'cream', 'fruit', 'rice', 'water', 'garlic', 'bread', 'sugar', 'salt', 'chocolate', 'fish', 'yogurt', 'almond milk', 'greens', 'granola', 'nuts', 'chia seeds', 'whole', 'onions', 'apples', 'peanut butter', 'peaches', 'squash', 'soda', 'flour', 'garlic powder', 'buttermilk', 'potatoes', 'carrots', 'cottage cheese', 'sour cream', 'turkey', 'beans', 'cream cheese', 'bagel', 'pretzels', 'celery', 'white wine', 'fruit cocktail', 'crackers', 'whipped cream', 'margarine', 'ice cream', 'pineapple', 'whipped topping', 'mango', 'sausage', 'pork', 'onion powder', 'dried', 'parsley', 'eggs', 'beef', 'vegetables', 'rotisserie chicken', 'hot dogs', 'dips', 'meats', 'tuna', 'frozen entrees', 'soup', 'bacon', 'pasta', 'pizza', 'fried chicken', 'potato chips', 'cut', 'lean fish', 'cauliflower', 'cooked fish', 'honey', 'stuffed', 'dates', 'scallops', 'yuzu', 'shrimp', 'corn syrup', 'baking soda', 'molasses', 'yeast', 'cornmeal', 'vinegar', 'worcestershire sauce', 'mushrooms', 'broth', 'peppers', 'gravy', 'oats', 'guava', 'coconut', 'cake', 'lemon juice', 'strawberries', 'cheesecake', 'chicken nuggets', 'cinnamon', 'muffin', 'danish', 'pies', 'tomato sauce', 'apple juice', 'pickles', 'coffee', 'goat', 'baking powder', 'sesame seeds', 'pancakes', 'raspberries', 'cornstarch', 'hot sauce', 'grits', 'chives', 'tamarind paste', 'lime juice', 'tomatoes', 'cumin', 'chili powder', 'black pepper', 'pie crust', 'cooked rice', 'patties', 'nutmeg', 'peas', 'refried beans', 'bananas', 'okra', 'cabbage', 'syrup', 'juice concentrates', 'ketchup', 'basil', 'lentils', 'fruits', 'pesto', 'soy milk', 'hoisin sauce', 'sesame oil', 'chili sauce', 'peanuts', 'ham', 'mustard', 'bacon bits', 'chutney', 'sun dried tomatoes', 'boxes', 'string cheese', 'punch', 'waffles', 'crab', 'pasta salad', 'cereal', 'grapes', 'nectarines', 'pears', 'cashews', 'tea', 'pudding', 'coconut cream', 'coconut water', 'cocktail', 'walnuts', 'dough', 'roasted red peppers', 'whole wheat bread', 'thyme', 'mayonnaise', 'berries', 'coleslaw', 'tomato paste', 'oregano', 'canola oil', 'mung bean', 'ghee', 'avocado oil', 'almond oil', 'grapeseed oil', 'spelt', 'coconut milk', 'pure vanilla extract', 'butter flavor', 'olives', 'salsa', 'puff pastry', 'biscuits', 'orange juice', 'vegetable soup', 'garam masala', 'eggplant', 'pine nuts', 'coconut oil', 'quail'] \n",
      "\n",
      "\n",
      "~~~~~~~~~~~~~~~~~2~~~~~~~~~~~~~~~~~\n",
      "Model loaded...\n"
     ]
    },
    {
     "name": "stderr",
     "output_type": "stream",
     "text": [
      "100%|██████████| 518/518 [00:00<00:00, 2789.62it/s]"
     ]
    },
    {
     "name": "stdout",
     "output_type": "stream",
     "text": [
      "Skipping entity\n",
      "Skipping entity\n",
      "Skipping entity\n",
      "Skipping entity\n",
      "Skipping entity\n",
      "Skipping entity\n",
      "Skipping entity\n",
      "Skipping entity\n",
      "Skipping entity\n",
      "Skipping entity\n",
      "Skipping entity\n",
      "Skipping entity\n",
      "Skipping entity\n",
      "Skipping entity\n",
      "Skipping entity\n",
      "Skipping entity\n",
      "Skipping entity\n",
      "Skipping entity\n",
      "Skipping entity\n",
      "Skipping entity\n",
      "Skipping entity\n",
      "Skipping entity\n",
      "Skipping entity\n",
      "Skipping entity\n",
      "Skipping entity\n",
      "Skipping entity\n",
      "Skipping entity\n",
      "Skipping entity\n",
      "Skipping entity\n"
     ]
    },
    {
     "name": "stderr",
     "output_type": "stream",
     "text": [
      "\n"
     ]
    },
    {
     "name": "stdout",
     "output_type": "stream",
     "text": [
      "[i] Saving to output directory: output\n",
      "[i] Using CPU\n",
      "\u001b[1m\n",
      "=========================== Initializing pipeline ===========================\u001b[0m\n",
      "[+] Initialized pipeline\n",
      "\u001b[1m\n",
      "============================= Training pipeline =============================\u001b[0m\n",
      "[i] Pipeline: ['tok2vec', 'ner']\n",
      "[i] Initial learn rate: 0.001\n",
      "E    #       LOSS TOK2VEC  LOSS NER  ENTS_F  ENTS_P  ENTS_R  SCORE \n",
      "---  ------  ------------  --------  ------  ------  ------  ------\n",
      "  0       0          0.00     28.83    0.00    0.00    0.00    0.00\n",
      "  0     200         99.43   2824.42   80.85   73.35   90.06    0.81\n",
      "  1     400        452.74   1566.52   89.30   82.88   96.81    0.89\n",
      "  3     600        157.68   1092.28   94.18   93.75   94.62    0.94\n",
      "  4     800        231.12    866.12   97.58   97.24   97.92    0.98\n",
      "  6    1000        250.49    613.51   98.96   98.82   99.11    0.99\n",
      "  9    1200        347.00    506.01   99.44   99.26   99.63    0.99\n",
      " 12    1400        315.58    424.49   99.68   99.67   99.70    1.00\n",
      " 16    1600        426.41    344.13   99.78   99.59   99.96    1.00\n",
      " 21    1800        436.10    291.12   99.81   99.78   99.85    1.00\n",
      " 27    2000        529.47    269.83   99.91   99.81  100.00    1.00\n",
      " 34    2200        625.58    259.18   99.93   99.96   99.89    1.00\n",
      " 43    2400        643.04    228.82   99.96   99.93  100.00    1.00\n",
      " 52    2600       1016.48    173.18   99.94   99.96   99.93    1.00\n",
      " 61    2800        806.86    195.29   99.91   99.96   99.85    1.00\n",
      " 70    3000        675.80    150.92   99.96  100.00   99.93    1.00\n",
      " 79    3200        731.65    162.89   99.96  100.00   99.93    1.00\n",
      " 89    3400        570.72    118.76   99.98   99.96  100.00    1.00\n",
      " 98    3600        699.99    120.67  100.00  100.00  100.00    1.00\n",
      "107    3800        891.87    131.24   99.96  100.00   99.93    1.00\n",
      "116    4000        767.29    128.28   99.98   99.96  100.00    1.00\n",
      "125    4200        769.78    117.57   99.96   99.96   99.96    1.00\n",
      "134    4400        498.70     99.83   99.98   99.96  100.00    1.00\n",
      "143    4600        409.04     70.65   99.98   99.96  100.00    1.00\n",
      "152    4800        671.77     90.44  100.00  100.00  100.00    1.00\n",
      "161    5000        672.48     87.20   99.98   99.96  100.00    1.00\n",
      "170    5200        752.19     89.56  100.00  100.00  100.00    1.00\n",
      "[+] Saved pipeline to output directory\n",
      "output\\model-last\n",
      "\n",
      "Total keywords:  195\n",
      "List of Keywords:\n",
      "\n",
      " ['cheese', 'chicken', 'milk', 'butter', 'juice', 'cream', 'fruit', 'rice', 'water', 'garlic', 'bread', 'sugar', 'salt', 'chocolate', 'fish', 'yogurt', 'almond milk', 'greens', 'granola', 'nuts', 'chia seeds', 'whole', 'onions', 'apples', 'peanut butter', 'peaches', 'squash', 'soda', 'flour', 'garlic powder', 'buttermilk', 'potatoes', 'carrots', 'cottage cheese', 'sour cream', 'turkey', 'beans', 'cream cheese', 'bagel', 'pretzels', 'celery', 'white wine', 'fruit cocktail', 'crackers', 'whipped cream', 'margarine', 'ice cream', 'pineapple', 'whipped topping', 'mango', 'sausage', 'pork', 'onion powder', 'dried', 'parsley', 'eggs', 'beef', 'vegetables', 'rotisserie chicken', 'hot dogs', 'dips', 'meats', 'tuna', 'frozen entrees', 'soup', 'bacon', 'pasta', 'pizza', 'fried chicken', 'potato chips', 'cut', 'lean fish', 'cauliflower', 'cooked fish', 'honey', 'stuffed', 'dates', 'scallops', 'yuzu', 'shrimp', 'corn syrup', 'baking soda', 'molasses', 'yeast', 'cornmeal', 'vinegar', 'worcestershire sauce', 'mushrooms', 'broth', 'peppers', 'gravy', 'oats', 'guava', 'coconut', 'cake', 'lemon juice', 'strawberries', 'cheesecake', 'chicken nuggets', 'cinnamon', 'muffin', 'danish', 'pies', 'tomato sauce', 'apple juice', 'pickles', 'coffee', 'goat', 'baking powder', 'sesame seeds', 'pancakes', 'raspberries', 'cornstarch', 'hot sauce', 'grits', 'chives', 'tamarind paste', 'lime juice', 'tomatoes', 'cumin', 'chili powder', 'black pepper', 'pie crust', 'cooked rice', 'patties', 'nutmeg', 'peas', 'refried beans', 'bananas', 'okra', 'cabbage', 'syrup', 'juice concentrates', 'ketchup', 'basil', 'lentils', 'fruits', 'pesto', 'soy milk', 'hoisin sauce', 'sesame oil', 'chili sauce', 'peanuts', 'ham', 'mustard', 'bacon bits', 'chutney', 'sun dried tomatoes', 'boxes', 'string cheese', 'punch', 'waffles', 'crab', 'pasta salad', 'cereal', 'grapes', 'nectarines', 'pears', 'cashews', 'tea', 'pudding', 'coconut cream', 'coconut water', 'cocktail', 'walnuts', 'dough', 'roasted red peppers', 'whole wheat bread', 'thyme', 'mayonnaise', 'berries', 'coleslaw', 'tomato paste', 'oregano', 'canola oil', 'mung bean', 'ghee', 'avocado oil', 'almond oil', 'grapeseed oil', 'spelt', 'coconut milk', 'pure vanilla extract', 'butter flavor', 'olives', 'salsa', 'puff pastry', 'biscuits', 'orange juice', 'vegetable soup', 'garam masala', 'eggplant', 'pine nuts', 'coconut oil', 'quail'] \n",
      "\n",
      "\n",
      "[[31 13]\n",
      " [ 5 34]]\n",
      "              precision    recall  f1-score   support\n",
      "\n",
      "           1       0.86      0.70      0.78        44\n",
      "           0       0.72      0.87      0.79        39\n",
      "\n",
      "    accuracy                           0.78        83\n",
      "   macro avg       0.79      0.79      0.78        83\n",
      "weighted avg       0.80      0.78      0.78        83\n",
      "\n",
      "Total keywords:  265\n",
      "Total Tweets:  518\n",
      "List of Keywords:\n",
      "\n",
      " ['cheese', 'chicken', 'milk', 'butter', 'juice', 'cream', 'fruit', 'rice', 'water', 'garlic', 'bread', 'sugar', 'salt', 'chocolate', 'fish', 'yogurt', 'almond milk', 'greens', 'granola', 'nuts', 'chia seeds', 'whole', 'onions', 'apples', 'peanut butter', 'peaches', 'squash', 'soda', 'flour', 'garlic powder', 'buttermilk', 'potatoes', 'carrots', 'cottage cheese', 'sour cream', 'turkey', 'beans', 'cream cheese', 'bagel', 'pretzels', 'celery', 'white wine', 'fruit cocktail', 'crackers', 'whipped cream', 'margarine', 'ice cream', 'pineapple', 'whipped topping', 'mango', 'sausage', 'pork', 'onion powder', 'dried', 'parsley', 'eggs', 'beef', 'vegetables', 'rotisserie chicken', 'hot dogs', 'dips', 'meats', 'tuna', 'frozen entrees', 'soup', 'bacon', 'pasta', 'pizza', 'fried chicken', 'potato chips', 'cut', 'lean fish', 'cauliflower', 'cooked fish', 'honey', 'stuffed', 'dates', 'scallops', 'yuzu', 'shrimp', 'corn syrup', 'baking soda', 'molasses', 'yeast', 'cornmeal', 'vinegar', 'worcestershire sauce', 'mushrooms', 'broth', 'peppers', 'gravy', 'oats', 'guava', 'coconut', 'cake', 'lemon juice', 'strawberries', 'cheesecake', 'chicken nuggets', 'cinnamon', 'muffin', 'danish', 'pies', 'tomato sauce', 'apple juice', 'pickles', 'coffee', 'goat', 'baking powder', 'sesame seeds', 'pancakes', 'raspberries', 'cornstarch', 'hot sauce', 'grits', 'chives', 'tamarind paste', 'lime juice', 'tomatoes', 'cumin', 'chili powder', 'black pepper', 'pie crust', 'cooked rice', 'patties', 'nutmeg', 'peas', 'refried beans', 'bananas', 'okra', 'cabbage', 'syrup', 'juice concentrates', 'ketchup', 'basil', 'lentils', 'fruits', 'pesto', 'soy milk', 'hoisin sauce', 'sesame oil', 'chili sauce', 'peanuts', 'ham', 'mustard', 'bacon bits', 'chutney', 'sun dried tomatoes', 'boxes', 'string cheese', 'punch', 'waffles', 'crab', 'pasta salad', 'cereal', 'grapes', 'nectarines', 'pears', 'cashews', 'tea', 'pudding', 'coconut cream', 'coconut water', 'cocktail', 'walnuts', 'dough', 'roasted red peppers', 'whole wheat bread', 'thyme', 'mayonnaise', 'berries', 'coleslaw', 'tomato paste', 'oregano', 'canola oil', 'mung bean', 'ghee', 'avocado oil', 'almond oil', 'grapeseed oil', 'spelt', 'coconut milk', 'pure vanilla extract', 'butter flavor', 'olives', 'salsa', 'puff pastry', 'biscuits', 'orange juice', 'vegetable soup', 'garam masala', 'eggplant', 'pine nuts', 'coconut oil', 'quail', 'capers', 'apple cider vinegar', 'kefir', 'ricotta', 'cookie dough', 'base', 'corned beef', 'rye', 'meat products', 'cornish hens', 'fatty fish', 'miso', 'whole wheat flour', 'herbs', 'chicken salad', 'stews', 'leftovers', 'cream pies', 'quiche', 'asparagus', 'cilantro', 'sugar substitutes', 'cookies', 'potato salad', 'brussels sprouts', 'cherry tomatoes', 'taro', 'lamb', 'chocolate syrup', 'pectin', 'tortillas', 'nectar', 'rice milk', 'coconuts', 'turkey bacon', 'black bean sauce', 'tofu', 'oyster sauce', 'rosemary', 'papaya', 'powdered milk', 'popcorn', 'almond butter', 'cashew butter', 'hummus', 'lettuce', 'avocados', 'cantaloupe', 'canadian bacon', 'almonds', 'almond extract', 'pecans', 'apple cider', 'mint', 'carrot juice', 'beets', 'cranberry sauce', 'pate', 'buckwheat', 'seafood', 'prosciutto', 'cheese curds', 'bratwurst', 'coconut flour', 'kale', 'zucchini', 'cherries', 'polenta', 'aioli', 'anchovies'] \n",
      "\n",
      "\n",
      "~~~~~~~~~~~~~~~~~3~~~~~~~~~~~~~~~~~\n"
     ]
    },
    {
     "name": "stdout",
     "output_type": "stream",
     "text": [
      "Model loaded...\n"
     ]
    },
    {
     "name": "stderr",
     "output_type": "stream",
     "text": [
      " 30%|███       | 826/2744 [00:00<00:00, 2886.91it/s]"
     ]
    },
    {
     "name": "stdout",
     "output_type": "stream",
     "text": [
      "Skipping entity\n",
      "Skipping entity\n",
      "Skipping entity\n",
      "Skipping entity\n",
      "Skipping entity\n",
      "Skipping entity\n",
      "Skipping entity\n",
      "Skipping entity\n",
      "Skipping entity\n",
      "Skipping entity\n",
      "Skipping entity\n",
      "Skipping entity\n",
      "Skipping entity\n",
      "Skipping entity\n",
      "Skipping entity\n",
      "Skipping entity\n",
      "Skipping entity\n",
      "Skipping entity\n",
      "Skipping entity\n",
      "Skipping entity\n",
      "Skipping entity\n",
      "Skipping entity\n",
      "Skipping entity\n",
      "Skipping entity\n",
      "Skipping entity\n",
      "Skipping entity\n",
      "Skipping entity\n",
      "Skipping entity\n",
      "Skipping entity\n",
      "Skipping entity\n",
      "Skipping entity\n",
      "Skipping entity\n",
      "Skipping entity\n",
      "Skipping entity\n"
     ]
    },
    {
     "name": "stderr",
     "output_type": "stream",
     "text": [
      " 58%|█████▊    | 1578/2744 [00:00<00:00, 3438.99it/s]"
     ]
    },
    {
     "name": "stdout",
     "output_type": "stream",
     "text": [
      "Skipping entity\n",
      "Skipping entity\n",
      "Skipping entity\n",
      "Skipping entity\n",
      "Skipping entity\n",
      "Skipping entity\n",
      "Skipping entity\n",
      "Skipping entity\n",
      "Skipping entity\n",
      "Skipping entity\n",
      "Skipping entity\n",
      "Skipping entity\n",
      "Skipping entity\n",
      "Skipping entity\n",
      "Skipping entity\n",
      "Skipping entity\n",
      "Skipping entity\n",
      "Skipping entity\n",
      "Skipping entity\n",
      "Skipping entity\n",
      "Skipping entity\n",
      "Skipping entity\n",
      "Skipping entity\n",
      "Skipping entity\n",
      "Skipping entity\n",
      "Skipping entity\n",
      "Skipping entity\n",
      "Skipping entity\n",
      "Skipping entity\n",
      "Skipping entity\n",
      "Skipping entity\n",
      "Skipping entity\n",
      "Skipping entity\n",
      "Skipping entity\n",
      "Skipping entity\n",
      "Skipping entity\n",
      "Skipping entity\n",
      "Skipping entity\n",
      "Skipping entity\n",
      "Skipping entity\n",
      "Skipping entity\n",
      "Skipping entity\n",
      "Skipping entity\n",
      "Skipping entity\n",
      "Skipping entity\n",
      "Skipping entity\n",
      "Skipping entity\n"
     ]
    },
    {
     "name": "stderr",
     "output_type": "stream",
     "text": [
      "100%|██████████| 2744/2744 [00:00<00:00, 3439.06it/s]"
     ]
    },
    {
     "name": "stdout",
     "output_type": "stream",
     "text": [
      "Skipping entity\n",
      "Skipping entity\n",
      "Skipping entity\n",
      "Skipping entity\n",
      "Skipping entity\n",
      "Skipping entity\n",
      "Skipping entity\n",
      "Skipping entity\n",
      "Skipping entity\n",
      "Skipping entity\n",
      "Skipping entity\n",
      "Skipping entity\n",
      "Skipping entity\n",
      "Skipping entity\n",
      "Skipping entity\n",
      "Skipping entity\n",
      "Skipping entity\n",
      "Skipping entity\n",
      "Skipping entity\n",
      "Skipping entity\n",
      "Skipping entity\n",
      "Skipping entity\n",
      "Skipping entity\n",
      "Skipping entity\n",
      "Skipping entity\n",
      "Skipping entity\n",
      "Skipping entity\n",
      "Skipping entity\n",
      "Skipping entity\n",
      "Skipping entity\n",
      "Skipping entity\n",
      "Skipping entity\n",
      "Skipping entity\n",
      "Skipping entity\n"
     ]
    },
    {
     "name": "stderr",
     "output_type": "stream",
     "text": [
      "\n"
     ]
    },
    {
     "name": "stdout",
     "output_type": "stream",
     "text": [
      "[i] Saving to output directory: output\n",
      "[i] Using CPU\n",
      "\u001b[1m\n",
      "=========================== Initializing pipeline ===========================\u001b[0m\n",
      "[+] Initialized pipeline\n",
      "\u001b[1m\n",
      "============================= Training pipeline =============================\u001b[0m\n",
      "[i] Pipeline: ['tok2vec', 'ner']\n",
      "[i] Initial learn rate: 0.001\n",
      "E    #       LOSS TOK2VEC  LOSS NER  ENTS_F  ENTS_P  ENTS_R  SCORE \n",
      "---  ------  ------------  --------  ------  ------  ------  ------\n",
      "  0       0          0.00     34.67    0.00    0.00    0.00    0.00\n",
      "  0     200        102.49   2750.94   81.29   77.19   85.85    0.81\n",
      "  0     400         84.81   1423.44   88.06   83.17   93.56    0.88\n",
      "  0     600        382.26   1575.91   89.53   84.25   95.51    0.90\n",
      "  0     800        136.07   1655.54   90.56   85.64   96.06    0.91\n",
      "  1    1000        103.65   1654.97   92.58   91.29   93.90    0.93\n",
      "  1    1200        128.91   1860.53   93.78   90.64   97.15    0.94\n",
      "  2    1400        193.36   1805.47   95.54   93.76   97.39    0.96\n",
      "  3    1600        256.33   1848.00   96.25   95.26   97.26    0.96\n",
      "  4    1800        291.49   1850.97   97.86   96.81   98.94    0.98\n",
      "  5    2000        351.50   1693.89   98.48   97.92   99.04    0.98\n",
      "  6    2200        944.94   1683.39   98.94   98.30   99.58    0.99\n",
      "  8    2400        606.12   1383.60   99.22   99.18   99.26    0.99\n",
      " 10    2600        608.95   1190.43   99.34   98.94   99.75    0.99\n",
      " 12    2800        500.87   1004.17   99.68   99.62   99.73    1.00\n",
      " 14    3000        592.08    855.89   99.73   99.74   99.72    1.00\n",
      " 15    3200        631.48    813.11   99.74   99.60   99.88    1.00\n",
      " 17    3400        541.08    678.35   99.73   99.75   99.71    1.00\n",
      " 19    3600        586.33    659.78   99.58   99.50   99.67    1.00\n",
      " 21    3800        564.78    562.17   99.70   99.73   99.67    1.00\n",
      " 23    4000        553.27    584.18   99.70   99.81   99.59    1.00\n",
      " 24    4200        538.91    579.37   99.81   99.90   99.72    1.00\n",
      " 26    4400        680.66    525.37   99.86   99.85   99.86    1.00\n",
      " 28    4600        681.90    524.57   99.84   99.80   99.88    1.00\n",
      " 30    4800        696.16    489.41   99.82   99.75   99.88    1.00\n",
      " 32    5000        627.45    441.95   99.83   99.87   99.79    1.00\n",
      " 33    5200        635.29    478.80   99.81   99.75   99.87    1.00\n",
      " 35    5400        575.52    455.70   99.83   99.86   99.81    1.00\n",
      " 37    5600        586.07    393.63   99.88   99.90   99.86    1.00\n",
      " 39    5800        636.69    399.11   99.89   99.91   99.87    1.00\n",
      " 41    6000        691.82    363.02   99.86   99.79   99.94    1.00\n",
      " 42    6200        681.29    434.91   99.85   99.77   99.93    1.00\n",
      " 44    6400        664.19    336.51   99.80   99.79   99.82    1.00\n",
      " 46    6600        946.15    360.44   99.86   99.79   99.93    1.00\n",
      " 48    6800        775.31    357.26   99.86   99.82   99.90    1.00\n",
      " 50    7000        730.10    307.16   99.90   99.85   99.96    1.00\n",
      " 51    7200        807.06    330.63   99.89   99.91   99.86    1.00\n",
      " 53    7400       1019.88    309.68   99.88   99.85   99.91    1.00\n",
      " 55    7600        721.20    291.71   99.89   99.86   99.93    1.00\n",
      " 57    7800        880.74    312.50   99.85   99.80   99.89    1.00\n",
      " 59    8000       1033.59    323.61   99.88   99.82   99.95    1.00\n",
      " 60    8200        776.55    273.17   99.91   99.87   99.95    1.00\n",
      " 62    8400        994.70    300.39   99.90   99.88   99.91    1.00\n",
      " 64    8600        911.72    303.16   99.88   99.91   99.85    1.00\n",
      " 66    8800        890.01    279.02   99.90   99.91   99.88    1.00\n",
      " 68    9000        877.89    246.35   99.89   99.84   99.95    1.00\n",
      " 69    9200       1145.71    278.77   99.89   99.90   99.87    1.00\n",
      " 71    9400       1173.51    249.48   99.87   99.80   99.93    1.00\n",
      " 73    9600       1054.65    234.10   99.87   99.82   99.92    1.00\n",
      " 75    9800       1064.21    266.42   99.87   99.82   99.93    1.00\n",
      "[+] Saved pipeline to output directory\n",
      "output\\model-last\n",
      "\n",
      "Total keywords:  265\n",
      "List of Keywords:\n",
      "\n",
      " ['cheese', 'chicken', 'milk', 'butter', 'juice', 'cream', 'fruit', 'rice', 'water', 'garlic', 'bread', 'sugar', 'salt', 'chocolate', 'fish', 'yogurt', 'almond milk', 'greens', 'granola', 'nuts', 'chia seeds', 'whole', 'onions', 'apples', 'peanut butter', 'peaches', 'squash', 'soda', 'flour', 'garlic powder', 'buttermilk', 'potatoes', 'carrots', 'cottage cheese', 'sour cream', 'turkey', 'beans', 'cream cheese', 'bagel', 'pretzels', 'celery', 'white wine', 'fruit cocktail', 'crackers', 'whipped cream', 'margarine', 'ice cream', 'pineapple', 'whipped topping', 'mango', 'sausage', 'pork', 'onion powder', 'dried', 'parsley', 'eggs', 'beef', 'vegetables', 'rotisserie chicken', 'hot dogs', 'dips', 'meats', 'tuna', 'frozen entrees', 'soup', 'bacon', 'pasta', 'pizza', 'fried chicken', 'potato chips', 'cut', 'lean fish', 'cauliflower', 'cooked fish', 'honey', 'stuffed', 'dates', 'scallops', 'yuzu', 'shrimp', 'corn syrup', 'baking soda', 'molasses', 'yeast', 'cornmeal', 'vinegar', 'worcestershire sauce', 'mushrooms', 'broth', 'peppers', 'gravy', 'oats', 'guava', 'coconut', 'cake', 'lemon juice', 'strawberries', 'cheesecake', 'chicken nuggets', 'cinnamon', 'muffin', 'danish', 'pies', 'tomato sauce', 'apple juice', 'pickles', 'coffee', 'goat', 'baking powder', 'sesame seeds', 'pancakes', 'raspberries', 'cornstarch', 'hot sauce', 'grits', 'chives', 'tamarind paste', 'lime juice', 'tomatoes', 'cumin', 'chili powder', 'black pepper', 'pie crust', 'cooked rice', 'patties', 'nutmeg', 'peas', 'refried beans', 'bananas', 'okra', 'cabbage', 'syrup', 'juice concentrates', 'ketchup', 'basil', 'lentils', 'fruits', 'pesto', 'soy milk', 'hoisin sauce', 'sesame oil', 'chili sauce', 'peanuts', 'ham', 'mustard', 'bacon bits', 'chutney', 'sun dried tomatoes', 'boxes', 'string cheese', 'punch', 'waffles', 'crab', 'pasta salad', 'cereal', 'grapes', 'nectarines', 'pears', 'cashews', 'tea', 'pudding', 'coconut cream', 'coconut water', 'cocktail', 'walnuts', 'dough', 'roasted red peppers', 'whole wheat bread', 'thyme', 'mayonnaise', 'berries', 'coleslaw', 'tomato paste', 'oregano', 'canola oil', 'mung bean', 'ghee', 'avocado oil', 'almond oil', 'grapeseed oil', 'spelt', 'coconut milk', 'pure vanilla extract', 'butter flavor', 'olives', 'salsa', 'puff pastry', 'biscuits', 'orange juice', 'vegetable soup', 'garam masala', 'eggplant', 'pine nuts', 'coconut oil', 'quail', 'capers', 'apple cider vinegar', 'kefir', 'ricotta', 'cookie dough', 'base', 'corned beef', 'rye', 'meat products', 'cornish hens', 'fatty fish', 'miso', 'whole wheat flour', 'herbs', 'chicken salad', 'stews', 'leftovers', 'cream pies', 'quiche', 'asparagus', 'cilantro', 'sugar substitutes', 'cookies', 'potato salad', 'brussels sprouts', 'cherry tomatoes', 'taro', 'lamb', 'chocolate syrup', 'pectin', 'tortillas', 'nectar', 'rice milk', 'coconuts', 'turkey bacon', 'black bean sauce', 'tofu', 'oyster sauce', 'rosemary', 'papaya', 'powdered milk', 'popcorn', 'almond butter', 'cashew butter', 'hummus', 'lettuce', 'avocados', 'cantaloupe', 'canadian bacon', 'almonds', 'almond extract', 'pecans', 'apple cider', 'mint', 'carrot juice', 'beets', 'cranberry sauce', 'pate', 'buckwheat', 'seafood', 'prosciutto', 'cheese curds', 'bratwurst', 'coconut flour', 'kale', 'zucchini', 'cherries', 'polenta', 'aioli', 'anchovies'] \n",
      "\n",
      "\n",
      "[[35  9]\n",
      " [ 4 35]]\n",
      "              precision    recall  f1-score   support\n",
      "\n",
      "           1       0.90      0.80      0.84        44\n",
      "           0       0.80      0.90      0.84        39\n",
      "\n",
      "    accuracy                           0.84        83\n",
      "   macro avg       0.85      0.85      0.84        83\n",
      "weighted avg       0.85      0.84      0.84        83\n",
      "\n",
      "Total keywords:  391\n",
      "Total Tweets:  2744\n",
      "List of Keywords:\n",
      "\n",
      " ['cheese', 'chicken', 'milk', 'butter', 'juice', 'cream', 'fruit', 'rice', 'water', 'garlic', 'bread', 'sugar', 'salt', 'chocolate', 'fish', 'yogurt', 'almond milk', 'greens', 'granola', 'nuts', 'chia seeds', 'whole', 'onions', 'apples', 'peanut butter', 'peaches', 'squash', 'soda', 'flour', 'garlic powder', 'buttermilk', 'potatoes', 'carrots', 'cottage cheese', 'sour cream', 'turkey', 'beans', 'cream cheese', 'bagel', 'pretzels', 'celery', 'white wine', 'fruit cocktail', 'crackers', 'whipped cream', 'margarine', 'ice cream', 'pineapple', 'whipped topping', 'mango', 'sausage', 'pork', 'onion powder', 'dried', 'parsley', 'eggs', 'beef', 'vegetables', 'rotisserie chicken', 'hot dogs', 'dips', 'meats', 'tuna', 'frozen entrees', 'soup', 'bacon', 'pasta', 'pizza', 'fried chicken', 'potato chips', 'cut', 'lean fish', 'cauliflower', 'cooked fish', 'honey', 'stuffed', 'dates', 'scallops', 'yuzu', 'shrimp', 'corn syrup', 'baking soda', 'molasses', 'yeast', 'cornmeal', 'vinegar', 'worcestershire sauce', 'mushrooms', 'broth', 'peppers', 'gravy', 'oats', 'guava', 'coconut', 'cake', 'lemon juice', 'strawberries', 'cheesecake', 'chicken nuggets', 'cinnamon', 'muffin', 'danish', 'pies', 'tomato sauce', 'apple juice', 'pickles', 'coffee', 'goat', 'baking powder', 'sesame seeds', 'pancakes', 'raspberries', 'cornstarch', 'hot sauce', 'grits', 'chives', 'tamarind paste', 'lime juice', 'tomatoes', 'cumin', 'chili powder', 'black pepper', 'pie crust', 'cooked rice', 'patties', 'nutmeg', 'peas', 'refried beans', 'bananas', 'okra', 'cabbage', 'syrup', 'juice concentrates', 'ketchup', 'basil', 'lentils', 'fruits', 'pesto', 'soy milk', 'hoisin sauce', 'sesame oil', 'chili sauce', 'peanuts', 'ham', 'mustard', 'bacon bits', 'chutney', 'sun dried tomatoes', 'boxes', 'string cheese', 'punch', 'waffles', 'crab', 'pasta salad', 'cereal', 'grapes', 'nectarines', 'pears', 'cashews', 'tea', 'pudding', 'coconut cream', 'coconut water', 'cocktail', 'walnuts', 'dough', 'roasted red peppers', 'whole wheat bread', 'thyme', 'mayonnaise', 'berries', 'coleslaw', 'tomato paste', 'oregano', 'canola oil', 'mung bean', 'ghee', 'avocado oil', 'almond oil', 'grapeseed oil', 'spelt', 'coconut milk', 'pure vanilla extract', 'butter flavor', 'olives', 'salsa', 'puff pastry', 'biscuits', 'orange juice', 'vegetable soup', 'garam masala', 'eggplant', 'pine nuts', 'coconut oil', 'quail', 'capers', 'apple cider vinegar', 'kefir', 'ricotta', 'cookie dough', 'base', 'corned beef', 'rye', 'meat products', 'cornish hens', 'fatty fish', 'miso', 'whole wheat flour', 'herbs', 'chicken salad', 'stews', 'leftovers', 'cream pies', 'quiche', 'asparagus', 'cilantro', 'sugar substitutes', 'cookies', 'potato salad', 'brussels sprouts', 'cherry tomatoes', 'taro', 'lamb', 'chocolate syrup', 'pectin', 'tortillas', 'nectar', 'rice milk', 'coconuts', 'turkey bacon', 'black bean sauce', 'tofu', 'oyster sauce', 'rosemary', 'papaya', 'powdered milk', 'popcorn', 'almond butter', 'cashew butter', 'hummus', 'lettuce', 'avocados', 'cantaloupe', 'canadian bacon', 'almonds', 'almond extract', 'pecans', 'apple cider', 'mint', 'carrot juice', 'beets', 'cranberry sauce', 'pate', 'buckwheat', 'seafood', 'prosciutto', 'cheese curds', 'bratwurst', 'coconut flour', 'kale', 'zucchini', 'cherries', 'polenta', 'aioli', 'anchovies', 'oils', 'pumpkin seeds', 'flaxseed', 'herring', 'chorizo', 'coffee creamer', 'egg dishes', 'quinoa', 'arugula', 'pistachios', 'veal', 'sausages', 'shellfish', 'leeks', 'venison', 'rabbit', 'pastrami', 'spaghetti sauce', 'jerky', 'dinners', 'goose', 'chicken parts', 'watermelon', 'capon', 'turducken', 'blueberries', 'salami', 'canned chicken', 'fruit drinks', 'red wine', 'canned goods', 'sunflower seeds', 'caviar', 'croutons', 'cucumbers', 'kimchi', 'crayfish', 'crab meat', 'crab legs', 'mussels', 'oysters', 'barley', 'soy flour', 'cooked pasta', 'farro', 'honeydew', 'star fruit', 'edamame', 'guacamole', 'balsamic vinegar', 'casseroles', 'passionfruit', 'fruit cake', 'pastries', 'marshmallows', 'fruit pies', 'brownie', 'tamarind', 'sorbet', 'duck fat', 'plums', 'apricots', 'pomegranate', 'cranberries', 'citrus fruit', 'kiwi fruit', 'plantains', 'artichokes', 'tapenade', 'bacon grease', 'parsnips', 'bamboo shoots', 'millet', 'beans and peas', 'radishes', 'rhubarb', 'almonds)', 'bok choy', 'jicama', 'swiss chard', 'melons', 'turnips', 'bean sprouts', 'kohlrabi', 'ginger root', 'lobster tails', 'tempeh', 'horseradish', 'barbecue sauce', 'marinades', 'relish', 'baby carrots', 'formula', 'nacho cheese', 'jellies', 'tahini', 'kumquats', 'bagged greens', 'egg salad', 'lemongrass', 'hot peppers', 'cinnamon rolls', 'ham salad', 'amaranth', 'pork roll', 'macadamias', 'sherbet', 'squid', 'prickly pear', 'applesauce', 'salad dressing', 'celery root', 'bison', 'preserves', 'milk solids', 'lemon extract', 'yuzu juice', 'macaroons', 'pork rinds', 'spaghetti squash', 'vegetable juice', 'doughnuts', 'radicchio', 'breadcrumbs', 'bulgur', 'pimento cheese'] \n",
      "\n",
      "\n",
      "~~~~~~~~~~~~~~~~~4~~~~~~~~~~~~~~~~~\n"
     ]
    },
    {
     "name": "stdout",
     "output_type": "stream",
     "text": [
      "Model loaded...\n"
     ]
    },
    {
     "name": "stderr",
     "output_type": "stream",
     "text": [
      " 14%|█▍        | 478/3316 [00:00<00:01, 2387.33it/s]"
     ]
    },
    {
     "name": "stdout",
     "output_type": "stream",
     "text": [
      "Skipping entity\n",
      "Skipping entity\n",
      "Skipping entity\n",
      "Skipping entity\n",
      "Skipping entity\n",
      "Skipping entity\n",
      "Skipping entity\n",
      "Skipping entity\n",
      "Skipping entity\n",
      "Skipping entity\n",
      "Skipping entity\n",
      "Skipping entity\n",
      "Skipping entity\n",
      "Skipping entity\n",
      "Skipping entity\n",
      "Skipping entity\n",
      "Skipping entity\n",
      "Skipping entity\n",
      "Skipping entity\n",
      "Skipping entity\n",
      "Skipping entity\n",
      "Skipping entity\n",
      "Skipping entity\n",
      "Skipping entity\n",
      "Skipping entity\n",
      "Skipping entity\n",
      "Skipping entity\n",
      "Skipping entity\n",
      "Skipping entity\n",
      "Skipping entity\n",
      "Skipping entity\n",
      "Skipping entity\n",
      "Skipping entity\n",
      "Skipping entity\n"
     ]
    },
    {
     "name": "stderr",
     "output_type": "stream",
     "text": [
      " 54%|█████▍    | 1800/3316 [00:00<00:00, 3230.27it/s]"
     ]
    },
    {
     "name": "stdout",
     "output_type": "stream",
     "text": [
      "Skipping entity\n",
      "Skipping entity\n",
      "Skipping entity\n",
      "Skipping entity\n",
      "Skipping entity\n",
      "Skipping entity\n",
      "Skipping entity\n",
      "Skipping entity\n",
      "Skipping entity\n",
      "Skipping entity\n",
      "Skipping entity\n",
      "Skipping entity\n",
      "Skipping entity\n",
      "Skipping entity\n",
      "Skipping entity\n",
      "Skipping entity\n",
      "Skipping entity\n",
      "Skipping entity\n",
      "Skipping entity\n",
      "Skipping entity\n",
      "Skipping entity\n",
      "Skipping entity\n",
      "Skipping entity\n",
      "Skipping entity\n",
      "Skipping entity\n",
      "Skipping entity\n",
      "Skipping entity\n",
      "Skipping entity\n",
      "Skipping entity\n",
      "Skipping entity\n",
      "Skipping entity\n",
      "Skipping entity\n",
      "Skipping entity\n",
      "Skipping entity\n"
     ]
    },
    {
     "name": "stderr",
     "output_type": "stream",
     "text": [
      " 77%|███████▋  | 2563/3316 [00:00<00:00, 3537.69it/s]"
     ]
    },
    {
     "name": "stdout",
     "output_type": "stream",
     "text": [
      "Skipping entity\n",
      "Skipping entity\n",
      "Skipping entity\n",
      "Skipping entity\n",
      "Skipping entity\n",
      "Skipping entity\n",
      "Skipping entity\n",
      "Skipping entity\n",
      "Skipping entity\n",
      "Skipping entity\n",
      "Skipping entity\n",
      "Skipping entity\n",
      "Skipping entity\n",
      "Skipping entity\n",
      "Skipping entity\n",
      "Skipping entity\n",
      "Skipping entity\n",
      "Skipping entity\n",
      "Skipping entity\n",
      "Skipping entity\n",
      "Skipping entity\n",
      "Skipping entity\n",
      "Skipping entity\n",
      "Skipping entity\n",
      "Skipping entity\n",
      "Skipping entity\n",
      "Skipping entity\n",
      "Skipping entity\n",
      "Skipping entity\n",
      "Skipping entity\n",
      "Skipping entity\n",
      "Skipping entity\n"
     ]
    },
    {
     "name": "stderr",
     "output_type": "stream",
     "text": [
      "100%|██████████| 3316/3316 [00:01<00:00, 3309.73it/s]\n"
     ]
    },
    {
     "name": "stdout",
     "output_type": "stream",
     "text": [
      "Skipping entity\n",
      "Skipping entity\n",
      "Skipping entity\n",
      "Skipping entity\n",
      "Skipping entity\n",
      "Skipping entity\n",
      "Skipping entity\n",
      "Skipping entity\n",
      "Skipping entity\n",
      "Skipping entity\n",
      "Skipping entity\n",
      "Skipping entity\n",
      "Skipping entity\n",
      "Skipping entity\n",
      "Skipping entity\n",
      "Skipping entity\n",
      "Skipping entity\n",
      "Skipping entity\n",
      "Skipping entity\n",
      "Skipping entity\n",
      "Skipping entity\n",
      "[i] Saving to output directory: output\n",
      "[i] Using CPU\n",
      "\u001b[1m\n",
      "=========================== Initializing pipeline ===========================\u001b[0m\n",
      "[+] Initialized pipeline\n",
      "\u001b[1m\n",
      "============================= Training pipeline =============================\u001b[0m\n",
      "[i] Pipeline: ['tok2vec', 'ner']\n",
      "[i] Initial learn rate: 0.001\n",
      "E    #       LOSS TOK2VEC  LOSS NER  ENTS_F  ENTS_P  ENTS_R  SCORE \n",
      "---  ------  ------------  --------  ------  ------  ------  ------\n",
      "  0       0          0.00     35.83    1.08    1.38    0.89    0.01\n",
      "  0     200         96.58   2891.40   79.21   76.17   82.49    0.79\n",
      "  0     400         88.74   1580.79   87.44   82.33   93.23    0.87\n",
      "  0     600         89.29   1584.09   89.40   84.75   94.59    0.89\n",
      "  0     800         96.91   1706.57   91.62   88.08   95.46    0.92\n",
      "  1    1000        103.55   1813.42   93.02   89.97   96.29    0.93\n",
      "  1    1200        141.66   1984.04   93.88   90.87   97.09    0.94\n",
      "  2    1400        153.28   2161.70   95.12   92.80   97.56    0.95\n",
      "  2    1600        219.01   2218.67   96.15   95.84   96.47    0.96\n",
      "  3    1800        302.33   2144.28   97.21   95.93   98.53    0.97\n",
      "  4    2000        428.75   2180.39   97.77   96.53   99.03    0.98\n",
      "  5    2200        525.48   2085.01   98.76   98.43   99.10    0.99\n",
      "  7    2400        639.31   1852.50   99.02   98.47   99.57    0.99\n",
      "  8    2600        881.73   1612.41   99.42   99.24   99.59    0.99\n",
      " 10    2800        708.63   1361.36   99.34   99.05   99.63    0.99\n",
      " 11    3000        877.51   1211.20   99.63   99.60   99.67    1.00\n",
      " 13    3200        682.32   1039.57   99.60   99.38   99.81    1.00\n",
      " 15    3400        679.35    943.78   99.69   99.61   99.77    1.00\n",
      " 16    3600        651.77    863.32   99.73   99.56   99.90    1.00\n",
      " 18    3800        642.72    833.90   99.74   99.60   99.89    1.00\n",
      " 19    4000        591.16    675.91   99.74   99.66   99.82    1.00\n",
      " 21    4200        633.96    720.55   99.81   99.82   99.80    1.00\n",
      " 22    4400        590.45    611.70   99.80   99.75   99.84    1.00\n",
      " 24    4600        941.68    624.47   99.86   99.90   99.83    1.00\n",
      " 25    4800        650.32    619.84   99.85   99.79   99.91    1.00\n",
      " 27    5000        541.47    548.24   99.80   99.63   99.96    1.00\n",
      " 28    5200        661.21    574.83   99.80   99.82   99.78    1.00\n",
      " 30    5400        672.99    505.30   99.87   99.90   99.84    1.00\n",
      " 31    5600        590.71    451.69   99.89   99.97   99.81    1.00\n",
      " 33    5800        624.13    471.23   99.86   99.88   99.84    1.00\n",
      " 34    6000        711.41    481.14   99.88   99.89   99.88    1.00\n",
      " 36    6200        715.80    433.84   99.84   99.83   99.85    1.00\n",
      " 37    6400        785.54    468.84   99.89   99.90   99.88    1.00\n",
      " 39    6600        817.75    411.50   99.89   99.84   99.94    1.00\n",
      " 40    6800       1334.01    487.73   99.88   99.85   99.90    1.00\n",
      " 42    7000        787.64    417.17   99.87   99.90   99.85    1.00\n",
      " 44    7200        755.73    450.94   99.93   99.95   99.90    1.00\n",
      " 45    7400        784.54    364.27   99.85   99.90   99.80    1.00\n",
      " 47    7600        942.92    372.28   99.85   99.74   99.95    1.00\n",
      " 48    7800       1104.83    371.96   99.91   99.90   99.91    1.00\n",
      " 50    8000        968.06    379.45   99.90   99.88   99.93    1.00\n",
      " 51    8200        862.63    336.72   99.91   99.89   99.92    1.00\n",
      " 53    8400        841.59    380.73   99.90   99.91   99.90    1.00\n",
      " 54    8600       1081.93    360.92   99.91   99.88   99.94    1.00\n",
      " 56    8800       1112.69    372.09   99.93   99.94   99.92    1.00\n",
      " 57    9000        943.20    325.60   99.93   99.93   99.93    1.00\n",
      " 59    9200       1387.75    368.88   99.92   99.93   99.92    1.00\n",
      " 60    9400       1012.77    298.09   99.91   99.89   99.94    1.00\n",
      " 62    9600        999.55    322.47   99.91   99.88   99.95    1.00\n",
      " 63    9800       1174.89    327.83   99.89   99.90   99.88    1.00\n",
      " 65   10000       1021.97    272.44   99.92   99.90   99.93    1.00\n",
      " 66   10200       1219.51    332.32   99.94   99.94   99.93    1.00\n",
      " 68   10400       1091.61    299.79   99.91   99.90   99.93    1.00\n",
      " 69   10600       1204.19    277.40   99.91   99.98   99.84    1.00\n",
      " 71   10800       1440.54    317.74   99.92   99.89   99.95    1.00\n",
      " 73   11000       1355.48    249.23   99.95   99.93   99.97    1.00\n",
      " 74   11200       1148.04    301.34   99.93   99.93   99.94    1.00\n",
      " 76   11400       1262.10    276.08   99.89   99.84   99.94    1.00\n",
      " 77   11600       1675.44    268.30   99.91   99.95   99.88    1.00\n",
      " 79   11800       1343.94    280.27   99.94   99.94   99.93    1.00\n",
      " 80   12000       1497.40    237.63   99.93   99.97   99.89    1.00\n",
      " 82   12200       1424.25    236.18   99.94   99.97   99.90    1.00\n",
      " 83   12400       1430.55    295.97   99.93   99.94   99.91    1.00\n",
      " 85   12600       1571.38    265.15   99.93   99.94   99.93    1.00\n",
      "[+] Saved pipeline to output directory\n",
      "output\\model-last\n",
      "\n",
      "Total keywords:  391\n",
      "List of Keywords:\n",
      "\n",
      " ['cheese', 'chicken', 'milk', 'butter', 'juice', 'cream', 'fruit', 'rice', 'water', 'garlic', 'bread', 'sugar', 'salt', 'chocolate', 'fish', 'yogurt', 'almond milk', 'greens', 'granola', 'nuts', 'chia seeds', 'whole', 'onions', 'apples', 'peanut butter', 'peaches', 'squash', 'soda', 'flour', 'garlic powder', 'buttermilk', 'potatoes', 'carrots', 'cottage cheese', 'sour cream', 'turkey', 'beans', 'cream cheese', 'bagel', 'pretzels', 'celery', 'white wine', 'fruit cocktail', 'crackers', 'whipped cream', 'margarine', 'ice cream', 'pineapple', 'whipped topping', 'mango', 'sausage', 'pork', 'onion powder', 'dried', 'parsley', 'eggs', 'beef', 'vegetables', 'rotisserie chicken', 'hot dogs', 'dips', 'meats', 'tuna', 'frozen entrees', 'soup', 'bacon', 'pasta', 'pizza', 'fried chicken', 'potato chips', 'cut', 'lean fish', 'cauliflower', 'cooked fish', 'honey', 'stuffed', 'dates', 'scallops', 'yuzu', 'shrimp', 'corn syrup', 'baking soda', 'molasses', 'yeast', 'cornmeal', 'vinegar', 'worcestershire sauce', 'mushrooms', 'broth', 'peppers', 'gravy', 'oats', 'guava', 'coconut', 'cake', 'lemon juice', 'strawberries', 'cheesecake', 'chicken nuggets', 'cinnamon', 'muffin', 'danish', 'pies', 'tomato sauce', 'apple juice', 'pickles', 'coffee', 'goat', 'baking powder', 'sesame seeds', 'pancakes', 'raspberries', 'cornstarch', 'hot sauce', 'grits', 'chives', 'tamarind paste', 'lime juice', 'tomatoes', 'cumin', 'chili powder', 'black pepper', 'pie crust', 'cooked rice', 'patties', 'nutmeg', 'peas', 'refried beans', 'bananas', 'okra', 'cabbage', 'syrup', 'juice concentrates', 'ketchup', 'basil', 'lentils', 'fruits', 'pesto', 'soy milk', 'hoisin sauce', 'sesame oil', 'chili sauce', 'peanuts', 'ham', 'mustard', 'bacon bits', 'chutney', 'sun dried tomatoes', 'boxes', 'string cheese', 'punch', 'waffles', 'crab', 'pasta salad', 'cereal', 'grapes', 'nectarines', 'pears', 'cashews', 'tea', 'pudding', 'coconut cream', 'coconut water', 'cocktail', 'walnuts', 'dough', 'roasted red peppers', 'whole wheat bread', 'thyme', 'mayonnaise', 'berries', 'coleslaw', 'tomato paste', 'oregano', 'canola oil', 'mung bean', 'ghee', 'avocado oil', 'almond oil', 'grapeseed oil', 'spelt', 'coconut milk', 'pure vanilla extract', 'butter flavor', 'olives', 'salsa', 'puff pastry', 'biscuits', 'orange juice', 'vegetable soup', 'garam masala', 'eggplant', 'pine nuts', 'coconut oil', 'quail', 'capers', 'apple cider vinegar', 'kefir', 'ricotta', 'cookie dough', 'base', 'corned beef', 'rye', 'meat products', 'cornish hens', 'fatty fish', 'miso', 'whole wheat flour', 'herbs', 'chicken salad', 'stews', 'leftovers', 'cream pies', 'quiche', 'asparagus', 'cilantro', 'sugar substitutes', 'cookies', 'potato salad', 'brussels sprouts', 'cherry tomatoes', 'taro', 'lamb', 'chocolate syrup', 'pectin', 'tortillas', 'nectar', 'rice milk', 'coconuts', 'turkey bacon', 'black bean sauce', 'tofu', 'oyster sauce', 'rosemary', 'papaya', 'powdered milk', 'popcorn', 'almond butter', 'cashew butter', 'hummus', 'lettuce', 'avocados', 'cantaloupe', 'canadian bacon', 'almonds', 'almond extract', 'pecans', 'apple cider', 'mint', 'carrot juice', 'beets', 'cranberry sauce', 'pate', 'buckwheat', 'seafood', 'prosciutto', 'cheese curds', 'bratwurst', 'coconut flour', 'kale', 'zucchini', 'cherries', 'polenta', 'aioli', 'anchovies', 'oils', 'pumpkin seeds', 'flaxseed', 'herring', 'chorizo', 'coffee creamer', 'egg dishes', 'quinoa', 'arugula', 'pistachios', 'veal', 'sausages', 'shellfish', 'leeks', 'venison', 'rabbit', 'pastrami', 'spaghetti sauce', 'jerky', 'dinners', 'goose', 'chicken parts', 'watermelon', 'capon', 'turducken', 'blueberries', 'salami', 'canned chicken', 'fruit drinks', 'red wine', 'canned goods', 'sunflower seeds', 'caviar', 'croutons', 'cucumbers', 'kimchi', 'crayfish', 'crab meat', 'crab legs', 'mussels', 'oysters', 'barley', 'soy flour', 'cooked pasta', 'farro', 'honeydew', 'star fruit', 'edamame', 'guacamole', 'balsamic vinegar', 'casseroles', 'passionfruit', 'fruit cake', 'pastries', 'marshmallows', 'fruit pies', 'brownie', 'tamarind', 'sorbet', 'duck fat', 'plums', 'apricots', 'pomegranate', 'cranberries', 'citrus fruit', 'kiwi fruit', 'plantains', 'artichokes', 'tapenade', 'bacon grease', 'parsnips', 'bamboo shoots', 'millet', 'beans and peas', 'radishes', 'rhubarb', 'almonds)', 'bok choy', 'jicama', 'swiss chard', 'melons', 'turnips', 'bean sprouts', 'kohlrabi', 'ginger root', 'lobster tails', 'tempeh', 'horseradish', 'barbecue sauce', 'marinades', 'relish', 'baby carrots', 'formula', 'nacho cheese', 'jellies', 'tahini', 'kumquats', 'bagged greens', 'egg salad', 'lemongrass', 'hot peppers', 'cinnamon rolls', 'ham salad', 'amaranth', 'pork roll', 'macadamias', 'sherbet', 'squid', 'prickly pear', 'applesauce', 'salad dressing', 'celery root', 'bison', 'preserves', 'milk solids', 'lemon extract', 'yuzu juice', 'macaroons', 'pork rinds', 'spaghetti squash', 'vegetable juice', 'doughnuts', 'radicchio', 'breadcrumbs', 'bulgur', 'pimento cheese'] \n",
      "\n",
      "\n"
     ]
    },
    {
     "name": "stdout",
     "output_type": "stream",
     "text": [
      "[[36  8]\n",
      " [ 7 32]]\n",
      "              precision    recall  f1-score   support\n",
      "\n",
      "           1       0.84      0.82      0.83        44\n",
      "           0       0.80      0.82      0.81        39\n",
      "\n",
      "    accuracy                           0.82        83\n",
      "   macro avg       0.82      0.82      0.82        83\n",
      "weighted avg       0.82      0.82      0.82        83\n",
      "\n",
      "Total keywords:  405\n",
      "Total Tweets:  3316\n",
      "List of Keywords:\n",
      "\n",
      " ['cheese', 'chicken', 'milk', 'butter', 'juice', 'cream', 'fruit', 'rice', 'water', 'garlic', 'bread', 'sugar', 'salt', 'chocolate', 'fish', 'yogurt', 'almond milk', 'greens', 'granola', 'nuts', 'chia seeds', 'whole', 'onions', 'apples', 'peanut butter', 'peaches', 'squash', 'soda', 'flour', 'garlic powder', 'buttermilk', 'potatoes', 'carrots', 'cottage cheese', 'sour cream', 'turkey', 'beans', 'cream cheese', 'bagel', 'pretzels', 'celery', 'white wine', 'fruit cocktail', 'crackers', 'whipped cream', 'margarine', 'ice cream', 'pineapple', 'whipped topping', 'mango', 'sausage', 'pork', 'onion powder', 'dried', 'parsley', 'eggs', 'beef', 'vegetables', 'rotisserie chicken', 'hot dogs', 'dips', 'meats', 'tuna', 'frozen entrees', 'soup', 'bacon', 'pasta', 'pizza', 'fried chicken', 'potato chips', 'cut', 'lean fish', 'cauliflower', 'cooked fish', 'honey', 'stuffed', 'dates', 'scallops', 'yuzu', 'shrimp', 'corn syrup', 'baking soda', 'molasses', 'yeast', 'cornmeal', 'vinegar', 'worcestershire sauce', 'mushrooms', 'broth', 'peppers', 'gravy', 'oats', 'guava', 'coconut', 'cake', 'lemon juice', 'strawberries', 'cheesecake', 'chicken nuggets', 'cinnamon', 'muffin', 'danish', 'pies', 'tomato sauce', 'apple juice', 'pickles', 'coffee', 'goat', 'baking powder', 'sesame seeds', 'pancakes', 'raspberries', 'cornstarch', 'hot sauce', 'grits', 'chives', 'tamarind paste', 'lime juice', 'tomatoes', 'cumin', 'chili powder', 'black pepper', 'pie crust', 'cooked rice', 'patties', 'nutmeg', 'peas', 'refried beans', 'bananas', 'okra', 'cabbage', 'syrup', 'juice concentrates', 'ketchup', 'basil', 'lentils', 'fruits', 'pesto', 'soy milk', 'hoisin sauce', 'sesame oil', 'chili sauce', 'peanuts', 'ham', 'mustard', 'bacon bits', 'chutney', 'sun dried tomatoes', 'boxes', 'string cheese', 'punch', 'waffles', 'crab', 'pasta salad', 'cereal', 'grapes', 'nectarines', 'pears', 'cashews', 'tea', 'pudding', 'coconut cream', 'coconut water', 'cocktail', 'walnuts', 'dough', 'roasted red peppers', 'whole wheat bread', 'thyme', 'mayonnaise', 'berries', 'coleslaw', 'tomato paste', 'oregano', 'canola oil', 'mung bean', 'ghee', 'avocado oil', 'almond oil', 'grapeseed oil', 'spelt', 'coconut milk', 'pure vanilla extract', 'butter flavor', 'olives', 'salsa', 'puff pastry', 'biscuits', 'orange juice', 'vegetable soup', 'garam masala', 'eggplant', 'pine nuts', 'coconut oil', 'quail', 'capers', 'apple cider vinegar', 'kefir', 'ricotta', 'cookie dough', 'base', 'corned beef', 'rye', 'meat products', 'cornish hens', 'fatty fish', 'miso', 'whole wheat flour', 'herbs', 'chicken salad', 'stews', 'leftovers', 'cream pies', 'quiche', 'asparagus', 'cilantro', 'sugar substitutes', 'cookies', 'potato salad', 'brussels sprouts', 'cherry tomatoes', 'taro', 'lamb', 'chocolate syrup', 'pectin', 'tortillas', 'nectar', 'rice milk', 'coconuts', 'turkey bacon', 'black bean sauce', 'tofu', 'oyster sauce', 'rosemary', 'papaya', 'powdered milk', 'popcorn', 'almond butter', 'cashew butter', 'hummus', 'lettuce', 'avocados', 'cantaloupe', 'canadian bacon', 'almonds', 'almond extract', 'pecans', 'apple cider', 'mint', 'carrot juice', 'beets', 'cranberry sauce', 'pate', 'buckwheat', 'seafood', 'prosciutto', 'cheese curds', 'bratwurst', 'coconut flour', 'kale', 'zucchini', 'cherries', 'polenta', 'aioli', 'anchovies', 'oils', 'pumpkin seeds', 'flaxseed', 'herring', 'chorizo', 'coffee creamer', 'egg dishes', 'quinoa', 'arugula', 'pistachios', 'veal', 'sausages', 'shellfish', 'leeks', 'venison', 'rabbit', 'pastrami', 'spaghetti sauce', 'jerky', 'dinners', 'goose', 'chicken parts', 'watermelon', 'capon', 'turducken', 'blueberries', 'salami', 'canned chicken', 'fruit drinks', 'red wine', 'canned goods', 'sunflower seeds', 'caviar', 'croutons', 'cucumbers', 'kimchi', 'crayfish', 'crab meat', 'crab legs', 'mussels', 'oysters', 'barley', 'soy flour', 'cooked pasta', 'farro', 'honeydew', 'star fruit', 'edamame', 'guacamole', 'balsamic vinegar', 'casseroles', 'passionfruit', 'fruit cake', 'pastries', 'marshmallows', 'fruit pies', 'brownie', 'tamarind', 'sorbet', 'duck fat', 'plums', 'apricots', 'pomegranate', 'cranberries', 'citrus fruit', 'kiwi fruit', 'plantains', 'artichokes', 'tapenade', 'bacon grease', 'parsnips', 'bamboo shoots', 'millet', 'beans and peas', 'radishes', 'rhubarb', 'almonds)', 'bok choy', 'jicama', 'swiss chard', 'melons', 'turnips', 'bean sprouts', 'kohlrabi', 'ginger root', 'lobster tails', 'tempeh', 'horseradish', 'barbecue sauce', 'marinades', 'relish', 'baby carrots', 'formula', 'nacho cheese', 'jellies', 'tahini', 'kumquats', 'bagged greens', 'egg salad', 'lemongrass', 'hot peppers', 'cinnamon rolls', 'ham salad', 'amaranth', 'pork roll', 'macadamias', 'sherbet', 'squid', 'prickly pear', 'applesauce', 'salad dressing', 'celery root', 'bison', 'preserves', 'milk solids', 'lemon extract', 'yuzu juice', 'macaroons', 'pork rinds', 'spaghetti squash', 'vegetable juice', 'doughnuts', 'radicchio', 'breadcrumbs', 'bulgur', 'pimento cheese', 'pheasant', 'pumpkins', 'cherimoya', 'rutabagas', 'dry egg noodles', 'jams', 'seafood salads', 'sunflower oil', 'cinnamon extract', 'coconut flavor', 'marinated vegetables', 'teff', 'fresh pasta', 'cooking wine'] \n",
      "\n",
      "\n",
      "~~~~~~~~~~~~~~~~~5~~~~~~~~~~~~~~~~~\n",
      "Model loaded...\n"
     ]
    },
    {
     "name": "stderr",
     "output_type": "stream",
     "text": [
      " 20%|█▉        | 791/4032 [00:00<00:01, 2702.57it/s]"
     ]
    },
    {
     "name": "stdout",
     "output_type": "stream",
     "text": [
      "Skipping entity\n",
      "Skipping entity\n",
      "Skipping entity\n",
      "Skipping entity\n",
      "Skipping entity\n",
      "Skipping entity\n",
      "Skipping entity\n",
      "Skipping entity\n",
      "Skipping entity\n",
      "Skipping entity\n",
      "Skipping entity\n",
      "Skipping entity\n",
      "Skipping entity\n",
      "Skipping entity\n",
      "Skipping entity\n",
      "Skipping entity\n",
      "Skipping entity\n",
      "Skipping entity\n",
      "Skipping entity\n",
      "Skipping entity\n",
      "Skipping entity\n",
      "Skipping entity\n",
      "Skipping entity\n",
      "Skipping entity\n",
      "Skipping entity\n",
      "Skipping entity\n",
      "Skipping entity\n",
      "Skipping entity\n",
      "Skipping entity\n",
      "Skipping entity\n"
     ]
    },
    {
     "name": "stderr",
     "output_type": "stream",
     "text": [
      " 37%|███▋      | 1497/4032 [00:00<00:00, 3194.21it/s]"
     ]
    },
    {
     "name": "stdout",
     "output_type": "stream",
     "text": [
      "Skipping entity\n",
      "Skipping entity\n",
      "Skipping entity\n",
      "Skipping entity\n",
      "Skipping entity\n",
      "Skipping entity\n",
      "Skipping entity\n",
      "Skipping entity\n",
      "Skipping entity\n",
      "Skipping entity\n",
      "Skipping entity\n",
      "Skipping entity\n",
      "Skipping entity\n",
      "Skipping entity\n",
      "Skipping entity\n",
      "Skipping entity\n",
      "Skipping entity\n",
      "Skipping entity\n",
      "Skipping entity\n",
      "Skipping entity\n",
      "Skipping entity\n",
      "Skipping entity\n",
      "Skipping entity\n",
      "Skipping entity\n",
      "Skipping entity\n",
      "Skipping entity\n",
      "Skipping entity\n",
      "Skipping entity\n",
      "Skipping entity\n",
      "Skipping entity\n",
      "Skipping entity\n",
      "Skipping entity\n",
      "Skipping entity\n"
     ]
    },
    {
     "name": "stderr",
     "output_type": "stream",
     "text": [
      " 65%|██████▌   | 2634/4032 [00:00<00:00, 3610.17it/s]"
     ]
    },
    {
     "name": "stdout",
     "output_type": "stream",
     "text": [
      "Skipping entity\n",
      "Skipping entity\n",
      "Skipping entity\n",
      "Skipping entity\n",
      "Skipping entity\n",
      "Skipping entity\n",
      "Skipping entity\n",
      "Skipping entity\n",
      "Skipping entity\n",
      "Skipping entity\n",
      "Skipping entity\n",
      "Skipping entity\n",
      "Skipping entity\n",
      "Skipping entity\n",
      "Skipping entity\n",
      "Skipping entity\n",
      "Skipping entity\n",
      "Skipping entity\n",
      "Skipping entity\n",
      "Skipping entity\n",
      "Skipping entity\n",
      "Skipping entity\n",
      "Skipping entity\n",
      "Skipping entity\n",
      "Skipping entity\n"
     ]
    },
    {
     "name": "stderr",
     "output_type": "stream",
     "text": [
      " 94%|█████████▍| 3783/4032 [00:01<00:00, 3646.93it/s]"
     ]
    },
    {
     "name": "stdout",
     "output_type": "stream",
     "text": [
      "Skipping entity\n",
      "Skipping entity\n",
      "Skipping entity\n",
      "Skipping entity\n",
      "Skipping entity\n",
      "Skipping entity\n",
      "Skipping entity\n",
      "Skipping entity\n",
      "Skipping entity\n",
      "Skipping entity\n",
      "Skipping entity\n",
      "Skipping entity\n",
      "Skipping entity\n",
      "Skipping entity\n",
      "Skipping entity\n",
      "Skipping entity\n",
      "Skipping entity\n",
      "Skipping entity\n",
      "Skipping entity\n",
      "Skipping entity\n",
      "Skipping entity\n",
      "Skipping entity\n",
      "Skipping entity\n",
      "Skipping entity\n",
      "Skipping entity\n",
      "Skipping entity\n",
      "Skipping entity\n",
      "Skipping entity\n",
      "Skipping entity\n",
      "Skipping entity\n",
      "Skipping entity\n",
      "Skipping entity\n",
      "Skipping entity\n",
      "Skipping entity\n",
      "Skipping entity\n",
      "Skipping entity\n",
      "Skipping entity\n",
      "Skipping entity\n",
      "Skipping entity\n",
      "Skipping entity\n",
      "Skipping entity\n"
     ]
    },
    {
     "name": "stderr",
     "output_type": "stream",
     "text": [
      "100%|██████████| 4032/4032 [00:01<00:00, 3424.94it/s]\n"
     ]
    },
    {
     "name": "stdout",
     "output_type": "stream",
     "text": [
      "Skipping entity\n",
      "Skipping entity\n",
      "Skipping entity\n",
      "Skipping entity\n",
      "Skipping entity\n",
      "Skipping entity\n",
      "Skipping entity\n",
      "Skipping entity\n",
      "Skipping entity\n",
      "Skipping entity\n",
      "Skipping entity\n",
      "Skipping entity\n",
      "[i] Saving to output directory: output\n",
      "[i] Using CPU\n",
      "\u001b[1m\n",
      "=========================== Initializing pipeline ===========================\u001b[0m\n",
      "[+] Initialized pipeline\n",
      "\u001b[1m\n",
      "============================= Training pipeline =============================\u001b[0m\n",
      "[i] Pipeline: ['tok2vec', 'ner']\n",
      "[i] Initial learn rate: 0.001\n",
      "E    #       LOSS TOK2VEC  LOSS NER  ENTS_F  ENTS_P  ENTS_R  SCORE \n",
      "---  ------  ------------  --------  ------  ------  ------  ------\n",
      "  0       0          0.00     39.83    0.84    1.16    0.66    0.01\n",
      "  0     200         90.86   2784.90   82.06   80.77   83.39    0.82\n",
      "  0     400         88.44   1449.56   87.51   84.44   90.81    0.88\n",
      "  0     600         79.83   1527.40   89.91   85.83   94.40    0.90\n",
      "  0     800         89.44   1680.04   90.56   86.07   95.55    0.91\n",
      "  0    1000        109.11   1883.82   92.35   88.24   96.85    0.92\n",
      "  1    1200        139.12   1974.01   92.67   91.62   93.74    0.93\n",
      "  1    1400        171.13   2194.39   94.51   91.19   98.07    0.95\n",
      "  2    1600        218.68   2271.70   95.22   92.48   98.13    0.95\n",
      "  3    1800        269.04   2562.97   96.32   94.61   98.10    0.96\n",
      "  3    2000        374.68   2399.82   96.97   95.21   98.79    0.97\n",
      "  4    2200        485.76   2368.81   98.03   96.62   99.47    0.98\n",
      "  6    2400        597.54   2251.66   98.29   97.00   99.62    0.98\n",
      "  7    2600        627.97   1907.98   99.09   98.59   99.58    0.99\n",
      "  8    2800        671.35   1629.68   99.28   98.83   99.73    0.99\n",
      "  9    3000        726.48   1447.82   99.49   99.44   99.54    0.99\n",
      " 11    3200        696.42   1204.88   99.48   99.39   99.57    0.99\n",
      " 12    3400        714.87   1162.45   99.46   99.09   99.83    0.99\n",
      " 13    3600        635.33   1068.07   99.67   99.60   99.74    1.00\n",
      " 15    3800        729.04    955.70   99.74   99.71   99.77    1.00\n",
      " 16    4000        697.71    843.76   99.77   99.78   99.76    1.00\n",
      " 17    4200        714.29    827.79   99.72   99.66   99.79    1.00\n",
      " 18    4400        703.06    801.45   99.82   99.82   99.81    1.00\n",
      " 20    4600        623.15    692.43   99.80   99.80   99.81    1.00\n",
      " 21    4800        659.13    656.57   99.76   99.79   99.72    1.00\n",
      " 22    5000        569.90    646.57   99.84   99.80   99.87    1.00\n",
      " 23    5200        688.88    647.39   99.84   99.81   99.86    1.00\n",
      " 25    5400        701.33    613.58   99.77   99.79   99.75    1.00\n",
      " 26    5600        608.13    551.36   99.75   99.63   99.87    1.00\n",
      " 27    5800        819.60    599.49   99.84   99.88   99.79    1.00\n",
      " 29    6000        653.64    562.26   99.84   99.81   99.87    1.00\n",
      " 30    6200        700.68    514.50   99.86   99.80   99.91    1.00\n",
      " 31    6400        729.85    510.33   99.88   99.88   99.88    1.00\n",
      " 32    6600        663.94    465.72   99.86   99.91   99.82    1.00\n",
      " 34    6800        672.25    485.91   99.87   99.82   99.92    1.00\n",
      " 35    7000        680.44    435.47   99.90   99.87   99.93    1.00\n",
      " 36    7200        704.69    400.29   99.85   99.91   99.80    1.00\n",
      " 37    7400        843.22    481.52   99.88   99.80   99.96    1.00\n",
      " 39    7600        781.27    451.06   99.89   99.90   99.89    1.00\n",
      " 40    7800        751.82    436.21   99.90   99.89   99.92    1.00\n",
      " 41    8000        752.24    403.34   99.90   99.91   99.89    1.00\n",
      " 43    8200        823.75    402.39   99.89   99.89   99.89    1.00\n",
      " 44    8400        900.06    402.61   99.90   99.90   99.90    1.00\n",
      " 45    8600        720.99    389.61   99.89   99.88   99.91    1.00\n",
      " 46    8800        930.50    396.62   99.84   99.77   99.92    1.00\n",
      " 48    9000        924.92    384.90   99.89   99.88   99.91    1.00\n",
      " 49    9200       1002.61    356.77   99.89   99.85   99.94    1.00\n",
      " 50    9400        899.51    383.25   99.87   99.86   99.88    1.00\n",
      "[+] Saved pipeline to output directory\n",
      "output\\model-last\n",
      "\n",
      "Total keywords:  405\n",
      "List of Keywords:\n",
      "\n",
      " ['cheese', 'chicken', 'milk', 'butter', 'juice', 'cream', 'fruit', 'rice', 'water', 'garlic', 'bread', 'sugar', 'salt', 'chocolate', 'fish', 'yogurt', 'almond milk', 'greens', 'granola', 'nuts', 'chia seeds', 'whole', 'onions', 'apples', 'peanut butter', 'peaches', 'squash', 'soda', 'flour', 'garlic powder', 'buttermilk', 'potatoes', 'carrots', 'cottage cheese', 'sour cream', 'turkey', 'beans', 'cream cheese', 'bagel', 'pretzels', 'celery', 'white wine', 'fruit cocktail', 'crackers', 'whipped cream', 'margarine', 'ice cream', 'pineapple', 'whipped topping', 'mango', 'sausage', 'pork', 'onion powder', 'dried', 'parsley', 'eggs', 'beef', 'vegetables', 'rotisserie chicken', 'hot dogs', 'dips', 'meats', 'tuna', 'frozen entrees', 'soup', 'bacon', 'pasta', 'pizza', 'fried chicken', 'potato chips', 'cut', 'lean fish', 'cauliflower', 'cooked fish', 'honey', 'stuffed', 'dates', 'scallops', 'yuzu', 'shrimp', 'corn syrup', 'baking soda', 'molasses', 'yeast', 'cornmeal', 'vinegar', 'worcestershire sauce', 'mushrooms', 'broth', 'peppers', 'gravy', 'oats', 'guava', 'coconut', 'cake', 'lemon juice', 'strawberries', 'cheesecake', 'chicken nuggets', 'cinnamon', 'muffin', 'danish', 'pies', 'tomato sauce', 'apple juice', 'pickles', 'coffee', 'goat', 'baking powder', 'sesame seeds', 'pancakes', 'raspberries', 'cornstarch', 'hot sauce', 'grits', 'chives', 'tamarind paste', 'lime juice', 'tomatoes', 'cumin', 'chili powder', 'black pepper', 'pie crust', 'cooked rice', 'patties', 'nutmeg', 'peas', 'refried beans', 'bananas', 'okra', 'cabbage', 'syrup', 'juice concentrates', 'ketchup', 'basil', 'lentils', 'fruits', 'pesto', 'soy milk', 'hoisin sauce', 'sesame oil', 'chili sauce', 'peanuts', 'ham', 'mustard', 'bacon bits', 'chutney', 'sun dried tomatoes', 'boxes', 'string cheese', 'punch', 'waffles', 'crab', 'pasta salad', 'cereal', 'grapes', 'nectarines', 'pears', 'cashews', 'tea', 'pudding', 'coconut cream', 'coconut water', 'cocktail', 'walnuts', 'dough', 'roasted red peppers', 'whole wheat bread', 'thyme', 'mayonnaise', 'berries', 'coleslaw', 'tomato paste', 'oregano', 'canola oil', 'mung bean', 'ghee', 'avocado oil', 'almond oil', 'grapeseed oil', 'spelt', 'coconut milk', 'pure vanilla extract', 'butter flavor', 'olives', 'salsa', 'puff pastry', 'biscuits', 'orange juice', 'vegetable soup', 'garam masala', 'eggplant', 'pine nuts', 'coconut oil', 'quail', 'capers', 'apple cider vinegar', 'kefir', 'ricotta', 'cookie dough', 'base', 'corned beef', 'rye', 'meat products', 'cornish hens', 'fatty fish', 'miso', 'whole wheat flour', 'herbs', 'chicken salad', 'stews', 'leftovers', 'cream pies', 'quiche', 'asparagus', 'cilantro', 'sugar substitutes', 'cookies', 'potato salad', 'brussels sprouts', 'cherry tomatoes', 'taro', 'lamb', 'chocolate syrup', 'pectin', 'tortillas', 'nectar', 'rice milk', 'coconuts', 'turkey bacon', 'black bean sauce', 'tofu', 'oyster sauce', 'rosemary', 'papaya', 'powdered milk', 'popcorn', 'almond butter', 'cashew butter', 'hummus', 'lettuce', 'avocados', 'cantaloupe', 'canadian bacon', 'almonds', 'almond extract', 'pecans', 'apple cider', 'mint', 'carrot juice', 'beets', 'cranberry sauce', 'pate', 'buckwheat', 'seafood', 'prosciutto', 'cheese curds', 'bratwurst', 'coconut flour', 'kale', 'zucchini', 'cherries', 'polenta', 'aioli', 'anchovies', 'oils', 'pumpkin seeds', 'flaxseed', 'herring', 'chorizo', 'coffee creamer', 'egg dishes', 'quinoa', 'arugula', 'pistachios', 'veal', 'sausages', 'shellfish', 'leeks', 'venison', 'rabbit', 'pastrami', 'spaghetti sauce', 'jerky', 'dinners', 'goose', 'chicken parts', 'watermelon', 'capon', 'turducken', 'blueberries', 'salami', 'canned chicken', 'fruit drinks', 'red wine', 'canned goods', 'sunflower seeds', 'caviar', 'croutons', 'cucumbers', 'kimchi', 'crayfish', 'crab meat', 'crab legs', 'mussels', 'oysters', 'barley', 'soy flour', 'cooked pasta', 'farro', 'honeydew', 'star fruit', 'edamame', 'guacamole', 'balsamic vinegar', 'casseroles', 'passionfruit', 'fruit cake', 'pastries', 'marshmallows', 'fruit pies', 'brownie', 'tamarind', 'sorbet', 'duck fat', 'plums', 'apricots', 'pomegranate', 'cranberries', 'citrus fruit', 'kiwi fruit', 'plantains', 'artichokes', 'tapenade', 'bacon grease', 'parsnips', 'bamboo shoots', 'millet', 'beans and peas', 'radishes', 'rhubarb', 'almonds)', 'bok choy', 'jicama', 'swiss chard', 'melons', 'turnips', 'bean sprouts', 'kohlrabi', 'ginger root', 'lobster tails', 'tempeh', 'horseradish', 'barbecue sauce', 'marinades', 'relish', 'baby carrots', 'formula', 'nacho cheese', 'jellies', 'tahini', 'kumquats', 'bagged greens', 'egg salad', 'lemongrass', 'hot peppers', 'cinnamon rolls', 'ham salad', 'amaranth', 'pork roll', 'macadamias', 'sherbet', 'squid', 'prickly pear', 'applesauce', 'salad dressing', 'celery root', 'bison', 'preserves', 'milk solids', 'lemon extract', 'yuzu juice', 'macaroons', 'pork rinds', 'spaghetti squash', 'vegetable juice', 'doughnuts', 'radicchio', 'breadcrumbs', 'bulgur', 'pimento cheese', 'pheasant', 'pumpkins', 'cherimoya', 'rutabagas', 'dry egg noodles', 'jams', 'seafood salads', 'sunflower oil', 'cinnamon extract', 'coconut flavor', 'marinated vegetables', 'teff', 'fresh pasta', 'cooking wine'] \n",
      "\n",
      "\n"
     ]
    },
    {
     "name": "stdout",
     "output_type": "stream",
     "text": [
      "[[36  8]\n",
      " [ 7 32]]\n",
      "              precision    recall  f1-score   support\n",
      "\n",
      "           1       0.84      0.82      0.83        44\n",
      "           0       0.80      0.82      0.81        39\n",
      "\n",
      "    accuracy                           0.82        83\n",
      "   macro avg       0.82      0.82      0.82        83\n",
      "weighted avg       0.82      0.82      0.82        83\n",
      "\n",
      "Total keywords:  411\n",
      "Total Tweets:  4032\n",
      "List of Keywords:\n",
      "\n",
      " ['cheese', 'chicken', 'milk', 'butter', 'juice', 'cream', 'fruit', 'rice', 'water', 'garlic', 'bread', 'sugar', 'salt', 'chocolate', 'fish', 'yogurt', 'almond milk', 'greens', 'granola', 'nuts', 'chia seeds', 'whole', 'onions', 'apples', 'peanut butter', 'peaches', 'squash', 'soda', 'flour', 'garlic powder', 'buttermilk', 'potatoes', 'carrots', 'cottage cheese', 'sour cream', 'turkey', 'beans', 'cream cheese', 'bagel', 'pretzels', 'celery', 'white wine', 'fruit cocktail', 'crackers', 'whipped cream', 'margarine', 'ice cream', 'pineapple', 'whipped topping', 'mango', 'sausage', 'pork', 'onion powder', 'dried', 'parsley', 'eggs', 'beef', 'vegetables', 'rotisserie chicken', 'hot dogs', 'dips', 'meats', 'tuna', 'frozen entrees', 'soup', 'bacon', 'pasta', 'pizza', 'fried chicken', 'potato chips', 'cut', 'lean fish', 'cauliflower', 'cooked fish', 'honey', 'stuffed', 'dates', 'scallops', 'yuzu', 'shrimp', 'corn syrup', 'baking soda', 'molasses', 'yeast', 'cornmeal', 'vinegar', 'worcestershire sauce', 'mushrooms', 'broth', 'peppers', 'gravy', 'oats', 'guava', 'coconut', 'cake', 'lemon juice', 'strawberries', 'cheesecake', 'chicken nuggets', 'cinnamon', 'muffin', 'danish', 'pies', 'tomato sauce', 'apple juice', 'pickles', 'coffee', 'goat', 'baking powder', 'sesame seeds', 'pancakes', 'raspberries', 'cornstarch', 'hot sauce', 'grits', 'chives', 'tamarind paste', 'lime juice', 'tomatoes', 'cumin', 'chili powder', 'black pepper', 'pie crust', 'cooked rice', 'patties', 'nutmeg', 'peas', 'refried beans', 'bananas', 'okra', 'cabbage', 'syrup', 'juice concentrates', 'ketchup', 'basil', 'lentils', 'fruits', 'pesto', 'soy milk', 'hoisin sauce', 'sesame oil', 'chili sauce', 'peanuts', 'ham', 'mustard', 'bacon bits', 'chutney', 'sun dried tomatoes', 'boxes', 'string cheese', 'punch', 'waffles', 'crab', 'pasta salad', 'cereal', 'grapes', 'nectarines', 'pears', 'cashews', 'tea', 'pudding', 'coconut cream', 'coconut water', 'cocktail', 'walnuts', 'dough', 'roasted red peppers', 'whole wheat bread', 'thyme', 'mayonnaise', 'berries', 'coleslaw', 'tomato paste', 'oregano', 'canola oil', 'mung bean', 'ghee', 'avocado oil', 'almond oil', 'grapeseed oil', 'spelt', 'coconut milk', 'pure vanilla extract', 'butter flavor', 'olives', 'salsa', 'puff pastry', 'biscuits', 'orange juice', 'vegetable soup', 'garam masala', 'eggplant', 'pine nuts', 'coconut oil', 'quail', 'capers', 'apple cider vinegar', 'kefir', 'ricotta', 'cookie dough', 'base', 'corned beef', 'rye', 'meat products', 'cornish hens', 'fatty fish', 'miso', 'whole wheat flour', 'herbs', 'chicken salad', 'stews', 'leftovers', 'cream pies', 'quiche', 'asparagus', 'cilantro', 'sugar substitutes', 'cookies', 'potato salad', 'brussels sprouts', 'cherry tomatoes', 'taro', 'lamb', 'chocolate syrup', 'pectin', 'tortillas', 'nectar', 'rice milk', 'coconuts', 'turkey bacon', 'black bean sauce', 'tofu', 'oyster sauce', 'rosemary', 'papaya', 'powdered milk', 'popcorn', 'almond butter', 'cashew butter', 'hummus', 'lettuce', 'avocados', 'cantaloupe', 'canadian bacon', 'almonds', 'almond extract', 'pecans', 'apple cider', 'mint', 'carrot juice', 'beets', 'cranberry sauce', 'pate', 'buckwheat', 'seafood', 'prosciutto', 'cheese curds', 'bratwurst', 'coconut flour', 'kale', 'zucchini', 'cherries', 'polenta', 'aioli', 'anchovies', 'oils', 'pumpkin seeds', 'flaxseed', 'herring', 'chorizo', 'coffee creamer', 'egg dishes', 'quinoa', 'arugula', 'pistachios', 'veal', 'sausages', 'shellfish', 'leeks', 'venison', 'rabbit', 'pastrami', 'spaghetti sauce', 'jerky', 'dinners', 'goose', 'chicken parts', 'watermelon', 'capon', 'turducken', 'blueberries', 'salami', 'canned chicken', 'fruit drinks', 'red wine', 'canned goods', 'sunflower seeds', 'caviar', 'croutons', 'cucumbers', 'kimchi', 'crayfish', 'crab meat', 'crab legs', 'mussels', 'oysters', 'barley', 'soy flour', 'cooked pasta', 'farro', 'honeydew', 'star fruit', 'edamame', 'guacamole', 'balsamic vinegar', 'casseroles', 'passionfruit', 'fruit cake', 'pastries', 'marshmallows', 'fruit pies', 'brownie', 'tamarind', 'sorbet', 'duck fat', 'plums', 'apricots', 'pomegranate', 'cranberries', 'citrus fruit', 'kiwi fruit', 'plantains', 'artichokes', 'tapenade', 'bacon grease', 'parsnips', 'bamboo shoots', 'millet', 'beans and peas', 'radishes', 'rhubarb', 'almonds)', 'bok choy', 'jicama', 'swiss chard', 'melons', 'turnips', 'bean sprouts', 'kohlrabi', 'ginger root', 'lobster tails', 'tempeh', 'horseradish', 'barbecue sauce', 'marinades', 'relish', 'baby carrots', 'formula', 'nacho cheese', 'jellies', 'tahini', 'kumquats', 'bagged greens', 'egg salad', 'lemongrass', 'hot peppers', 'cinnamon rolls', 'ham salad', 'amaranth', 'pork roll', 'macadamias', 'sherbet', 'squid', 'prickly pear', 'applesauce', 'salad dressing', 'celery root', 'bison', 'preserves', 'milk solids', 'lemon extract', 'yuzu juice', 'macaroons', 'pork rinds', 'spaghetti squash', 'vegetable juice', 'doughnuts', 'radicchio', 'breadcrumbs', 'bulgur', 'pimento cheese', 'pheasant', 'pumpkins', 'cherimoya', 'rutabagas', 'dry egg noodles', 'jams', 'seafood salads', 'sunflower oil', 'cinnamon extract', 'coconut flavor', 'marinated vegetables', 'teff', 'fresh pasta', 'cooking wine', 'gelatin', 'duckling', 'nut oils', 'shortening', 'salad dressings', 'soup mixes'] \n",
      "\n",
      "\n",
      "~~~~~~~~~~~~~~~~~6~~~~~~~~~~~~~~~~~\n",
      "Model loaded...\n"
     ]
    },
    {
     "name": "stderr",
     "output_type": "stream",
     "text": [
      " 20%|██        | 836/4079 [00:00<00:01, 2879.08it/s]"
     ]
    },
    {
     "name": "stdout",
     "output_type": "stream",
     "text": [
      "Skipping entity\n",
      "Skipping entity\n",
      "Skipping entity\n",
      "Skipping entity\n",
      "Skipping entity\n",
      "Skipping entity\n",
      "Skipping entity\n",
      "Skipping entity\n",
      "Skipping entity\n",
      "Skipping entity\n",
      "Skipping entity\n",
      "Skipping entity\n",
      "Skipping entity\n",
      "Skipping entity\n",
      "Skipping entity\n",
      "Skipping entity\n",
      "Skipping entity\n",
      "Skipping entity\n",
      "Skipping entity\n",
      "Skipping entity\n",
      "Skipping entity\n",
      "Skipping entity\n",
      "Skipping entity\n",
      "Skipping entity\n",
      "Skipping entity\n",
      "Skipping entity\n",
      "Skipping entity\n",
      "Skipping entity\n",
      "Skipping entity\n",
      "Skipping entity\n",
      "Skipping entity\n"
     ]
    },
    {
     "name": "stderr",
     "output_type": "stream",
     "text": [
      " 38%|███▊      | 1555/4079 [00:00<00:00, 3306.94it/s]"
     ]
    },
    {
     "name": "stdout",
     "output_type": "stream",
     "text": [
      "Skipping entity\n",
      "Skipping entity\n",
      "Skipping entity\n",
      "Skipping entity\n",
      "Skipping entity\n",
      "Skipping entity\n",
      "Skipping entity\n",
      "Skipping entity\n",
      "Skipping entity\n",
      "Skipping entity\n",
      "Skipping entity\n",
      "Skipping entity\n",
      "Skipping entity\n",
      "Skipping entity\n",
      "Skipping entity\n",
      "Skipping entity\n",
      "Skipping entity\n",
      "Skipping entity\n",
      "Skipping entity\n",
      "Skipping entity\n",
      "Skipping entity\n",
      "Skipping entity\n",
      "Skipping entity\n",
      "Skipping entity\n",
      "Skipping entity\n",
      "Skipping entity\n",
      "Skipping entity\n",
      "Skipping entity\n",
      "Skipping entity\n",
      "Skipping entity\n"
     ]
    },
    {
     "name": "stderr",
     "output_type": "stream",
     "text": [
      " 66%|██████▌   | 2702/4079 [00:00<00:00, 3652.45it/s]"
     ]
    },
    {
     "name": "stdout",
     "output_type": "stream",
     "text": [
      "Skipping entity\n",
      "Skipping entity\n",
      "Skipping entity\n",
      "Skipping entity\n",
      "Skipping entity\n",
      "Skipping entity\n",
      "Skipping entity\n",
      "Skipping entity\n",
      "Skipping entity\n",
      "Skipping entity\n",
      "Skipping entity\n",
      "Skipping entity\n",
      "Skipping entity\n",
      "Skipping entity\n",
      "Skipping entity\n",
      "Skipping entity\n",
      "Skipping entity\n",
      "Skipping entity\n",
      "Skipping entity\n",
      "Skipping entity\n",
      "Skipping entity\n",
      "Skipping entity\n",
      "Skipping entity\n",
      "Skipping entity\n",
      "Skipping entity\n",
      "Skipping entity\n"
     ]
    },
    {
     "name": "stderr",
     "output_type": "stream",
     "text": [
      " 85%|████████▍ | 3450/4079 [00:01<00:00, 3690.25it/s]"
     ]
    },
    {
     "name": "stdout",
     "output_type": "stream",
     "text": [
      "Skipping entity\n",
      "Skipping entity\n",
      "Skipping entity\n",
      "Skipping entity\n",
      "Skipping entity\n",
      "Skipping entity\n",
      "Skipping entity\n",
      "Skipping entity\n",
      "Skipping entity\n",
      "Skipping entity\n",
      "Skipping entity\n",
      "Skipping entity\n",
      "Skipping entity\n",
      "Skipping entity\n",
      "Skipping entity\n",
      "Skipping entity\n",
      "Skipping entity\n",
      "Skipping entity\n",
      "Skipping entity\n",
      "Skipping entity\n",
      "Skipping entity\n",
      "Skipping entity\n",
      "Skipping entity\n",
      "Skipping entity\n",
      "Skipping entity\n",
      "Skipping entity\n",
      "Skipping entity\n",
      "Skipping entity\n",
      "Skipping entity\n",
      "Skipping entity\n",
      "Skipping entity\n",
      "Skipping entity\n",
      "Skipping entity\n",
      "Skipping entity\n",
      "Skipping entity\n",
      "Skipping entity\n",
      "Skipping entity\n"
     ]
    },
    {
     "name": "stderr",
     "output_type": "stream",
     "text": [
      "100%|██████████| 4079/4079 [00:01<00:00, 3490.27it/s]\n"
     ]
    },
    {
     "name": "stdout",
     "output_type": "stream",
     "text": [
      "Skipping entity\n",
      "Skipping entity\n",
      "Skipping entity\n",
      "Skipping entity\n",
      "Skipping entity\n",
      "Skipping entity\n",
      "Skipping entity\n",
      "Skipping entity\n",
      "Skipping entity\n",
      "Skipping entity\n",
      "Skipping entity\n",
      "[i] Saving to output directory: output\n",
      "[i] Using CPU\n",
      "\u001b[1m\n",
      "=========================== Initializing pipeline ===========================\u001b[0m\n",
      "[+] Initialized pipeline\n",
      "\u001b[1m\n",
      "============================= Training pipeline =============================\u001b[0m\n",
      "[i] Pipeline: ['tok2vec', 'ner']\n",
      "[i] Initial learn rate: 0.001\n",
      "E    #       LOSS TOK2VEC  LOSS NER  ENTS_F  ENTS_P  ENTS_R  SCORE \n",
      "---  ------  ------------  --------  ------  ------  ------  ------\n",
      "  0       0          0.00     31.67    0.00    0.00    0.00    0.00\n",
      "  0     200         88.02   2994.22   80.97   78.75   83.32    0.81\n",
      "  0     400         69.54   1488.19   87.44   82.44   93.09    0.87\n",
      "  0     600         68.93   1534.19   89.17   83.77   95.31    0.89\n",
      "  0     800         83.83   1732.64   90.85   86.01   96.26    0.91\n",
      "  0    1000         94.45   1954.47   91.87   87.09   97.20    0.92\n",
      "  1    1200        125.36   1887.38   93.19   89.80   96.85    0.93\n",
      "  1    1400        145.70   2296.27   94.06   92.35   95.84    0.94\n",
      "  2    1600        192.12   2252.16   95.24   93.61   96.92    0.95\n",
      "  3    1800        250.17   2605.51   96.20   94.59   97.88    0.96\n",
      "  3    2000        383.25   2464.73   97.19   95.53   98.92    0.97\n",
      "  4    2200        449.65   2498.94   98.14   98.10   98.18    0.98\n",
      "  6    2400        578.38   2367.48   98.36   97.33   99.41    0.98\n",
      "  7    2600        601.88   1940.08   98.85   98.07   99.63    0.99\n",
      "  8    2800        648.33   1680.74   99.10   98.66   99.54    0.99\n",
      "  9    3000        643.40   1528.63   99.32   98.85   99.79    0.99\n",
      " 11    3200        649.57   1284.93   99.45   99.08   99.83    0.99\n",
      " 12    3400        654.36   1087.28   99.59   99.72   99.46    1.00\n",
      " 13    3600        671.36   1081.63   99.67   99.61   99.72    1.00\n",
      " 15    3800        615.61    980.84   99.59   99.33   99.85    1.00\n",
      " 16    4000        742.69    827.04   99.73   99.85   99.61    1.00\n",
      " 17    4200        589.99    782.48   99.61   99.35   99.87    1.00\n",
      " 18    4400        674.64    801.90   99.70   99.57   99.83    1.00\n",
      " 20    4600        628.03    783.12   99.75   99.87   99.64    1.00\n",
      " 21    4800        629.92    707.35   99.76   99.71   99.80    1.00\n",
      " 22    5000        627.33    634.40   99.86   99.85   99.86    1.00\n",
      " 23    5200        630.76    609.19   99.79   99.70   99.88    1.00\n",
      " 25    5400        638.56    605.06   99.81   99.83   99.80    1.00\n",
      " 26    5600        635.78    570.14   99.84   99.75   99.93    1.00\n",
      " 27    5800        675.10    558.12   99.88   99.90   99.87    1.00\n",
      " 29    6000        618.60    536.16   99.85   99.85   99.84    1.00\n",
      " 30    6200        614.65    495.98   99.79   99.68   99.91    1.00\n",
      " 31    6400        689.59    549.45   99.86   99.81   99.92    1.00\n",
      " 32    6600        655.99    505.80   99.84   99.78   99.89    1.00\n",
      " 34    6800        505.38    460.93   99.91   99.88   99.94    1.00\n",
      " 35    7000        599.70    453.36   99.83   99.72   99.93    1.00\n",
      " 36    7200        727.74    474.61   99.83   99.84   99.82    1.00\n",
      " 37    7400        561.52    414.80   99.89   99.85   99.94    1.00\n",
      " 39    7600        727.88    417.77   99.88   99.84   99.92    1.00\n",
      " 40    7800        819.56    390.23   99.93   99.92   99.93    1.00\n",
      " 41    8000        878.47    438.73   99.90   99.92   99.87    1.00\n",
      " 42    8200        610.26    386.97   99.92   99.89   99.94    1.00\n",
      " 44    8400        650.07    405.77   99.90   99.91   99.88    1.00\n",
      " 45    8600        950.76    413.08   99.92   99.91   99.92    1.00\n",
      " 46    8800        701.73    381.28   99.90   99.88   99.92    1.00\n",
      " 48    9000        786.42    358.93   99.90   99.94   99.85    1.00\n",
      " 49    9200        860.50    372.68   99.90   99.84   99.96    1.00\n",
      " 50    9400        718.19    363.17   99.93   99.92   99.93    1.00\n",
      "[+] Saved pipeline to output directory\n",
      "output\\model-last\n",
      "\n",
      "Total keywords:  411\n",
      "List of Keywords:\n",
      "\n",
      " ['cheese', 'chicken', 'milk', 'butter', 'juice', 'cream', 'fruit', 'rice', 'water', 'garlic', 'bread', 'sugar', 'salt', 'chocolate', 'fish', 'yogurt', 'almond milk', 'greens', 'granola', 'nuts', 'chia seeds', 'whole', 'onions', 'apples', 'peanut butter', 'peaches', 'squash', 'soda', 'flour', 'garlic powder', 'buttermilk', 'potatoes', 'carrots', 'cottage cheese', 'sour cream', 'turkey', 'beans', 'cream cheese', 'bagel', 'pretzels', 'celery', 'white wine', 'fruit cocktail', 'crackers', 'whipped cream', 'margarine', 'ice cream', 'pineapple', 'whipped topping', 'mango', 'sausage', 'pork', 'onion powder', 'dried', 'parsley', 'eggs', 'beef', 'vegetables', 'rotisserie chicken', 'hot dogs', 'dips', 'meats', 'tuna', 'frozen entrees', 'soup', 'bacon', 'pasta', 'pizza', 'fried chicken', 'potato chips', 'cut', 'lean fish', 'cauliflower', 'cooked fish', 'honey', 'stuffed', 'dates', 'scallops', 'yuzu', 'shrimp', 'corn syrup', 'baking soda', 'molasses', 'yeast', 'cornmeal', 'vinegar', 'worcestershire sauce', 'mushrooms', 'broth', 'peppers', 'gravy', 'oats', 'guava', 'coconut', 'cake', 'lemon juice', 'strawberries', 'cheesecake', 'chicken nuggets', 'cinnamon', 'muffin', 'danish', 'pies', 'tomato sauce', 'apple juice', 'pickles', 'coffee', 'goat', 'baking powder', 'sesame seeds', 'pancakes', 'raspberries', 'cornstarch', 'hot sauce', 'grits', 'chives', 'tamarind paste', 'lime juice', 'tomatoes', 'cumin', 'chili powder', 'black pepper', 'pie crust', 'cooked rice', 'patties', 'nutmeg', 'peas', 'refried beans', 'bananas', 'okra', 'cabbage', 'syrup', 'juice concentrates', 'ketchup', 'basil', 'lentils', 'fruits', 'pesto', 'soy milk', 'hoisin sauce', 'sesame oil', 'chili sauce', 'peanuts', 'ham', 'mustard', 'bacon bits', 'chutney', 'sun dried tomatoes', 'boxes', 'string cheese', 'punch', 'waffles', 'crab', 'pasta salad', 'cereal', 'grapes', 'nectarines', 'pears', 'cashews', 'tea', 'pudding', 'coconut cream', 'coconut water', 'cocktail', 'walnuts', 'dough', 'roasted red peppers', 'whole wheat bread', 'thyme', 'mayonnaise', 'berries', 'coleslaw', 'tomato paste', 'oregano', 'canola oil', 'mung bean', 'ghee', 'avocado oil', 'almond oil', 'grapeseed oil', 'spelt', 'coconut milk', 'pure vanilla extract', 'butter flavor', 'olives', 'salsa', 'puff pastry', 'biscuits', 'orange juice', 'vegetable soup', 'garam masala', 'eggplant', 'pine nuts', 'coconut oil', 'quail', 'capers', 'apple cider vinegar', 'kefir', 'ricotta', 'cookie dough', 'base', 'corned beef', 'rye', 'meat products', 'cornish hens', 'fatty fish', 'miso', 'whole wheat flour', 'herbs', 'chicken salad', 'stews', 'leftovers', 'cream pies', 'quiche', 'asparagus', 'cilantro', 'sugar substitutes', 'cookies', 'potato salad', 'brussels sprouts', 'cherry tomatoes', 'taro', 'lamb', 'chocolate syrup', 'pectin', 'tortillas', 'nectar', 'rice milk', 'coconuts', 'turkey bacon', 'black bean sauce', 'tofu', 'oyster sauce', 'rosemary', 'papaya', 'powdered milk', 'popcorn', 'almond butter', 'cashew butter', 'hummus', 'lettuce', 'avocados', 'cantaloupe', 'canadian bacon', 'almonds', 'almond extract', 'pecans', 'apple cider', 'mint', 'carrot juice', 'beets', 'cranberry sauce', 'pate', 'buckwheat', 'seafood', 'prosciutto', 'cheese curds', 'bratwurst', 'coconut flour', 'kale', 'zucchini', 'cherries', 'polenta', 'aioli', 'anchovies', 'oils', 'pumpkin seeds', 'flaxseed', 'herring', 'chorizo', 'coffee creamer', 'egg dishes', 'quinoa', 'arugula', 'pistachios', 'veal', 'sausages', 'shellfish', 'leeks', 'venison', 'rabbit', 'pastrami', 'spaghetti sauce', 'jerky', 'dinners', 'goose', 'chicken parts', 'watermelon', 'capon', 'turducken', 'blueberries', 'salami', 'canned chicken', 'fruit drinks', 'red wine', 'canned goods', 'sunflower seeds', 'caviar', 'croutons', 'cucumbers', 'kimchi', 'crayfish', 'crab meat', 'crab legs', 'mussels', 'oysters', 'barley', 'soy flour', 'cooked pasta', 'farro', 'honeydew', 'star fruit', 'edamame', 'guacamole', 'balsamic vinegar', 'casseroles', 'passionfruit', 'fruit cake', 'pastries', 'marshmallows', 'fruit pies', 'brownie', 'tamarind', 'sorbet', 'duck fat', 'plums', 'apricots', 'pomegranate', 'cranberries', 'citrus fruit', 'kiwi fruit', 'plantains', 'artichokes', 'tapenade', 'bacon grease', 'parsnips', 'bamboo shoots', 'millet', 'beans and peas', 'radishes', 'rhubarb', 'almonds)', 'bok choy', 'jicama', 'swiss chard', 'melons', 'turnips', 'bean sprouts', 'kohlrabi', 'ginger root', 'lobster tails', 'tempeh', 'horseradish', 'barbecue sauce', 'marinades', 'relish', 'baby carrots', 'formula', 'nacho cheese', 'jellies', 'tahini', 'kumquats', 'bagged greens', 'egg salad', 'lemongrass', 'hot peppers', 'cinnamon rolls', 'ham salad', 'amaranth', 'pork roll', 'macadamias', 'sherbet', 'squid', 'prickly pear', 'applesauce', 'salad dressing', 'celery root', 'bison', 'preserves', 'milk solids', 'lemon extract', 'yuzu juice', 'macaroons', 'pork rinds', 'spaghetti squash', 'vegetable juice', 'doughnuts', 'radicchio', 'breadcrumbs', 'bulgur', 'pimento cheese', 'pheasant', 'pumpkins', 'cherimoya', 'rutabagas', 'dry egg noodles', 'jams', 'seafood salads', 'sunflower oil', 'cinnamon extract', 'coconut flavor', 'marinated vegetables', 'teff', 'fresh pasta', 'cooking wine', 'gelatin', 'duckling', 'nut oils', 'shortening', 'salad dressings', 'soup mixes'] \n",
      "\n",
      "\n"
     ]
    },
    {
     "name": "stdout",
     "output_type": "stream",
     "text": [
      "Decreasing entityCheckCount variable by 1\n",
      "entityCheckCount =  2\n",
      "[[35  9]\n",
      " [ 5 34]]\n",
      "              precision    recall  f1-score   support\n",
      "\n",
      "           1       0.88      0.80      0.83        44\n",
      "           0       0.79      0.87      0.83        39\n",
      "\n",
      "    accuracy                           0.83        83\n",
      "   macro avg       0.83      0.83      0.83        83\n",
      "weighted avg       0.84      0.83      0.83        83\n",
      "\n",
      "Total keywords:  411\n",
      "Total Tweets:  4079\n",
      "List of Keywords:\n",
      "\n",
      " ['cheese', 'chicken', 'milk', 'butter', 'juice', 'cream', 'fruit', 'rice', 'water', 'garlic', 'bread', 'sugar', 'salt', 'chocolate', 'fish', 'yogurt', 'almond milk', 'greens', 'granola', 'nuts', 'chia seeds', 'whole', 'onions', 'apples', 'peanut butter', 'peaches', 'squash', 'soda', 'flour', 'garlic powder', 'buttermilk', 'potatoes', 'carrots', 'cottage cheese', 'sour cream', 'turkey', 'beans', 'cream cheese', 'bagel', 'pretzels', 'celery', 'white wine', 'fruit cocktail', 'crackers', 'whipped cream', 'margarine', 'ice cream', 'pineapple', 'whipped topping', 'mango', 'sausage', 'pork', 'onion powder', 'dried', 'parsley', 'eggs', 'beef', 'vegetables', 'rotisserie chicken', 'hot dogs', 'dips', 'meats', 'tuna', 'frozen entrees', 'soup', 'bacon', 'pasta', 'pizza', 'fried chicken', 'potato chips', 'cut', 'lean fish', 'cauliflower', 'cooked fish', 'honey', 'stuffed', 'dates', 'scallops', 'yuzu', 'shrimp', 'corn syrup', 'baking soda', 'molasses', 'yeast', 'cornmeal', 'vinegar', 'worcestershire sauce', 'mushrooms', 'broth', 'peppers', 'gravy', 'oats', 'guava', 'coconut', 'cake', 'lemon juice', 'strawberries', 'cheesecake', 'chicken nuggets', 'cinnamon', 'muffin', 'danish', 'pies', 'tomato sauce', 'apple juice', 'pickles', 'coffee', 'goat', 'baking powder', 'sesame seeds', 'pancakes', 'raspberries', 'cornstarch', 'hot sauce', 'grits', 'chives', 'tamarind paste', 'lime juice', 'tomatoes', 'cumin', 'chili powder', 'black pepper', 'pie crust', 'cooked rice', 'patties', 'nutmeg', 'peas', 'refried beans', 'bananas', 'okra', 'cabbage', 'syrup', 'juice concentrates', 'ketchup', 'basil', 'lentils', 'fruits', 'pesto', 'soy milk', 'hoisin sauce', 'sesame oil', 'chili sauce', 'peanuts', 'ham', 'mustard', 'bacon bits', 'chutney', 'sun dried tomatoes', 'boxes', 'string cheese', 'punch', 'waffles', 'crab', 'pasta salad', 'cereal', 'grapes', 'nectarines', 'pears', 'cashews', 'tea', 'pudding', 'coconut cream', 'coconut water', 'cocktail', 'walnuts', 'dough', 'roasted red peppers', 'whole wheat bread', 'thyme', 'mayonnaise', 'berries', 'coleslaw', 'tomato paste', 'oregano', 'canola oil', 'mung bean', 'ghee', 'avocado oil', 'almond oil', 'grapeseed oil', 'spelt', 'coconut milk', 'pure vanilla extract', 'butter flavor', 'olives', 'salsa', 'puff pastry', 'biscuits', 'orange juice', 'vegetable soup', 'garam masala', 'eggplant', 'pine nuts', 'coconut oil', 'quail', 'capers', 'apple cider vinegar', 'kefir', 'ricotta', 'cookie dough', 'base', 'corned beef', 'rye', 'meat products', 'cornish hens', 'fatty fish', 'miso', 'whole wheat flour', 'herbs', 'chicken salad', 'stews', 'leftovers', 'cream pies', 'quiche', 'asparagus', 'cilantro', 'sugar substitutes', 'cookies', 'potato salad', 'brussels sprouts', 'cherry tomatoes', 'taro', 'lamb', 'chocolate syrup', 'pectin', 'tortillas', 'nectar', 'rice milk', 'coconuts', 'turkey bacon', 'black bean sauce', 'tofu', 'oyster sauce', 'rosemary', 'papaya', 'powdered milk', 'popcorn', 'almond butter', 'cashew butter', 'hummus', 'lettuce', 'avocados', 'cantaloupe', 'canadian bacon', 'almonds', 'almond extract', 'pecans', 'apple cider', 'mint', 'carrot juice', 'beets', 'cranberry sauce', 'pate', 'buckwheat', 'seafood', 'prosciutto', 'cheese curds', 'bratwurst', 'coconut flour', 'kale', 'zucchini', 'cherries', 'polenta', 'aioli', 'anchovies', 'oils', 'pumpkin seeds', 'flaxseed', 'herring', 'chorizo', 'coffee creamer', 'egg dishes', 'quinoa', 'arugula', 'pistachios', 'veal', 'sausages', 'shellfish', 'leeks', 'venison', 'rabbit', 'pastrami', 'spaghetti sauce', 'jerky', 'dinners', 'goose', 'chicken parts', 'watermelon', 'capon', 'turducken', 'blueberries', 'salami', 'canned chicken', 'fruit drinks', 'red wine', 'canned goods', 'sunflower seeds', 'caviar', 'croutons', 'cucumbers', 'kimchi', 'crayfish', 'crab meat', 'crab legs', 'mussels', 'oysters', 'barley', 'soy flour', 'cooked pasta', 'farro', 'honeydew', 'star fruit', 'edamame', 'guacamole', 'balsamic vinegar', 'casseroles', 'passionfruit', 'fruit cake', 'pastries', 'marshmallows', 'fruit pies', 'brownie', 'tamarind', 'sorbet', 'duck fat', 'plums', 'apricots', 'pomegranate', 'cranberries', 'citrus fruit', 'kiwi fruit', 'plantains', 'artichokes', 'tapenade', 'bacon grease', 'parsnips', 'bamboo shoots', 'millet', 'beans and peas', 'radishes', 'rhubarb', 'almonds)', 'bok choy', 'jicama', 'swiss chard', 'melons', 'turnips', 'bean sprouts', 'kohlrabi', 'ginger root', 'lobster tails', 'tempeh', 'horseradish', 'barbecue sauce', 'marinades', 'relish', 'baby carrots', 'formula', 'nacho cheese', 'jellies', 'tahini', 'kumquats', 'bagged greens', 'egg salad', 'lemongrass', 'hot peppers', 'cinnamon rolls', 'ham salad', 'amaranth', 'pork roll', 'macadamias', 'sherbet', 'squid', 'prickly pear', 'applesauce', 'salad dressing', 'celery root', 'bison', 'preserves', 'milk solids', 'lemon extract', 'yuzu juice', 'macaroons', 'pork rinds', 'spaghetti squash', 'vegetable juice', 'doughnuts', 'radicchio', 'breadcrumbs', 'bulgur', 'pimento cheese', 'pheasant', 'pumpkins', 'cherimoya', 'rutabagas', 'dry egg noodles', 'jams', 'seafood salads', 'sunflower oil', 'cinnamon extract', 'coconut flavor', 'marinated vegetables', 'teff', 'fresh pasta', 'cooking wine', 'gelatin', 'duckling', 'nut oils', 'shortening', 'salad dressings', 'soup mixes'] \n",
      "\n",
      "\n",
      "~~~~~~~~~~~~~~~~~7~~~~~~~~~~~~~~~~~\n",
      "Model loaded...\n"
     ]
    },
    {
     "name": "stderr",
     "output_type": "stream",
     "text": [
      "  8%|▊         | 585/7258 [00:00<00:02, 2942.77it/s]"
     ]
    },
    {
     "name": "stdout",
     "output_type": "stream",
     "text": [
      "Skipping entity\n",
      "Skipping entity\n",
      "Skipping entity\n",
      "Skipping entity\n",
      "Skipping entity\n",
      "Skipping entity\n",
      "Skipping entity\n",
      "Skipping entity\n",
      "Skipping entity\n",
      "Skipping entity\n",
      "Skipping entity\n",
      "Skipping entity\n",
      "Skipping entity\n",
      "Skipping entity\n",
      "Skipping entity\n",
      "Skipping entity\n",
      "Skipping entity\n",
      "Skipping entity\n",
      "Skipping entity\n",
      "Skipping entity\n",
      "Skipping entity\n",
      "Skipping entity\n"
     ]
    },
    {
     "name": "stderr",
     "output_type": "stream",
     "text": [
      " 23%|██▎       | 1666/7258 [00:00<00:01, 3492.89it/s]"
     ]
    },
    {
     "name": "stdout",
     "output_type": "stream",
     "text": [
      "Skipping entity\n",
      "Skipping entity\n",
      "Skipping entity\n",
      "Skipping entity\n",
      "Skipping entity\n",
      "Skipping entity\n",
      "Skipping entity\n",
      "Skipping entity\n",
      "Skipping entity\n",
      "Skipping entity\n",
      "Skipping entity\n",
      "Skipping entity\n",
      "Skipping entity\n",
      "Skipping entity\n",
      "Skipping entity\n",
      "Skipping entity\n",
      "Skipping entity\n",
      "Skipping entity\n",
      "Skipping entity\n",
      "Skipping entity\n",
      "Skipping entity\n",
      "Skipping entity\n",
      "Skipping entity\n",
      "Skipping entity\n",
      "Skipping entity\n",
      "Skipping entity\n",
      "Skipping entity\n",
      "Skipping entity\n",
      "Skipping entity\n",
      "Skipping entity\n",
      "Skipping entity\n",
      "Skipping entity\n",
      "Skipping entity\n",
      "Skipping entity\n",
      "Skipping entity\n",
      "Skipping entity\n",
      "Skipping entity\n",
      "Skipping entity\n"
     ]
    },
    {
     "name": "stderr",
     "output_type": "stream",
     "text": [
      " 46%|████▋     | 3365/7258 [00:00<00:00, 4071.75it/s]"
     ]
    },
    {
     "name": "stdout",
     "output_type": "stream",
     "text": [
      "Skipping entity\n",
      "Skipping entity\n",
      "Skipping entity\n",
      "Skipping entity\n",
      "Skipping entity\n",
      "Skipping entity\n",
      "Skipping entity\n",
      "Skipping entity\n",
      "Skipping entity\n",
      "Skipping entity\n",
      "Skipping entity\n",
      "Skipping entity\n",
      "Skipping entity\n",
      "Skipping entity\n",
      "Skipping entity\n",
      "Skipping entity\n",
      "Skipping entity\n",
      "Skipping entity\n",
      "Skipping entity\n",
      "Skipping entity\n",
      "Skipping entity\n",
      "Skipping entity\n",
      "Skipping entity\n",
      "Skipping entity\n",
      "Skipping entity\n",
      "Skipping entity\n",
      "Skipping entity\n",
      "Skipping entity\n",
      "Skipping entity\n",
      "Skipping entity\n",
      "Skipping entity\n"
     ]
    },
    {
     "name": "stderr",
     "output_type": "stream",
     "text": [
      " 58%|█████▊    | 4216/7258 [00:01<00:00, 4145.46it/s]"
     ]
    },
    {
     "name": "stdout",
     "output_type": "stream",
     "text": [
      "Skipping entity\n",
      "Skipping entity\n",
      "Skipping entity\n",
      "Skipping entity\n",
      "Skipping entity\n",
      "Skipping entity\n",
      "Skipping entity\n",
      "Skipping entity\n",
      "Skipping entity\n",
      "Skipping entity\n",
      "Skipping entity\n",
      "Skipping entity\n",
      "Skipping entity\n",
      "Skipping entity\n",
      "Skipping entity\n",
      "Skipping entity\n",
      "Skipping entity\n",
      "Skipping entity\n",
      "Skipping entity\n",
      "Skipping entity\n",
      "Skipping entity\n",
      "Skipping entity\n",
      "Skipping entity\n",
      "Skipping entity\n",
      "Skipping entity\n",
      "Skipping entity\n",
      "Skipping entity\n",
      "Skipping entity\n"
     ]
    },
    {
     "name": "stderr",
     "output_type": "stream",
     "text": [
      " 76%|███████▌  | 5502/7258 [00:01<00:00, 4247.39it/s]"
     ]
    },
    {
     "name": "stdout",
     "output_type": "stream",
     "text": [
      "Skipping entity\n",
      "Skipping entity\n",
      "Skipping entity\n",
      "Skipping entity\n",
      "Skipping entity\n",
      "Skipping entity\n",
      "Skipping entity\n",
      "Skipping entity\n",
      "Skipping entity\n",
      "Skipping entity\n",
      "Skipping entity\n",
      "Skipping entity\n",
      "Skipping entity\n",
      "Skipping entity\n",
      "Skipping entity\n",
      "Skipping entity\n",
      "Skipping entity\n",
      "Skipping entity\n",
      "Skipping entity\n",
      "Skipping entity\n",
      "Skipping entity\n",
      "Skipping entity\n",
      "Skipping entity\n",
      "Skipping entity\n",
      "Skipping entity\n",
      "Skipping entity\n",
      "Skipping entity\n",
      "Skipping entity\n",
      "Skipping entity\n"
     ]
    },
    {
     "name": "stderr",
     "output_type": "stream",
     "text": [
      " 88%|████████▊ | 6422/7258 [00:01<00:00, 4416.78it/s]"
     ]
    },
    {
     "name": "stdout",
     "output_type": "stream",
     "text": [
      "Skipping entity\n",
      "Skipping entity\n",
      "Skipping entity\n",
      "Skipping entity\n",
      "Skipping entity\n",
      "Skipping entity\n",
      "Skipping entity\n",
      "Skipping entity\n",
      "Skipping entity\n",
      "Skipping entity\n",
      "Skipping entity\n",
      "Skipping entity\n",
      "Skipping entity\n",
      "Skipping entity\n",
      "Skipping entity\n",
      "Skipping entity\n",
      "Skipping entity\n",
      "Skipping entity\n",
      "Skipping entity\n",
      "Skipping entity\n",
      "Skipping entity\n",
      "Skipping entity\n",
      "Skipping entity\n",
      "Skipping entity\n",
      "Skipping entity\n",
      "Skipping entity\n",
      "Skipping entity\n",
      "Skipping entity\n",
      "Skipping entity\n",
      "Skipping entity\n",
      "Skipping entity\n",
      "Skipping entity\n",
      "Skipping entity\n",
      "Skipping entity\n",
      "Skipping entity\n",
      "Skipping entity\n",
      "Skipping entity\n",
      "Skipping entity\n",
      "Skipping entity\n",
      "Skipping entity\n"
     ]
    },
    {
     "name": "stderr",
     "output_type": "stream",
     "text": [
      "100%|██████████| 7258/7258 [00:01<00:00, 4033.57it/s]\n"
     ]
    },
    {
     "name": "stdout",
     "output_type": "stream",
     "text": [
      "Skipping entity\n",
      "Skipping entity\n",
      "Skipping entity\n",
      "Skipping entity\n",
      "Skipping entity\n",
      "Skipping entity\n",
      "Skipping entity\n",
      "Skipping entity\n",
      "Skipping entity\n",
      "Skipping entity\n",
      "Skipping entity\n",
      "Skipping entity\n",
      "[i] Saving to output directory: output\n",
      "[i] Using CPU\n",
      "\u001b[1m\n",
      "=========================== Initializing pipeline ===========================\u001b[0m\n",
      "[+] Initialized pipeline\n",
      "\u001b[1m\n",
      "============================= Training pipeline =============================\u001b[0m\n",
      "[i] Pipeline: ['tok2vec', 'ner']\n",
      "[i] Initial learn rate: 0.001\n",
      "E    #       LOSS TOK2VEC  LOSS NER  ENTS_F  ENTS_P  ENTS_R  SCORE \n",
      "---  ------  ------------  --------  ------  ------  ------  ------\n",
      "  0       0          0.00     24.50    0.00    0.00    0.00    0.00\n",
      "  0     200         68.26   2693.39   79.03   75.31   83.14    0.79\n",
      "  0     400         71.28   1406.34   83.61   80.13   87.41    0.84\n",
      "  0     600         73.93   1557.19   87.80   83.27   92.84    0.88\n",
      "  0     800         71.23   1631.62   89.71   85.09   94.85    0.90\n",
      "  0    1000         83.26   1863.94   90.39   84.51   97.14    0.90\n",
      "  0    1200         99.08   1984.69   91.43   88.40   94.67    0.91\n",
      "  1    1400        123.00   2321.33   92.69   89.32   96.32    0.93\n",
      "  1    1600        154.17   2556.89   93.51   90.12   97.17    0.94\n",
      "  1    1800        201.19   2969.40   93.89   90.69   97.32    0.94\n",
      "  2    2000        250.18   3095.07   94.90   92.97   96.92    0.95\n",
      "  2    2200        331.46   3616.65   95.68   93.39   98.09    0.96\n",
      "  3    2400        464.66   3515.79   96.40   94.28   98.63    0.96\n",
      "  4    2600        481.42   3191.14   97.01   95.59   98.47    0.97\n",
      "  5    2800        566.00   2984.66   97.36   97.53   97.19    0.97\n",
      "  6    3000        607.51   2665.05   98.08   97.05   99.12    0.98\n",
      "  6    3200        660.40   2294.43   98.24   97.89   98.60    0.98\n",
      "  7    3400        700.82   2131.18   98.59   97.85   99.34    0.99\n",
      "  8    3600        668.41   1858.94   98.61   97.79   99.44    0.99\n",
      "  9    3800        711.11   1884.27   98.83   98.74   98.92    0.99\n",
      "  9    4000        721.65   1653.85   99.15   98.88   99.43    0.99\n",
      " 10    4200        742.46   1385.99   99.04   98.47   99.61    0.99\n",
      " 11    4400        819.14   1425.83   99.14   99.17   99.11    0.99\n",
      " 12    4600        675.41   1373.47   99.28   99.03   99.54    0.99\n",
      " 12    4800        779.53   1308.71   99.44   99.15   99.73    0.99\n",
      " 13    5000        788.52   1107.19   99.45   99.18   99.72    0.99\n",
      " 14    5200        797.47   1161.97   99.54   99.39   99.69    1.00\n",
      " 15    5400        735.11   1058.67   99.61   99.53   99.69    1.00\n",
      " 16    5600        764.02   1047.20   99.58   99.62   99.54    1.00\n",
      " 16    5800        706.21    970.65   99.61   99.58   99.65    1.00\n",
      " 17    6000        776.81    928.87   99.65   99.51   99.80    1.00\n",
      " 18    6200        800.07    951.24   99.69   99.60   99.78    1.00\n",
      " 19    6400        731.54    858.45   99.57   99.42   99.72    1.00\n",
      " 19    6600        746.98    872.78   99.70   99.57   99.83    1.00\n",
      " 20    6800        738.56    760.01   99.74   99.73   99.74    1.00\n",
      " 21    7000        700.27    807.36   99.58   99.79   99.37    1.00\n",
      " 22    7200        714.72    774.54   99.70   99.67   99.73    1.00\n",
      " 22    7400        683.29    731.58   99.78   99.79   99.77    1.00\n",
      " 23    7600        719.78    687.18   99.79   99.68   99.89    1.00\n",
      " 24    7800        757.38    694.13   99.75   99.73   99.77    1.00\n",
      " 25    8000        761.28    692.81   99.74   99.61   99.86    1.00\n",
      " 26    8200        807.77    670.34   99.71   99.68   99.75    1.00\n",
      " 26    8400        746.36    668.45   99.66   99.47   99.85    1.00\n",
      " 27    8600        754.19    598.35   99.81   99.76   99.85    1.00\n",
      " 28    8800        744.69    579.27   99.80   99.72   99.89    1.00\n",
      " 29    9000        856.62    579.40   99.77   99.67   99.88    1.00\n",
      " 29    9200        832.02    599.45   99.82   99.85   99.79    1.00\n",
      " 30    9400        813.24    557.07   99.84   99.81   99.87    1.00\n",
      " 31    9600        730.74    557.60   99.82   99.73   99.90    1.00\n",
      " 32    9800        780.45    583.20   99.88   99.92   99.84    1.00\n",
      " 33   10000        864.28    544.74   99.74   99.81   99.66    1.00\n",
      " 33   10200        852.63    536.35   99.85   99.85   99.86    1.00\n",
      " 34   10400        816.68    550.33   99.82   99.87   99.76    1.00\n",
      " 35   10600        844.35    493.10   99.86   99.81   99.91    1.00\n",
      " 36   10800        827.79    491.82   99.84   99.79   99.90    1.00\n",
      " 36   11000       1213.78    515.17   99.86   99.83   99.89    1.00\n",
      " 37   11200        856.58    471.66   99.79   99.79   99.79    1.00\n",
      " 38   11400        851.08    513.32   99.84   99.84   99.84    1.00\n",
      "[+] Saved pipeline to output directory\n",
      "output\\model-last\n",
      "\n",
      "Total keywords:  411\n",
      "List of Keywords:\n",
      "\n",
      " ['cheese', 'chicken', 'milk', 'butter', 'juice', 'cream', 'fruit', 'rice', 'water', 'garlic', 'bread', 'sugar', 'salt', 'chocolate', 'fish', 'yogurt', 'almond milk', 'greens', 'granola', 'nuts', 'chia seeds', 'whole', 'onions', 'apples', 'peanut butter', 'peaches', 'squash', 'soda', 'flour', 'garlic powder', 'buttermilk', 'potatoes', 'carrots', 'cottage cheese', 'sour cream', 'turkey', 'beans', 'cream cheese', 'bagel', 'pretzels', 'celery', 'white wine', 'fruit cocktail', 'crackers', 'whipped cream', 'margarine', 'ice cream', 'pineapple', 'whipped topping', 'mango', 'sausage', 'pork', 'onion powder', 'dried', 'parsley', 'eggs', 'beef', 'vegetables', 'rotisserie chicken', 'hot dogs', 'dips', 'meats', 'tuna', 'frozen entrees', 'soup', 'bacon', 'pasta', 'pizza', 'fried chicken', 'potato chips', 'cut', 'lean fish', 'cauliflower', 'cooked fish', 'honey', 'stuffed', 'dates', 'scallops', 'yuzu', 'shrimp', 'corn syrup', 'baking soda', 'molasses', 'yeast', 'cornmeal', 'vinegar', 'worcestershire sauce', 'mushrooms', 'broth', 'peppers', 'gravy', 'oats', 'guava', 'coconut', 'cake', 'lemon juice', 'strawberries', 'cheesecake', 'chicken nuggets', 'cinnamon', 'muffin', 'danish', 'pies', 'tomato sauce', 'apple juice', 'pickles', 'coffee', 'goat', 'baking powder', 'sesame seeds', 'pancakes', 'raspberries', 'cornstarch', 'hot sauce', 'grits', 'chives', 'tamarind paste', 'lime juice', 'tomatoes', 'cumin', 'chili powder', 'black pepper', 'pie crust', 'cooked rice', 'patties', 'nutmeg', 'peas', 'refried beans', 'bananas', 'okra', 'cabbage', 'syrup', 'juice concentrates', 'ketchup', 'basil', 'lentils', 'fruits', 'pesto', 'soy milk', 'hoisin sauce', 'sesame oil', 'chili sauce', 'peanuts', 'ham', 'mustard', 'bacon bits', 'chutney', 'sun dried tomatoes', 'boxes', 'string cheese', 'punch', 'waffles', 'crab', 'pasta salad', 'cereal', 'grapes', 'nectarines', 'pears', 'cashews', 'tea', 'pudding', 'coconut cream', 'coconut water', 'cocktail', 'walnuts', 'dough', 'roasted red peppers', 'whole wheat bread', 'thyme', 'mayonnaise', 'berries', 'coleslaw', 'tomato paste', 'oregano', 'canola oil', 'mung bean', 'ghee', 'avocado oil', 'almond oil', 'grapeseed oil', 'spelt', 'coconut milk', 'pure vanilla extract', 'butter flavor', 'olives', 'salsa', 'puff pastry', 'biscuits', 'orange juice', 'vegetable soup', 'garam masala', 'eggplant', 'pine nuts', 'coconut oil', 'quail', 'capers', 'apple cider vinegar', 'kefir', 'ricotta', 'cookie dough', 'base', 'corned beef', 'rye', 'meat products', 'cornish hens', 'fatty fish', 'miso', 'whole wheat flour', 'herbs', 'chicken salad', 'stews', 'leftovers', 'cream pies', 'quiche', 'asparagus', 'cilantro', 'sugar substitutes', 'cookies', 'potato salad', 'brussels sprouts', 'cherry tomatoes', 'taro', 'lamb', 'chocolate syrup', 'pectin', 'tortillas', 'nectar', 'rice milk', 'coconuts', 'turkey bacon', 'black bean sauce', 'tofu', 'oyster sauce', 'rosemary', 'papaya', 'powdered milk', 'popcorn', 'almond butter', 'cashew butter', 'hummus', 'lettuce', 'avocados', 'cantaloupe', 'canadian bacon', 'almonds', 'almond extract', 'pecans', 'apple cider', 'mint', 'carrot juice', 'beets', 'cranberry sauce', 'pate', 'buckwheat', 'seafood', 'prosciutto', 'cheese curds', 'bratwurst', 'coconut flour', 'kale', 'zucchini', 'cherries', 'polenta', 'aioli', 'anchovies', 'oils', 'pumpkin seeds', 'flaxseed', 'herring', 'chorizo', 'coffee creamer', 'egg dishes', 'quinoa', 'arugula', 'pistachios', 'veal', 'sausages', 'shellfish', 'leeks', 'venison', 'rabbit', 'pastrami', 'spaghetti sauce', 'jerky', 'dinners', 'goose', 'chicken parts', 'watermelon', 'capon', 'turducken', 'blueberries', 'salami', 'canned chicken', 'fruit drinks', 'red wine', 'canned goods', 'sunflower seeds', 'caviar', 'croutons', 'cucumbers', 'kimchi', 'crayfish', 'crab meat', 'crab legs', 'mussels', 'oysters', 'barley', 'soy flour', 'cooked pasta', 'farro', 'honeydew', 'star fruit', 'edamame', 'guacamole', 'balsamic vinegar', 'casseroles', 'passionfruit', 'fruit cake', 'pastries', 'marshmallows', 'fruit pies', 'brownie', 'tamarind', 'sorbet', 'duck fat', 'plums', 'apricots', 'pomegranate', 'cranberries', 'citrus fruit', 'kiwi fruit', 'plantains', 'artichokes', 'tapenade', 'bacon grease', 'parsnips', 'bamboo shoots', 'millet', 'beans and peas', 'radishes', 'rhubarb', 'almonds)', 'bok choy', 'jicama', 'swiss chard', 'melons', 'turnips', 'bean sprouts', 'kohlrabi', 'ginger root', 'lobster tails', 'tempeh', 'horseradish', 'barbecue sauce', 'marinades', 'relish', 'baby carrots', 'formula', 'nacho cheese', 'jellies', 'tahini', 'kumquats', 'bagged greens', 'egg salad', 'lemongrass', 'hot peppers', 'cinnamon rolls', 'ham salad', 'amaranth', 'pork roll', 'macadamias', 'sherbet', 'squid', 'prickly pear', 'applesauce', 'salad dressing', 'celery root', 'bison', 'preserves', 'milk solids', 'lemon extract', 'yuzu juice', 'macaroons', 'pork rinds', 'spaghetti squash', 'vegetable juice', 'doughnuts', 'radicchio', 'breadcrumbs', 'bulgur', 'pimento cheese', 'pheasant', 'pumpkins', 'cherimoya', 'rutabagas', 'dry egg noodles', 'jams', 'seafood salads', 'sunflower oil', 'cinnamon extract', 'coconut flavor', 'marinated vegetables', 'teff', 'fresh pasta', 'cooking wine', 'gelatin', 'duckling', 'nut oils', 'shortening', 'salad dressings', 'soup mixes'] \n",
      "\n",
      "\n"
     ]
    },
    {
     "name": "stdout",
     "output_type": "stream",
     "text": [
      "[[34 10]\n",
      " [ 6 33]]\n",
      "              precision    recall  f1-score   support\n",
      "\n",
      "           1       0.85      0.77      0.81        44\n",
      "           0       0.77      0.85      0.80        39\n",
      "\n",
      "    accuracy                           0.81        83\n",
      "   macro avg       0.81      0.81      0.81        83\n",
      "weighted avg       0.81      0.81      0.81        83\n",
      "\n",
      "Total keywords:  420\n",
      "Total Tweets:  7258\n",
      "List of Keywords:\n",
      "\n",
      " ['cheese', 'chicken', 'milk', 'butter', 'juice', 'cream', 'fruit', 'rice', 'water', 'garlic', 'bread', 'sugar', 'salt', 'chocolate', 'fish', 'yogurt', 'almond milk', 'greens', 'granola', 'nuts', 'chia seeds', 'whole', 'onions', 'apples', 'peanut butter', 'peaches', 'squash', 'soda', 'flour', 'garlic powder', 'buttermilk', 'potatoes', 'carrots', 'cottage cheese', 'sour cream', 'turkey', 'beans', 'cream cheese', 'bagel', 'pretzels', 'celery', 'white wine', 'fruit cocktail', 'crackers', 'whipped cream', 'margarine', 'ice cream', 'pineapple', 'whipped topping', 'mango', 'sausage', 'pork', 'onion powder', 'dried', 'parsley', 'eggs', 'beef', 'vegetables', 'rotisserie chicken', 'hot dogs', 'dips', 'meats', 'tuna', 'frozen entrees', 'soup', 'bacon', 'pasta', 'pizza', 'fried chicken', 'potato chips', 'cut', 'lean fish', 'cauliflower', 'cooked fish', 'honey', 'stuffed', 'dates', 'scallops', 'yuzu', 'shrimp', 'corn syrup', 'baking soda', 'molasses', 'yeast', 'cornmeal', 'vinegar', 'worcestershire sauce', 'mushrooms', 'broth', 'peppers', 'gravy', 'oats', 'guava', 'coconut', 'cake', 'lemon juice', 'strawberries', 'cheesecake', 'chicken nuggets', 'cinnamon', 'muffin', 'danish', 'pies', 'tomato sauce', 'apple juice', 'pickles', 'coffee', 'goat', 'baking powder', 'sesame seeds', 'pancakes', 'raspberries', 'cornstarch', 'hot sauce', 'grits', 'chives', 'tamarind paste', 'lime juice', 'tomatoes', 'cumin', 'chili powder', 'black pepper', 'pie crust', 'cooked rice', 'patties', 'nutmeg', 'peas', 'refried beans', 'bananas', 'okra', 'cabbage', 'syrup', 'juice concentrates', 'ketchup', 'basil', 'lentils', 'fruits', 'pesto', 'soy milk', 'hoisin sauce', 'sesame oil', 'chili sauce', 'peanuts', 'ham', 'mustard', 'bacon bits', 'chutney', 'sun dried tomatoes', 'boxes', 'string cheese', 'punch', 'waffles', 'crab', 'pasta salad', 'cereal', 'grapes', 'nectarines', 'pears', 'cashews', 'tea', 'pudding', 'coconut cream', 'coconut water', 'cocktail', 'walnuts', 'dough', 'roasted red peppers', 'whole wheat bread', 'thyme', 'mayonnaise', 'berries', 'coleslaw', 'tomato paste', 'oregano', 'canola oil', 'mung bean', 'ghee', 'avocado oil', 'almond oil', 'grapeseed oil', 'spelt', 'coconut milk', 'pure vanilla extract', 'butter flavor', 'olives', 'salsa', 'puff pastry', 'biscuits', 'orange juice', 'vegetable soup', 'garam masala', 'eggplant', 'pine nuts', 'coconut oil', 'quail', 'capers', 'apple cider vinegar', 'kefir', 'ricotta', 'cookie dough', 'base', 'corned beef', 'rye', 'meat products', 'cornish hens', 'fatty fish', 'miso', 'whole wheat flour', 'herbs', 'chicken salad', 'stews', 'leftovers', 'cream pies', 'quiche', 'asparagus', 'cilantro', 'sugar substitutes', 'cookies', 'potato salad', 'brussels sprouts', 'cherry tomatoes', 'taro', 'lamb', 'chocolate syrup', 'pectin', 'tortillas', 'nectar', 'rice milk', 'coconuts', 'turkey bacon', 'black bean sauce', 'tofu', 'oyster sauce', 'rosemary', 'papaya', 'powdered milk', 'popcorn', 'almond butter', 'cashew butter', 'hummus', 'lettuce', 'avocados', 'cantaloupe', 'canadian bacon', 'almonds', 'almond extract', 'pecans', 'apple cider', 'mint', 'carrot juice', 'beets', 'cranberry sauce', 'pate', 'buckwheat', 'seafood', 'prosciutto', 'cheese curds', 'bratwurst', 'coconut flour', 'kale', 'zucchini', 'cherries', 'polenta', 'aioli', 'anchovies', 'oils', 'pumpkin seeds', 'flaxseed', 'herring', 'chorizo', 'coffee creamer', 'egg dishes', 'quinoa', 'arugula', 'pistachios', 'veal', 'sausages', 'shellfish', 'leeks', 'venison', 'rabbit', 'pastrami', 'spaghetti sauce', 'jerky', 'dinners', 'goose', 'chicken parts', 'watermelon', 'capon', 'turducken', 'blueberries', 'salami', 'canned chicken', 'fruit drinks', 'red wine', 'canned goods', 'sunflower seeds', 'caviar', 'croutons', 'cucumbers', 'kimchi', 'crayfish', 'crab meat', 'crab legs', 'mussels', 'oysters', 'barley', 'soy flour', 'cooked pasta', 'farro', 'honeydew', 'star fruit', 'edamame', 'guacamole', 'balsamic vinegar', 'casseroles', 'passionfruit', 'fruit cake', 'pastries', 'marshmallows', 'fruit pies', 'brownie', 'tamarind', 'sorbet', 'duck fat', 'plums', 'apricots', 'pomegranate', 'cranberries', 'citrus fruit', 'kiwi fruit', 'plantains', 'artichokes', 'tapenade', 'bacon grease', 'parsnips', 'bamboo shoots', 'millet', 'beans and peas', 'radishes', 'rhubarb', 'almonds)', 'bok choy', 'jicama', 'swiss chard', 'melons', 'turnips', 'bean sprouts', 'kohlrabi', 'ginger root', 'lobster tails', 'tempeh', 'horseradish', 'barbecue sauce', 'marinades', 'relish', 'baby carrots', 'formula', 'nacho cheese', 'jellies', 'tahini', 'kumquats', 'bagged greens', 'egg salad', 'lemongrass', 'hot peppers', 'cinnamon rolls', 'ham salad', 'amaranth', 'pork roll', 'macadamias', 'sherbet', 'squid', 'prickly pear', 'applesauce', 'salad dressing', 'celery root', 'bison', 'preserves', 'milk solids', 'lemon extract', 'yuzu juice', 'macaroons', 'pork rinds', 'spaghetti squash', 'vegetable juice', 'doughnuts', 'radicchio', 'breadcrumbs', 'bulgur', 'pimento cheese', 'pheasant', 'pumpkins', 'cherimoya', 'rutabagas', 'dry egg noodles', 'jams', 'seafood salads', 'sunflower oil', 'cinnamon extract', 'coconut flavor', 'marinated vegetables', 'teff', 'fresh pasta', 'cooking wine', 'gelatin', 'duckling', 'nut oils', 'shortening', 'salad dressings', 'soup mixes', 'eggnog', 'giblets', 'ice pops', 'sauce mixes', 'toaster pastries', 'quark', 'vegan cheddar cheese', 'sorghum', 'kugel'] \n",
      "\n",
      "\n",
      "~~~~~~~~~~~~~~~~~8~~~~~~~~~~~~~~~~~\n",
      "Model loaded...\n"
     ]
    },
    {
     "name": "stderr",
     "output_type": "stream",
     "text": [
      " 14%|█▎        | 925/6781 [00:00<00:01, 3126.30it/s]"
     ]
    },
    {
     "name": "stdout",
     "output_type": "stream",
     "text": [
      "Skipping entity\n",
      "Skipping entity\n",
      "Skipping entity\n",
      "Skipping entity\n",
      "Skipping entity\n",
      "Skipping entity\n",
      "Skipping entity\n",
      "Skipping entity\n",
      "Skipping entity\n",
      "Skipping entity\n",
      "Skipping entity\n",
      "Skipping entity\n",
      "Skipping entity\n",
      "Skipping entity\n",
      "Skipping entity\n",
      "Skipping entity\n",
      "Skipping entity\n",
      "Skipping entity\n",
      "Skipping entity\n",
      "Skipping entity\n"
     ]
    },
    {
     "name": "stderr",
     "output_type": "stream",
     "text": [
      " 24%|██▍       | 1622/6781 [00:00<00:01, 3247.77it/s]"
     ]
    },
    {
     "name": "stdout",
     "output_type": "stream",
     "text": [
      "Skipping entity\n",
      "Skipping entity\n",
      "Skipping entity\n",
      "Skipping entity\n",
      "Skipping entity\n",
      "Skipping entity\n",
      "Skipping entity\n",
      "Skipping entity\n",
      "Skipping entity\n",
      "Skipping entity\n",
      "Skipping entity\n",
      "Skipping entity\n",
      "Skipping entity\n",
      "Skipping entity\n",
      "Skipping entity\n",
      "Skipping entity\n",
      "Skipping entity\n",
      "Skipping entity\n",
      "Skipping entity\n",
      "Skipping entity\n",
      "Skipping entity\n",
      "Skipping entity\n",
      "Skipping entity\n",
      "Skipping entity\n",
      "Skipping entity\n",
      "Skipping entity\n"
     ]
    },
    {
     "name": "stderr",
     "output_type": "stream",
     "text": [
      " 49%|████▊     | 3305/6781 [00:00<00:00, 3977.06it/s]"
     ]
    },
    {
     "name": "stdout",
     "output_type": "stream",
     "text": [
      "Skipping entity\n",
      "Skipping entity\n",
      "Skipping entity\n",
      "Skipping entity\n",
      "Skipping entity\n",
      "Skipping entity\n",
      "Skipping entity\n",
      "Skipping entity\n",
      "Skipping entity\n",
      "Skipping entity\n",
      "Skipping entity\n",
      "Skipping entity\n",
      "Skipping entity\n",
      "Skipping entity\n",
      "Skipping entity\n",
      "Skipping entity\n",
      "Skipping entity\n",
      "Skipping entity\n",
      "Skipping entity\n",
      "Skipping entity\n",
      "Skipping entity\n",
      "Skipping entity\n",
      "Skipping entity\n",
      "Skipping entity\n"
     ]
    },
    {
     "name": "stderr",
     "output_type": "stream",
     "text": [
      " 69%|██████▉   | 4682/6781 [00:01<00:00, 4366.98it/s]"
     ]
    },
    {
     "name": "stdout",
     "output_type": "stream",
     "text": [
      "Skipping entity\n",
      "Skipping entity\n",
      "Skipping entity\n",
      "Skipping entity\n",
      "Skipping entity\n",
      "Skipping entity\n",
      "Skipping entity\n",
      "Skipping entity\n",
      "Skipping entity\n",
      "Skipping entity\n",
      "Skipping entity\n",
      "Skipping entity\n",
      "Skipping entity\n",
      "Skipping entity\n",
      "Skipping entity\n",
      "Skipping entity\n",
      "Skipping entity\n",
      "Skipping entity\n",
      "Skipping entity\n",
      "Skipping entity\n",
      "Skipping entity\n",
      "Skipping entity\n",
      "Skipping entity\n",
      "Skipping entity\n",
      "Skipping entity\n",
      "Skipping entity\n",
      "Skipping entity\n",
      "Skipping entity\n",
      "Skipping entity\n",
      "Skipping entity\n",
      "Skipping entity\n",
      "Skipping entity\n",
      "Skipping entity\n",
      "Skipping entity\n"
     ]
    },
    {
     "name": "stderr",
     "output_type": "stream",
     "text": [
      " 82%|████████▏ | 5581/6781 [00:01<00:00, 4416.37it/s]"
     ]
    },
    {
     "name": "stdout",
     "output_type": "stream",
     "text": [
      "Skipping entity\n",
      "Skipping entity\n",
      "Skipping entity\n",
      "Skipping entity\n",
      "Skipping entity\n",
      "Skipping entity\n",
      "Skipping entity\n",
      "Skipping entity\n",
      "Skipping entity\n",
      "Skipping entity\n",
      "Skipping entity\n",
      "Skipping entity\n",
      "Skipping entity\n",
      "Skipping entity\n",
      "Skipping entity\n",
      "Skipping entity\n",
      "Skipping entity\n",
      "Skipping entity\n",
      "Skipping entity\n",
      "Skipping entity\n",
      "Skipping entity\n",
      "Skipping entity\n",
      "Skipping entity\n",
      "Skipping entity\n",
      "Skipping entity\n",
      "Skipping entity\n",
      "Skipping entity\n",
      "Skipping entity\n",
      "Skipping entity\n",
      "Skipping entity\n",
      "Skipping entity\n",
      "Skipping entity\n",
      "Skipping entity\n",
      "Skipping entity\n",
      "Skipping entity\n",
      "Skipping entity\n",
      "Skipping entity\n",
      "Skipping entity\n"
     ]
    },
    {
     "name": "stderr",
     "output_type": "stream",
     "text": [
      "100%|██████████| 6781/6781 [00:01<00:00, 4011.54it/s]\n"
     ]
    },
    {
     "name": "stdout",
     "output_type": "stream",
     "text": [
      "Skipping entity\n",
      "Skipping entity\n",
      "Skipping entity\n",
      "Skipping entity\n",
      "Skipping entity\n",
      "Skipping entity\n",
      "Skipping entity\n",
      "Skipping entity\n",
      "Skipping entity\n",
      "Skipping entity\n",
      "Skipping entity\n",
      "Skipping entity\n",
      "Skipping entity\n",
      "Skipping entity\n",
      "Skipping entity\n",
      "Skipping entity\n",
      "Skipping entity\n",
      "Skipping entity\n",
      "Skipping entity\n",
      "Skipping entity\n",
      "Skipping entity\n",
      "Skipping entity\n",
      "Skipping entity\n",
      "Skipping entity\n",
      "Skipping entity\n",
      "[i] Saving to output directory: output\n",
      "[i] Using CPU\n",
      "\u001b[1m\n",
      "=========================== Initializing pipeline ===========================\u001b[0m\n",
      "[+] Initialized pipeline\n",
      "\u001b[1m\n",
      "============================= Training pipeline =============================\u001b[0m\n",
      "[i] Pipeline: ['tok2vec', 'ner']\n",
      "[i] Initial learn rate: 0.001\n",
      "E    #       LOSS TOK2VEC  LOSS NER  ENTS_F  ENTS_P  ENTS_R  SCORE \n",
      "---  ------  ------------  --------  ------  ------  ------  ------\n",
      "  0       0          0.00     33.33    0.00    0.00    0.00    0.00\n",
      "  0     200         89.07   2739.51   80.03   79.27   80.81    0.80\n",
      "  0     400         85.77   1374.47   86.64   81.80   92.09    0.87\n",
      "  0     600         84.09   1413.33   89.13   86.69   91.71    0.89\n",
      "  0     800        267.80   1611.30   89.88   85.16   95.16    0.90\n",
      "  0    1000         91.30   1768.12   91.66   88.40   95.16    0.92\n",
      "  0    1200         87.83   1923.27   92.42   88.01   97.30    0.92\n",
      "  1    1400        129.17   2098.91   93.21   89.97   96.70    0.93\n",
      "  1    1600        145.92   2393.50   94.31   91.74   97.03    0.94\n",
      "  1    1800        182.67   2773.89   94.63   91.50   97.99    0.95\n",
      "  2    2000        245.62   2844.56   95.45   93.33   97.68    0.95\n",
      "  3    2200        296.61   3138.35   96.58   95.77   97.40    0.97\n",
      "  3    2400        393.46   3239.10   97.30   95.96   98.67    0.97\n",
      "  4    2600        477.17   2757.42   97.76   96.55   99.01    0.98\n",
      "  5    2800        508.21   2451.86   97.94   96.70   99.21    0.98\n",
      "  6    3000        595.91   2231.38   98.33   97.29   99.39    0.98\n",
      "  7    3200        566.77   1996.72   98.64   98.51   98.78    0.99\n",
      "  8    3400        631.42   1838.64   98.72   97.83   99.62    0.99\n",
      "  8    3600        613.38   1646.87   99.00   98.65   99.36    0.99\n",
      "  9    3800        618.70   1439.83   99.11   98.70   99.53    0.99\n",
      " 10    4000        591.74   1335.34   99.32   98.99   99.66    0.99\n",
      " 11    4200        642.87   1370.42   99.29   98.93   99.65    0.99\n",
      " 12    4400        615.92   1216.13   99.48   99.16   99.79    0.99\n",
      " 13    4600        909.72   1185.94   99.48   99.44   99.52    0.99\n",
      " 13    4800        656.06    999.63   99.49   99.29   99.69    0.99\n",
      " 14    5000        654.40   1004.48   99.51   99.33   99.70    1.00\n",
      " 15    5200        634.73    894.77   99.64   99.47   99.82    1.00\n",
      " 16    5400        577.72    810.91   99.62   99.37   99.87    1.00\n",
      " 17    5600        680.95    875.74   99.72   99.73   99.72    1.00\n",
      " 17    5800        630.36    839.48   99.70   99.65   99.75    1.00\n",
      " 18    6000        664.58    777.45   99.73   99.66   99.81    1.00\n",
      " 19    6200        582.13    754.71   99.74   99.66   99.83    1.00\n",
      " 20    6400        813.18    757.35   99.78   99.68   99.87    1.00\n",
      " 21    6600        615.71    654.41   99.77   99.83   99.72    1.00\n",
      " 22    6800        656.87    678.61   99.85   99.80   99.90    1.00\n",
      " 22    7000        783.70    681.53   99.78   99.78   99.78    1.00\n",
      " 23    7200        601.89    676.88   99.74   99.65   99.83    1.00\n",
      " 24    7400        654.63    640.10   99.88   99.85   99.91    1.00\n",
      " 25    7600        633.30    523.13   99.81   99.79   99.83    1.00\n",
      " 26    7800        762.84    590.85   99.83   99.79   99.86    1.00\n",
      " 27    8000        788.51    610.79   99.74   99.62   99.86    1.00\n",
      " 27    8200        678.51    516.65   99.82   99.76   99.89    1.00\n",
      " 28    8400        797.65    562.18   99.84   99.82   99.85    1.00\n",
      " 29    8600       1322.72    530.15   99.84   99.83   99.85    1.00\n",
      " 30    8800        809.16    574.35   99.76   99.66   99.87    1.00\n",
      " 31    9000        706.70    511.25   99.88   99.85   99.91    1.00\n",
      "[+] Saved pipeline to output directory\n",
      "output\\model-last\n",
      "\n",
      "Total keywords:  420\n",
      "List of Keywords:\n",
      "\n",
      " ['cheese', 'chicken', 'milk', 'butter', 'juice', 'cream', 'fruit', 'rice', 'water', 'garlic', 'bread', 'sugar', 'salt', 'chocolate', 'fish', 'yogurt', 'almond milk', 'greens', 'granola', 'nuts', 'chia seeds', 'whole', 'onions', 'apples', 'peanut butter', 'peaches', 'squash', 'soda', 'flour', 'garlic powder', 'buttermilk', 'potatoes', 'carrots', 'cottage cheese', 'sour cream', 'turkey', 'beans', 'cream cheese', 'bagel', 'pretzels', 'celery', 'white wine', 'fruit cocktail', 'crackers', 'whipped cream', 'margarine', 'ice cream', 'pineapple', 'whipped topping', 'mango', 'sausage', 'pork', 'onion powder', 'dried', 'parsley', 'eggs', 'beef', 'vegetables', 'rotisserie chicken', 'hot dogs', 'dips', 'meats', 'tuna', 'frozen entrees', 'soup', 'bacon', 'pasta', 'pizza', 'fried chicken', 'potato chips', 'cut', 'lean fish', 'cauliflower', 'cooked fish', 'honey', 'stuffed', 'dates', 'scallops', 'yuzu', 'shrimp', 'corn syrup', 'baking soda', 'molasses', 'yeast', 'cornmeal', 'vinegar', 'worcestershire sauce', 'mushrooms', 'broth', 'peppers', 'gravy', 'oats', 'guava', 'coconut', 'cake', 'lemon juice', 'strawberries', 'cheesecake', 'chicken nuggets', 'cinnamon', 'muffin', 'danish', 'pies', 'tomato sauce', 'apple juice', 'pickles', 'coffee', 'goat', 'baking powder', 'sesame seeds', 'pancakes', 'raspberries', 'cornstarch', 'hot sauce', 'grits', 'chives', 'tamarind paste', 'lime juice', 'tomatoes', 'cumin', 'chili powder', 'black pepper', 'pie crust', 'cooked rice', 'patties', 'nutmeg', 'peas', 'refried beans', 'bananas', 'okra', 'cabbage', 'syrup', 'juice concentrates', 'ketchup', 'basil', 'lentils', 'fruits', 'pesto', 'soy milk', 'hoisin sauce', 'sesame oil', 'chili sauce', 'peanuts', 'ham', 'mustard', 'bacon bits', 'chutney', 'sun dried tomatoes', 'boxes', 'string cheese', 'punch', 'waffles', 'crab', 'pasta salad', 'cereal', 'grapes', 'nectarines', 'pears', 'cashews', 'tea', 'pudding', 'coconut cream', 'coconut water', 'cocktail', 'walnuts', 'dough', 'roasted red peppers', 'whole wheat bread', 'thyme', 'mayonnaise', 'berries', 'coleslaw', 'tomato paste', 'oregano', 'canola oil', 'mung bean', 'ghee', 'avocado oil', 'almond oil', 'grapeseed oil', 'spelt', 'coconut milk', 'pure vanilla extract', 'butter flavor', 'olives', 'salsa', 'puff pastry', 'biscuits', 'orange juice', 'vegetable soup', 'garam masala', 'eggplant', 'pine nuts', 'coconut oil', 'quail', 'capers', 'apple cider vinegar', 'kefir', 'ricotta', 'cookie dough', 'base', 'corned beef', 'rye', 'meat products', 'cornish hens', 'fatty fish', 'miso', 'whole wheat flour', 'herbs', 'chicken salad', 'stews', 'leftovers', 'cream pies', 'quiche', 'asparagus', 'cilantro', 'sugar substitutes', 'cookies', 'potato salad', 'brussels sprouts', 'cherry tomatoes', 'taro', 'lamb', 'chocolate syrup', 'pectin', 'tortillas', 'nectar', 'rice milk', 'coconuts', 'turkey bacon', 'black bean sauce', 'tofu', 'oyster sauce', 'rosemary', 'papaya', 'powdered milk', 'popcorn', 'almond butter', 'cashew butter', 'hummus', 'lettuce', 'avocados', 'cantaloupe', 'canadian bacon', 'almonds', 'almond extract', 'pecans', 'apple cider', 'mint', 'carrot juice', 'beets', 'cranberry sauce', 'pate', 'buckwheat', 'seafood', 'prosciutto', 'cheese curds', 'bratwurst', 'coconut flour', 'kale', 'zucchini', 'cherries', 'polenta', 'aioli', 'anchovies', 'oils', 'pumpkin seeds', 'flaxseed', 'herring', 'chorizo', 'coffee creamer', 'egg dishes', 'quinoa', 'arugula', 'pistachios', 'veal', 'sausages', 'shellfish', 'leeks', 'venison', 'rabbit', 'pastrami', 'spaghetti sauce', 'jerky', 'dinners', 'goose', 'chicken parts', 'watermelon', 'capon', 'turducken', 'blueberries', 'salami', 'canned chicken', 'fruit drinks', 'red wine', 'canned goods', 'sunflower seeds', 'caviar', 'croutons', 'cucumbers', 'kimchi', 'crayfish', 'crab meat', 'crab legs', 'mussels', 'oysters', 'barley', 'soy flour', 'cooked pasta', 'farro', 'honeydew', 'star fruit', 'edamame', 'guacamole', 'balsamic vinegar', 'casseroles', 'passionfruit', 'fruit cake', 'pastries', 'marshmallows', 'fruit pies', 'brownie', 'tamarind', 'sorbet', 'duck fat', 'plums', 'apricots', 'pomegranate', 'cranberries', 'citrus fruit', 'kiwi fruit', 'plantains', 'artichokes', 'tapenade', 'bacon grease', 'parsnips', 'bamboo shoots', 'millet', 'beans and peas', 'radishes', 'rhubarb', 'almonds)', 'bok choy', 'jicama', 'swiss chard', 'melons', 'turnips', 'bean sprouts', 'kohlrabi', 'ginger root', 'lobster tails', 'tempeh', 'horseradish', 'barbecue sauce', 'marinades', 'relish', 'baby carrots', 'formula', 'nacho cheese', 'jellies', 'tahini', 'kumquats', 'bagged greens', 'egg salad', 'lemongrass', 'hot peppers', 'cinnamon rolls', 'ham salad', 'amaranth', 'pork roll', 'macadamias', 'sherbet', 'squid', 'prickly pear', 'applesauce', 'salad dressing', 'celery root', 'bison', 'preserves', 'milk solids', 'lemon extract', 'yuzu juice', 'macaroons', 'pork rinds', 'spaghetti squash', 'vegetable juice', 'doughnuts', 'radicchio', 'breadcrumbs', 'bulgur', 'pimento cheese', 'pheasant', 'pumpkins', 'cherimoya', 'rutabagas', 'dry egg noodles', 'jams', 'seafood salads', 'sunflower oil', 'cinnamon extract', 'coconut flavor', 'marinated vegetables', 'teff', 'fresh pasta', 'cooking wine', 'gelatin', 'duckling', 'nut oils', 'shortening', 'salad dressings', 'soup mixes', 'eggnog', 'giblets', 'ice pops', 'sauce mixes', 'toaster pastries', 'quark', 'vegan cheddar cheese', 'sorghum', 'kugel'] \n",
      "\n",
      "\n"
     ]
    },
    {
     "name": "stdout",
     "output_type": "stream",
     "text": [
      "[[37  7]\n",
      " [ 4 35]]\n",
      "              precision    recall  f1-score   support\n",
      "\n",
      "           1       0.90      0.84      0.87        44\n",
      "           0       0.83      0.90      0.86        39\n",
      "\n",
      "    accuracy                           0.87        83\n",
      "   macro avg       0.87      0.87      0.87        83\n",
      "weighted avg       0.87      0.87      0.87        83\n",
      "\n",
      "Total keywords:  421\n",
      "Total Tweets:  6781\n",
      "List of Keywords:\n",
      "\n",
      " ['cheese', 'chicken', 'milk', 'butter', 'juice', 'cream', 'fruit', 'rice', 'water', 'garlic', 'bread', 'sugar', 'salt', 'chocolate', 'fish', 'yogurt', 'almond milk', 'greens', 'granola', 'nuts', 'chia seeds', 'whole', 'onions', 'apples', 'peanut butter', 'peaches', 'squash', 'soda', 'flour', 'garlic powder', 'buttermilk', 'potatoes', 'carrots', 'cottage cheese', 'sour cream', 'turkey', 'beans', 'cream cheese', 'bagel', 'pretzels', 'celery', 'white wine', 'fruit cocktail', 'crackers', 'whipped cream', 'margarine', 'ice cream', 'pineapple', 'whipped topping', 'mango', 'sausage', 'pork', 'onion powder', 'dried', 'parsley', 'eggs', 'beef', 'vegetables', 'rotisserie chicken', 'hot dogs', 'dips', 'meats', 'tuna', 'frozen entrees', 'soup', 'bacon', 'pasta', 'pizza', 'fried chicken', 'potato chips', 'cut', 'lean fish', 'cauliflower', 'cooked fish', 'honey', 'stuffed', 'dates', 'scallops', 'yuzu', 'shrimp', 'corn syrup', 'baking soda', 'molasses', 'yeast', 'cornmeal', 'vinegar', 'worcestershire sauce', 'mushrooms', 'broth', 'peppers', 'gravy', 'oats', 'guava', 'coconut', 'cake', 'lemon juice', 'strawberries', 'cheesecake', 'chicken nuggets', 'cinnamon', 'muffin', 'danish', 'pies', 'tomato sauce', 'apple juice', 'pickles', 'coffee', 'goat', 'baking powder', 'sesame seeds', 'pancakes', 'raspberries', 'cornstarch', 'hot sauce', 'grits', 'chives', 'tamarind paste', 'lime juice', 'tomatoes', 'cumin', 'chili powder', 'black pepper', 'pie crust', 'cooked rice', 'patties', 'nutmeg', 'peas', 'refried beans', 'bananas', 'okra', 'cabbage', 'syrup', 'juice concentrates', 'ketchup', 'basil', 'lentils', 'fruits', 'pesto', 'soy milk', 'hoisin sauce', 'sesame oil', 'chili sauce', 'peanuts', 'ham', 'mustard', 'bacon bits', 'chutney', 'sun dried tomatoes', 'boxes', 'string cheese', 'punch', 'waffles', 'crab', 'pasta salad', 'cereal', 'grapes', 'nectarines', 'pears', 'cashews', 'tea', 'pudding', 'coconut cream', 'coconut water', 'cocktail', 'walnuts', 'dough', 'roasted red peppers', 'whole wheat bread', 'thyme', 'mayonnaise', 'berries', 'coleslaw', 'tomato paste', 'oregano', 'canola oil', 'mung bean', 'ghee', 'avocado oil', 'almond oil', 'grapeseed oil', 'spelt', 'coconut milk', 'pure vanilla extract', 'butter flavor', 'olives', 'salsa', 'puff pastry', 'biscuits', 'orange juice', 'vegetable soup', 'garam masala', 'eggplant', 'pine nuts', 'coconut oil', 'quail', 'capers', 'apple cider vinegar', 'kefir', 'ricotta', 'cookie dough', 'base', 'corned beef', 'rye', 'meat products', 'cornish hens', 'fatty fish', 'miso', 'whole wheat flour', 'herbs', 'chicken salad', 'stews', 'leftovers', 'cream pies', 'quiche', 'asparagus', 'cilantro', 'sugar substitutes', 'cookies', 'potato salad', 'brussels sprouts', 'cherry tomatoes', 'taro', 'lamb', 'chocolate syrup', 'pectin', 'tortillas', 'nectar', 'rice milk', 'coconuts', 'turkey bacon', 'black bean sauce', 'tofu', 'oyster sauce', 'rosemary', 'papaya', 'powdered milk', 'popcorn', 'almond butter', 'cashew butter', 'hummus', 'lettuce', 'avocados', 'cantaloupe', 'canadian bacon', 'almonds', 'almond extract', 'pecans', 'apple cider', 'mint', 'carrot juice', 'beets', 'cranberry sauce', 'pate', 'buckwheat', 'seafood', 'prosciutto', 'cheese curds', 'bratwurst', 'coconut flour', 'kale', 'zucchini', 'cherries', 'polenta', 'aioli', 'anchovies', 'oils', 'pumpkin seeds', 'flaxseed', 'herring', 'chorizo', 'coffee creamer', 'egg dishes', 'quinoa', 'arugula', 'pistachios', 'veal', 'sausages', 'shellfish', 'leeks', 'venison', 'rabbit', 'pastrami', 'spaghetti sauce', 'jerky', 'dinners', 'goose', 'chicken parts', 'watermelon', 'capon', 'turducken', 'blueberries', 'salami', 'canned chicken', 'fruit drinks', 'red wine', 'canned goods', 'sunflower seeds', 'caviar', 'croutons', 'cucumbers', 'kimchi', 'crayfish', 'crab meat', 'crab legs', 'mussels', 'oysters', 'barley', 'soy flour', 'cooked pasta', 'farro', 'honeydew', 'star fruit', 'edamame', 'guacamole', 'balsamic vinegar', 'casseroles', 'passionfruit', 'fruit cake', 'pastries', 'marshmallows', 'fruit pies', 'brownie', 'tamarind', 'sorbet', 'duck fat', 'plums', 'apricots', 'pomegranate', 'cranberries', 'citrus fruit', 'kiwi fruit', 'plantains', 'artichokes', 'tapenade', 'bacon grease', 'parsnips', 'bamboo shoots', 'millet', 'beans and peas', 'radishes', 'rhubarb', 'almonds)', 'bok choy', 'jicama', 'swiss chard', 'melons', 'turnips', 'bean sprouts', 'kohlrabi', 'ginger root', 'lobster tails', 'tempeh', 'horseradish', 'barbecue sauce', 'marinades', 'relish', 'baby carrots', 'formula', 'nacho cheese', 'jellies', 'tahini', 'kumquats', 'bagged greens', 'egg salad', 'lemongrass', 'hot peppers', 'cinnamon rolls', 'ham salad', 'amaranth', 'pork roll', 'macadamias', 'sherbet', 'squid', 'prickly pear', 'applesauce', 'salad dressing', 'celery root', 'bison', 'preserves', 'milk solids', 'lemon extract', 'yuzu juice', 'macaroons', 'pork rinds', 'spaghetti squash', 'vegetable juice', 'doughnuts', 'radicchio', 'breadcrumbs', 'bulgur', 'pimento cheese', 'pheasant', 'pumpkins', 'cherimoya', 'rutabagas', 'dry egg noodles', 'jams', 'seafood salads', 'sunflower oil', 'cinnamon extract', 'coconut flavor', 'marinated vegetables', 'teff', 'fresh pasta', 'cooking wine', 'gelatin', 'duckling', 'nut oils', 'shortening', 'salad dressings', 'soup mixes', 'eggnog', 'giblets', 'ice pops', 'sauce mixes', 'toaster pastries', 'quark', 'vegan cheddar cheese', 'sorghum', 'kugel', 'variety meats'] \n",
      "\n",
      "\n",
      "~~~~~~~~~~~~~~~~~9~~~~~~~~~~~~~~~~~\n",
      "Model loaded...\n"
     ]
    },
    {
     "name": "stderr",
     "output_type": "stream",
     "text": [
      "  8%|▊         | 574/7513 [00:00<00:02, 2890.05it/s]"
     ]
    },
    {
     "name": "stdout",
     "output_type": "stream",
     "text": [
      "Skipping entity\n",
      "Skipping entity\n",
      "Skipping entity\n",
      "Skipping entity\n",
      "Skipping entity\n",
      "Skipping entity\n",
      "Skipping entity\n",
      "Skipping entity\n",
      "Skipping entity\n",
      "Skipping entity\n",
      "Skipping entity\n",
      "Skipping entity\n",
      "Skipping entity\n",
      "Skipping entity\n",
      "Skipping entity\n",
      "Skipping entity\n",
      "Skipping entity\n"
     ]
    },
    {
     "name": "stderr",
     "output_type": "stream",
     "text": [
      " 20%|█▉        | 1491/7513 [00:00<00:02, 2992.38it/s]"
     ]
    },
    {
     "name": "stdout",
     "output_type": "stream",
     "text": [
      "Skipping entity\n",
      "Skipping entity\n",
      "Skipping entity\n",
      "Skipping entity\n",
      "Skipping entity\n",
      "Skipping entity\n",
      "Skipping entity\n",
      "Skipping entity\n",
      "Skipping entity\n",
      "Skipping entity\n",
      "Skipping entity\n",
      "Skipping entity\n",
      "Skipping entity\n",
      "Skipping entity\n",
      "Skipping entity\n",
      "Skipping entity\n",
      "Skipping entity\n",
      "Skipping entity\n",
      "Skipping entity\n",
      "Skipping entity\n",
      "Skipping entity\n",
      "Skipping entity\n",
      "Skipping entity\n",
      "Skipping entity\n",
      "Skipping entity\n",
      "Skipping entity\n",
      "Skipping entity\n",
      "Skipping entity\n",
      "Skipping entity\n",
      "Skipping entity\n",
      "Skipping entity\n",
      "Skipping entity\n",
      "Skipping entity\n",
      "Skipping entity\n",
      "Skipping entity\n",
      "Skipping entity\n",
      "Skipping entity\n"
     ]
    },
    {
     "name": "stderr",
     "output_type": "stream",
     "text": [
      " 35%|███▌      | 2659/7513 [00:00<00:01, 3548.33it/s]"
     ]
    },
    {
     "name": "stdout",
     "output_type": "stream",
     "text": [
      "Skipping entity\n",
      "Skipping entity\n",
      "Skipping entity\n",
      "Skipping entity\n",
      "Skipping entity\n",
      "Skipping entity\n",
      "Skipping entity\n",
      "Skipping entity\n",
      "Skipping entity\n",
      "Skipping entity\n",
      "Skipping entity\n",
      "Skipping entity\n",
      "Skipping entity\n",
      "Skipping entity\n",
      "Skipping entity\n",
      "Skipping entity\n",
      "Skipping entity\n",
      "Skipping entity\n",
      "Skipping entity\n",
      "Skipping entity\n",
      "Skipping entity\n",
      "Skipping entity\n",
      "Skipping entity\n",
      "Skipping entity\n",
      "Skipping entity\n"
     ]
    },
    {
     "name": "stderr",
     "output_type": "stream",
     "text": [
      " 58%|█████▊    | 4355/7513 [00:01<00:00, 4115.51it/s]"
     ]
    },
    {
     "name": "stdout",
     "output_type": "stream",
     "text": [
      "Skipping entity\n",
      "Skipping entity\n",
      "Skipping entity\n",
      "Skipping entity\n",
      "Skipping entity\n",
      "Skipping entity\n",
      "Skipping entity\n",
      "Skipping entity\n",
      "Skipping entity\n",
      "Skipping entity\n",
      "Skipping entity\n",
      "Skipping entity\n",
      "Skipping entity\n",
      "Skipping entity\n",
      "Skipping entity\n",
      "Skipping entity\n",
      "Skipping entity\n",
      "Skipping entity\n",
      "Skipping entity\n",
      "Skipping entity\n",
      "Skipping entity\n",
      "Skipping entity\n",
      "Skipping entity\n",
      "Skipping entity\n",
      "Skipping entity\n",
      "Skipping entity\n",
      "Skipping entity\n",
      "Skipping entity\n",
      "Skipping entity\n",
      "Skipping entity\n"
     ]
    },
    {
     "name": "stderr",
     "output_type": "stream",
     "text": [
      " 70%|███████   | 5290/7513 [00:01<00:00, 4392.00it/s]"
     ]
    },
    {
     "name": "stdout",
     "output_type": "stream",
     "text": [
      "Skipping entity\n",
      "Skipping entity\n",
      "Skipping entity\n",
      "Skipping entity\n",
      "Skipping entity\n",
      "Skipping entity\n",
      "Skipping entity\n",
      "Skipping entity\n",
      "Skipping entity\n",
      "Skipping entity\n",
      "Skipping entity\n",
      "Skipping entity\n",
      "Skipping entity\n",
      "Skipping entity\n",
      "Skipping entity\n",
      "Skipping entity\n",
      "Skipping entity\n"
     ]
    },
    {
     "name": "stderr",
     "output_type": "stream",
     "text": [
      " 89%|████████▊ | 6654/7513 [00:01<00:00, 4414.23it/s]"
     ]
    },
    {
     "name": "stdout",
     "output_type": "stream",
     "text": [
      "Skipping entity\n",
      "Skipping entity\n",
      "Skipping entity\n",
      "Skipping entity\n",
      "Skipping entity\n",
      "Skipping entity\n",
      "Skipping entity\n",
      "Skipping entity\n",
      "Skipping entity\n",
      "Skipping entity\n",
      "Skipping entity\n",
      "Skipping entity\n",
      "Skipping entity\n",
      "Skipping entity\n",
      "Skipping entity\n",
      "Skipping entity\n",
      "Skipping entity\n",
      "Skipping entity\n",
      "Skipping entity\n",
      "Skipping entity\n",
      "Skipping entity\n",
      "Skipping entity\n",
      "Skipping entity\n",
      "Skipping entity\n",
      "Skipping entity\n",
      "Skipping entity\n",
      "Skipping entity\n",
      "Skipping entity\n",
      "Skipping entity\n",
      "Skipping entity\n",
      "Skipping entity\n",
      "Skipping entity\n",
      "Skipping entity\n",
      "Skipping entity\n",
      "Skipping entity\n",
      "Skipping entity\n",
      "Skipping entity\n",
      "Skipping entity\n",
      "Skipping entity\n",
      "Skipping entity\n",
      "Skipping entity\n",
      "Skipping entity\n"
     ]
    },
    {
     "name": "stderr",
     "output_type": "stream",
     "text": [
      "100%|██████████| 7513/7513 [00:01<00:00, 3927.17it/s]"
     ]
    },
    {
     "name": "stdout",
     "output_type": "stream",
     "text": [
      "Skipping entity\n",
      "Skipping entity\n",
      "Skipping entity\n",
      "Skipping entity\n",
      "Skipping entity\n",
      "Skipping entity\n",
      "Skipping entity\n",
      "Skipping entity\n",
      "Skipping entity\n",
      "Skipping entity\n",
      "Skipping entity\n",
      "Skipping entity\n",
      "Skipping entity\n",
      "Skipping entity\n",
      "Skipping entity\n",
      "Skipping entity\n",
      "Skipping entity\n",
      "Skipping entity\n",
      "Skipping entity\n",
      "Skipping entity\n",
      "Skipping entity\n",
      "Skipping entity\n",
      "Skipping entity\n",
      "Skipping entity\n",
      "Skipping entity\n",
      "Skipping entity\n",
      "Skipping entity\n",
      "Skipping entity\n"
     ]
    },
    {
     "name": "stderr",
     "output_type": "stream",
     "text": [
      "\n"
     ]
    },
    {
     "name": "stdout",
     "output_type": "stream",
     "text": [
      "[i] Saving to output directory: output\n",
      "[i] Using CPU\n",
      "\u001b[1m\n",
      "=========================== Initializing pipeline ===========================\u001b[0m\n",
      "[+] Initialized pipeline\n",
      "\u001b[1m\n",
      "============================= Training pipeline =============================\u001b[0m\n",
      "[i] Pipeline: ['tok2vec', 'ner']\n",
      "[i] Initial learn rate: 0.001\n",
      "E    #       LOSS TOK2VEC  LOSS NER  ENTS_F  ENTS_P  ENTS_R  SCORE \n",
      "---  ------  ------------  --------  ------  ------  ------  ------\n",
      "  0       0          0.00     41.17    0.01    0.54    0.00    0.00\n",
      "  0     200         85.35   2890.94   78.73   77.03   80.50    0.79\n",
      "  0     400         77.42   1486.11   86.16   81.24   91.72    0.86\n",
      "  0     600         75.12   1470.94   88.37   84.54   92.56    0.88\n",
      "  0     800         79.31   1573.92   89.29   85.61   93.31    0.89\n",
      "  0    1000         96.72   1733.63   90.91   86.12   96.28    0.91\n",
      "  0    1200        115.27   2055.63   91.81   88.39   95.49    0.92\n",
      "  1    1400        129.57   2321.54   92.36   89.84   95.02    0.92\n",
      "  1    1600        151.64   2503.66   93.08   90.33   96.00    0.93\n",
      "  1    1800        180.17   2876.30   93.62   90.21   97.30    0.94\n",
      "  2    2000        259.37   3334.00   94.66   91.85   97.65    0.95\n",
      "  2    2200        293.27   3657.93   95.15   92.09   98.42    0.95\n",
      "  3    2400        384.35   3569.61   96.44   95.13   97.80    0.96\n",
      "  4    2600        477.76   3254.84   96.89   95.08   98.78    0.97\n",
      "  5    2800        517.75   3155.99   97.54   96.91   98.18    0.98\n",
      "  5    3000        577.34   2664.25   97.75   96.36   99.18    0.98\n",
      "  6    3200        640.80   2291.60   98.16   97.08   99.27    0.98\n",
      "  7    3400        677.19   2204.15   98.51   98.08   98.94    0.99\n",
      "  8    3600        682.21   2008.58   98.65   98.07   99.24    0.99\n",
      "  8    3800        696.15   1869.43   98.67   97.74   99.63    0.99\n",
      "  9    4000        667.38   1657.19   98.95   98.45   99.45    0.99\n",
      " 10    4200        763.00   1672.52   98.81   97.97   99.66    0.99\n",
      " 11    4400        690.18   1501.63   99.23   99.09   99.37    0.99\n",
      " 11    4600        744.91   1381.25   99.41   99.17   99.64    0.99\n",
      " 12    4800        718.51   1287.20   99.32   99.18   99.46    0.99\n",
      " 13    5000        791.26   1260.14   99.40   99.25   99.56    0.99\n",
      " 14    5200        764.71   1192.85   99.42   99.53   99.30    0.99\n",
      " 14    5400        744.81   1071.30   99.54   99.32   99.77    1.00\n",
      " 15    5600        777.73   1064.89   99.57   99.59   99.56    1.00\n",
      " 16    5800        637.90   1000.41   99.62   99.50   99.73    1.00\n",
      " 17    6000        741.77   1073.00   99.58   99.41   99.74    1.00\n",
      " 17    6200        681.75    937.16   99.59   99.39   99.79    1.00\n",
      " 18    6400        709.69    879.01   99.54   99.45   99.64    1.00\n",
      " 19    6600        660.09    821.24   99.67   99.57   99.76    1.00\n",
      " 20    6800        687.10    842.45   99.69   99.67   99.71    1.00\n",
      " 20    7000        727.90    817.44   99.74   99.80   99.68    1.00\n",
      " 21    7200       1031.69    766.80   99.67   99.47   99.88    1.00\n",
      " 22    7400        697.36    772.59   99.62   99.73   99.52    1.00\n",
      " 23    7600        726.69    808.46   99.78   99.76   99.79    1.00\n",
      " 23    7800        667.37    679.06   99.76   99.71   99.82    1.00\n",
      " 24    8000        719.02    723.13   99.81   99.79   99.82    1.00\n",
      " 25    8200        824.95    659.90   99.74   99.83   99.65    1.00\n",
      " 26    8400        728.48    643.87   99.79   99.74   99.84    1.00\n",
      " 26    8600        697.46    636.98   99.77   99.80   99.74    1.00\n",
      " 27    8800        699.31    592.03   99.81   99.75   99.87    1.00\n",
      " 28    9000        727.79    648.99   99.79   99.71   99.86    1.00\n",
      " 29    9200        712.63    613.01   99.80   99.82   99.78    1.00\n",
      " 29    9400        741.78    603.00   99.77   99.67   99.86    1.00\n",
      " 30    9600        700.72    550.20   99.84   99.86   99.81    1.00\n",
      " 31    9800        772.08    541.71   99.80   99.71   99.88    1.00\n",
      " 32   10000        754.04    615.36   99.82   99.72   99.93    1.00\n",
      " 32   10200        781.39    556.13   99.80   99.68   99.92    1.00\n",
      " 33   10400        746.75    559.83   99.84   99.81   99.87    1.00\n",
      " 34   10600        712.46    530.16   99.84   99.92   99.76    1.00\n",
      " 35   10800        768.18    536.83   99.88   99.93   99.83    1.00\n",
      " 35   11000        898.69    514.14   99.77   99.77   99.77    1.00\n",
      " 36   11200        812.21    529.91   99.81   99.87   99.75    1.00\n",
      " 37   11400        955.34    522.12   99.85   99.78   99.92    1.00\n",
      " 38   11600        738.34    522.57   99.84   99.81   99.86    1.00\n",
      " 38   11800        708.04    467.49   99.89   99.85   99.94    1.00\n",
      " 39   12000        792.16    479.87   99.87   99.95   99.79    1.00\n",
      " 40   12200        720.37    447.26   99.89   99.88   99.91    1.00\n",
      " 41   12400       1010.17    492.39   99.86   99.80   99.91    1.00\n",
      " 41   12600        833.17    423.84   99.87   99.79   99.94    1.00\n",
      " 42   12800        921.20    412.71   99.86   99.81   99.91    1.00\n",
      " 43   13000        963.74    425.67   99.84   99.92   99.77    1.00\n",
      " 44   13200        966.93    454.23   99.88   99.90   99.85    1.00\n",
      " 44   13400        864.69    401.23   99.87   99.76   99.97    1.00\n",
      "[+] Saved pipeline to output directory\n",
      "output\\model-last\n",
      "\n",
      "Total keywords:  421\n",
      "List of Keywords:\n",
      "\n",
      " ['cheese', 'chicken', 'milk', 'butter', 'juice', 'cream', 'fruit', 'rice', 'water', 'garlic', 'bread', 'sugar', 'salt', 'chocolate', 'fish', 'yogurt', 'almond milk', 'greens', 'granola', 'nuts', 'chia seeds', 'whole', 'onions', 'apples', 'peanut butter', 'peaches', 'squash', 'soda', 'flour', 'garlic powder', 'buttermilk', 'potatoes', 'carrots', 'cottage cheese', 'sour cream', 'turkey', 'beans', 'cream cheese', 'bagel', 'pretzels', 'celery', 'white wine', 'fruit cocktail', 'crackers', 'whipped cream', 'margarine', 'ice cream', 'pineapple', 'whipped topping', 'mango', 'sausage', 'pork', 'onion powder', 'dried', 'parsley', 'eggs', 'beef', 'vegetables', 'rotisserie chicken', 'hot dogs', 'dips', 'meats', 'tuna', 'frozen entrees', 'soup', 'bacon', 'pasta', 'pizza', 'fried chicken', 'potato chips', 'cut', 'lean fish', 'cauliflower', 'cooked fish', 'honey', 'stuffed', 'dates', 'scallops', 'yuzu', 'shrimp', 'corn syrup', 'baking soda', 'molasses', 'yeast', 'cornmeal', 'vinegar', 'worcestershire sauce', 'mushrooms', 'broth', 'peppers', 'gravy', 'oats', 'guava', 'coconut', 'cake', 'lemon juice', 'strawberries', 'cheesecake', 'chicken nuggets', 'cinnamon', 'muffin', 'danish', 'pies', 'tomato sauce', 'apple juice', 'pickles', 'coffee', 'goat', 'baking powder', 'sesame seeds', 'pancakes', 'raspberries', 'cornstarch', 'hot sauce', 'grits', 'chives', 'tamarind paste', 'lime juice', 'tomatoes', 'cumin', 'chili powder', 'black pepper', 'pie crust', 'cooked rice', 'patties', 'nutmeg', 'peas', 'refried beans', 'bananas', 'okra', 'cabbage', 'syrup', 'juice concentrates', 'ketchup', 'basil', 'lentils', 'fruits', 'pesto', 'soy milk', 'hoisin sauce', 'sesame oil', 'chili sauce', 'peanuts', 'ham', 'mustard', 'bacon bits', 'chutney', 'sun dried tomatoes', 'boxes', 'string cheese', 'punch', 'waffles', 'crab', 'pasta salad', 'cereal', 'grapes', 'nectarines', 'pears', 'cashews', 'tea', 'pudding', 'coconut cream', 'coconut water', 'cocktail', 'walnuts', 'dough', 'roasted red peppers', 'whole wheat bread', 'thyme', 'mayonnaise', 'berries', 'coleslaw', 'tomato paste', 'oregano', 'canola oil', 'mung bean', 'ghee', 'avocado oil', 'almond oil', 'grapeseed oil', 'spelt', 'coconut milk', 'pure vanilla extract', 'butter flavor', 'olives', 'salsa', 'puff pastry', 'biscuits', 'orange juice', 'vegetable soup', 'garam masala', 'eggplant', 'pine nuts', 'coconut oil', 'quail', 'capers', 'apple cider vinegar', 'kefir', 'ricotta', 'cookie dough', 'base', 'corned beef', 'rye', 'meat products', 'cornish hens', 'fatty fish', 'miso', 'whole wheat flour', 'herbs', 'chicken salad', 'stews', 'leftovers', 'cream pies', 'quiche', 'asparagus', 'cilantro', 'sugar substitutes', 'cookies', 'potato salad', 'brussels sprouts', 'cherry tomatoes', 'taro', 'lamb', 'chocolate syrup', 'pectin', 'tortillas', 'nectar', 'rice milk', 'coconuts', 'turkey bacon', 'black bean sauce', 'tofu', 'oyster sauce', 'rosemary', 'papaya', 'powdered milk', 'popcorn', 'almond butter', 'cashew butter', 'hummus', 'lettuce', 'avocados', 'cantaloupe', 'canadian bacon', 'almonds', 'almond extract', 'pecans', 'apple cider', 'mint', 'carrot juice', 'beets', 'cranberry sauce', 'pate', 'buckwheat', 'seafood', 'prosciutto', 'cheese curds', 'bratwurst', 'coconut flour', 'kale', 'zucchini', 'cherries', 'polenta', 'aioli', 'anchovies', 'oils', 'pumpkin seeds', 'flaxseed', 'herring', 'chorizo', 'coffee creamer', 'egg dishes', 'quinoa', 'arugula', 'pistachios', 'veal', 'sausages', 'shellfish', 'leeks', 'venison', 'rabbit', 'pastrami', 'spaghetti sauce', 'jerky', 'dinners', 'goose', 'chicken parts', 'watermelon', 'capon', 'turducken', 'blueberries', 'salami', 'canned chicken', 'fruit drinks', 'red wine', 'canned goods', 'sunflower seeds', 'caviar', 'croutons', 'cucumbers', 'kimchi', 'crayfish', 'crab meat', 'crab legs', 'mussels', 'oysters', 'barley', 'soy flour', 'cooked pasta', 'farro', 'honeydew', 'star fruit', 'edamame', 'guacamole', 'balsamic vinegar', 'casseroles', 'passionfruit', 'fruit cake', 'pastries', 'marshmallows', 'fruit pies', 'brownie', 'tamarind', 'sorbet', 'duck fat', 'plums', 'apricots', 'pomegranate', 'cranberries', 'citrus fruit', 'kiwi fruit', 'plantains', 'artichokes', 'tapenade', 'bacon grease', 'parsnips', 'bamboo shoots', 'millet', 'beans and peas', 'radishes', 'rhubarb', 'almonds)', 'bok choy', 'jicama', 'swiss chard', 'melons', 'turnips', 'bean sprouts', 'kohlrabi', 'ginger root', 'lobster tails', 'tempeh', 'horseradish', 'barbecue sauce', 'marinades', 'relish', 'baby carrots', 'formula', 'nacho cheese', 'jellies', 'tahini', 'kumquats', 'bagged greens', 'egg salad', 'lemongrass', 'hot peppers', 'cinnamon rolls', 'ham salad', 'amaranth', 'pork roll', 'macadamias', 'sherbet', 'squid', 'prickly pear', 'applesauce', 'salad dressing', 'celery root', 'bison', 'preserves', 'milk solids', 'lemon extract', 'yuzu juice', 'macaroons', 'pork rinds', 'spaghetti squash', 'vegetable juice', 'doughnuts', 'radicchio', 'breadcrumbs', 'bulgur', 'pimento cheese', 'pheasant', 'pumpkins', 'cherimoya', 'rutabagas', 'dry egg noodles', 'jams', 'seafood salads', 'sunflower oil', 'cinnamon extract', 'coconut flavor', 'marinated vegetables', 'teff', 'fresh pasta', 'cooking wine', 'gelatin', 'duckling', 'nut oils', 'shortening', 'salad dressings', 'soup mixes', 'eggnog', 'giblets', 'ice pops', 'sauce mixes', 'toaster pastries', 'quark', 'vegan cheddar cheese', 'sorghum', 'kugel', 'variety meats'] \n",
      "\n",
      "\n"
     ]
    },
    {
     "name": "stdout",
     "output_type": "stream",
     "text": [
      "[[37  7]\n",
      " [ 5 34]]\n",
      "              precision    recall  f1-score   support\n",
      "\n",
      "           1       0.88      0.84      0.86        44\n",
      "           0       0.83      0.87      0.85        39\n",
      "\n",
      "    accuracy                           0.86        83\n",
      "   macro avg       0.86      0.86      0.86        83\n",
      "weighted avg       0.86      0.86      0.86        83\n",
      "\n",
      "Total keywords:  422\n",
      "Total Tweets:  7513\n",
      "List of Keywords:\n",
      "\n",
      " ['cheese', 'chicken', 'milk', 'butter', 'juice', 'cream', 'fruit', 'rice', 'water', 'garlic', 'bread', 'sugar', 'salt', 'chocolate', 'fish', 'yogurt', 'almond milk', 'greens', 'granola', 'nuts', 'chia seeds', 'whole', 'onions', 'apples', 'peanut butter', 'peaches', 'squash', 'soda', 'flour', 'garlic powder', 'buttermilk', 'potatoes', 'carrots', 'cottage cheese', 'sour cream', 'turkey', 'beans', 'cream cheese', 'bagel', 'pretzels', 'celery', 'white wine', 'fruit cocktail', 'crackers', 'whipped cream', 'margarine', 'ice cream', 'pineapple', 'whipped topping', 'mango', 'sausage', 'pork', 'onion powder', 'dried', 'parsley', 'eggs', 'beef', 'vegetables', 'rotisserie chicken', 'hot dogs', 'dips', 'meats', 'tuna', 'frozen entrees', 'soup', 'bacon', 'pasta', 'pizza', 'fried chicken', 'potato chips', 'cut', 'lean fish', 'cauliflower', 'cooked fish', 'honey', 'stuffed', 'dates', 'scallops', 'yuzu', 'shrimp', 'corn syrup', 'baking soda', 'molasses', 'yeast', 'cornmeal', 'vinegar', 'worcestershire sauce', 'mushrooms', 'broth', 'peppers', 'gravy', 'oats', 'guava', 'coconut', 'cake', 'lemon juice', 'strawberries', 'cheesecake', 'chicken nuggets', 'cinnamon', 'muffin', 'danish', 'pies', 'tomato sauce', 'apple juice', 'pickles', 'coffee', 'goat', 'baking powder', 'sesame seeds', 'pancakes', 'raspberries', 'cornstarch', 'hot sauce', 'grits', 'chives', 'tamarind paste', 'lime juice', 'tomatoes', 'cumin', 'chili powder', 'black pepper', 'pie crust', 'cooked rice', 'patties', 'nutmeg', 'peas', 'refried beans', 'bananas', 'okra', 'cabbage', 'syrup', 'juice concentrates', 'ketchup', 'basil', 'lentils', 'fruits', 'pesto', 'soy milk', 'hoisin sauce', 'sesame oil', 'chili sauce', 'peanuts', 'ham', 'mustard', 'bacon bits', 'chutney', 'sun dried tomatoes', 'boxes', 'string cheese', 'punch', 'waffles', 'crab', 'pasta salad', 'cereal', 'grapes', 'nectarines', 'pears', 'cashews', 'tea', 'pudding', 'coconut cream', 'coconut water', 'cocktail', 'walnuts', 'dough', 'roasted red peppers', 'whole wheat bread', 'thyme', 'mayonnaise', 'berries', 'coleslaw', 'tomato paste', 'oregano', 'canola oil', 'mung bean', 'ghee', 'avocado oil', 'almond oil', 'grapeseed oil', 'spelt', 'coconut milk', 'pure vanilla extract', 'butter flavor', 'olives', 'salsa', 'puff pastry', 'biscuits', 'orange juice', 'vegetable soup', 'garam masala', 'eggplant', 'pine nuts', 'coconut oil', 'quail', 'capers', 'apple cider vinegar', 'kefir', 'ricotta', 'cookie dough', 'base', 'corned beef', 'rye', 'meat products', 'cornish hens', 'fatty fish', 'miso', 'whole wheat flour', 'herbs', 'chicken salad', 'stews', 'leftovers', 'cream pies', 'quiche', 'asparagus', 'cilantro', 'sugar substitutes', 'cookies', 'potato salad', 'brussels sprouts', 'cherry tomatoes', 'taro', 'lamb', 'chocolate syrup', 'pectin', 'tortillas', 'nectar', 'rice milk', 'coconuts', 'turkey bacon', 'black bean sauce', 'tofu', 'oyster sauce', 'rosemary', 'papaya', 'powdered milk', 'popcorn', 'almond butter', 'cashew butter', 'hummus', 'lettuce', 'avocados', 'cantaloupe', 'canadian bacon', 'almonds', 'almond extract', 'pecans', 'apple cider', 'mint', 'carrot juice', 'beets', 'cranberry sauce', 'pate', 'buckwheat', 'seafood', 'prosciutto', 'cheese curds', 'bratwurst', 'coconut flour', 'kale', 'zucchini', 'cherries', 'polenta', 'aioli', 'anchovies', 'oils', 'pumpkin seeds', 'flaxseed', 'herring', 'chorizo', 'coffee creamer', 'egg dishes', 'quinoa', 'arugula', 'pistachios', 'veal', 'sausages', 'shellfish', 'leeks', 'venison', 'rabbit', 'pastrami', 'spaghetti sauce', 'jerky', 'dinners', 'goose', 'chicken parts', 'watermelon', 'capon', 'turducken', 'blueberries', 'salami', 'canned chicken', 'fruit drinks', 'red wine', 'canned goods', 'sunflower seeds', 'caviar', 'croutons', 'cucumbers', 'kimchi', 'crayfish', 'crab meat', 'crab legs', 'mussels', 'oysters', 'barley', 'soy flour', 'cooked pasta', 'farro', 'honeydew', 'star fruit', 'edamame', 'guacamole', 'balsamic vinegar', 'casseroles', 'passionfruit', 'fruit cake', 'pastries', 'marshmallows', 'fruit pies', 'brownie', 'tamarind', 'sorbet', 'duck fat', 'plums', 'apricots', 'pomegranate', 'cranberries', 'citrus fruit', 'kiwi fruit', 'plantains', 'artichokes', 'tapenade', 'bacon grease', 'parsnips', 'bamboo shoots', 'millet', 'beans and peas', 'radishes', 'rhubarb', 'almonds)', 'bok choy', 'jicama', 'swiss chard', 'melons', 'turnips', 'bean sprouts', 'kohlrabi', 'ginger root', 'lobster tails', 'tempeh', 'horseradish', 'barbecue sauce', 'marinades', 'relish', 'baby carrots', 'formula', 'nacho cheese', 'jellies', 'tahini', 'kumquats', 'bagged greens', 'egg salad', 'lemongrass', 'hot peppers', 'cinnamon rolls', 'ham salad', 'amaranth', 'pork roll', 'macadamias', 'sherbet', 'squid', 'prickly pear', 'applesauce', 'salad dressing', 'celery root', 'bison', 'preserves', 'milk solids', 'lemon extract', 'yuzu juice', 'macaroons', 'pork rinds', 'spaghetti squash', 'vegetable juice', 'doughnuts', 'radicchio', 'breadcrumbs', 'bulgur', 'pimento cheese', 'pheasant', 'pumpkins', 'cherimoya', 'rutabagas', 'dry egg noodles', 'jams', 'seafood salads', 'sunflower oil', 'cinnamon extract', 'coconut flavor', 'marinated vegetables', 'teff', 'fresh pasta', 'cooking wine', 'gelatin', 'duckling', 'nut oils', 'shortening', 'salad dressings', 'soup mixes', 'eggnog', 'giblets', 'ice pops', 'sauce mixes', 'toaster pastries', 'quark', 'vegan cheddar cheese', 'sorghum', 'kugel', 'variety meats', 'hard liquors'] \n",
      "\n",
      "\n",
      "~~~~~~~~~~~~~~~~~10~~~~~~~~~~~~~~~~~\n",
      "Model loaded...\n"
     ]
    },
    {
     "name": "stderr",
     "output_type": "stream",
     "text": [
      "  9%|▉         | 676/7191 [00:00<00:02, 2292.30it/s]"
     ]
    },
    {
     "name": "stdout",
     "output_type": "stream",
     "text": [
      "Skipping entity\n",
      "Skipping entity\n",
      "Skipping entity\n",
      "Skipping entity\n",
      "Skipping entity\n",
      "Skipping entity\n",
      "Skipping entity\n",
      "Skipping entity\n",
      "Skipping entity\n",
      "Skipping entity\n"
     ]
    },
    {
     "name": "stderr",
     "output_type": "stream",
     "text": [
      " 18%|█▊        | 1282/7191 [00:00<00:02, 2714.64it/s]"
     ]
    },
    {
     "name": "stdout",
     "output_type": "stream",
     "text": [
      "Skipping entity\n",
      "Skipping entity\n",
      "Skipping entity\n",
      "Skipping entity\n",
      "Skipping entity\n",
      "Skipping entity\n",
      "Skipping entity\n",
      "Skipping entity\n",
      "Skipping entity\n",
      "Skipping entity\n",
      "Skipping entity\n",
      "Skipping entity\n",
      "Skipping entity\n",
      "Skipping entity\n",
      "Skipping entity\n",
      "Skipping entity\n",
      "Skipping entity\n",
      "Skipping entity\n",
      "Skipping entity\n",
      "Skipping entity\n",
      "Skipping entity\n",
      "Skipping entity\n",
      "Skipping entity\n",
      "Skipping entity\n",
      "Skipping entity\n",
      "Skipping entity\n",
      "Skipping entity\n",
      "Skipping entity\n",
      "Skipping entity\n",
      "Skipping entity\n"
     ]
    },
    {
     "name": "stderr",
     "output_type": "stream",
     "text": [
      " 32%|███▏      | 2309/7191 [00:00<00:01, 3261.28it/s]"
     ]
    },
    {
     "name": "stdout",
     "output_type": "stream",
     "text": [
      "Skipping entity\n",
      "Skipping entity\n",
      "Skipping entity\n",
      "Skipping entity\n",
      "Skipping entity\n",
      "Skipping entity\n",
      "Skipping entity\n",
      "Skipping entity\n",
      "Skipping entity\n",
      "Skipping entity\n",
      "Skipping entity\n"
     ]
    },
    {
     "name": "stderr",
     "output_type": "stream",
     "text": [
      " 42%|████▏     | 3056/7191 [00:01<00:01, 3492.43it/s]"
     ]
    },
    {
     "name": "stdout",
     "output_type": "stream",
     "text": [
      "Skipping entity\n",
      "Skipping entity\n",
      "Skipping entity\n",
      "Skipping entity\n",
      "Skipping entity\n",
      "Skipping entity\n",
      "Skipping entity\n",
      "Skipping entity\n",
      "Skipping entity\n",
      "Skipping entity\n",
      "Skipping entity\n",
      "Skipping entity\n",
      "Skipping entity\n",
      "Skipping entity\n",
      "Skipping entity\n",
      "Skipping entity\n"
     ]
    },
    {
     "name": "stderr",
     "output_type": "stream",
     "text": [
      " 65%|██████▌   | 4695/7191 [00:01<00:00, 4050.76it/s]"
     ]
    },
    {
     "name": "stdout",
     "output_type": "stream",
     "text": [
      "Skipping entity\n",
      "Skipping entity\n",
      "Skipping entity\n",
      "Skipping entity\n",
      "Skipping entity\n",
      "Skipping entity\n",
      "Skipping entity\n",
      "Skipping entity\n",
      "Skipping entity\n",
      "Skipping entity\n",
      "Skipping entity\n",
      "Skipping entity\n",
      "Skipping entity\n",
      "Skipping entity\n",
      "Skipping entity\n",
      "Skipping entity\n",
      "Skipping entity\n",
      "Skipping entity\n",
      "Skipping entity\n",
      "Skipping entity\n",
      "Skipping entity\n",
      "Skipping entity\n",
      "Skipping entity\n",
      "Skipping entity\n",
      "Skipping entity\n",
      "Skipping entity\n",
      "Skipping entity\n",
      "Skipping entity\n",
      "Skipping entity\n",
      "Skipping entity\n",
      "Skipping entity\n",
      "Skipping entity\n",
      "Skipping entity\n",
      "Skipping entity\n",
      "Skipping entity\n",
      "Skipping entity\n",
      "Skipping entity\n",
      "Skipping entity\n"
     ]
    },
    {
     "name": "stderr",
     "output_type": "stream",
     "text": [
      " 77%|███████▋  | 5532/7191 [00:01<00:00, 4039.83it/s]"
     ]
    },
    {
     "name": "stdout",
     "output_type": "stream",
     "text": [
      "Skipping entity\n",
      "Skipping entity\n",
      "Skipping entity\n",
      "Skipping entity\n",
      "Skipping entity\n",
      "Skipping entity\n",
      "Skipping entity\n",
      "Skipping entity\n",
      "Skipping entity\n",
      "Skipping entity\n",
      "Skipping entity\n",
      "Skipping entity\n",
      "Skipping entity\n",
      "Skipping entity\n",
      "Skipping entity\n",
      "Skipping entity\n",
      "Skipping entity\n",
      "Skipping entity\n",
      "Skipping entity\n",
      "Skipping entity\n",
      "Skipping entity\n",
      "Skipping entity\n",
      "Skipping entity\n",
      "Skipping entity\n",
      "Skipping entity\n",
      "Skipping entity\n",
      "Skipping entity\n",
      "Skipping entity\n",
      "Skipping entity\n",
      "Skipping entity\n",
      "Skipping entity\n"
     ]
    },
    {
     "name": "stderr",
     "output_type": "stream",
     "text": [
      " 95%|█████████▍| 6806/7191 [00:01<00:00, 4169.16it/s]"
     ]
    },
    {
     "name": "stdout",
     "output_type": "stream",
     "text": [
      "Skipping entity\n",
      "Skipping entity\n",
      "Skipping entity\n",
      "Skipping entity\n",
      "Skipping entity\n",
      "Skipping entity\n",
      "Skipping entity\n",
      "Skipping entity\n",
      "Skipping entity\n",
      "Skipping entity\n",
      "Skipping entity\n",
      "Skipping entity\n",
      "Skipping entity\n",
      "Skipping entity\n",
      "Skipping entity\n",
      "Skipping entity\n",
      "Skipping entity\n",
      "Skipping entity\n",
      "Skipping entity\n",
      "Skipping entity\n",
      "Skipping entity\n",
      "Skipping entity\n",
      "Skipping entity\n"
     ]
    },
    {
     "name": "stderr",
     "output_type": "stream",
     "text": [
      "100%|██████████| 7191/7191 [00:01<00:00, 3596.66it/s]\n"
     ]
    },
    {
     "name": "stdout",
     "output_type": "stream",
     "text": [
      "Skipping entity\n",
      "Skipping entity\n",
      "Skipping entity\n",
      "Skipping entity\n",
      "Skipping entity\n",
      "Skipping entity\n",
      "Skipping entity\n",
      "Skipping entity\n",
      "Skipping entity\n",
      "Skipping entity\n",
      "Skipping entity\n",
      "Skipping entity\n",
      "[i] Saving to output directory: output\n",
      "[i] Using CPU\n",
      "\u001b[1m\n",
      "=========================== Initializing pipeline ===========================\u001b[0m\n",
      "[+] Initialized pipeline\n",
      "\u001b[1m\n",
      "============================= Training pipeline =============================\u001b[0m\n",
      "[i] Pipeline: ['tok2vec', 'ner']\n",
      "[i] Initial learn rate: 0.001\n",
      "E    #       LOSS TOK2VEC  LOSS NER  ENTS_F  ENTS_P  ENTS_R  SCORE \n",
      "---  ------  ------------  --------  ------  ------  ------  ------\n",
      "  0       0          0.00     33.67    1.81   11.21    0.98    0.02\n",
      "  0     200         98.05   2784.76   80.36   76.45   84.70    0.80\n",
      "  0     400         81.61   1482.38   85.50   80.64   90.99    0.86\n",
      "  0     600         80.01   1571.56   87.83   82.89   93.40    0.88\n",
      "  0     800         75.83   1529.92   90.10   86.05   94.54    0.90\n",
      "  0    1000         97.59   1670.56   90.86   86.00   96.32    0.91\n",
      "  0    1200        120.91   1980.99   92.40   89.12   95.93    0.92\n",
      "  1    1400        117.97   2123.18   92.36   88.42   96.68    0.92\n",
      "  1    1600        151.83   2346.84   93.94   91.61   96.39    0.94\n",
      "  1    1800        204.87   2900.69   94.42   91.28   97.77    0.94\n",
      "  2    2000        244.00   2858.27   95.34   93.58   97.17    0.95\n",
      "  3    2200        320.58   3392.70   96.15   94.09   98.30    0.96\n",
      "  3    2400        411.96   3303.73   96.88   95.24   98.57    0.97\n",
      "  4    2600        472.47   2971.02   97.25   96.18   98.35    0.97\n",
      "  5    2800        520.75   2693.48   97.85   97.33   98.38    0.98\n",
      "  6    3000        494.36   2491.32   97.98   96.71   99.28    0.98\n",
      "  6    3200        653.11   2208.42   98.40   98.01   98.79    0.98\n",
      "  7    3400        693.43   1945.91   98.61   98.11   99.12    0.99\n",
      "  8    3600        697.69   1779.81   98.75   98.05   99.47    0.99\n",
      "  9    3800        703.07   1765.46   98.89   98.19   99.60    0.99\n",
      "  9    4000        688.39   1628.76   99.21   98.86   99.56    0.99\n",
      " 10    4200        701.05   1387.77   99.33   99.06   99.59    0.99\n",
      " 11    4400        627.24   1334.74   99.22   99.20   99.23    0.99\n",
      " 12    4600        693.24   1337.63   99.43   99.28   99.58    0.99\n",
      " 13    4800        813.79   1151.96   99.36   99.15   99.58    0.99\n",
      " 13    5000        892.07   1176.05   99.42   99.15   99.68    0.99\n",
      " 14    5200        628.22   1080.38   99.46   99.30   99.63    0.99\n",
      " 15    5400        607.55   1023.60   99.65   99.67   99.63    1.00\n",
      " 16    5600        662.86    932.08   99.57   99.63   99.51    1.00\n",
      " 17    5800        680.21    959.76   99.61   99.41   99.82    1.00\n",
      " 17    6000        656.90    841.22   99.63   99.61   99.65    1.00\n",
      " 18    6200        666.25    823.99   99.66   99.74   99.57    1.00\n",
      " 19    6400        614.78    796.78   99.70   99.56   99.83    1.00\n",
      " 20    6600        793.62    743.68   99.67   99.46   99.89    1.00\n",
      " 20    6800        745.51    770.54   99.70   99.71   99.70    1.00\n",
      " 21    7000        690.90    704.31   99.74   99.64   99.85    1.00\n",
      " 22    7200        563.78    718.81   99.78   99.71   99.84    1.00\n",
      " 23    7400        679.92    678.86   99.75   99.80   99.70    1.00\n",
      " 24    7600        747.41    748.91   99.77   99.67   99.87    1.00\n",
      " 24    7800        799.06    638.09   99.75   99.84   99.67    1.00\n",
      " 25    8000        728.02    611.36   99.78   99.76   99.80    1.00\n",
      " 26    8200        672.06    571.66   99.79   99.75   99.83    1.00\n",
      " 27    8400        750.91    625.12   99.80   99.88   99.73    1.00\n",
      " 27    8600        719.19    631.52   99.84   99.76   99.92    1.00\n",
      " 28    8800        719.27    534.16   99.76   99.65   99.88    1.00\n",
      " 29    9000        829.45    572.86   99.83   99.82   99.84    1.00\n",
      " 30    9200        722.47    573.39   99.86   99.81   99.91    1.00\n",
      " 31    9400        756.63    539.30   99.84   99.81   99.87    1.00\n",
      " 31    9600        677.79    485.83   99.76   99.71   99.81    1.00\n",
      " 32    9800        958.39    537.31   99.85   99.84   99.87    1.00\n",
      " 33   10000        796.78    483.03   99.85   99.87   99.84    1.00\n",
      " 34   10200        786.05    490.56   99.89   99.89   99.90    1.00\n",
      " 34   10400        759.64    468.53   99.86   99.80   99.92    1.00\n",
      " 35   10600        834.26    439.28   99.89   99.91   99.86    1.00\n",
      " 36   10800        937.42    447.05   99.85   99.92   99.78    1.00\n",
      " 37   11000       1019.04    501.64   99.81   99.71   99.91    1.00\n",
      " 38   11200        846.72    469.29   99.88   99.86   99.91    1.00\n",
      " 38   11400       1089.42    464.12   99.89   99.90   99.88    1.00\n",
      " 39   11600        929.72    433.19   99.81   99.69   99.94    1.00\n",
      " 40   11800        851.76    429.88   99.85   99.81   99.90    1.00\n",
      "[+] Saved pipeline to output directory\n",
      "output\\model-last\n",
      "\n",
      "Total keywords:  422\n",
      "List of Keywords:\n",
      "\n",
      " ['cheese', 'chicken', 'milk', 'butter', 'juice', 'cream', 'fruit', 'rice', 'water', 'garlic', 'bread', 'sugar', 'salt', 'chocolate', 'fish', 'yogurt', 'almond milk', 'greens', 'granola', 'nuts', 'chia seeds', 'whole', 'onions', 'apples', 'peanut butter', 'peaches', 'squash', 'soda', 'flour', 'garlic powder', 'buttermilk', 'potatoes', 'carrots', 'cottage cheese', 'sour cream', 'turkey', 'beans', 'cream cheese', 'bagel', 'pretzels', 'celery', 'white wine', 'fruit cocktail', 'crackers', 'whipped cream', 'margarine', 'ice cream', 'pineapple', 'whipped topping', 'mango', 'sausage', 'pork', 'onion powder', 'dried', 'parsley', 'eggs', 'beef', 'vegetables', 'rotisserie chicken', 'hot dogs', 'dips', 'meats', 'tuna', 'frozen entrees', 'soup', 'bacon', 'pasta', 'pizza', 'fried chicken', 'potato chips', 'cut', 'lean fish', 'cauliflower', 'cooked fish', 'honey', 'stuffed', 'dates', 'scallops', 'yuzu', 'shrimp', 'corn syrup', 'baking soda', 'molasses', 'yeast', 'cornmeal', 'vinegar', 'worcestershire sauce', 'mushrooms', 'broth', 'peppers', 'gravy', 'oats', 'guava', 'coconut', 'cake', 'lemon juice', 'strawberries', 'cheesecake', 'chicken nuggets', 'cinnamon', 'muffin', 'danish', 'pies', 'tomato sauce', 'apple juice', 'pickles', 'coffee', 'goat', 'baking powder', 'sesame seeds', 'pancakes', 'raspberries', 'cornstarch', 'hot sauce', 'grits', 'chives', 'tamarind paste', 'lime juice', 'tomatoes', 'cumin', 'chili powder', 'black pepper', 'pie crust', 'cooked rice', 'patties', 'nutmeg', 'peas', 'refried beans', 'bananas', 'okra', 'cabbage', 'syrup', 'juice concentrates', 'ketchup', 'basil', 'lentils', 'fruits', 'pesto', 'soy milk', 'hoisin sauce', 'sesame oil', 'chili sauce', 'peanuts', 'ham', 'mustard', 'bacon bits', 'chutney', 'sun dried tomatoes', 'boxes', 'string cheese', 'punch', 'waffles', 'crab', 'pasta salad', 'cereal', 'grapes', 'nectarines', 'pears', 'cashews', 'tea', 'pudding', 'coconut cream', 'coconut water', 'cocktail', 'walnuts', 'dough', 'roasted red peppers', 'whole wheat bread', 'thyme', 'mayonnaise', 'berries', 'coleslaw', 'tomato paste', 'oregano', 'canola oil', 'mung bean', 'ghee', 'avocado oil', 'almond oil', 'grapeseed oil', 'spelt', 'coconut milk', 'pure vanilla extract', 'butter flavor', 'olives', 'salsa', 'puff pastry', 'biscuits', 'orange juice', 'vegetable soup', 'garam masala', 'eggplant', 'pine nuts', 'coconut oil', 'quail', 'capers', 'apple cider vinegar', 'kefir', 'ricotta', 'cookie dough', 'base', 'corned beef', 'rye', 'meat products', 'cornish hens', 'fatty fish', 'miso', 'whole wheat flour', 'herbs', 'chicken salad', 'stews', 'leftovers', 'cream pies', 'quiche', 'asparagus', 'cilantro', 'sugar substitutes', 'cookies', 'potato salad', 'brussels sprouts', 'cherry tomatoes', 'taro', 'lamb', 'chocolate syrup', 'pectin', 'tortillas', 'nectar', 'rice milk', 'coconuts', 'turkey bacon', 'black bean sauce', 'tofu', 'oyster sauce', 'rosemary', 'papaya', 'powdered milk', 'popcorn', 'almond butter', 'cashew butter', 'hummus', 'lettuce', 'avocados', 'cantaloupe', 'canadian bacon', 'almonds', 'almond extract', 'pecans', 'apple cider', 'mint', 'carrot juice', 'beets', 'cranberry sauce', 'pate', 'buckwheat', 'seafood', 'prosciutto', 'cheese curds', 'bratwurst', 'coconut flour', 'kale', 'zucchini', 'cherries', 'polenta', 'aioli', 'anchovies', 'oils', 'pumpkin seeds', 'flaxseed', 'herring', 'chorizo', 'coffee creamer', 'egg dishes', 'quinoa', 'arugula', 'pistachios', 'veal', 'sausages', 'shellfish', 'leeks', 'venison', 'rabbit', 'pastrami', 'spaghetti sauce', 'jerky', 'dinners', 'goose', 'chicken parts', 'watermelon', 'capon', 'turducken', 'blueberries', 'salami', 'canned chicken', 'fruit drinks', 'red wine', 'canned goods', 'sunflower seeds', 'caviar', 'croutons', 'cucumbers', 'kimchi', 'crayfish', 'crab meat', 'crab legs', 'mussels', 'oysters', 'barley', 'soy flour', 'cooked pasta', 'farro', 'honeydew', 'star fruit', 'edamame', 'guacamole', 'balsamic vinegar', 'casseroles', 'passionfruit', 'fruit cake', 'pastries', 'marshmallows', 'fruit pies', 'brownie', 'tamarind', 'sorbet', 'duck fat', 'plums', 'apricots', 'pomegranate', 'cranberries', 'citrus fruit', 'kiwi fruit', 'plantains', 'artichokes', 'tapenade', 'bacon grease', 'parsnips', 'bamboo shoots', 'millet', 'beans and peas', 'radishes', 'rhubarb', 'almonds)', 'bok choy', 'jicama', 'swiss chard', 'melons', 'turnips', 'bean sprouts', 'kohlrabi', 'ginger root', 'lobster tails', 'tempeh', 'horseradish', 'barbecue sauce', 'marinades', 'relish', 'baby carrots', 'formula', 'nacho cheese', 'jellies', 'tahini', 'kumquats', 'bagged greens', 'egg salad', 'lemongrass', 'hot peppers', 'cinnamon rolls', 'ham salad', 'amaranth', 'pork roll', 'macadamias', 'sherbet', 'squid', 'prickly pear', 'applesauce', 'salad dressing', 'celery root', 'bison', 'preserves', 'milk solids', 'lemon extract', 'yuzu juice', 'macaroons', 'pork rinds', 'spaghetti squash', 'vegetable juice', 'doughnuts', 'radicchio', 'breadcrumbs', 'bulgur', 'pimento cheese', 'pheasant', 'pumpkins', 'cherimoya', 'rutabagas', 'dry egg noodles', 'jams', 'seafood salads', 'sunflower oil', 'cinnamon extract', 'coconut flavor', 'marinated vegetables', 'teff', 'fresh pasta', 'cooking wine', 'gelatin', 'duckling', 'nut oils', 'shortening', 'salad dressings', 'soup mixes', 'eggnog', 'giblets', 'ice pops', 'sauce mixes', 'toaster pastries', 'quark', 'vegan cheddar cheese', 'sorghum', 'kugel', 'variety meats', 'hard liquors'] \n",
      "\n",
      "\n"
     ]
    },
    {
     "name": "stdout",
     "output_type": "stream",
     "text": [
      "[[37  7]\n",
      " [ 4 35]]\n",
      "              precision    recall  f1-score   support\n",
      "\n",
      "           1       0.90      0.84      0.87        44\n",
      "           0       0.83      0.90      0.86        39\n",
      "\n",
      "    accuracy                           0.87        83\n",
      "   macro avg       0.87      0.87      0.87        83\n",
      "weighted avg       0.87      0.87      0.87        83\n",
      "\n",
      "Total keywords:  423\n",
      "Total Tweets:  7191\n",
      "List of Keywords:\n",
      "\n",
      " ['cheese', 'chicken', 'milk', 'butter', 'juice', 'cream', 'fruit', 'rice', 'water', 'garlic', 'bread', 'sugar', 'salt', 'chocolate', 'fish', 'yogurt', 'almond milk', 'greens', 'granola', 'nuts', 'chia seeds', 'whole', 'onions', 'apples', 'peanut butter', 'peaches', 'squash', 'soda', 'flour', 'garlic powder', 'buttermilk', 'potatoes', 'carrots', 'cottage cheese', 'sour cream', 'turkey', 'beans', 'cream cheese', 'bagel', 'pretzels', 'celery', 'white wine', 'fruit cocktail', 'crackers', 'whipped cream', 'margarine', 'ice cream', 'pineapple', 'whipped topping', 'mango', 'sausage', 'pork', 'onion powder', 'dried', 'parsley', 'eggs', 'beef', 'vegetables', 'rotisserie chicken', 'hot dogs', 'dips', 'meats', 'tuna', 'frozen entrees', 'soup', 'bacon', 'pasta', 'pizza', 'fried chicken', 'potato chips', 'cut', 'lean fish', 'cauliflower', 'cooked fish', 'honey', 'stuffed', 'dates', 'scallops', 'yuzu', 'shrimp', 'corn syrup', 'baking soda', 'molasses', 'yeast', 'cornmeal', 'vinegar', 'worcestershire sauce', 'mushrooms', 'broth', 'peppers', 'gravy', 'oats', 'guava', 'coconut', 'cake', 'lemon juice', 'strawberries', 'cheesecake', 'chicken nuggets', 'cinnamon', 'muffin', 'danish', 'pies', 'tomato sauce', 'apple juice', 'pickles', 'coffee', 'goat', 'baking powder', 'sesame seeds', 'pancakes', 'raspberries', 'cornstarch', 'hot sauce', 'grits', 'chives', 'tamarind paste', 'lime juice', 'tomatoes', 'cumin', 'chili powder', 'black pepper', 'pie crust', 'cooked rice', 'patties', 'nutmeg', 'peas', 'refried beans', 'bananas', 'okra', 'cabbage', 'syrup', 'juice concentrates', 'ketchup', 'basil', 'lentils', 'fruits', 'pesto', 'soy milk', 'hoisin sauce', 'sesame oil', 'chili sauce', 'peanuts', 'ham', 'mustard', 'bacon bits', 'chutney', 'sun dried tomatoes', 'boxes', 'string cheese', 'punch', 'waffles', 'crab', 'pasta salad', 'cereal', 'grapes', 'nectarines', 'pears', 'cashews', 'tea', 'pudding', 'coconut cream', 'coconut water', 'cocktail', 'walnuts', 'dough', 'roasted red peppers', 'whole wheat bread', 'thyme', 'mayonnaise', 'berries', 'coleslaw', 'tomato paste', 'oregano', 'canola oil', 'mung bean', 'ghee', 'avocado oil', 'almond oil', 'grapeseed oil', 'spelt', 'coconut milk', 'pure vanilla extract', 'butter flavor', 'olives', 'salsa', 'puff pastry', 'biscuits', 'orange juice', 'vegetable soup', 'garam masala', 'eggplant', 'pine nuts', 'coconut oil', 'quail', 'capers', 'apple cider vinegar', 'kefir', 'ricotta', 'cookie dough', 'base', 'corned beef', 'rye', 'meat products', 'cornish hens', 'fatty fish', 'miso', 'whole wheat flour', 'herbs', 'chicken salad', 'stews', 'leftovers', 'cream pies', 'quiche', 'asparagus', 'cilantro', 'sugar substitutes', 'cookies', 'potato salad', 'brussels sprouts', 'cherry tomatoes', 'taro', 'lamb', 'chocolate syrup', 'pectin', 'tortillas', 'nectar', 'rice milk', 'coconuts', 'turkey bacon', 'black bean sauce', 'tofu', 'oyster sauce', 'rosemary', 'papaya', 'powdered milk', 'popcorn', 'almond butter', 'cashew butter', 'hummus', 'lettuce', 'avocados', 'cantaloupe', 'canadian bacon', 'almonds', 'almond extract', 'pecans', 'apple cider', 'mint', 'carrot juice', 'beets', 'cranberry sauce', 'pate', 'buckwheat', 'seafood', 'prosciutto', 'cheese curds', 'bratwurst', 'coconut flour', 'kale', 'zucchini', 'cherries', 'polenta', 'aioli', 'anchovies', 'oils', 'pumpkin seeds', 'flaxseed', 'herring', 'chorizo', 'coffee creamer', 'egg dishes', 'quinoa', 'arugula', 'pistachios', 'veal', 'sausages', 'shellfish', 'leeks', 'venison', 'rabbit', 'pastrami', 'spaghetti sauce', 'jerky', 'dinners', 'goose', 'chicken parts', 'watermelon', 'capon', 'turducken', 'blueberries', 'salami', 'canned chicken', 'fruit drinks', 'red wine', 'canned goods', 'sunflower seeds', 'caviar', 'croutons', 'cucumbers', 'kimchi', 'crayfish', 'crab meat', 'crab legs', 'mussels', 'oysters', 'barley', 'soy flour', 'cooked pasta', 'farro', 'honeydew', 'star fruit', 'edamame', 'guacamole', 'balsamic vinegar', 'casseroles', 'passionfruit', 'fruit cake', 'pastries', 'marshmallows', 'fruit pies', 'brownie', 'tamarind', 'sorbet', 'duck fat', 'plums', 'apricots', 'pomegranate', 'cranberries', 'citrus fruit', 'kiwi fruit', 'plantains', 'artichokes', 'tapenade', 'bacon grease', 'parsnips', 'bamboo shoots', 'millet', 'beans and peas', 'radishes', 'rhubarb', 'almonds)', 'bok choy', 'jicama', 'swiss chard', 'melons', 'turnips', 'bean sprouts', 'kohlrabi', 'ginger root', 'lobster tails', 'tempeh', 'horseradish', 'barbecue sauce', 'marinades', 'relish', 'baby carrots', 'formula', 'nacho cheese', 'jellies', 'tahini', 'kumquats', 'bagged greens', 'egg salad', 'lemongrass', 'hot peppers', 'cinnamon rolls', 'ham salad', 'amaranth', 'pork roll', 'macadamias', 'sherbet', 'squid', 'prickly pear', 'applesauce', 'salad dressing', 'celery root', 'bison', 'preserves', 'milk solids', 'lemon extract', 'yuzu juice', 'macaroons', 'pork rinds', 'spaghetti squash', 'vegetable juice', 'doughnuts', 'radicchio', 'breadcrumbs', 'bulgur', 'pimento cheese', 'pheasant', 'pumpkins', 'cherimoya', 'rutabagas', 'dry egg noodles', 'jams', 'seafood salads', 'sunflower oil', 'cinnamon extract', 'coconut flavor', 'marinated vegetables', 'teff', 'fresh pasta', 'cooking wine', 'gelatin', 'duckling', 'nut oils', 'shortening', 'salad dressings', 'soup mixes', 'eggnog', 'giblets', 'ice pops', 'sauce mixes', 'toaster pastries', 'quark', 'vegan cheddar cheese', 'sorghum', 'kugel', 'variety meats', 'hard liquors', 'frying oil'] \n",
      "\n",
      "\n",
      "~~~~~~~~~~~~~~~~~11~~~~~~~~~~~~~~~~~\n",
      "Model loaded...\n"
     ]
    },
    {
     "name": "stderr",
     "output_type": "stream",
     "text": [
      " 11%|█         | 799/7563 [00:00<00:02, 2700.39it/s]"
     ]
    },
    {
     "name": "stdout",
     "output_type": "stream",
     "text": [
      "Skipping entity\n",
      "Skipping entity\n",
      "Skipping entity\n",
      "Skipping entity\n",
      "Skipping entity\n",
      "Skipping entity\n",
      "Skipping entity\n",
      "Skipping entity\n",
      "Skipping entity\n",
      "Skipping entity\n",
      "Skipping entity\n",
      "Skipping entity\n",
      "Skipping entity\n",
      "Skipping entity\n",
      "Skipping entity\n"
     ]
    },
    {
     "name": "stderr",
     "output_type": "stream",
     "text": [
      " 19%|█▊        | 1416/7563 [00:00<00:02, 2943.67it/s]"
     ]
    },
    {
     "name": "stdout",
     "output_type": "stream",
     "text": [
      "Skipping entity\n",
      "Skipping entity\n",
      "Skipping entity\n",
      "Skipping entity\n",
      "Skipping entity\n",
      "Skipping entity\n",
      "Skipping entity\n",
      "Skipping entity\n",
      "Skipping entity\n",
      "Skipping entity\n",
      "Skipping entity\n",
      "Skipping entity\n",
      "Skipping entity\n",
      "Skipping entity\n",
      "Skipping entity\n",
      "Skipping entity\n",
      "Skipping entity\n",
      "Skipping entity\n",
      "Skipping entity\n",
      "Skipping entity\n",
      "Skipping entity\n",
      "Skipping entity\n",
      "Skipping entity\n",
      "Skipping entity\n",
      "Skipping entity\n",
      "Skipping entity\n",
      "Skipping entity\n",
      "Skipping entity\n",
      "Skipping entity\n",
      "Skipping entity\n",
      "Skipping entity\n",
      "Skipping entity\n",
      "Skipping entity\n"
     ]
    },
    {
     "name": "stderr",
     "output_type": "stream",
     "text": [
      " 34%|███▎      | 2549/7563 [00:00<00:01, 3579.91it/s]"
     ]
    },
    {
     "name": "stdout",
     "output_type": "stream",
     "text": [
      "Skipping entity\n",
      "Skipping entity\n",
      "Skipping entity\n",
      "Skipping entity\n",
      "Skipping entity\n",
      "Skipping entity\n",
      "Skipping entity\n",
      "Skipping entity\n",
      "Skipping entity\n",
      "Skipping entity\n",
      "Skipping entity\n",
      "Skipping entity\n",
      "Skipping entity\n",
      "Skipping entity\n",
      "Skipping entity\n",
      "Skipping entity\n",
      "Skipping entity\n",
      "Skipping entity\n",
      "Skipping entity\n",
      "Skipping entity\n",
      "Skipping entity\n",
      "Skipping entity\n",
      "Skipping entity\n",
      "Skipping entity\n",
      "Skipping entity\n",
      "Skipping entity\n"
     ]
    },
    {
     "name": "stderr",
     "output_type": "stream",
     "text": [
      " 56%|█████▋    | 4272/7563 [00:01<00:00, 4104.30it/s]"
     ]
    },
    {
     "name": "stdout",
     "output_type": "stream",
     "text": [
      "Skipping entity\n",
      "Skipping entity\n",
      "Skipping entity\n",
      "Skipping entity\n",
      "Skipping entity\n",
      "Skipping entity\n",
      "Skipping entity\n",
      "Skipping entity\n",
      "Skipping entity\n",
      "Skipping entity\n",
      "Skipping entity\n",
      "Skipping entity\n",
      "Skipping entity\n",
      "Skipping entity\n",
      "Skipping entity\n",
      "Skipping entity\n",
      "Skipping entity\n",
      "Skipping entity\n",
      "Skipping entity\n",
      "Skipping entity\n",
      "Skipping entity\n",
      "Skipping entity\n",
      "Skipping entity\n",
      "Skipping entity\n",
      "Skipping entity\n",
      "Skipping entity\n",
      "Skipping entity\n",
      "Skipping entity\n",
      "Skipping entity\n",
      "Skipping entity\n",
      "Skipping entity\n"
     ]
    },
    {
     "name": "stderr",
     "output_type": "stream",
     "text": [
      " 73%|███████▎  | 5525/7563 [00:01<00:00, 4070.17it/s]"
     ]
    },
    {
     "name": "stdout",
     "output_type": "stream",
     "text": [
      "Skipping entity\n",
      "Skipping entity\n",
      "Skipping entity\n",
      "Skipping entity\n",
      "Skipping entity\n",
      "Skipping entity\n",
      "Skipping entity\n",
      "Skipping entity\n",
      "Skipping entity\n",
      "Skipping entity\n",
      "Skipping entity\n",
      "Skipping entity\n",
      "Skipping entity\n",
      "Skipping entity\n",
      "Skipping entity\n",
      "Skipping entity\n",
      "Skipping entity\n",
      "Skipping entity\n",
      "Skipping entity\n",
      "Skipping entity\n",
      "Skipping entity\n",
      "Skipping entity\n",
      "Skipping entity\n",
      "Skipping entity\n",
      "Skipping entity\n",
      "Skipping entity\n"
     ]
    },
    {
     "name": "stderr",
     "output_type": "stream",
     "text": [
      " 84%|████████▍ | 6337/7563 [00:01<00:00, 3909.68it/s]"
     ]
    },
    {
     "name": "stdout",
     "output_type": "stream",
     "text": [
      "Skipping entity\n",
      "Skipping entity\n",
      "Skipping entity\n",
      "Skipping entity\n",
      "Skipping entity\n",
      "Skipping entity\n",
      "Skipping entity\n",
      "Skipping entity\n",
      "Skipping entity\n",
      "Skipping entity\n",
      "Skipping entity\n",
      "Skipping entity\n",
      "Skipping entity\n",
      "Skipping entity\n",
      "Skipping entity\n",
      "Skipping entity\n",
      "Skipping entity\n",
      "Skipping entity\n",
      "Skipping entity\n",
      "Skipping entity\n",
      "Skipping entity\n",
      "Skipping entity\n",
      "Skipping entity\n",
      "Skipping entity\n",
      "Skipping entity\n",
      "Skipping entity\n",
      "Skipping entity\n",
      "Skipping entity\n",
      "Skipping entity\n",
      "Skipping entity\n",
      "Skipping entity\n",
      "Skipping entity\n"
     ]
    },
    {
     "name": "stderr",
     "output_type": "stream",
     "text": [
      " 94%|█████████▍| 7130/7563 [00:01<00:00, 3882.48it/s]"
     ]
    },
    {
     "name": "stdout",
     "output_type": "stream",
     "text": [
      "Skipping entity\n",
      "Skipping entity\n",
      "Skipping entity\n",
      "Skipping entity\n",
      "Skipping entity\n",
      "Skipping entity\n",
      "Skipping entity\n",
      "Skipping entity\n",
      "Skipping entity\n",
      "Skipping entity\n",
      "Skipping entity\n",
      "Skipping entity\n",
      "Skipping entity\n",
      "Skipping entity\n",
      "Skipping entity\n",
      "Skipping entity\n",
      "Skipping entity\n",
      "Skipping entity\n",
      "Skipping entity\n",
      "Skipping entity\n",
      "Skipping entity\n",
      "Skipping entity\n",
      "Skipping entity\n",
      "Skipping entity\n",
      "Skipping entity\n",
      "Skipping entity\n",
      "Skipping entity\n",
      "Skipping entity\n",
      "Skipping entity\n"
     ]
    },
    {
     "name": "stderr",
     "output_type": "stream",
     "text": [
      "100%|██████████| 7563/7563 [00:02<00:00, 3707.35it/s]\n"
     ]
    },
    {
     "name": "stdout",
     "output_type": "stream",
     "text": [
      "[i] Saving to output directory: output\n",
      "[i] Using CPU\n",
      "\u001b[1m\n",
      "=========================== Initializing pipeline ===========================\u001b[0m\n",
      "[+] Initialized pipeline\n",
      "\u001b[1m\n",
      "============================= Training pipeline =============================\u001b[0m\n",
      "[i] Pipeline: ['tok2vec', 'ner']\n",
      "[i] Initial learn rate: 0.001\n",
      "E    #       LOSS TOK2VEC  LOSS NER  ENTS_F  ENTS_P  ENTS_R  SCORE \n",
      "---  ------  ------------  --------  ------  ------  ------  ------\n",
      "  0       0          0.00     39.33    1.10    1.18    1.03    0.01\n",
      "  0     200         70.56   2708.43   76.15   76.26   76.03    0.76\n",
      "  0     400         71.37   1537.34   85.84   80.44   92.02    0.86\n",
      "  0     600         76.73   1506.62   88.31   83.88   93.24    0.88\n",
      "  0     800         79.89   1692.15   89.64   84.36   95.63    0.90\n",
      "  0    1000        316.24   1854.38   90.79   87.22   94.66    0.91\n",
      "  0    1200        102.51   2033.06   91.51   87.05   96.45    0.92\n",
      "  1    1400        108.07   2259.42   92.52   88.30   97.17    0.93\n",
      "  1    1600        164.12   2444.46   93.20   90.57   96.00    0.93\n",
      "  1    1800        183.58   2957.17   93.69   90.10   97.58    0.94\n",
      "  2    2000        235.41   3175.80   94.84   92.04   97.80    0.95\n",
      "  2    2200        316.65   3695.48   95.68   93.17   98.32    0.96\n",
      "  3    2400        414.91   3538.90   96.42   94.54   98.38    0.96\n",
      "  4    2600        477.67   3279.67   97.13   95.76   98.55    0.97\n",
      "  5    2800        497.75   2993.82   97.46   96.23   98.72    0.97\n",
      "  5    3000        571.01   2633.25   96.97   94.71   99.34    0.97\n",
      "  6    3200        577.25   2449.64   98.24   97.83   98.66    0.98\n",
      "  7    3400        597.24   2084.69   98.38   97.35   99.43    0.98\n",
      "  8    3600        672.28   2110.40   98.65   98.23   99.08    0.99\n",
      "  8    3800        663.08   1748.72   98.90   98.39   99.41    0.99\n",
      "  9    4000        729.46   1704.32   98.96   98.89   99.03    0.99\n",
      " 10    4200        682.00   1566.39   99.14   98.79   99.49    0.99\n",
      " 11    4400        732.14   1562.09   99.28   98.99   99.56    0.99\n",
      " 11    4600        660.63   1340.58   99.36   99.20   99.53    0.99\n",
      " 12    4800        736.53   1184.78   99.34   99.09   99.58    0.99\n",
      " 13    5000        689.91   1264.92   99.28   98.80   99.76    0.99\n",
      " 14    5200        675.84   1189.90   99.55   99.60   99.51    1.00\n",
      " 14    5400        660.67    992.54   99.53   99.24   99.81    1.00\n",
      " 15    5600        718.11   1075.80   99.53   99.53   99.54    1.00\n",
      " 16    5800        709.27   1070.31   99.55   99.42   99.69    1.00\n",
      " 16    6000        791.90   1014.67   99.58   99.44   99.72    1.00\n",
      " 17    6200        685.42    921.32   99.67   99.62   99.72    1.00\n",
      " 18    6400        664.45    830.69   99.62   99.59   99.64    1.00\n",
      " 19    6600        783.19    866.06   99.67   99.55   99.79    1.00\n",
      " 19    6800        724.95    822.49   99.69   99.64   99.74    1.00\n",
      " 20    7000        708.03    802.74   99.77   99.78   99.76    1.00\n",
      " 21    7200        682.41    745.45   99.71   99.64   99.77    1.00\n",
      " 22    7400        939.67    767.57   99.75   99.68   99.82    1.00\n",
      " 22    7600        733.71    772.36   99.79   99.79   99.80    1.00\n",
      " 23    7800        753.11    721.45   99.75   99.76   99.73    1.00\n",
      " 24    8000        696.57    702.05   99.79   99.80   99.78    1.00\n",
      " 25    8200        959.97    713.87   99.78   99.67   99.90    1.00\n",
      " 25    8400        683.52    648.97   99.75   99.60   99.90    1.00\n",
      " 26    8600        739.29    568.71   99.83   99.80   99.86    1.00\n",
      " 27    8800        771.19    694.94   99.75   99.68   99.83    1.00\n",
      " 28    9000        711.03    644.26   99.84   99.82   99.86    1.00\n",
      " 28    9200        780.58    593.76   99.79   99.68   99.90    1.00\n",
      " 29    9400        798.15    615.07   99.78   99.74   99.83    1.00\n",
      " 30    9600        642.93    589.72   99.75   99.59   99.91    1.00\n",
      " 31    9800        716.49    658.45   99.84   99.77   99.90    1.00\n",
      " 31   10000        933.68    554.72   99.80   99.65   99.94    1.00\n",
      " 32   10200        694.02    532.00   99.82   99.87   99.77    1.00\n",
      " 33   10400        841.64    536.88   99.82   99.76   99.88    1.00\n",
      " 34   10600        847.92    559.64   99.84   99.87   99.82    1.00\n",
      " 34   10800        919.35    487.72   99.84   99.77   99.90    1.00\n",
      " 35   11000        876.57    451.19   99.80   99.73   99.87    1.00\n",
      " 36   11200        973.49    529.38   99.88   99.87   99.89    1.00\n",
      " 37   11400        767.44    541.36   99.88   99.91   99.85    1.00\n",
      " 37   11600       1041.06    507.44   99.87   99.85   99.88    1.00\n",
      " 38   11800        848.82    499.99   99.87   99.85   99.89    1.00\n",
      " 39   12000        842.17    478.24   99.87   99.87   99.87    1.00\n",
      " 40   12200        920.13    477.18   99.91   99.88   99.93    1.00\n",
      " 40   12400       1053.82    494.01   99.87   99.89   99.84    1.00\n",
      " 41   12600       1178.68    487.79   99.86   99.90   99.83    1.00\n",
      " 42   12800       1033.94    460.75   99.86   99.80   99.92    1.00\n",
      " 43   13000        892.80    434.57   99.91   99.91   99.90    1.00\n",
      " 43   13200       1024.23    393.86   99.88   99.92   99.84    1.00\n",
      " 44   13400        912.95    439.05   99.90   99.84   99.95    1.00\n",
      " 45   13600       1106.79    411.35   99.89   99.86   99.92    1.00\n",
      " 45   13800       1132.00    473.84   99.90   99.94   99.86    1.00\n",
      "[+] Saved pipeline to output directory\n",
      "output\\model-last\n",
      "\n",
      "Total keywords:  423\n",
      "List of Keywords:\n",
      "\n",
      " ['cheese', 'chicken', 'milk', 'butter', 'juice', 'cream', 'fruit', 'rice', 'water', 'garlic', 'bread', 'sugar', 'salt', 'chocolate', 'fish', 'yogurt', 'almond milk', 'greens', 'granola', 'nuts', 'chia seeds', 'whole', 'onions', 'apples', 'peanut butter', 'peaches', 'squash', 'soda', 'flour', 'garlic powder', 'buttermilk', 'potatoes', 'carrots', 'cottage cheese', 'sour cream', 'turkey', 'beans', 'cream cheese', 'bagel', 'pretzels', 'celery', 'white wine', 'fruit cocktail', 'crackers', 'whipped cream', 'margarine', 'ice cream', 'pineapple', 'whipped topping', 'mango', 'sausage', 'pork', 'onion powder', 'dried', 'parsley', 'eggs', 'beef', 'vegetables', 'rotisserie chicken', 'hot dogs', 'dips', 'meats', 'tuna', 'frozen entrees', 'soup', 'bacon', 'pasta', 'pizza', 'fried chicken', 'potato chips', 'cut', 'lean fish', 'cauliflower', 'cooked fish', 'honey', 'stuffed', 'dates', 'scallops', 'yuzu', 'shrimp', 'corn syrup', 'baking soda', 'molasses', 'yeast', 'cornmeal', 'vinegar', 'worcestershire sauce', 'mushrooms', 'broth', 'peppers', 'gravy', 'oats', 'guava', 'coconut', 'cake', 'lemon juice', 'strawberries', 'cheesecake', 'chicken nuggets', 'cinnamon', 'muffin', 'danish', 'pies', 'tomato sauce', 'apple juice', 'pickles', 'coffee', 'goat', 'baking powder', 'sesame seeds', 'pancakes', 'raspberries', 'cornstarch', 'hot sauce', 'grits', 'chives', 'tamarind paste', 'lime juice', 'tomatoes', 'cumin', 'chili powder', 'black pepper', 'pie crust', 'cooked rice', 'patties', 'nutmeg', 'peas', 'refried beans', 'bananas', 'okra', 'cabbage', 'syrup', 'juice concentrates', 'ketchup', 'basil', 'lentils', 'fruits', 'pesto', 'soy milk', 'hoisin sauce', 'sesame oil', 'chili sauce', 'peanuts', 'ham', 'mustard', 'bacon bits', 'chutney', 'sun dried tomatoes', 'boxes', 'string cheese', 'punch', 'waffles', 'crab', 'pasta salad', 'cereal', 'grapes', 'nectarines', 'pears', 'cashews', 'tea', 'pudding', 'coconut cream', 'coconut water', 'cocktail', 'walnuts', 'dough', 'roasted red peppers', 'whole wheat bread', 'thyme', 'mayonnaise', 'berries', 'coleslaw', 'tomato paste', 'oregano', 'canola oil', 'mung bean', 'ghee', 'avocado oil', 'almond oil', 'grapeseed oil', 'spelt', 'coconut milk', 'pure vanilla extract', 'butter flavor', 'olives', 'salsa', 'puff pastry', 'biscuits', 'orange juice', 'vegetable soup', 'garam masala', 'eggplant', 'pine nuts', 'coconut oil', 'quail', 'capers', 'apple cider vinegar', 'kefir', 'ricotta', 'cookie dough', 'base', 'corned beef', 'rye', 'meat products', 'cornish hens', 'fatty fish', 'miso', 'whole wheat flour', 'herbs', 'chicken salad', 'stews', 'leftovers', 'cream pies', 'quiche', 'asparagus', 'cilantro', 'sugar substitutes', 'cookies', 'potato salad', 'brussels sprouts', 'cherry tomatoes', 'taro', 'lamb', 'chocolate syrup', 'pectin', 'tortillas', 'nectar', 'rice milk', 'coconuts', 'turkey bacon', 'black bean sauce', 'tofu', 'oyster sauce', 'rosemary', 'papaya', 'powdered milk', 'popcorn', 'almond butter', 'cashew butter', 'hummus', 'lettuce', 'avocados', 'cantaloupe', 'canadian bacon', 'almonds', 'almond extract', 'pecans', 'apple cider', 'mint', 'carrot juice', 'beets', 'cranberry sauce', 'pate', 'buckwheat', 'seafood', 'prosciutto', 'cheese curds', 'bratwurst', 'coconut flour', 'kale', 'zucchini', 'cherries', 'polenta', 'aioli', 'anchovies', 'oils', 'pumpkin seeds', 'flaxseed', 'herring', 'chorizo', 'coffee creamer', 'egg dishes', 'quinoa', 'arugula', 'pistachios', 'veal', 'sausages', 'shellfish', 'leeks', 'venison', 'rabbit', 'pastrami', 'spaghetti sauce', 'jerky', 'dinners', 'goose', 'chicken parts', 'watermelon', 'capon', 'turducken', 'blueberries', 'salami', 'canned chicken', 'fruit drinks', 'red wine', 'canned goods', 'sunflower seeds', 'caviar', 'croutons', 'cucumbers', 'kimchi', 'crayfish', 'crab meat', 'crab legs', 'mussels', 'oysters', 'barley', 'soy flour', 'cooked pasta', 'farro', 'honeydew', 'star fruit', 'edamame', 'guacamole', 'balsamic vinegar', 'casseroles', 'passionfruit', 'fruit cake', 'pastries', 'marshmallows', 'fruit pies', 'brownie', 'tamarind', 'sorbet', 'duck fat', 'plums', 'apricots', 'pomegranate', 'cranberries', 'citrus fruit', 'kiwi fruit', 'plantains', 'artichokes', 'tapenade', 'bacon grease', 'parsnips', 'bamboo shoots', 'millet', 'beans and peas', 'radishes', 'rhubarb', 'almonds)', 'bok choy', 'jicama', 'swiss chard', 'melons', 'turnips', 'bean sprouts', 'kohlrabi', 'ginger root', 'lobster tails', 'tempeh', 'horseradish', 'barbecue sauce', 'marinades', 'relish', 'baby carrots', 'formula', 'nacho cheese', 'jellies', 'tahini', 'kumquats', 'bagged greens', 'egg salad', 'lemongrass', 'hot peppers', 'cinnamon rolls', 'ham salad', 'amaranth', 'pork roll', 'macadamias', 'sherbet', 'squid', 'prickly pear', 'applesauce', 'salad dressing', 'celery root', 'bison', 'preserves', 'milk solids', 'lemon extract', 'yuzu juice', 'macaroons', 'pork rinds', 'spaghetti squash', 'vegetable juice', 'doughnuts', 'radicchio', 'breadcrumbs', 'bulgur', 'pimento cheese', 'pheasant', 'pumpkins', 'cherimoya', 'rutabagas', 'dry egg noodles', 'jams', 'seafood salads', 'sunflower oil', 'cinnamon extract', 'coconut flavor', 'marinated vegetables', 'teff', 'fresh pasta', 'cooking wine', 'gelatin', 'duckling', 'nut oils', 'shortening', 'salad dressings', 'soup mixes', 'eggnog', 'giblets', 'ice pops', 'sauce mixes', 'toaster pastries', 'quark', 'vegan cheddar cheese', 'sorghum', 'kugel', 'variety meats', 'hard liquors', 'frying oil'] \n",
      "\n",
      "\n"
     ]
    },
    {
     "name": "stdout",
     "output_type": "stream",
     "text": [
      "Decreasing entityCheckCount variable by 1\n",
      "entityCheckCount =  1\n",
      "[[35  9]\n",
      " [ 5 34]]\n",
      "              precision    recall  f1-score   support\n",
      "\n",
      "           1       0.88      0.80      0.83        44\n",
      "           0       0.79      0.87      0.83        39\n",
      "\n",
      "    accuracy                           0.83        83\n",
      "   macro avg       0.83      0.83      0.83        83\n",
      "weighted avg       0.84      0.83      0.83        83\n",
      "\n",
      "Total keywords:  423\n",
      "Total Tweets:  7563\n",
      "List of Keywords:\n",
      "\n",
      " ['cheese', 'chicken', 'milk', 'butter', 'juice', 'cream', 'fruit', 'rice', 'water', 'garlic', 'bread', 'sugar', 'salt', 'chocolate', 'fish', 'yogurt', 'almond milk', 'greens', 'granola', 'nuts', 'chia seeds', 'whole', 'onions', 'apples', 'peanut butter', 'peaches', 'squash', 'soda', 'flour', 'garlic powder', 'buttermilk', 'potatoes', 'carrots', 'cottage cheese', 'sour cream', 'turkey', 'beans', 'cream cheese', 'bagel', 'pretzels', 'celery', 'white wine', 'fruit cocktail', 'crackers', 'whipped cream', 'margarine', 'ice cream', 'pineapple', 'whipped topping', 'mango', 'sausage', 'pork', 'onion powder', 'dried', 'parsley', 'eggs', 'beef', 'vegetables', 'rotisserie chicken', 'hot dogs', 'dips', 'meats', 'tuna', 'frozen entrees', 'soup', 'bacon', 'pasta', 'pizza', 'fried chicken', 'potato chips', 'cut', 'lean fish', 'cauliflower', 'cooked fish', 'honey', 'stuffed', 'dates', 'scallops', 'yuzu', 'shrimp', 'corn syrup', 'baking soda', 'molasses', 'yeast', 'cornmeal', 'vinegar', 'worcestershire sauce', 'mushrooms', 'broth', 'peppers', 'gravy', 'oats', 'guava', 'coconut', 'cake', 'lemon juice', 'strawberries', 'cheesecake', 'chicken nuggets', 'cinnamon', 'muffin', 'danish', 'pies', 'tomato sauce', 'apple juice', 'pickles', 'coffee', 'goat', 'baking powder', 'sesame seeds', 'pancakes', 'raspberries', 'cornstarch', 'hot sauce', 'grits', 'chives', 'tamarind paste', 'lime juice', 'tomatoes', 'cumin', 'chili powder', 'black pepper', 'pie crust', 'cooked rice', 'patties', 'nutmeg', 'peas', 'refried beans', 'bananas', 'okra', 'cabbage', 'syrup', 'juice concentrates', 'ketchup', 'basil', 'lentils', 'fruits', 'pesto', 'soy milk', 'hoisin sauce', 'sesame oil', 'chili sauce', 'peanuts', 'ham', 'mustard', 'bacon bits', 'chutney', 'sun dried tomatoes', 'boxes', 'string cheese', 'punch', 'waffles', 'crab', 'pasta salad', 'cereal', 'grapes', 'nectarines', 'pears', 'cashews', 'tea', 'pudding', 'coconut cream', 'coconut water', 'cocktail', 'walnuts', 'dough', 'roasted red peppers', 'whole wheat bread', 'thyme', 'mayonnaise', 'berries', 'coleslaw', 'tomato paste', 'oregano', 'canola oil', 'mung bean', 'ghee', 'avocado oil', 'almond oil', 'grapeseed oil', 'spelt', 'coconut milk', 'pure vanilla extract', 'butter flavor', 'olives', 'salsa', 'puff pastry', 'biscuits', 'orange juice', 'vegetable soup', 'garam masala', 'eggplant', 'pine nuts', 'coconut oil', 'quail', 'capers', 'apple cider vinegar', 'kefir', 'ricotta', 'cookie dough', 'base', 'corned beef', 'rye', 'meat products', 'cornish hens', 'fatty fish', 'miso', 'whole wheat flour', 'herbs', 'chicken salad', 'stews', 'leftovers', 'cream pies', 'quiche', 'asparagus', 'cilantro', 'sugar substitutes', 'cookies', 'potato salad', 'brussels sprouts', 'cherry tomatoes', 'taro', 'lamb', 'chocolate syrup', 'pectin', 'tortillas', 'nectar', 'rice milk', 'coconuts', 'turkey bacon', 'black bean sauce', 'tofu', 'oyster sauce', 'rosemary', 'papaya', 'powdered milk', 'popcorn', 'almond butter', 'cashew butter', 'hummus', 'lettuce', 'avocados', 'cantaloupe', 'canadian bacon', 'almonds', 'almond extract', 'pecans', 'apple cider', 'mint', 'carrot juice', 'beets', 'cranberry sauce', 'pate', 'buckwheat', 'seafood', 'prosciutto', 'cheese curds', 'bratwurst', 'coconut flour', 'kale', 'zucchini', 'cherries', 'polenta', 'aioli', 'anchovies', 'oils', 'pumpkin seeds', 'flaxseed', 'herring', 'chorizo', 'coffee creamer', 'egg dishes', 'quinoa', 'arugula', 'pistachios', 'veal', 'sausages', 'shellfish', 'leeks', 'venison', 'rabbit', 'pastrami', 'spaghetti sauce', 'jerky', 'dinners', 'goose', 'chicken parts', 'watermelon', 'capon', 'turducken', 'blueberries', 'salami', 'canned chicken', 'fruit drinks', 'red wine', 'canned goods', 'sunflower seeds', 'caviar', 'croutons', 'cucumbers', 'kimchi', 'crayfish', 'crab meat', 'crab legs', 'mussels', 'oysters', 'barley', 'soy flour', 'cooked pasta', 'farro', 'honeydew', 'star fruit', 'edamame', 'guacamole', 'balsamic vinegar', 'casseroles', 'passionfruit', 'fruit cake', 'pastries', 'marshmallows', 'fruit pies', 'brownie', 'tamarind', 'sorbet', 'duck fat', 'plums', 'apricots', 'pomegranate', 'cranberries', 'citrus fruit', 'kiwi fruit', 'plantains', 'artichokes', 'tapenade', 'bacon grease', 'parsnips', 'bamboo shoots', 'millet', 'beans and peas', 'radishes', 'rhubarb', 'almonds)', 'bok choy', 'jicama', 'swiss chard', 'melons', 'turnips', 'bean sprouts', 'kohlrabi', 'ginger root', 'lobster tails', 'tempeh', 'horseradish', 'barbecue sauce', 'marinades', 'relish', 'baby carrots', 'formula', 'nacho cheese', 'jellies', 'tahini', 'kumquats', 'bagged greens', 'egg salad', 'lemongrass', 'hot peppers', 'cinnamon rolls', 'ham salad', 'amaranth', 'pork roll', 'macadamias', 'sherbet', 'squid', 'prickly pear', 'applesauce', 'salad dressing', 'celery root', 'bison', 'preserves', 'milk solids', 'lemon extract', 'yuzu juice', 'macaroons', 'pork rinds', 'spaghetti squash', 'vegetable juice', 'doughnuts', 'radicchio', 'breadcrumbs', 'bulgur', 'pimento cheese', 'pheasant', 'pumpkins', 'cherimoya', 'rutabagas', 'dry egg noodles', 'jams', 'seafood salads', 'sunflower oil', 'cinnamon extract', 'coconut flavor', 'marinated vegetables', 'teff', 'fresh pasta', 'cooking wine', 'gelatin', 'duckling', 'nut oils', 'shortening', 'salad dressings', 'soup mixes', 'eggnog', 'giblets', 'ice pops', 'sauce mixes', 'toaster pastries', 'quark', 'vegan cheddar cheese', 'sorghum', 'kugel', 'variety meats', 'hard liquors', 'frying oil'] \n",
      "\n",
      "\n",
      "~~~~~~~~~~~~~~~~~12~~~~~~~~~~~~~~~~~\n",
      "Model loaded...\n"
     ]
    },
    {
     "name": "stderr",
     "output_type": "stream",
     "text": [
      "  4%|▍         | 597/13827 [00:00<00:04, 2895.80it/s]"
     ]
    },
    {
     "name": "stdout",
     "output_type": "stream",
     "text": [
      "Skipping entity\n",
      "Skipping entity\n",
      "Skipping entity\n",
      "Skipping entity\n",
      "Skipping entity\n",
      "Skipping entity\n",
      "Skipping entity\n",
      "Skipping entity\n",
      "Skipping entity\n",
      "Skipping entity\n",
      "Skipping entity\n",
      "Skipping entity\n",
      "Skipping entity\n",
      "Skipping entity\n"
     ]
    },
    {
     "name": "stderr",
     "output_type": "stream",
     "text": [
      " 14%|█▍        | 1975/13827 [00:00<00:03, 3353.60it/s]"
     ]
    },
    {
     "name": "stdout",
     "output_type": "stream",
     "text": [
      "Skipping entity\n",
      "Skipping entity\n",
      "Skipping entity\n",
      "Skipping entity\n",
      "Skipping entity\n",
      "Skipping entity\n",
      "Skipping entity\n",
      "Skipping entity\n",
      "Skipping entity\n",
      "Skipping entity\n",
      "Skipping entity\n",
      "Skipping entity\n",
      "Skipping entity\n",
      "Skipping entity\n",
      "Skipping entity\n",
      "Skipping entity\n",
      "Skipping entity\n"
     ]
    },
    {
     "name": "stderr",
     "output_type": "stream",
     "text": [
      " 20%|█▉        | 2744/13827 [00:00<00:03, 3592.09it/s]"
     ]
    },
    {
     "name": "stdout",
     "output_type": "stream",
     "text": [
      "Skipping entity\n",
      "Skipping entity\n",
      "Skipping entity\n",
      "Skipping entity\n",
      "Skipping entity\n",
      "Skipping entity\n",
      "Skipping entity\n",
      "Skipping entity\n",
      "Skipping entity\n",
      "Skipping entity\n",
      "Skipping entity\n",
      "Skipping entity\n",
      "Skipping entity\n",
      "Skipping entity\n",
      "Skipping entity\n",
      "Skipping entity\n",
      "Skipping entity\n",
      "Skipping entity\n",
      "Skipping entity\n",
      "Skipping entity\n",
      "Skipping entity\n",
      "Skipping entity\n",
      "Skipping entity\n",
      "Skipping entity\n",
      "Skipping entity\n",
      "Skipping entity\n"
     ]
    },
    {
     "name": "stderr",
     "output_type": "stream",
     "text": [
      " 28%|██▊       | 3876/13827 [00:01<00:02, 3645.33it/s]"
     ]
    },
    {
     "name": "stdout",
     "output_type": "stream",
     "text": [
      "Skipping entity\n",
      "Skipping entity\n",
      "Skipping entity\n",
      "Skipping entity\n",
      "Skipping entity\n",
      "Skipping entity\n",
      "Skipping entity\n",
      "Skipping entity\n",
      "Skipping entity\n",
      "Skipping entity\n",
      "Skipping entity\n",
      "Skipping entity\n",
      "Skipping entity\n",
      "Skipping entity\n",
      "Skipping entity\n",
      "Skipping entity\n",
      "Skipping entity\n",
      "Skipping entity\n",
      "Skipping entity\n",
      "Skipping entity\n"
     ]
    },
    {
     "name": "stderr",
     "output_type": "stream",
     "text": [
      " 40%|████      | 5595/13827 [00:01<00:02, 4044.38it/s]"
     ]
    },
    {
     "name": "stdout",
     "output_type": "stream",
     "text": [
      "Skipping entity\n",
      "Skipping entity\n",
      "Skipping entity\n",
      "Skipping entity\n",
      "Skipping entity\n",
      "Skipping entity\n",
      "Skipping entity\n",
      "Skipping entity\n",
      "Skipping entity\n",
      "Skipping entity\n",
      "Skipping entity\n",
      "Skipping entity\n",
      "Skipping entity\n",
      "Skipping entity\n"
     ]
    },
    {
     "name": "stderr",
     "output_type": "stream",
     "text": [
      " 47%|████▋     | 6482/13827 [00:01<00:01, 4224.14it/s]"
     ]
    },
    {
     "name": "stdout",
     "output_type": "stream",
     "text": [
      "Skipping entity\n",
      "Skipping entity\n",
      "Skipping entity\n",
      "Skipping entity\n",
      "Skipping entity\n",
      "Skipping entity\n",
      "Skipping entity\n",
      "Skipping entity\n",
      "Skipping entity\n",
      "Skipping entity\n",
      "Skipping entity\n",
      "Skipping entity\n",
      "Skipping entity\n",
      "Skipping entity\n",
      "Skipping entity\n",
      "Skipping entity\n",
      "Skipping entity\n",
      "Skipping entity\n",
      "Skipping entity\n"
     ]
    },
    {
     "name": "stderr",
     "output_type": "stream",
     "text": [
      " 57%|█████▋    | 7825/13827 [00:02<00:01, 4328.54it/s]"
     ]
    },
    {
     "name": "stdout",
     "output_type": "stream",
     "text": [
      "Skipping entity\n",
      "Skipping entity\n",
      "Skipping entity\n",
      "Skipping entity\n",
      "Skipping entity\n",
      "Skipping entity\n",
      "Skipping entity\n",
      "Skipping entity\n",
      "Skipping entity\n",
      "Skipping entity\n",
      "Skipping entity\n",
      "Skipping entity\n",
      "Skipping entity\n",
      "Skipping entity\n",
      "Skipping entity\n",
      "Skipping entity\n",
      "Skipping entity\n",
      "Skipping entity\n",
      "Skipping entity\n",
      "Skipping entity\n",
      "Skipping entity\n",
      "Skipping entity\n",
      "Skipping entity\n",
      "Skipping entity\n",
      "Skipping entity\n",
      "Skipping entity\n",
      "Skipping entity\n",
      "Skipping entity\n"
     ]
    },
    {
     "name": "stderr",
     "output_type": "stream",
     "text": [
      " 67%|██████▋   | 9259/13827 [00:02<00:00, 4638.39it/s]"
     ]
    },
    {
     "name": "stdout",
     "output_type": "stream",
     "text": [
      "Skipping entity\n",
      "Skipping entity\n",
      "Skipping entity\n",
      "Skipping entity\n",
      "Skipping entity\n",
      "Skipping entity\n",
      "Skipping entity\n",
      "Skipping entity\n",
      "Skipping entity\n",
      "Skipping entity\n",
      "Skipping entity\n",
      "Skipping entity\n",
      "Skipping entity\n",
      "Skipping entity\n",
      "Skipping entity\n",
      "Skipping entity\n",
      "Skipping entity\n",
      "Skipping entity\n",
      "Skipping entity\n",
      "Skipping entity\n",
      "Skipping entity\n"
     ]
    },
    {
     "name": "stderr",
     "output_type": "stream",
     "text": [
      " 74%|███████▍  | 10221/13827 [00:02<00:00, 4587.95it/s]"
     ]
    },
    {
     "name": "stdout",
     "output_type": "stream",
     "text": [
      "Skipping entity\n",
      "Skipping entity\n",
      "Skipping entity\n",
      "Skipping entity\n",
      "Skipping entity\n",
      "Skipping entity\n",
      "Skipping entity\n",
      "Skipping entity\n",
      "Skipping entity\n",
      "Skipping entity\n",
      "Skipping entity\n",
      "Skipping entity\n",
      "Skipping entity\n",
      "Skipping entity\n"
     ]
    },
    {
     "name": "stderr",
     "output_type": "stream",
     "text": [
      " 80%|████████  | 11129/13827 [00:02<00:00, 4351.97it/s]"
     ]
    },
    {
     "name": "stdout",
     "output_type": "stream",
     "text": [
      "Skipping entity\n",
      "Skipping entity\n",
      "Skipping entity\n",
      "Skipping entity\n",
      "Skipping entity\n",
      "Skipping entity\n",
      "Skipping entity\n",
      "Skipping entity\n",
      "Skipping entity\n",
      "Skipping entity\n",
      "Skipping entity\n",
      "Skipping entity\n",
      "Skipping entity\n",
      "Skipping entity\n",
      "Skipping entity\n",
      "Skipping entity\n",
      "Skipping entity\n",
      "Skipping entity\n",
      "Skipping entity\n"
     ]
    },
    {
     "name": "stderr",
     "output_type": "stream",
     "text": [
      " 90%|█████████ | 12504/13827 [00:03<00:00, 4479.96it/s]"
     ]
    },
    {
     "name": "stdout",
     "output_type": "stream",
     "text": [
      "Skipping entity\n",
      "Skipping entity\n",
      "Skipping entity\n",
      "Skipping entity\n",
      "Skipping entity\n",
      "Skipping entity\n",
      "Skipping entity\n",
      "Skipping entity\n",
      "Skipping entity\n",
      "Skipping entity\n",
      "Skipping entity\n",
      "Skipping entity\n",
      "Skipping entity\n",
      "Skipping entity\n",
      "Skipping entity\n"
     ]
    },
    {
     "name": "stderr",
     "output_type": "stream",
     "text": [
      " 97%|█████████▋| 13408/13827 [00:03<00:00, 4406.10it/s]"
     ]
    },
    {
     "name": "stdout",
     "output_type": "stream",
     "text": [
      "Skipping entity\n",
      "Skipping entity\n",
      "Skipping entity\n",
      "Skipping entity\n",
      "Skipping entity\n",
      "Skipping entity\n",
      "Skipping entity\n",
      "Skipping entity\n",
      "Skipping entity\n",
      "Skipping entity\n",
      "Skipping entity\n",
      "Skipping entity\n",
      "Skipping entity\n",
      "Skipping entity\n",
      "Skipping entity\n",
      "Skipping entity\n",
      "Skipping entity\n",
      "Skipping entity\n",
      "Skipping entity\n",
      "Skipping entity\n",
      "Skipping entity\n",
      "Skipping entity\n",
      "Skipping entity\n",
      "Skipping entity\n",
      "Skipping entity\n",
      "Skipping entity\n",
      "Skipping entity\n",
      "Skipping entity\n",
      "Skipping entity\n",
      "Skipping entity\n",
      "Skipping entity\n",
      "Skipping entity\n",
      "Skipping entity\n",
      "Skipping entity\n"
     ]
    },
    {
     "name": "stderr",
     "output_type": "stream",
     "text": [
      "100%|██████████| 13827/13827 [00:03<00:00, 4106.25it/s]\n"
     ]
    },
    {
     "name": "stdout",
     "output_type": "stream",
     "text": [
      "[i] Saving to output directory: output\n",
      "[i] Using CPU\n",
      "\u001b[1m\n",
      "=========================== Initializing pipeline ===========================\u001b[0m\n",
      "[+] Initialized pipeline\n",
      "\u001b[1m\n",
      "============================= Training pipeline =============================\u001b[0m\n",
      "[i] Pipeline: ['tok2vec', 'ner']\n",
      "[i] Initial learn rate: 0.001\n",
      "E    #       LOSS TOK2VEC  LOSS NER  ENTS_F  ENTS_P  ENTS_R  SCORE \n",
      "---  ------  ------------  --------  ------  ------  ------  ------\n",
      "  0       0          0.00     41.83    3.50   12.54    2.03    0.03\n",
      "  0     200         70.17   2554.71   72.95   72.56   73.35    0.73\n",
      "  0     400         75.34   1304.49   82.46   77.66   87.88    0.82\n",
      "  0     600         73.64   1303.67   87.48   83.58   91.75    0.87\n",
      "  0     800         70.20   1464.66   89.13   85.94   92.57    0.89\n",
      "  0    1000         81.51   1598.40   90.69   86.00   95.91    0.91\n",
      "  0    1200         99.32   1662.45   91.17   86.64   96.20    0.91\n",
      "  0    1400        122.57   2079.25   91.76   87.70   96.23    0.92\n",
      "  0    1600        121.02   2404.31   92.17   88.44   96.23    0.92\n",
      "  1    1800        147.83   2622.39   93.18   89.09   97.65    0.93\n",
      "  1    2000        182.99   2890.34   93.52   89.83   97.54    0.94\n",
      "  1    2200        210.73   3570.73   94.18   91.42   97.11    0.94\n",
      "  2    2400        256.17   3866.70   94.53   92.08   97.10    0.95\n",
      "  2    2600        298.75   3742.64   95.12   92.90   97.44    0.95\n",
      "  3    2800        298.18   3508.97   95.36   92.79   98.06    0.95\n",
      "  3    3000        364.99   3377.68   95.64   92.96   98.48    0.96\n",
      "  4    3200        339.70   3101.05   96.23   95.61   96.86    0.96\n",
      "  4    3400        378.19   2748.61   96.48   94.32   98.74    0.96\n",
      "  4    3600        431.61   3012.70   96.66   94.68   98.72    0.97\n",
      "  5    3800        462.08   2442.60   97.04   96.52   97.55    0.97\n",
      "  5    4000        461.41   2604.08   97.39   96.39   98.42    0.97\n",
      "  6    4200        545.36   2299.93   97.67   96.75   98.61    0.98\n",
      "  6    4400        473.01   2211.30   97.59   96.16   99.07    0.98\n",
      "  7    4600        568.44   2111.25   97.81   96.85   98.78    0.98\n",
      "  7    4800        575.11   2094.52   97.96   96.91   99.04    0.98\n",
      "  8    5000        569.73   1961.54   97.98   96.70   99.29    0.98\n",
      "  8    5200        608.17   1860.50   98.07   96.88   99.29    0.98\n",
      "  9    5400        729.02   1822.48   98.41   97.86   98.97    0.98\n",
      "  9    5600        617.90   1645.92   98.46   97.56   99.37    0.98\n",
      " 10    5800        647.68   1732.22   98.58   98.49   98.67    0.99\n",
      " 10    6000        655.37   1419.78   98.61   98.11   99.12    0.99\n",
      " 10    6200        644.93   1700.20   98.82   98.19   99.47    0.99\n",
      " 11    6400        663.88   1325.42   98.80   98.36   99.25    0.99\n",
      " 11    6600        753.96   1471.76   98.82   98.19   99.46    0.99\n",
      " 12    6800        610.46   1206.41   99.05   98.63   99.47    0.99\n",
      " 12    7000        714.63   1397.64   99.20   98.90   99.51    0.99\n",
      " 13    7200        625.56   1227.06   99.14   98.72   99.56    0.99\n",
      " 13    7400        687.97   1205.92   99.28   99.28   99.29    0.99\n",
      " 14    7600        768.33   1227.49   99.21   98.76   99.67    0.99\n",
      " 14    7800        650.97   1091.37   99.27   98.89   99.66    0.99\n",
      " 15    8000        642.91   1110.52   99.31   98.93   99.69    0.99\n",
      " 15    8200        765.30    982.63   99.33   99.45   99.21    0.99\n",
      " 16    8400        731.50   1070.08   99.40   99.09   99.72    0.99\n",
      " 16    8600        816.67    923.00   99.42   99.46   99.37    0.99\n",
      " 16    8800        783.51   1122.23   99.38   99.04   99.72    0.99\n",
      " 17    9000        765.61    942.57   99.50   99.51   99.48    0.99\n",
      " 17    9200        762.77    993.40   99.31   98.85   99.78    0.99\n",
      " 18    9400        741.25    895.48   99.38   99.08   99.68    0.99\n",
      " 18    9600        711.54    954.39   99.59   99.47   99.71    1.00\n",
      " 19    9800        722.62    774.23   99.53   99.30   99.77    1.00\n",
      " 19   10000        809.67    915.03   99.57   99.41   99.74    1.00\n",
      " 20   10200        797.44    814.00   99.52   99.26   99.78    1.00\n",
      " 20   10400        968.57    824.18   99.60   99.43   99.77    1.00\n",
      " 21   10600        745.10    874.77   99.38   98.93   99.83    0.99\n",
      " 21   10800        697.24    729.86   99.65   99.61   99.68    1.00\n",
      " 21   11000        819.84    832.04   99.68   99.59   99.78    1.00\n",
      " 22   11200        802.23    708.77   99.56   99.36   99.75    1.00\n",
      " 22   11400        790.83    769.75   99.66   99.67   99.64    1.00\n",
      " 23   11600        781.49    653.45   99.61   99.44   99.79    1.00\n",
      " 23   11800        780.94    737.53   99.55   99.24   99.86    1.00\n",
      " 24   12000        825.33    726.74   99.72   99.67   99.78    1.00\n",
      " 24   12200        722.69    702.39   99.67   99.50   99.84    1.00\n",
      " 25   12400        848.08    732.93   99.71   99.62   99.80    1.00\n",
      " 25   12600        838.46    671.20   99.74   99.66   99.82    1.00\n",
      " 26   12800        833.53    691.22   99.75   99.82   99.68    1.00\n",
      " 26   13000        862.20    584.59   99.68   99.58   99.78    1.00\n",
      " 27   13200        891.85    641.32   99.77   99.72   99.82    1.00\n",
      " 27   13400        921.52    582.71   99.74   99.63   99.85    1.00\n",
      " 27   13600       2066.65    685.59   99.76   99.69   99.84    1.00\n",
      " 28   13800        897.05    537.83   99.71   99.57   99.86    1.00\n",
      " 28   14000        911.73    709.89   99.79   99.74   99.84    1.00\n",
      " 29   14200        890.41    569.35   99.77   99.73   99.82    1.00\n",
      " 29   14400        979.11    575.12   99.75   99.65   99.84    1.00\n",
      " 30   14600        856.76    580.37   99.74   99.63   99.85    1.00\n",
      " 30   14800        882.61    566.23   99.73   99.85   99.62    1.00\n",
      " 31   15000        864.41    571.93   99.69   99.49   99.89    1.00\n",
      " 31   15200        877.51    553.37   99.79   99.73   99.84    1.00\n",
      " 32   15400       1035.86    538.94   99.82   99.83   99.80    1.00\n",
      " 32   15600        857.58    510.99   99.82   99.79   99.85    1.00\n",
      " 33   15800        971.92    614.34   99.78   99.69   99.87    1.00\n",
      " 33   16000        876.15    534.40   99.80   99.85   99.75    1.00\n",
      " 33   16200        918.06    568.48   99.79   99.80   99.78    1.00\n",
      " 34   16400        938.26    513.55   99.83   99.78   99.88    1.00\n",
      " 34   16600       1013.90    501.48   99.82   99.82   99.82    1.00\n",
      " 35   16800        879.84    501.41   99.81   99.74   99.88    1.00\n",
      " 35   17000        884.59    552.89   99.69   99.44   99.94    1.00\n",
      " 36   17200       1248.77    517.32   99.83   99.76   99.90    1.00\n",
      " 36   17400       1166.64    501.46   99.80   99.84   99.76    1.00\n",
      " 37   17600       1052.34    488.17   99.81   99.72   99.89    1.00\n",
      " 37   17800       1033.49    487.28   99.79   99.68   99.90    1.00\n",
      " 38   18000       1203.07    521.09   99.87   99.87   99.88    1.00\n",
      " 38   18200       1098.96    445.25   99.74   99.55   99.92    1.00\n",
      " 39   18400        987.24    507.72   99.87   99.84   99.89    1.00\n",
      " 39   18600       1176.29    449.55   99.84   99.80   99.88    1.00\n",
      " 39   18800       1135.85    496.39   99.82   99.70   99.93    1.00\n",
      " 40   19000        926.65    433.04   99.85   99.78   99.91    1.00\n",
      " 40   19200       1134.61    443.67   99.83   99.74   99.91    1.00\n",
      " 41   19400       1240.98    419.84   99.82   99.68   99.95    1.00\n",
      " 41   19600       1350.51    474.90   99.84   99.79   99.88    1.00\n",
      "[+] Saved pipeline to output directory\n",
      "output\\model-last\n",
      "\n",
      "Total keywords:  423\n",
      "List of Keywords:\n",
      "\n",
      " ['cheese', 'chicken', 'milk', 'butter', 'juice', 'cream', 'fruit', 'rice', 'water', 'garlic', 'bread', 'sugar', 'salt', 'chocolate', 'fish', 'yogurt', 'almond milk', 'greens', 'granola', 'nuts', 'chia seeds', 'whole', 'onions', 'apples', 'peanut butter', 'peaches', 'squash', 'soda', 'flour', 'garlic powder', 'buttermilk', 'potatoes', 'carrots', 'cottage cheese', 'sour cream', 'turkey', 'beans', 'cream cheese', 'bagel', 'pretzels', 'celery', 'white wine', 'fruit cocktail', 'crackers', 'whipped cream', 'margarine', 'ice cream', 'pineapple', 'whipped topping', 'mango', 'sausage', 'pork', 'onion powder', 'dried', 'parsley', 'eggs', 'beef', 'vegetables', 'rotisserie chicken', 'hot dogs', 'dips', 'meats', 'tuna', 'frozen entrees', 'soup', 'bacon', 'pasta', 'pizza', 'fried chicken', 'potato chips', 'cut', 'lean fish', 'cauliflower', 'cooked fish', 'honey', 'stuffed', 'dates', 'scallops', 'yuzu', 'shrimp', 'corn syrup', 'baking soda', 'molasses', 'yeast', 'cornmeal', 'vinegar', 'worcestershire sauce', 'mushrooms', 'broth', 'peppers', 'gravy', 'oats', 'guava', 'coconut', 'cake', 'lemon juice', 'strawberries', 'cheesecake', 'chicken nuggets', 'cinnamon', 'muffin', 'danish', 'pies', 'tomato sauce', 'apple juice', 'pickles', 'coffee', 'goat', 'baking powder', 'sesame seeds', 'pancakes', 'raspberries', 'cornstarch', 'hot sauce', 'grits', 'chives', 'tamarind paste', 'lime juice', 'tomatoes', 'cumin', 'chili powder', 'black pepper', 'pie crust', 'cooked rice', 'patties', 'nutmeg', 'peas', 'refried beans', 'bananas', 'okra', 'cabbage', 'syrup', 'juice concentrates', 'ketchup', 'basil', 'lentils', 'fruits', 'pesto', 'soy milk', 'hoisin sauce', 'sesame oil', 'chili sauce', 'peanuts', 'ham', 'mustard', 'bacon bits', 'chutney', 'sun dried tomatoes', 'boxes', 'string cheese', 'punch', 'waffles', 'crab', 'pasta salad', 'cereal', 'grapes', 'nectarines', 'pears', 'cashews', 'tea', 'pudding', 'coconut cream', 'coconut water', 'cocktail', 'walnuts', 'dough', 'roasted red peppers', 'whole wheat bread', 'thyme', 'mayonnaise', 'berries', 'coleslaw', 'tomato paste', 'oregano', 'canola oil', 'mung bean', 'ghee', 'avocado oil', 'almond oil', 'grapeseed oil', 'spelt', 'coconut milk', 'pure vanilla extract', 'butter flavor', 'olives', 'salsa', 'puff pastry', 'biscuits', 'orange juice', 'vegetable soup', 'garam masala', 'eggplant', 'pine nuts', 'coconut oil', 'quail', 'capers', 'apple cider vinegar', 'kefir', 'ricotta', 'cookie dough', 'base', 'corned beef', 'rye', 'meat products', 'cornish hens', 'fatty fish', 'miso', 'whole wheat flour', 'herbs', 'chicken salad', 'stews', 'leftovers', 'cream pies', 'quiche', 'asparagus', 'cilantro', 'sugar substitutes', 'cookies', 'potato salad', 'brussels sprouts', 'cherry tomatoes', 'taro', 'lamb', 'chocolate syrup', 'pectin', 'tortillas', 'nectar', 'rice milk', 'coconuts', 'turkey bacon', 'black bean sauce', 'tofu', 'oyster sauce', 'rosemary', 'papaya', 'powdered milk', 'popcorn', 'almond butter', 'cashew butter', 'hummus', 'lettuce', 'avocados', 'cantaloupe', 'canadian bacon', 'almonds', 'almond extract', 'pecans', 'apple cider', 'mint', 'carrot juice', 'beets', 'cranberry sauce', 'pate', 'buckwheat', 'seafood', 'prosciutto', 'cheese curds', 'bratwurst', 'coconut flour', 'kale', 'zucchini', 'cherries', 'polenta', 'aioli', 'anchovies', 'oils', 'pumpkin seeds', 'flaxseed', 'herring', 'chorizo', 'coffee creamer', 'egg dishes', 'quinoa', 'arugula', 'pistachios', 'veal', 'sausages', 'shellfish', 'leeks', 'venison', 'rabbit', 'pastrami', 'spaghetti sauce', 'jerky', 'dinners', 'goose', 'chicken parts', 'watermelon', 'capon', 'turducken', 'blueberries', 'salami', 'canned chicken', 'fruit drinks', 'red wine', 'canned goods', 'sunflower seeds', 'caviar', 'croutons', 'cucumbers', 'kimchi', 'crayfish', 'crab meat', 'crab legs', 'mussels', 'oysters', 'barley', 'soy flour', 'cooked pasta', 'farro', 'honeydew', 'star fruit', 'edamame', 'guacamole', 'balsamic vinegar', 'casseroles', 'passionfruit', 'fruit cake', 'pastries', 'marshmallows', 'fruit pies', 'brownie', 'tamarind', 'sorbet', 'duck fat', 'plums', 'apricots', 'pomegranate', 'cranberries', 'citrus fruit', 'kiwi fruit', 'plantains', 'artichokes', 'tapenade', 'bacon grease', 'parsnips', 'bamboo shoots', 'millet', 'beans and peas', 'radishes', 'rhubarb', 'almonds)', 'bok choy', 'jicama', 'swiss chard', 'melons', 'turnips', 'bean sprouts', 'kohlrabi', 'ginger root', 'lobster tails', 'tempeh', 'horseradish', 'barbecue sauce', 'marinades', 'relish', 'baby carrots', 'formula', 'nacho cheese', 'jellies', 'tahini', 'kumquats', 'bagged greens', 'egg salad', 'lemongrass', 'hot peppers', 'cinnamon rolls', 'ham salad', 'amaranth', 'pork roll', 'macadamias', 'sherbet', 'squid', 'prickly pear', 'applesauce', 'salad dressing', 'celery root', 'bison', 'preserves', 'milk solids', 'lemon extract', 'yuzu juice', 'macaroons', 'pork rinds', 'spaghetti squash', 'vegetable juice', 'doughnuts', 'radicchio', 'breadcrumbs', 'bulgur', 'pimento cheese', 'pheasant', 'pumpkins', 'cherimoya', 'rutabagas', 'dry egg noodles', 'jams', 'seafood salads', 'sunflower oil', 'cinnamon extract', 'coconut flavor', 'marinated vegetables', 'teff', 'fresh pasta', 'cooking wine', 'gelatin', 'duckling', 'nut oils', 'shortening', 'salad dressings', 'soup mixes', 'eggnog', 'giblets', 'ice pops', 'sauce mixes', 'toaster pastries', 'quark', 'vegan cheddar cheese', 'sorghum', 'kugel', 'variety meats', 'hard liquors', 'frying oil'] \n",
      "\n",
      "\n"
     ]
    },
    {
     "name": "stdout",
     "output_type": "stream",
     "text": [
      "[[32 12]\n",
      " [ 3 36]]\n",
      "              precision    recall  f1-score   support\n",
      "\n",
      "           1       0.91      0.73      0.81        44\n",
      "           0       0.75      0.92      0.83        39\n",
      "\n",
      "    accuracy                           0.82        83\n",
      "   macro avg       0.83      0.83      0.82        83\n",
      "weighted avg       0.84      0.82      0.82        83\n",
      "\n",
      "Total keywords:  428\n",
      "Total Tweets:  13827\n",
      "List of Keywords:\n",
      "\n",
      " ['cheese', 'chicken', 'milk', 'butter', 'juice', 'cream', 'fruit', 'rice', 'water', 'garlic', 'bread', 'sugar', 'salt', 'chocolate', 'fish', 'yogurt', 'almond milk', 'greens', 'granola', 'nuts', 'chia seeds', 'whole', 'onions', 'apples', 'peanut butter', 'peaches', 'squash', 'soda', 'flour', 'garlic powder', 'buttermilk', 'potatoes', 'carrots', 'cottage cheese', 'sour cream', 'turkey', 'beans', 'cream cheese', 'bagel', 'pretzels', 'celery', 'white wine', 'fruit cocktail', 'crackers', 'whipped cream', 'margarine', 'ice cream', 'pineapple', 'whipped topping', 'mango', 'sausage', 'pork', 'onion powder', 'dried', 'parsley', 'eggs', 'beef', 'vegetables', 'rotisserie chicken', 'hot dogs', 'dips', 'meats', 'tuna', 'frozen entrees', 'soup', 'bacon', 'pasta', 'pizza', 'fried chicken', 'potato chips', 'cut', 'lean fish', 'cauliflower', 'cooked fish', 'honey', 'stuffed', 'dates', 'scallops', 'yuzu', 'shrimp', 'corn syrup', 'baking soda', 'molasses', 'yeast', 'cornmeal', 'vinegar', 'worcestershire sauce', 'mushrooms', 'broth', 'peppers', 'gravy', 'oats', 'guava', 'coconut', 'cake', 'lemon juice', 'strawberries', 'cheesecake', 'chicken nuggets', 'cinnamon', 'muffin', 'danish', 'pies', 'tomato sauce', 'apple juice', 'pickles', 'coffee', 'goat', 'baking powder', 'sesame seeds', 'pancakes', 'raspberries', 'cornstarch', 'hot sauce', 'grits', 'chives', 'tamarind paste', 'lime juice', 'tomatoes', 'cumin', 'chili powder', 'black pepper', 'pie crust', 'cooked rice', 'patties', 'nutmeg', 'peas', 'refried beans', 'bananas', 'okra', 'cabbage', 'syrup', 'juice concentrates', 'ketchup', 'basil', 'lentils', 'fruits', 'pesto', 'soy milk', 'hoisin sauce', 'sesame oil', 'chili sauce', 'peanuts', 'ham', 'mustard', 'bacon bits', 'chutney', 'sun dried tomatoes', 'boxes', 'string cheese', 'punch', 'waffles', 'crab', 'pasta salad', 'cereal', 'grapes', 'nectarines', 'pears', 'cashews', 'tea', 'pudding', 'coconut cream', 'coconut water', 'cocktail', 'walnuts', 'dough', 'roasted red peppers', 'whole wheat bread', 'thyme', 'mayonnaise', 'berries', 'coleslaw', 'tomato paste', 'oregano', 'canola oil', 'mung bean', 'ghee', 'avocado oil', 'almond oil', 'grapeseed oil', 'spelt', 'coconut milk', 'pure vanilla extract', 'butter flavor', 'olives', 'salsa', 'puff pastry', 'biscuits', 'orange juice', 'vegetable soup', 'garam masala', 'eggplant', 'pine nuts', 'coconut oil', 'quail', 'capers', 'apple cider vinegar', 'kefir', 'ricotta', 'cookie dough', 'base', 'corned beef', 'rye', 'meat products', 'cornish hens', 'fatty fish', 'miso', 'whole wheat flour', 'herbs', 'chicken salad', 'stews', 'leftovers', 'cream pies', 'quiche', 'asparagus', 'cilantro', 'sugar substitutes', 'cookies', 'potato salad', 'brussels sprouts', 'cherry tomatoes', 'taro', 'lamb', 'chocolate syrup', 'pectin', 'tortillas', 'nectar', 'rice milk', 'coconuts', 'turkey bacon', 'black bean sauce', 'tofu', 'oyster sauce', 'rosemary', 'papaya', 'powdered milk', 'popcorn', 'almond butter', 'cashew butter', 'hummus', 'lettuce', 'avocados', 'cantaloupe', 'canadian bacon', 'almonds', 'almond extract', 'pecans', 'apple cider', 'mint', 'carrot juice', 'beets', 'cranberry sauce', 'pate', 'buckwheat', 'seafood', 'prosciutto', 'cheese curds', 'bratwurst', 'coconut flour', 'kale', 'zucchini', 'cherries', 'polenta', 'aioli', 'anchovies', 'oils', 'pumpkin seeds', 'flaxseed', 'herring', 'chorizo', 'coffee creamer', 'egg dishes', 'quinoa', 'arugula', 'pistachios', 'veal', 'sausages', 'shellfish', 'leeks', 'venison', 'rabbit', 'pastrami', 'spaghetti sauce', 'jerky', 'dinners', 'goose', 'chicken parts', 'watermelon', 'capon', 'turducken', 'blueberries', 'salami', 'canned chicken', 'fruit drinks', 'red wine', 'canned goods', 'sunflower seeds', 'caviar', 'croutons', 'cucumbers', 'kimchi', 'crayfish', 'crab meat', 'crab legs', 'mussels', 'oysters', 'barley', 'soy flour', 'cooked pasta', 'farro', 'honeydew', 'star fruit', 'edamame', 'guacamole', 'balsamic vinegar', 'casseroles', 'passionfruit', 'fruit cake', 'pastries', 'marshmallows', 'fruit pies', 'brownie', 'tamarind', 'sorbet', 'duck fat', 'plums', 'apricots', 'pomegranate', 'cranberries', 'citrus fruit', 'kiwi fruit', 'plantains', 'artichokes', 'tapenade', 'bacon grease', 'parsnips', 'bamboo shoots', 'millet', 'beans and peas', 'radishes', 'rhubarb', 'almonds)', 'bok choy', 'jicama', 'swiss chard', 'melons', 'turnips', 'bean sprouts', 'kohlrabi', 'ginger root', 'lobster tails', 'tempeh', 'horseradish', 'barbecue sauce', 'marinades', 'relish', 'baby carrots', 'formula', 'nacho cheese', 'jellies', 'tahini', 'kumquats', 'bagged greens', 'egg salad', 'lemongrass', 'hot peppers', 'cinnamon rolls', 'ham salad', 'amaranth', 'pork roll', 'macadamias', 'sherbet', 'squid', 'prickly pear', 'applesauce', 'salad dressing', 'celery root', 'bison', 'preserves', 'milk solids', 'lemon extract', 'yuzu juice', 'macaroons', 'pork rinds', 'spaghetti squash', 'vegetable juice', 'doughnuts', 'radicchio', 'breadcrumbs', 'bulgur', 'pimento cheese', 'pheasant', 'pumpkins', 'cherimoya', 'rutabagas', 'dry egg noodles', 'jams', 'seafood salads', 'sunflower oil', 'cinnamon extract', 'coconut flavor', 'marinated vegetables', 'teff', 'fresh pasta', 'cooking wine', 'gelatin', 'duckling', 'nut oils', 'shortening', 'salad dressings', 'soup mixes', 'eggnog', 'giblets', 'ice pops', 'sauce mixes', 'toaster pastries', 'quark', 'vegan cheddar cheese', 'sorghum', 'kugel', 'variety meats', 'hard liquors', 'frying oil', 'egg substitutes', 'cooked shellfish', 'seasoning blends', 'tapiocas', 'pudding mixes'] \n",
      "\n",
      "\n",
      "~~~~~~~~~~~~~~~~~13~~~~~~~~~~~~~~~~~\n",
      "Model loaded...\n"
     ]
    },
    {
     "name": "stderr",
     "output_type": "stream",
     "text": [
      "  5%|▍         | 661/13811 [00:00<00:03, 3317.30it/s]"
     ]
    },
    {
     "name": "stdout",
     "output_type": "stream",
     "text": [
      "Skipping entity\n",
      "Skipping entity\n",
      "Skipping entity\n",
      "Skipping entity\n",
      "Skipping entity\n",
      "Skipping entity\n",
      "Skipping entity\n",
      "Skipping entity\n",
      "Skipping entity\n",
      "Skipping entity\n",
      "Skipping entity\n"
     ]
    },
    {
     "name": "stderr",
     "output_type": "stream",
     "text": [
      " 16%|█▌        | 2198/13811 [00:00<00:03, 3787.21it/s]"
     ]
    },
    {
     "name": "stdout",
     "output_type": "stream",
     "text": [
      "Skipping entity\n",
      "Skipping entity\n",
      "Skipping entity\n",
      "Skipping entity\n",
      "Skipping entity\n",
      "Skipping entity\n",
      "Skipping entity\n",
      "Skipping entity\n",
      "Skipping entity\n",
      "Skipping entity\n",
      "Skipping entity\n",
      "Skipping entity\n",
      "Skipping entity\n",
      "Skipping entity\n",
      "Skipping entity\n",
      "Skipping entity\n",
      "Skipping entity\n",
      "Skipping entity\n",
      "Skipping entity\n",
      "Skipping entity\n",
      "Skipping entity\n"
     ]
    },
    {
     "name": "stderr",
     "output_type": "stream",
     "text": [
      " 25%|██▌       | 3501/13811 [00:00<00:02, 4151.94it/s]"
     ]
    },
    {
     "name": "stdout",
     "output_type": "stream",
     "text": [
      "Skipping entity\n",
      "Skipping entity\n",
      "Skipping entity\n",
      "Skipping entity\n",
      "Skipping entity\n",
      "Skipping entity\n",
      "Skipping entity\n",
      "Skipping entity\n",
      "Skipping entity\n",
      "Skipping entity\n",
      "Skipping entity\n",
      "Skipping entity\n",
      "Skipping entity\n",
      "Skipping entity\n",
      "Skipping entity\n",
      "Skipping entity\n",
      "Skipping entity\n",
      "Skipping entity\n",
      "Skipping entity\n",
      "Skipping entity\n",
      "Skipping entity\n",
      "Skipping entity\n",
      "Skipping entity\n",
      "Skipping entity\n",
      "Skipping entity\n",
      "Skipping entity\n",
      "Skipping entity\n"
     ]
    },
    {
     "name": "stderr",
     "output_type": "stream",
     "text": [
      " 32%|███▏      | 4404/13811 [00:01<00:02, 4311.86it/s]"
     ]
    },
    {
     "name": "stdout",
     "output_type": "stream",
     "text": [
      "Skipping entity\n",
      "Skipping entity\n",
      "Skipping entity\n",
      "Skipping entity\n",
      "Skipping entity\n",
      "Skipping entity\n",
      "Skipping entity\n",
      "Skipping entity\n",
      "Skipping entity\n",
      "Skipping entity\n",
      "Skipping entity\n",
      "Skipping entity\n",
      "Skipping entity\n",
      "Skipping entity\n",
      "Skipping entity\n",
      "Skipping entity\n",
      "Skipping entity\n",
      "Skipping entity\n"
     ]
    },
    {
     "name": "stderr",
     "output_type": "stream",
     "text": [
      " 43%|████▎     | 5919/13811 [00:01<00:01, 4793.41it/s]"
     ]
    },
    {
     "name": "stdout",
     "output_type": "stream",
     "text": [
      "Skipping entity\n",
      "Skipping entity\n",
      "Skipping entity\n",
      "Skipping entity\n",
      "Skipping entity\n",
      "Skipping entity\n",
      "Skipping entity\n",
      "Skipping entity\n",
      "Skipping entity\n",
      "Skipping entity\n",
      "Skipping entity\n",
      "Skipping entity\n",
      "Skipping entity\n",
      "Skipping entity\n"
     ]
    },
    {
     "name": "stderr",
     "output_type": "stream",
     "text": [
      " 54%|█████▍    | 7437/13811 [00:01<00:01, 4960.61it/s]"
     ]
    },
    {
     "name": "stdout",
     "output_type": "stream",
     "text": [
      "Skipping entity\n",
      "Skipping entity\n",
      "Skipping entity\n",
      "Skipping entity\n",
      "Skipping entity\n",
      "Skipping entity\n",
      "Skipping entity\n",
      "Skipping entity\n",
      "Skipping entity\n",
      "Skipping entity\n",
      "Skipping entity\n",
      "Skipping entity\n",
      "Skipping entity\n",
      "Skipping entity\n",
      "Skipping entity\n",
      "Skipping entity\n",
      "Skipping entity\n",
      "Skipping entity\n",
      "Skipping entity\n",
      "Skipping entity\n",
      "Skipping entity\n",
      "Skipping entity\n"
     ]
    },
    {
     "name": "stderr",
     "output_type": "stream",
     "text": [
      " 61%|██████▏   | 8490/13811 [00:01<00:01, 5018.86it/s]"
     ]
    },
    {
     "name": "stdout",
     "output_type": "stream",
     "text": [
      "Skipping entity\n",
      "Skipping entity\n",
      "Skipping entity\n",
      "Skipping entity\n",
      "Skipping entity\n",
      "Skipping entity\n",
      "Skipping entity\n",
      "Skipping entity\n",
      "Skipping entity\n",
      "Skipping entity\n",
      "Skipping entity\n",
      "Skipping entity\n",
      "Skipping entity\n",
      "Skipping entity\n",
      "Skipping entity\n",
      "Skipping entity\n",
      "Skipping entity\n",
      "Skipping entity\n",
      "Skipping entity\n",
      "Skipping entity\n",
      "Skipping entity\n",
      "Skipping entity\n",
      "Skipping entity\n",
      "Skipping entity\n",
      "Skipping entity\n",
      "Skipping entity\n",
      "Skipping entity\n"
     ]
    },
    {
     "name": "stderr",
     "output_type": "stream",
     "text": [
      " 73%|███████▎  | 10091/13811 [00:02<00:00, 5198.72it/s]"
     ]
    },
    {
     "name": "stdout",
     "output_type": "stream",
     "text": [
      "Skipping entity\n",
      "Skipping entity\n",
      "Skipping entity\n",
      "Skipping entity\n",
      "Skipping entity\n",
      "Skipping entity\n",
      "Skipping entity\n",
      "Skipping entity\n",
      "Skipping entity\n",
      "Skipping entity\n",
      "Skipping entity\n",
      "Skipping entity\n",
      "Skipping entity\n"
     ]
    },
    {
     "name": "stderr",
     "output_type": "stream",
     "text": [
      "\r",
      " 77%|███████▋  | 10612/13811 [00:02<00:00, 5147.37it/s]"
     ]
    },
    {
     "name": "stdout",
     "output_type": "stream",
     "text": [
      "Skipping entity\n",
      "Skipping entity\n",
      "Skipping entity\n",
      "Skipping entity\n",
      "Skipping entity\n",
      "Skipping entity\n",
      "Skipping entity\n",
      "Skipping entity\n",
      "Skipping entity\n",
      "Skipping entity\n",
      "Skipping entity\n",
      "Skipping entity\n",
      "Skipping entity\n",
      "Skipping entity\n",
      "Skipping entity\n",
      "Skipping entity\n",
      "Skipping entity\n",
      "Skipping entity\n",
      "Skipping entity\n",
      "Skipping entity\n",
      "Skipping entity\n",
      "Skipping entity\n",
      "Skipping entity\n",
      "Skipping entity\n",
      "Skipping entity\n",
      "Skipping entity\n",
      "Skipping entity\n",
      "Skipping entity\n"
     ]
    },
    {
     "name": "stderr",
     "output_type": "stream",
     "text": [
      " 92%|█████████▏| 12730/13811 [00:02<00:00, 5218.94it/s]"
     ]
    },
    {
     "name": "stdout",
     "output_type": "stream",
     "text": [
      "Skipping entity\n",
      "Skipping entity\n",
      "Skipping entity\n",
      "Skipping entity\n",
      "Skipping entity\n",
      "Skipping entity\n",
      "Skipping entity\n",
      "Skipping entity\n",
      "Skipping entity\n",
      "Skipping entity\n",
      "Skipping entity\n",
      "Skipping entity\n",
      "Skipping entity\n",
      "Skipping entity\n",
      "Skipping entity\n",
      "Skipping entity\n",
      "Skipping entity\n",
      "Skipping entity\n",
      "Skipping entity\n",
      "Skipping entity\n",
      "Skipping entity\n",
      "Skipping entity\n"
     ]
    },
    {
     "name": "stderr",
     "output_type": "stream",
     "text": [
      "100%|██████████| 13811/13811 [00:02<00:00, 4669.31it/s]"
     ]
    },
    {
     "name": "stdout",
     "output_type": "stream",
     "text": [
      "Skipping entity\n",
      "Skipping entity\n",
      "Skipping entity\n",
      "Skipping entity\n",
      "Skipping entity\n",
      "Skipping entity\n",
      "Skipping entity\n",
      "Skipping entity\n",
      "Skipping entity\n",
      "Skipping entity\n",
      "Skipping entity\n",
      "Skipping entity\n",
      "Skipping entity\n",
      "Skipping entity\n",
      "Skipping entity\n",
      "Skipping entity\n",
      "Skipping entity\n",
      "Skipping entity\n",
      "Skipping entity\n",
      "Skipping entity\n",
      "Skipping entity\n",
      "Skipping entity\n",
      "Skipping entity\n",
      "Skipping entity\n",
      "Skipping entity\n"
     ]
    },
    {
     "name": "stderr",
     "output_type": "stream",
     "text": [
      "\n"
     ]
    },
    {
     "name": "stdout",
     "output_type": "stream",
     "text": [
      "[i] Saving to output directory: output\n",
      "[i] Using CPU\n",
      "\u001b[1m\n",
      "=========================== Initializing pipeline ===========================\u001b[0m\n",
      "[+] Initialized pipeline\n",
      "\u001b[1m\n",
      "============================= Training pipeline =============================\u001b[0m\n",
      "[i] Pipeline: ['tok2vec', 'ner']\n",
      "[i] Initial learn rate: 0.001\n",
      "E    #       LOSS TOK2VEC  LOSS NER  ENTS_F  ENTS_P  ENTS_R  SCORE \n",
      "---  ------  ------------  --------  ------  ------  ------  ------\n",
      "  0       0          0.00     38.33    0.36    2.29    0.20    0.00\n",
      "  0     200         81.54   2540.47   75.28   72.53   78.25    0.75\n",
      "  0     400         72.27   1353.91   83.89   82.59   85.22    0.84\n",
      "  0     600         68.68   1343.46   87.95   84.36   91.86    0.88\n",
      "  0     800         69.23   1342.11   89.76   84.78   95.37    0.90\n",
      "  0    1000         85.47   1543.46   90.92   86.40   95.94    0.91\n",
      "  0    1200         94.67   1726.27   90.30   89.06   91.57    0.90\n",
      "  0    1400         98.64   1963.99   92.67   89.42   96.16    0.93\n",
      "  0    1600        108.93   2364.86   93.09   89.49   97.00    0.93\n",
      "  1    1800        130.63   2493.23   93.68   89.65   98.10    0.94\n",
      "  1    2000        202.93   2837.46   94.19   91.12   97.47    0.94\n",
      "  1    2200        217.61   3454.80   94.23   90.77   97.97    0.94\n",
      "  2    2400        272.19   3820.65   95.00   93.19   96.88    0.95\n",
      "  2    2600        303.22   3576.69   95.49   92.80   98.34    0.95\n",
      "  3    2800        317.83   3311.08   95.97   94.32   97.68    0.96\n",
      "  3    3000        361.09   3086.73   96.15   93.79   98.63    0.96\n",
      "  4    3200        368.09   3004.08   96.72   95.30   98.19    0.97\n",
      "  4    3400        403.29   2639.03   96.98   95.53   98.48    0.97\n",
      "  5    3600        401.50   2781.63   97.18   96.12   98.27    0.97\n",
      "  5    3800        513.10   2272.16   97.39   96.07   98.76    0.97\n",
      "  5    4000        475.05   2514.08   97.65   96.87   98.45    0.98\n",
      "  6    4200        607.53   2094.12   97.78   96.49   99.09    0.98\n",
      "  6    4400        487.61   2234.28   97.85   96.62   99.11    0.98\n",
      "  7    4600        527.25   1919.44   98.06   96.95   99.19    0.98\n",
      "  7    4800        527.66   1954.68   98.15   97.02   99.32    0.98\n",
      "  8    5000        623.11   1781.15   98.38   98.09   98.68    0.98\n",
      "  8    5200        533.49   1741.61   98.47   97.78   99.18    0.98\n",
      "  9    5400        648.55   1735.45   98.56   98.00   99.13    0.99\n",
      "  9    5600        589.62   1588.19   98.60   97.86   99.35    0.99\n",
      " 10    5800        619.73   1593.48   98.47   97.42   99.54    0.98\n",
      " 10    6000        582.89   1389.76   98.78   98.29   99.28    0.99\n",
      " 11    6200        594.65   1626.76   98.95   98.79   99.12    0.99\n",
      " 11    6400        674.22   1300.50   99.00   98.86   99.14    0.99\n",
      " 12    6600        915.68   1475.47   99.18   99.03   99.33    0.99\n",
      " 12    6800        628.14   1237.98   98.90   98.24   99.57    0.99\n",
      " 12    7000        589.85   1272.45   99.16   98.69   99.62    0.99\n",
      " 13    7200        657.08   1091.46   99.29   99.12   99.46    0.99\n",
      " 13    7400        673.14   1196.70   99.15   98.56   99.75    0.99\n",
      " 14    7600        623.03   1056.16   99.23   99.01   99.46    0.99\n",
      " 14    7800        711.50   1098.40   98.88   98.03   99.76    0.99\n",
      " 15    8000        653.16    996.73   99.39   99.36   99.43    0.99\n",
      " 15    8200        698.51   1027.36   99.34   99.06   99.62    0.99\n",
      " 16    8400        677.69   1024.63   99.47   99.44   99.50    0.99\n",
      " 16    8600        652.90    910.54   99.48   99.45   99.52    0.99\n",
      " 17    8800        641.63    963.72   99.50   99.24   99.77    1.00\n",
      " 17    9000        719.88    901.31   99.43   99.06   99.81    0.99\n",
      " 18    9200        704.29    944.97   99.36   99.02   99.70    0.99\n",
      " 18    9400        696.83    798.76   99.64   99.63   99.64    1.00\n",
      " 18    9600        759.20    941.26   99.61   99.60   99.61    1.00\n",
      " 19    9800        791.13    780.95   99.58   99.50   99.66    1.00\n",
      " 19   10000        768.06    876.45   99.67   99.56   99.77    1.00\n",
      " 20   10200        803.63    707.44   99.63   99.51   99.74    1.00\n",
      " 20   10400        789.01    804.44   99.66   99.57   99.75    1.00\n",
      " 21   10600        689.23    729.03   99.60   99.49   99.70    1.00\n",
      " 21   10800        718.31    771.35   99.51   99.79   99.23    1.00\n",
      " 22   11000        769.01    718.11   99.63   99.47   99.78    1.00\n",
      " 22   11200        839.19    713.95   99.66   99.53   99.78    1.00\n",
      " 23   11400        812.29    728.12   99.70   99.54   99.86    1.00\n",
      " 23   11600        907.34    666.75   99.59   99.44   99.74    1.00\n",
      " 24   11800        749.82    750.30   99.67   99.69   99.65    1.00\n",
      " 24   12000        867.99    651.32   99.66   99.51   99.82    1.00\n",
      " 25   12200        924.31    702.75   99.78   99.73   99.83    1.00\n",
      " 25   12400        743.56    588.29   99.67   99.72   99.63    1.00\n",
      " 25   12600        841.62    690.62   99.74   99.71   99.78    1.00\n",
      " 26   12800        776.68    577.91   99.71   99.59   99.83    1.00\n",
      " 26   13000        903.51    692.45   99.76   99.78   99.74    1.00\n",
      " 27   13200        722.28    541.08   99.72   99.57   99.87    1.00\n",
      " 27   13400        927.09    682.29   99.77   99.74   99.79    1.00\n",
      " 28   13600        800.21    588.22   99.75   99.58   99.92    1.00\n",
      " 28   13800        887.31    597.31   99.77   99.76   99.79    1.00\n",
      "[+] Saved pipeline to output directory\n",
      "output\\model-last\n",
      "\n",
      "Total keywords:  428\n",
      "List of Keywords:\n",
      "\n",
      " ['cheese', 'chicken', 'milk', 'butter', 'juice', 'cream', 'fruit', 'rice', 'water', 'garlic', 'bread', 'sugar', 'salt', 'chocolate', 'fish', 'yogurt', 'almond milk', 'greens', 'granola', 'nuts', 'chia seeds', 'whole', 'onions', 'apples', 'peanut butter', 'peaches', 'squash', 'soda', 'flour', 'garlic powder', 'buttermilk', 'potatoes', 'carrots', 'cottage cheese', 'sour cream', 'turkey', 'beans', 'cream cheese', 'bagel', 'pretzels', 'celery', 'white wine', 'fruit cocktail', 'crackers', 'whipped cream', 'margarine', 'ice cream', 'pineapple', 'whipped topping', 'mango', 'sausage', 'pork', 'onion powder', 'dried', 'parsley', 'eggs', 'beef', 'vegetables', 'rotisserie chicken', 'hot dogs', 'dips', 'meats', 'tuna', 'frozen entrees', 'soup', 'bacon', 'pasta', 'pizza', 'fried chicken', 'potato chips', 'cut', 'lean fish', 'cauliflower', 'cooked fish', 'honey', 'stuffed', 'dates', 'scallops', 'yuzu', 'shrimp', 'corn syrup', 'baking soda', 'molasses', 'yeast', 'cornmeal', 'vinegar', 'worcestershire sauce', 'mushrooms', 'broth', 'peppers', 'gravy', 'oats', 'guava', 'coconut', 'cake', 'lemon juice', 'strawberries', 'cheesecake', 'chicken nuggets', 'cinnamon', 'muffin', 'danish', 'pies', 'tomato sauce', 'apple juice', 'pickles', 'coffee', 'goat', 'baking powder', 'sesame seeds', 'pancakes', 'raspberries', 'cornstarch', 'hot sauce', 'grits', 'chives', 'tamarind paste', 'lime juice', 'tomatoes', 'cumin', 'chili powder', 'black pepper', 'pie crust', 'cooked rice', 'patties', 'nutmeg', 'peas', 'refried beans', 'bananas', 'okra', 'cabbage', 'syrup', 'juice concentrates', 'ketchup', 'basil', 'lentils', 'fruits', 'pesto', 'soy milk', 'hoisin sauce', 'sesame oil', 'chili sauce', 'peanuts', 'ham', 'mustard', 'bacon bits', 'chutney', 'sun dried tomatoes', 'boxes', 'string cheese', 'punch', 'waffles', 'crab', 'pasta salad', 'cereal', 'grapes', 'nectarines', 'pears', 'cashews', 'tea', 'pudding', 'coconut cream', 'coconut water', 'cocktail', 'walnuts', 'dough', 'roasted red peppers', 'whole wheat bread', 'thyme', 'mayonnaise', 'berries', 'coleslaw', 'tomato paste', 'oregano', 'canola oil', 'mung bean', 'ghee', 'avocado oil', 'almond oil', 'grapeseed oil', 'spelt', 'coconut milk', 'pure vanilla extract', 'butter flavor', 'olives', 'salsa', 'puff pastry', 'biscuits', 'orange juice', 'vegetable soup', 'garam masala', 'eggplant', 'pine nuts', 'coconut oil', 'quail', 'capers', 'apple cider vinegar', 'kefir', 'ricotta', 'cookie dough', 'base', 'corned beef', 'rye', 'meat products', 'cornish hens', 'fatty fish', 'miso', 'whole wheat flour', 'herbs', 'chicken salad', 'stews', 'leftovers', 'cream pies', 'quiche', 'asparagus', 'cilantro', 'sugar substitutes', 'cookies', 'potato salad', 'brussels sprouts', 'cherry tomatoes', 'taro', 'lamb', 'chocolate syrup', 'pectin', 'tortillas', 'nectar', 'rice milk', 'coconuts', 'turkey bacon', 'black bean sauce', 'tofu', 'oyster sauce', 'rosemary', 'papaya', 'powdered milk', 'popcorn', 'almond butter', 'cashew butter', 'hummus', 'lettuce', 'avocados', 'cantaloupe', 'canadian bacon', 'almonds', 'almond extract', 'pecans', 'apple cider', 'mint', 'carrot juice', 'beets', 'cranberry sauce', 'pate', 'buckwheat', 'seafood', 'prosciutto', 'cheese curds', 'bratwurst', 'coconut flour', 'kale', 'zucchini', 'cherries', 'polenta', 'aioli', 'anchovies', 'oils', 'pumpkin seeds', 'flaxseed', 'herring', 'chorizo', 'coffee creamer', 'egg dishes', 'quinoa', 'arugula', 'pistachios', 'veal', 'sausages', 'shellfish', 'leeks', 'venison', 'rabbit', 'pastrami', 'spaghetti sauce', 'jerky', 'dinners', 'goose', 'chicken parts', 'watermelon', 'capon', 'turducken', 'blueberries', 'salami', 'canned chicken', 'fruit drinks', 'red wine', 'canned goods', 'sunflower seeds', 'caviar', 'croutons', 'cucumbers', 'kimchi', 'crayfish', 'crab meat', 'crab legs', 'mussels', 'oysters', 'barley', 'soy flour', 'cooked pasta', 'farro', 'honeydew', 'star fruit', 'edamame', 'guacamole', 'balsamic vinegar', 'casseroles', 'passionfruit', 'fruit cake', 'pastries', 'marshmallows', 'fruit pies', 'brownie', 'tamarind', 'sorbet', 'duck fat', 'plums', 'apricots', 'pomegranate', 'cranberries', 'citrus fruit', 'kiwi fruit', 'plantains', 'artichokes', 'tapenade', 'bacon grease', 'parsnips', 'bamboo shoots', 'millet', 'beans and peas', 'radishes', 'rhubarb', 'almonds)', 'bok choy', 'jicama', 'swiss chard', 'melons', 'turnips', 'bean sprouts', 'kohlrabi', 'ginger root', 'lobster tails', 'tempeh', 'horseradish', 'barbecue sauce', 'marinades', 'relish', 'baby carrots', 'formula', 'nacho cheese', 'jellies', 'tahini', 'kumquats', 'bagged greens', 'egg salad', 'lemongrass', 'hot peppers', 'cinnamon rolls', 'ham salad', 'amaranth', 'pork roll', 'macadamias', 'sherbet', 'squid', 'prickly pear', 'applesauce', 'salad dressing', 'celery root', 'bison', 'preserves', 'milk solids', 'lemon extract', 'yuzu juice', 'macaroons', 'pork rinds', 'spaghetti squash', 'vegetable juice', 'doughnuts', 'radicchio', 'breadcrumbs', 'bulgur', 'pimento cheese', 'pheasant', 'pumpkins', 'cherimoya', 'rutabagas', 'dry egg noodles', 'jams', 'seafood salads', 'sunflower oil', 'cinnamon extract', 'coconut flavor', 'marinated vegetables', 'teff', 'fresh pasta', 'cooking wine', 'gelatin', 'duckling', 'nut oils', 'shortening', 'salad dressings', 'soup mixes', 'eggnog', 'giblets', 'ice pops', 'sauce mixes', 'toaster pastries', 'quark', 'vegan cheddar cheese', 'sorghum', 'kugel', 'variety meats', 'hard liquors', 'frying oil', 'egg substitutes', 'cooked shellfish', 'seasoning blends', 'tapiocas', 'pudding mixes'] \n",
      "\n",
      "\n"
     ]
    },
    {
     "name": "stdout",
     "output_type": "stream",
     "text": [
      "[[37  7]\n",
      " [ 3 36]]\n",
      "              precision    recall  f1-score   support\n",
      "\n",
      "           1       0.93      0.84      0.88        44\n",
      "           0       0.84      0.92      0.88        39\n",
      "\n",
      "    accuracy                           0.88        83\n",
      "   macro avg       0.88      0.88      0.88        83\n",
      "weighted avg       0.88      0.88      0.88        83\n",
      "\n",
      "Total keywords:  429\n",
      "Total Tweets:  13811\n",
      "List of Keywords:\n",
      "\n",
      " ['cheese', 'chicken', 'milk', 'butter', 'juice', 'cream', 'fruit', 'rice', 'water', 'garlic', 'bread', 'sugar', 'salt', 'chocolate', 'fish', 'yogurt', 'almond milk', 'greens', 'granola', 'nuts', 'chia seeds', 'whole', 'onions', 'apples', 'peanut butter', 'peaches', 'squash', 'soda', 'flour', 'garlic powder', 'buttermilk', 'potatoes', 'carrots', 'cottage cheese', 'sour cream', 'turkey', 'beans', 'cream cheese', 'bagel', 'pretzels', 'celery', 'white wine', 'fruit cocktail', 'crackers', 'whipped cream', 'margarine', 'ice cream', 'pineapple', 'whipped topping', 'mango', 'sausage', 'pork', 'onion powder', 'dried', 'parsley', 'eggs', 'beef', 'vegetables', 'rotisserie chicken', 'hot dogs', 'dips', 'meats', 'tuna', 'frozen entrees', 'soup', 'bacon', 'pasta', 'pizza', 'fried chicken', 'potato chips', 'cut', 'lean fish', 'cauliflower', 'cooked fish', 'honey', 'stuffed', 'dates', 'scallops', 'yuzu', 'shrimp', 'corn syrup', 'baking soda', 'molasses', 'yeast', 'cornmeal', 'vinegar', 'worcestershire sauce', 'mushrooms', 'broth', 'peppers', 'gravy', 'oats', 'guava', 'coconut', 'cake', 'lemon juice', 'strawberries', 'cheesecake', 'chicken nuggets', 'cinnamon', 'muffin', 'danish', 'pies', 'tomato sauce', 'apple juice', 'pickles', 'coffee', 'goat', 'baking powder', 'sesame seeds', 'pancakes', 'raspberries', 'cornstarch', 'hot sauce', 'grits', 'chives', 'tamarind paste', 'lime juice', 'tomatoes', 'cumin', 'chili powder', 'black pepper', 'pie crust', 'cooked rice', 'patties', 'nutmeg', 'peas', 'refried beans', 'bananas', 'okra', 'cabbage', 'syrup', 'juice concentrates', 'ketchup', 'basil', 'lentils', 'fruits', 'pesto', 'soy milk', 'hoisin sauce', 'sesame oil', 'chili sauce', 'peanuts', 'ham', 'mustard', 'bacon bits', 'chutney', 'sun dried tomatoes', 'boxes', 'string cheese', 'punch', 'waffles', 'crab', 'pasta salad', 'cereal', 'grapes', 'nectarines', 'pears', 'cashews', 'tea', 'pudding', 'coconut cream', 'coconut water', 'cocktail', 'walnuts', 'dough', 'roasted red peppers', 'whole wheat bread', 'thyme', 'mayonnaise', 'berries', 'coleslaw', 'tomato paste', 'oregano', 'canola oil', 'mung bean', 'ghee', 'avocado oil', 'almond oil', 'grapeseed oil', 'spelt', 'coconut milk', 'pure vanilla extract', 'butter flavor', 'olives', 'salsa', 'puff pastry', 'biscuits', 'orange juice', 'vegetable soup', 'garam masala', 'eggplant', 'pine nuts', 'coconut oil', 'quail', 'capers', 'apple cider vinegar', 'kefir', 'ricotta', 'cookie dough', 'base', 'corned beef', 'rye', 'meat products', 'cornish hens', 'fatty fish', 'miso', 'whole wheat flour', 'herbs', 'chicken salad', 'stews', 'leftovers', 'cream pies', 'quiche', 'asparagus', 'cilantro', 'sugar substitutes', 'cookies', 'potato salad', 'brussels sprouts', 'cherry tomatoes', 'taro', 'lamb', 'chocolate syrup', 'pectin', 'tortillas', 'nectar', 'rice milk', 'coconuts', 'turkey bacon', 'black bean sauce', 'tofu', 'oyster sauce', 'rosemary', 'papaya', 'powdered milk', 'popcorn', 'almond butter', 'cashew butter', 'hummus', 'lettuce', 'avocados', 'cantaloupe', 'canadian bacon', 'almonds', 'almond extract', 'pecans', 'apple cider', 'mint', 'carrot juice', 'beets', 'cranberry sauce', 'pate', 'buckwheat', 'seafood', 'prosciutto', 'cheese curds', 'bratwurst', 'coconut flour', 'kale', 'zucchini', 'cherries', 'polenta', 'aioli', 'anchovies', 'oils', 'pumpkin seeds', 'flaxseed', 'herring', 'chorizo', 'coffee creamer', 'egg dishes', 'quinoa', 'arugula', 'pistachios', 'veal', 'sausages', 'shellfish', 'leeks', 'venison', 'rabbit', 'pastrami', 'spaghetti sauce', 'jerky', 'dinners', 'goose', 'chicken parts', 'watermelon', 'capon', 'turducken', 'blueberries', 'salami', 'canned chicken', 'fruit drinks', 'red wine', 'canned goods', 'sunflower seeds', 'caviar', 'croutons', 'cucumbers', 'kimchi', 'crayfish', 'crab meat', 'crab legs', 'mussels', 'oysters', 'barley', 'soy flour', 'cooked pasta', 'farro', 'honeydew', 'star fruit', 'edamame', 'guacamole', 'balsamic vinegar', 'casseroles', 'passionfruit', 'fruit cake', 'pastries', 'marshmallows', 'fruit pies', 'brownie', 'tamarind', 'sorbet', 'duck fat', 'plums', 'apricots', 'pomegranate', 'cranberries', 'citrus fruit', 'kiwi fruit', 'plantains', 'artichokes', 'tapenade', 'bacon grease', 'parsnips', 'bamboo shoots', 'millet', 'beans and peas', 'radishes', 'rhubarb', 'almonds)', 'bok choy', 'jicama', 'swiss chard', 'melons', 'turnips', 'bean sprouts', 'kohlrabi', 'ginger root', 'lobster tails', 'tempeh', 'horseradish', 'barbecue sauce', 'marinades', 'relish', 'baby carrots', 'formula', 'nacho cheese', 'jellies', 'tahini', 'kumquats', 'bagged greens', 'egg salad', 'lemongrass', 'hot peppers', 'cinnamon rolls', 'ham salad', 'amaranth', 'pork roll', 'macadamias', 'sherbet', 'squid', 'prickly pear', 'applesauce', 'salad dressing', 'celery root', 'bison', 'preserves', 'milk solids', 'lemon extract', 'yuzu juice', 'macaroons', 'pork rinds', 'spaghetti squash', 'vegetable juice', 'doughnuts', 'radicchio', 'breadcrumbs', 'bulgur', 'pimento cheese', 'pheasant', 'pumpkins', 'cherimoya', 'rutabagas', 'dry egg noodles', 'jams', 'seafood salads', 'sunflower oil', 'cinnamon extract', 'coconut flavor', 'marinated vegetables', 'teff', 'fresh pasta', 'cooking wine', 'gelatin', 'duckling', 'nut oils', 'shortening', 'salad dressings', 'soup mixes', 'eggnog', 'giblets', 'ice pops', 'sauce mixes', 'toaster pastries', 'quark', 'vegan cheddar cheese', 'sorghum', 'kugel', 'variety meats', 'hard liquors', 'frying oil', 'egg substitutes', 'cooked shellfish', 'seasoning blends', 'tapiocas', 'pudding mixes', 'frozen potato products'] \n",
      "\n",
      "\n",
      "~~~~~~~~~~~~~~~~~14~~~~~~~~~~~~~~~~~\n",
      "Model loaded...\n"
     ]
    },
    {
     "name": "stderr",
     "output_type": "stream",
     "text": [
      "  7%|▋         | 1070/14541 [00:00<00:03, 3606.19it/s]"
     ]
    },
    {
     "name": "stdout",
     "output_type": "stream",
     "text": [
      "Skipping entity\n",
      "Skipping entity\n",
      "Skipping entity\n",
      "Skipping entity\n",
      "Skipping entity\n",
      "Skipping entity\n",
      "Skipping entity\n",
      "Skipping entity\n",
      "Skipping entity\n",
      "Skipping entity\n",
      "Skipping entity\n",
      "Skipping entity\n",
      "Skipping entity\n",
      "Skipping entity\n"
     ]
    },
    {
     "name": "stderr",
     "output_type": "stream",
     "text": [
      " 13%|█▎        | 1868/14541 [00:00<00:03, 3792.00it/s]"
     ]
    },
    {
     "name": "stdout",
     "output_type": "stream",
     "text": [
      "Skipping entity\n",
      "Skipping entity\n",
      "Skipping entity\n",
      "Skipping entity\n",
      "Skipping entity\n",
      "Skipping entity\n",
      "Skipping entity\n",
      "Skipping entity\n",
      "Skipping entity\n",
      "Skipping entity\n",
      "Skipping entity\n",
      "Skipping entity\n",
      "Skipping entity\n",
      "Skipping entity\n",
      "Skipping entity\n",
      "Skipping entity\n",
      "Skipping entity\n",
      "Skipping entity\n",
      "Skipping entity\n",
      "Skipping entity\n",
      "Skipping entity\n",
      "Skipping entity\n"
     ]
    },
    {
     "name": "stderr",
     "output_type": "stream",
     "text": [
      " 22%|██▏       | 3157/14541 [00:00<00:02, 4092.48it/s]"
     ]
    },
    {
     "name": "stdout",
     "output_type": "stream",
     "text": [
      "Skipping entity\n",
      "Skipping entity\n",
      "Skipping entity\n",
      "Skipping entity\n",
      "Skipping entity\n",
      "Skipping entity\n",
      "Skipping entity\n",
      "Skipping entity\n",
      "Skipping entity\n",
      "Skipping entity\n",
      "Skipping entity\n",
      "Skipping entity\n",
      "Skipping entity\n",
      "Skipping entity\n",
      "Skipping entity\n",
      "Skipping entity\n",
      "Skipping entity\n",
      "Skipping entity\n",
      "Skipping entity\n",
      "Skipping entity\n",
      "Skipping entity\n"
     ]
    },
    {
     "name": "stderr",
     "output_type": "stream",
     "text": [
      " 28%|██▊       | 4036/14541 [00:01<00:02, 4240.33it/s]"
     ]
    },
    {
     "name": "stdout",
     "output_type": "stream",
     "text": [
      "Skipping entity\n",
      "Skipping entity\n",
      "Skipping entity\n",
      "Skipping entity\n",
      "Skipping entity\n",
      "Skipping entity\n",
      "Skipping entity\n",
      "Skipping entity\n",
      "Skipping entity\n",
      "Skipping entity\n",
      "Skipping entity\n",
      "Skipping entity\n",
      "Skipping entity\n",
      "Skipping entity\n",
      "Skipping entity\n",
      "Skipping entity\n",
      "Skipping entity\n",
      "Skipping entity\n",
      "Skipping entity\n",
      "Skipping entity\n",
      "Skipping entity\n",
      "Skipping entity\n",
      "Skipping entity\n"
     ]
    },
    {
     "name": "stderr",
     "output_type": "stream",
     "text": [
      " 38%|███▊      | 5520/14541 [00:01<00:01, 4734.73it/s]"
     ]
    },
    {
     "name": "stdout",
     "output_type": "stream",
     "text": [
      "Skipping entity\n",
      "Skipping entity\n",
      "Skipping entity\n",
      "Skipping entity\n",
      "Skipping entity\n",
      "Skipping entity\n",
      "Skipping entity\n",
      "Skipping entity\n",
      "Skipping entity\n",
      "Skipping entity\n",
      "Skipping entity\n",
      "Skipping entity\n"
     ]
    },
    {
     "name": "stderr",
     "output_type": "stream",
     "text": [
      " 45%|████▍     | 6505/14541 [00:01<00:01, 4803.63it/s]"
     ]
    },
    {
     "name": "stdout",
     "output_type": "stream",
     "text": [
      "Skipping entity\n",
      "Skipping entity\n",
      "Skipping entity\n",
      "Skipping entity\n",
      "Skipping entity\n",
      "Skipping entity\n",
      "Skipping entity\n",
      "Skipping entity\n",
      "Skipping entity\n",
      "Skipping entity\n",
      "Skipping entity\n",
      "Skipping entity\n"
     ]
    },
    {
     "name": "stderr",
     "output_type": "stream",
     "text": [
      " 52%|█████▏    | 7531/14541 [00:01<00:01, 4979.64it/s]"
     ]
    },
    {
     "name": "stdout",
     "output_type": "stream",
     "text": [
      "Skipping entity\n",
      "Skipping entity\n",
      "Skipping entity\n",
      "Skipping entity\n",
      "Skipping entity\n",
      "Skipping entity\n",
      "Skipping entity\n",
      "Skipping entity\n",
      "Skipping entity\n",
      "Skipping entity\n",
      "Skipping entity\n",
      "Skipping entity\n"
     ]
    },
    {
     "name": "stderr",
     "output_type": "stream",
     "text": [
      " 63%|██████▎   | 9105/14541 [00:02<00:01, 5104.45it/s]"
     ]
    },
    {
     "name": "stdout",
     "output_type": "stream",
     "text": [
      "Skipping entity\n",
      "Skipping entity\n",
      "Skipping entity\n",
      "Skipping entity\n",
      "Skipping entity\n",
      "Skipping entity\n",
      "Skipping entity\n",
      "Skipping entity\n",
      "Skipping entity\n",
      "Skipping entity\n",
      "Skipping entity\n",
      "Skipping entity\n",
      "Skipping entity\n",
      "Skipping entity\n",
      "Skipping entity\n",
      "Skipping entity\n",
      "Skipping entity\n",
      "Skipping entity\n",
      "Skipping entity\n",
      "Skipping entity\n",
      "Skipping entity\n",
      "Skipping entity\n",
      "Skipping entity\n",
      "Skipping entity\n",
      "Skipping entity\n",
      "Skipping entity\n",
      "Skipping entity\n",
      "Skipping entity\n"
     ]
    },
    {
     "name": "stderr",
     "output_type": "stream",
     "text": [
      " 70%|███████   | 10185/14541 [00:02<00:00, 5263.66it/s]"
     ]
    },
    {
     "name": "stdout",
     "output_type": "stream",
     "text": [
      "Skipping entity\n",
      "Skipping entity\n",
      "Skipping entity\n",
      "Skipping entity\n",
      "Skipping entity\n",
      "Skipping entity\n",
      "Skipping entity\n",
      "Skipping entity\n",
      "Skipping entity\n",
      "Skipping entity\n",
      "Skipping entity\n",
      "Skipping entity\n",
      "Skipping entity\n",
      "Skipping entity\n",
      "Skipping entity\n",
      "Skipping entity\n",
      "Skipping entity\n",
      "Skipping entity\n",
      "Skipping entity\n",
      "Skipping entity\n",
      "Skipping entity\n",
      "Skipping entity\n"
     ]
    },
    {
     "name": "stderr",
     "output_type": "stream",
     "text": [
      " 81%|████████  | 11742/14541 [00:02<00:00, 4974.77it/s]"
     ]
    },
    {
     "name": "stdout",
     "output_type": "stream",
     "text": [
      "Skipping entity\n",
      "Skipping entity\n",
      "Skipping entity\n",
      "Skipping entity\n",
      "Skipping entity\n",
      "Skipping entity\n",
      "Skipping entity\n",
      "Skipping entity\n",
      "Skipping entity\n",
      "Skipping entity\n",
      "Skipping entity\n",
      "Skipping entity\n",
      "Skipping entity\n",
      "Skipping entity\n",
      "Skipping entity\n",
      "Skipping entity\n",
      "Skipping entity\n",
      "Skipping entity\n",
      "Skipping entity\n",
      "Skipping entity\n",
      "Skipping entity\n",
      "Skipping entity\n",
      "Skipping entity\n",
      "Skipping entity\n",
      "Skipping entity\n",
      "Skipping entity\n",
      "Skipping entity\n",
      "Skipping entity\n",
      "Skipping entity\n",
      "Skipping entity\n",
      "Skipping entity\n",
      "Skipping entity\n"
     ]
    },
    {
     "name": "stderr",
     "output_type": "stream",
     "text": [
      " 92%|█████████▏| 13306/14541 [00:02<00:00, 5152.88it/s]"
     ]
    },
    {
     "name": "stdout",
     "output_type": "stream",
     "text": [
      "Skipping entity\n",
      "Skipping entity\n",
      "Skipping entity\n",
      "Skipping entity\n",
      "Skipping entity\n",
      "Skipping entity\n",
      "Skipping entity\n",
      "Skipping entity\n",
      "Skipping entity\n",
      "Skipping entity\n",
      "Skipping entity\n",
      "Skipping entity\n",
      "Skipping entity\n",
      "Skipping entity\n",
      "Skipping entity\n",
      "Skipping entity\n",
      "Skipping entity\n",
      "Skipping entity\n",
      "Skipping entity\n"
     ]
    },
    {
     "name": "stderr",
     "output_type": "stream",
     "text": [
      " 99%|█████████▊| 14333/14541 [00:03<00:00, 5055.83it/s]"
     ]
    },
    {
     "name": "stdout",
     "output_type": "stream",
     "text": [
      "Skipping entity\n",
      "Skipping entity\n",
      "Skipping entity\n",
      "Skipping entity\n",
      "Skipping entity\n",
      "Skipping entity\n",
      "Skipping entity\n",
      "Skipping entity\n",
      "Skipping entity\n",
      "Skipping entity\n",
      "Skipping entity\n",
      "Skipping entity\n",
      "Skipping entity\n",
      "Skipping entity\n",
      "Skipping entity\n",
      "Skipping entity\n",
      "Skipping entity\n",
      "Skipping entity\n",
      "Skipping entity\n",
      "Skipping entity\n",
      "Skipping entity\n"
     ]
    },
    {
     "name": "stderr",
     "output_type": "stream",
     "text": [
      "100%|██████████| 14541/14541 [00:03<00:00, 4702.83it/s]\n"
     ]
    },
    {
     "name": "stdout",
     "output_type": "stream",
     "text": [
      "Skipping entity\n",
      "Skipping entity\n",
      "Skipping entity\n",
      "Skipping entity\n",
      "Skipping entity\n",
      "Skipping entity\n",
      "Skipping entity\n",
      "Skipping entity\n",
      "Skipping entity\n",
      "[i] Saving to output directory: output\n",
      "[i] Using CPU\n",
      "\u001b[1m\n",
      "=========================== Initializing pipeline ===========================\u001b[0m\n",
      "[+] Initialized pipeline\n",
      "\u001b[1m\n",
      "============================= Training pipeline =============================\u001b[0m\n",
      "[i] Pipeline: ['tok2vec', 'ner']\n",
      "[i] Initial learn rate: 0.001\n",
      "E    #       LOSS TOK2VEC  LOSS NER  ENTS_F  ENTS_P  ENTS_R  SCORE \n",
      "---  ------  ------------  --------  ------  ------  ------  ------\n",
      "  0       0          0.00     33.67    0.28    1.07    0.16    0.00\n",
      "  0     200         72.49   2529.50   76.09   71.49   81.32    0.76\n",
      "  0     400         79.81   1402.84   83.26   77.60   89.80    0.83\n",
      "  0     600         74.15   1343.24   86.00   81.39   91.16    0.86\n",
      "  0     800         70.40   1386.03   89.50   85.82   93.51    0.89\n",
      "  0    1000         90.34   1604.07   90.12   85.79   94.90    0.90\n",
      "  0    1200        105.64   1750.90   91.16   87.26   95.44    0.91\n",
      "  0    1400         99.92   1992.19   92.12   87.93   96.73    0.92\n",
      "  0    1600        130.84   2423.07   92.67   88.85   96.83    0.93\n",
      "  1    1800        144.54   2688.60   93.12   89.64   96.89    0.93\n",
      "  1    2000        197.25   3031.55   93.70   90.80   96.79    0.94\n",
      "  1    2200        218.15   3542.72   94.09   90.54   97.93    0.94\n",
      "  2    2400        264.55   3824.09   94.54   91.34   97.97    0.95\n",
      "  2    2600        336.65   3794.95   94.85   91.79   98.12    0.95\n",
      "  3    2800        313.95   3667.10   95.38   92.83   98.07    0.95\n",
      "  3    3000        373.39   3157.39   95.67   93.20   98.28    0.96\n",
      "  3    3200        383.63   3250.88   96.02   93.73   98.42    0.96\n",
      "  4    3400        406.86   2845.40   96.59   95.19   98.03    0.97\n",
      "  4    3600        449.83   2857.12   96.33   93.91   98.88    0.96\n",
      "  5    3800        433.87   2621.11   97.17   96.01   98.36    0.97\n",
      "  5    4000        504.94   2461.37   97.25   95.99   98.54    0.97\n",
      "  6    4200        453.34   2463.70   97.41   96.08   98.77    0.97\n",
      "  6    4400        537.18   2236.09   97.60   96.26   98.98    0.98\n",
      "  7    4600        510.92   2196.06   97.86   96.79   98.96    0.98\n",
      "  7    4800        579.03   1999.20   97.87   96.71   99.06    0.98\n",
      "  7    5000        614.05   2066.60   98.22   97.48   98.98    0.98\n",
      "  8    5200        534.72   1718.61   98.24   97.57   98.92    0.98\n",
      "  8    5400        593.68   1894.36   98.29   97.25   99.35    0.98\n",
      "  9    5600        620.08   1770.20   98.52   97.99   99.06    0.99\n",
      "  9    5800        657.22   1634.73   98.51   97.65   99.39    0.99\n",
      " 10    6000        575.99   1656.11   98.75   98.81   98.70    0.99\n",
      " 10    6200        647.54   1437.70   98.61   97.94   99.29    0.99\n",
      " 11    6400        612.42   1606.21   98.91   98.33   99.49    0.99\n",
      " 11    6600        657.16   1249.67   98.80   98.24   99.37    0.99\n",
      " 11    6800        664.19   1438.06   98.98   98.61   99.35    0.99\n",
      " 12    7000        685.62   1347.40   98.99   98.46   99.51    0.99\n",
      " 12    7200        684.52   1294.98   98.80   98.03   99.59    0.99\n",
      " 13    7400        631.53   1230.27   99.14   99.01   99.28    0.99\n",
      " 13    7600        707.10   1166.57   98.81   97.97   99.67    0.99\n",
      " 14    7800        726.74   1324.42   99.20   99.20   99.20    0.99\n",
      " 14    8000        620.41   1057.99   99.28   99.16   99.40    0.99\n",
      " 15    8200        678.39   1125.78   99.17   98.57   99.78    0.99\n",
      " 15    8400        721.85   1053.69   99.31   98.94   99.68    0.99\n",
      " 15    8600        667.89   1130.38   99.35   99.12   99.59    0.99\n",
      " 16    8800        759.46    942.57   99.34   99.05   99.63    0.99\n",
      " 16    9000       1040.02   1031.58   99.47   99.36   99.59    0.99\n",
      " 17    9200        639.85    967.25   99.35   98.98   99.73    0.99\n",
      " 17    9400        794.87    925.95   99.37   99.22   99.52    0.99\n",
      " 18    9600        683.07    931.71   99.50   99.31   99.70    1.00\n",
      " 18    9800        857.13    911.54   99.43   99.21   99.65    0.99\n",
      " 18   10000        735.70    976.57   99.57   99.38   99.76    1.00\n",
      " 19   10200        707.57    766.87   99.28   98.72   99.85    0.99\n",
      " 19   10400        811.78    895.47   99.57   99.59   99.56    1.00\n",
      " 20   10600        786.11    796.66   99.60   99.47   99.73    1.00\n",
      " 20   10800        727.49    774.64   99.60   99.48   99.72    1.00\n",
      " 21   11000        698.70    759.08   99.41   98.94   99.90    0.99\n",
      " 21   11200        766.47    788.16   99.70   99.64   99.75    1.00\n",
      " 22   11400        714.53    789.62   99.53   99.19   99.86    1.00\n",
      " 22   11600        825.74    723.79   99.67   99.62   99.73    1.00\n",
      " 22   11800        783.00    782.83   99.65   99.59   99.71    1.00\n",
      " 23   12000        817.40    678.93   99.69   99.76   99.63    1.00\n",
      " 23   12200        899.40    783.13   99.73   99.61   99.86    1.00\n",
      " 24   12400        833.17    640.34   99.71   99.75   99.66    1.00\n",
      " 24   12600        792.89    680.97   99.64   99.68   99.60    1.00\n",
      " 25   12800        863.95    697.77   99.70   99.60   99.81    1.00\n",
      " 25   13000        730.77    634.13   99.74   99.67   99.80    1.00\n",
      " 26   13200        891.65    662.47   99.71   99.62   99.80    1.00\n",
      " 26   13400        778.75    622.31   99.72   99.56   99.88    1.00\n",
      " 26   13600        854.27    683.44   99.79   99.76   99.82    1.00\n",
      " 27   13800        752.47    544.86   99.57   99.28   99.86    1.00\n",
      " 27   14000       1067.51    700.16   99.73   99.81   99.66    1.00\n",
      " 28   14200        909.41    644.55   99.73   99.68   99.79    1.00\n",
      " 28   14400        977.85    586.49   99.72   99.55   99.89    1.00\n",
      " 29   14600        821.52    605.10   99.73   99.56   99.90    1.00\n",
      " 29   14800       1089.40    568.05   99.75   99.62   99.88    1.00\n",
      " 30   15000        885.68    629.26   99.79   99.75   99.83    1.00\n",
      " 30   15200        825.64    565.99   99.79   99.76   99.81    1.00\n",
      " 30   15400        943.28    620.75   99.81   99.82   99.81    1.00\n",
      " 31   15600        933.90    487.67   99.77   99.66   99.89    1.00\n",
      " 31   15800       1034.09    577.03   99.76   99.61   99.91    1.00\n",
      " 32   16000       1053.88    570.08   99.77   99.67   99.86    1.00\n",
      " 32   16200       1179.47    585.00   99.83   99.80   99.86    1.00\n",
      " 33   16400        862.42    551.25   99.74   99.60   99.89    1.00\n",
      " 33   16600       1392.97    563.69   99.75   99.66   99.84    1.00\n",
      " 34   16800        969.84    567.52   99.84   99.85   99.83    1.00\n",
      " 34   17000       1106.89    480.53   99.76   99.60   99.91    1.00\n",
      " 34   17200       1223.37    561.13   99.83   99.91   99.75    1.00\n",
      " 35   17400       1056.78    460.14   99.79   99.82   99.75    1.00\n",
      " 35   17600       1299.72    566.66   99.84   99.85   99.83    1.00\n",
      " 36   17800        885.78    444.02   99.84   99.84   99.83    1.00\n",
      " 36   18000       1160.72    496.70   99.82   99.72   99.91    1.00\n",
      " 37   18200       1044.24    506.26   99.83   99.80   99.86    1.00\n",
      " 37   18400       1124.95    492.55   99.81   99.74   99.88    1.00\n",
      "[+] Saved pipeline to output directory\n",
      "output\\model-last\n",
      "\n",
      "Total keywords:  429\n",
      "List of Keywords:\n",
      "\n",
      " ['cheese', 'chicken', 'milk', 'butter', 'juice', 'cream', 'fruit', 'rice', 'water', 'garlic', 'bread', 'sugar', 'salt', 'chocolate', 'fish', 'yogurt', 'almond milk', 'greens', 'granola', 'nuts', 'chia seeds', 'whole', 'onions', 'apples', 'peanut butter', 'peaches', 'squash', 'soda', 'flour', 'garlic powder', 'buttermilk', 'potatoes', 'carrots', 'cottage cheese', 'sour cream', 'turkey', 'beans', 'cream cheese', 'bagel', 'pretzels', 'celery', 'white wine', 'fruit cocktail', 'crackers', 'whipped cream', 'margarine', 'ice cream', 'pineapple', 'whipped topping', 'mango', 'sausage', 'pork', 'onion powder', 'dried', 'parsley', 'eggs', 'beef', 'vegetables', 'rotisserie chicken', 'hot dogs', 'dips', 'meats', 'tuna', 'frozen entrees', 'soup', 'bacon', 'pasta', 'pizza', 'fried chicken', 'potato chips', 'cut', 'lean fish', 'cauliflower', 'cooked fish', 'honey', 'stuffed', 'dates', 'scallops', 'yuzu', 'shrimp', 'corn syrup', 'baking soda', 'molasses', 'yeast', 'cornmeal', 'vinegar', 'worcestershire sauce', 'mushrooms', 'broth', 'peppers', 'gravy', 'oats', 'guava', 'coconut', 'cake', 'lemon juice', 'strawberries', 'cheesecake', 'chicken nuggets', 'cinnamon', 'muffin', 'danish', 'pies', 'tomato sauce', 'apple juice', 'pickles', 'coffee', 'goat', 'baking powder', 'sesame seeds', 'pancakes', 'raspberries', 'cornstarch', 'hot sauce', 'grits', 'chives', 'tamarind paste', 'lime juice', 'tomatoes', 'cumin', 'chili powder', 'black pepper', 'pie crust', 'cooked rice', 'patties', 'nutmeg', 'peas', 'refried beans', 'bananas', 'okra', 'cabbage', 'syrup', 'juice concentrates', 'ketchup', 'basil', 'lentils', 'fruits', 'pesto', 'soy milk', 'hoisin sauce', 'sesame oil', 'chili sauce', 'peanuts', 'ham', 'mustard', 'bacon bits', 'chutney', 'sun dried tomatoes', 'boxes', 'string cheese', 'punch', 'waffles', 'crab', 'pasta salad', 'cereal', 'grapes', 'nectarines', 'pears', 'cashews', 'tea', 'pudding', 'coconut cream', 'coconut water', 'cocktail', 'walnuts', 'dough', 'roasted red peppers', 'whole wheat bread', 'thyme', 'mayonnaise', 'berries', 'coleslaw', 'tomato paste', 'oregano', 'canola oil', 'mung bean', 'ghee', 'avocado oil', 'almond oil', 'grapeseed oil', 'spelt', 'coconut milk', 'pure vanilla extract', 'butter flavor', 'olives', 'salsa', 'puff pastry', 'biscuits', 'orange juice', 'vegetable soup', 'garam masala', 'eggplant', 'pine nuts', 'coconut oil', 'quail', 'capers', 'apple cider vinegar', 'kefir', 'ricotta', 'cookie dough', 'base', 'corned beef', 'rye', 'meat products', 'cornish hens', 'fatty fish', 'miso', 'whole wheat flour', 'herbs', 'chicken salad', 'stews', 'leftovers', 'cream pies', 'quiche', 'asparagus', 'cilantro', 'sugar substitutes', 'cookies', 'potato salad', 'brussels sprouts', 'cherry tomatoes', 'taro', 'lamb', 'chocolate syrup', 'pectin', 'tortillas', 'nectar', 'rice milk', 'coconuts', 'turkey bacon', 'black bean sauce', 'tofu', 'oyster sauce', 'rosemary', 'papaya', 'powdered milk', 'popcorn', 'almond butter', 'cashew butter', 'hummus', 'lettuce', 'avocados', 'cantaloupe', 'canadian bacon', 'almonds', 'almond extract', 'pecans', 'apple cider', 'mint', 'carrot juice', 'beets', 'cranberry sauce', 'pate', 'buckwheat', 'seafood', 'prosciutto', 'cheese curds', 'bratwurst', 'coconut flour', 'kale', 'zucchini', 'cherries', 'polenta', 'aioli', 'anchovies', 'oils', 'pumpkin seeds', 'flaxseed', 'herring', 'chorizo', 'coffee creamer', 'egg dishes', 'quinoa', 'arugula', 'pistachios', 'veal', 'sausages', 'shellfish', 'leeks', 'venison', 'rabbit', 'pastrami', 'spaghetti sauce', 'jerky', 'dinners', 'goose', 'chicken parts', 'watermelon', 'capon', 'turducken', 'blueberries', 'salami', 'canned chicken', 'fruit drinks', 'red wine', 'canned goods', 'sunflower seeds', 'caviar', 'croutons', 'cucumbers', 'kimchi', 'crayfish', 'crab meat', 'crab legs', 'mussels', 'oysters', 'barley', 'soy flour', 'cooked pasta', 'farro', 'honeydew', 'star fruit', 'edamame', 'guacamole', 'balsamic vinegar', 'casseroles', 'passionfruit', 'fruit cake', 'pastries', 'marshmallows', 'fruit pies', 'brownie', 'tamarind', 'sorbet', 'duck fat', 'plums', 'apricots', 'pomegranate', 'cranberries', 'citrus fruit', 'kiwi fruit', 'plantains', 'artichokes', 'tapenade', 'bacon grease', 'parsnips', 'bamboo shoots', 'millet', 'beans and peas', 'radishes', 'rhubarb', 'almonds)', 'bok choy', 'jicama', 'swiss chard', 'melons', 'turnips', 'bean sprouts', 'kohlrabi', 'ginger root', 'lobster tails', 'tempeh', 'horseradish', 'barbecue sauce', 'marinades', 'relish', 'baby carrots', 'formula', 'nacho cheese', 'jellies', 'tahini', 'kumquats', 'bagged greens', 'egg salad', 'lemongrass', 'hot peppers', 'cinnamon rolls', 'ham salad', 'amaranth', 'pork roll', 'macadamias', 'sherbet', 'squid', 'prickly pear', 'applesauce', 'salad dressing', 'celery root', 'bison', 'preserves', 'milk solids', 'lemon extract', 'yuzu juice', 'macaroons', 'pork rinds', 'spaghetti squash', 'vegetable juice', 'doughnuts', 'radicchio', 'breadcrumbs', 'bulgur', 'pimento cheese', 'pheasant', 'pumpkins', 'cherimoya', 'rutabagas', 'dry egg noodles', 'jams', 'seafood salads', 'sunflower oil', 'cinnamon extract', 'coconut flavor', 'marinated vegetables', 'teff', 'fresh pasta', 'cooking wine', 'gelatin', 'duckling', 'nut oils', 'shortening', 'salad dressings', 'soup mixes', 'eggnog', 'giblets', 'ice pops', 'sauce mixes', 'toaster pastries', 'quark', 'vegan cheddar cheese', 'sorghum', 'kugel', 'variety meats', 'hard liquors', 'frying oil', 'egg substitutes', 'cooked shellfish', 'seasoning blends', 'tapiocas', 'pudding mixes', 'frozen potato products'] \n",
      "\n",
      "\n"
     ]
    },
    {
     "name": "stdout",
     "output_type": "stream",
     "text": [
      "[[35  9]\n",
      " [ 3 36]]\n",
      "              precision    recall  f1-score   support\n",
      "\n",
      "           1       0.92      0.80      0.85        44\n",
      "           0       0.80      0.92      0.86        39\n",
      "\n",
      "    accuracy                           0.86        83\n",
      "   macro avg       0.86      0.86      0.86        83\n",
      "weighted avg       0.86      0.86      0.86        83\n",
      "\n",
      "Total keywords:  430\n",
      "Total Tweets:  14541\n",
      "List of Keywords:\n",
      "\n",
      " ['cheese', 'chicken', 'milk', 'butter', 'juice', 'cream', 'fruit', 'rice', 'water', 'garlic', 'bread', 'sugar', 'salt', 'chocolate', 'fish', 'yogurt', 'almond milk', 'greens', 'granola', 'nuts', 'chia seeds', 'whole', 'onions', 'apples', 'peanut butter', 'peaches', 'squash', 'soda', 'flour', 'garlic powder', 'buttermilk', 'potatoes', 'carrots', 'cottage cheese', 'sour cream', 'turkey', 'beans', 'cream cheese', 'bagel', 'pretzels', 'celery', 'white wine', 'fruit cocktail', 'crackers', 'whipped cream', 'margarine', 'ice cream', 'pineapple', 'whipped topping', 'mango', 'sausage', 'pork', 'onion powder', 'dried', 'parsley', 'eggs', 'beef', 'vegetables', 'rotisserie chicken', 'hot dogs', 'dips', 'meats', 'tuna', 'frozen entrees', 'soup', 'bacon', 'pasta', 'pizza', 'fried chicken', 'potato chips', 'cut', 'lean fish', 'cauliflower', 'cooked fish', 'honey', 'stuffed', 'dates', 'scallops', 'yuzu', 'shrimp', 'corn syrup', 'baking soda', 'molasses', 'yeast', 'cornmeal', 'vinegar', 'worcestershire sauce', 'mushrooms', 'broth', 'peppers', 'gravy', 'oats', 'guava', 'coconut', 'cake', 'lemon juice', 'strawberries', 'cheesecake', 'chicken nuggets', 'cinnamon', 'muffin', 'danish', 'pies', 'tomato sauce', 'apple juice', 'pickles', 'coffee', 'goat', 'baking powder', 'sesame seeds', 'pancakes', 'raspberries', 'cornstarch', 'hot sauce', 'grits', 'chives', 'tamarind paste', 'lime juice', 'tomatoes', 'cumin', 'chili powder', 'black pepper', 'pie crust', 'cooked rice', 'patties', 'nutmeg', 'peas', 'refried beans', 'bananas', 'okra', 'cabbage', 'syrup', 'juice concentrates', 'ketchup', 'basil', 'lentils', 'fruits', 'pesto', 'soy milk', 'hoisin sauce', 'sesame oil', 'chili sauce', 'peanuts', 'ham', 'mustard', 'bacon bits', 'chutney', 'sun dried tomatoes', 'boxes', 'string cheese', 'punch', 'waffles', 'crab', 'pasta salad', 'cereal', 'grapes', 'nectarines', 'pears', 'cashews', 'tea', 'pudding', 'coconut cream', 'coconut water', 'cocktail', 'walnuts', 'dough', 'roasted red peppers', 'whole wheat bread', 'thyme', 'mayonnaise', 'berries', 'coleslaw', 'tomato paste', 'oregano', 'canola oil', 'mung bean', 'ghee', 'avocado oil', 'almond oil', 'grapeseed oil', 'spelt', 'coconut milk', 'pure vanilla extract', 'butter flavor', 'olives', 'salsa', 'puff pastry', 'biscuits', 'orange juice', 'vegetable soup', 'garam masala', 'eggplant', 'pine nuts', 'coconut oil', 'quail', 'capers', 'apple cider vinegar', 'kefir', 'ricotta', 'cookie dough', 'base', 'corned beef', 'rye', 'meat products', 'cornish hens', 'fatty fish', 'miso', 'whole wheat flour', 'herbs', 'chicken salad', 'stews', 'leftovers', 'cream pies', 'quiche', 'asparagus', 'cilantro', 'sugar substitutes', 'cookies', 'potato salad', 'brussels sprouts', 'cherry tomatoes', 'taro', 'lamb', 'chocolate syrup', 'pectin', 'tortillas', 'nectar', 'rice milk', 'coconuts', 'turkey bacon', 'black bean sauce', 'tofu', 'oyster sauce', 'rosemary', 'papaya', 'powdered milk', 'popcorn', 'almond butter', 'cashew butter', 'hummus', 'lettuce', 'avocados', 'cantaloupe', 'canadian bacon', 'almonds', 'almond extract', 'pecans', 'apple cider', 'mint', 'carrot juice', 'beets', 'cranberry sauce', 'pate', 'buckwheat', 'seafood', 'prosciutto', 'cheese curds', 'bratwurst', 'coconut flour', 'kale', 'zucchini', 'cherries', 'polenta', 'aioli', 'anchovies', 'oils', 'pumpkin seeds', 'flaxseed', 'herring', 'chorizo', 'coffee creamer', 'egg dishes', 'quinoa', 'arugula', 'pistachios', 'veal', 'sausages', 'shellfish', 'leeks', 'venison', 'rabbit', 'pastrami', 'spaghetti sauce', 'jerky', 'dinners', 'goose', 'chicken parts', 'watermelon', 'capon', 'turducken', 'blueberries', 'salami', 'canned chicken', 'fruit drinks', 'red wine', 'canned goods', 'sunflower seeds', 'caviar', 'croutons', 'cucumbers', 'kimchi', 'crayfish', 'crab meat', 'crab legs', 'mussels', 'oysters', 'barley', 'soy flour', 'cooked pasta', 'farro', 'honeydew', 'star fruit', 'edamame', 'guacamole', 'balsamic vinegar', 'casseroles', 'passionfruit', 'fruit cake', 'pastries', 'marshmallows', 'fruit pies', 'brownie', 'tamarind', 'sorbet', 'duck fat', 'plums', 'apricots', 'pomegranate', 'cranberries', 'citrus fruit', 'kiwi fruit', 'plantains', 'artichokes', 'tapenade', 'bacon grease', 'parsnips', 'bamboo shoots', 'millet', 'beans and peas', 'radishes', 'rhubarb', 'almonds)', 'bok choy', 'jicama', 'swiss chard', 'melons', 'turnips', 'bean sprouts', 'kohlrabi', 'ginger root', 'lobster tails', 'tempeh', 'horseradish', 'barbecue sauce', 'marinades', 'relish', 'baby carrots', 'formula', 'nacho cheese', 'jellies', 'tahini', 'kumquats', 'bagged greens', 'egg salad', 'lemongrass', 'hot peppers', 'cinnamon rolls', 'ham salad', 'amaranth', 'pork roll', 'macadamias', 'sherbet', 'squid', 'prickly pear', 'applesauce', 'salad dressing', 'celery root', 'bison', 'preserves', 'milk solids', 'lemon extract', 'yuzu juice', 'macaroons', 'pork rinds', 'spaghetti squash', 'vegetable juice', 'doughnuts', 'radicchio', 'breadcrumbs', 'bulgur', 'pimento cheese', 'pheasant', 'pumpkins', 'cherimoya', 'rutabagas', 'dry egg noodles', 'jams', 'seafood salads', 'sunflower oil', 'cinnamon extract', 'coconut flavor', 'marinated vegetables', 'teff', 'fresh pasta', 'cooking wine', 'gelatin', 'duckling', 'nut oils', 'shortening', 'salad dressings', 'soup mixes', 'eggnog', 'giblets', 'ice pops', 'sauce mixes', 'toaster pastries', 'quark', 'vegan cheddar cheese', 'sorghum', 'kugel', 'variety meats', 'hard liquors', 'frying oil', 'egg substitutes', 'cooked shellfish', 'seasoning blends', 'tapiocas', 'pudding mixes', 'frozen potato products', 'frozen pretzels'] \n",
      "\n",
      "\n",
      "~~~~~~~~~~~~~~~~~15~~~~~~~~~~~~~~~~~\n",
      "Model loaded...\n"
     ]
    },
    {
     "name": "stderr",
     "output_type": "stream",
     "text": [
      "  5%|▍         | 640/14183 [00:00<00:04, 3226.78it/s]"
     ]
    },
    {
     "name": "stdout",
     "output_type": "stream",
     "text": [
      "Skipping entity\n",
      "Skipping entity\n",
      "Skipping entity\n",
      "Skipping entity\n",
      "Skipping entity\n",
      "Skipping entity\n",
      "Skipping entity\n",
      "Skipping entity\n",
      "Skipping entity\n",
      "Skipping entity\n",
      "Skipping entity\n",
      "Skipping entity\n"
     ]
    },
    {
     "name": "stderr",
     "output_type": "stream",
     "text": [
      " 15%|█▌        | 2181/14183 [00:00<00:03, 3659.93it/s]"
     ]
    },
    {
     "name": "stdout",
     "output_type": "stream",
     "text": [
      "Skipping entity\n",
      "Skipping entity\n",
      "Skipping entity\n",
      "Skipping entity\n",
      "Skipping entity\n",
      "Skipping entity\n",
      "Skipping entity\n",
      "Skipping entity\n",
      "Skipping entity\n",
      "Skipping entity\n",
      "Skipping entity\n",
      "Skipping entity\n",
      "Skipping entity\n",
      "Skipping entity\n",
      "Skipping entity\n"
     ]
    },
    {
     "name": "stderr",
     "output_type": "stream",
     "text": [
      " 21%|██        | 2943/14183 [00:00<00:03, 3740.07it/s]"
     ]
    },
    {
     "name": "stdout",
     "output_type": "stream",
     "text": [
      "Skipping entity\n",
      "Skipping entity\n",
      "Skipping entity\n",
      "Skipping entity\n",
      "Skipping entity\n",
      "Skipping entity\n",
      "Skipping entity\n",
      "Skipping entity\n",
      "Skipping entity\n",
      "Skipping entity\n",
      "Skipping entity\n",
      "Skipping entity\n",
      "Skipping entity\n",
      "Skipping entity\n",
      "Skipping entity\n",
      "Skipping entity\n",
      "Skipping entity\n",
      "Skipping entity\n",
      "Skipping entity\n",
      "Skipping entity\n",
      "Skipping entity\n",
      "Skipping entity\n",
      "Skipping entity\n",
      "Skipping entity\n",
      "Skipping entity\n"
     ]
    },
    {
     "name": "stderr",
     "output_type": "stream",
     "text": [
      " 30%|██▉       | 4192/14183 [00:01<00:02, 4012.06it/s]"
     ]
    },
    {
     "name": "stdout",
     "output_type": "stream",
     "text": [
      "Skipping entity\n",
      "Skipping entity\n",
      "Skipping entity\n",
      "Skipping entity\n",
      "Skipping entity\n",
      "Skipping entity\n",
      "Skipping entity\n",
      "Skipping entity\n",
      "Skipping entity\n",
      "Skipping entity\n",
      "Skipping entity\n",
      "Skipping entity\n",
      "Skipping entity\n",
      "Skipping entity\n",
      "Skipping entity\n",
      "Skipping entity\n",
      "Skipping entity\n"
     ]
    },
    {
     "name": "stderr",
     "output_type": "stream",
     "text": [
      " 39%|███▉      | 5520/14183 [00:01<00:02, 4269.22it/s]"
     ]
    },
    {
     "name": "stdout",
     "output_type": "stream",
     "text": [
      "Skipping entity\n",
      "Skipping entity\n",
      "Skipping entity\n",
      "Skipping entity\n",
      "Skipping entity\n",
      "Skipping entity\n",
      "Skipping entity\n",
      "Skipping entity\n",
      "Skipping entity\n",
      "Skipping entity\n",
      "Skipping entity\n"
     ]
    },
    {
     "name": "stderr",
     "output_type": "stream",
     "text": [
      " 46%|████▌     | 6516/14183 [00:01<00:01, 4467.32it/s]"
     ]
    },
    {
     "name": "stdout",
     "output_type": "stream",
     "text": [
      "Skipping entity\n",
      "Skipping entity\n",
      "Skipping entity\n",
      "Skipping entity\n",
      "Skipping entity\n",
      "Skipping entity\n",
      "Skipping entity\n",
      "Skipping entity\n",
      "Skipping entity\n",
      "Skipping entity\n",
      "Skipping entity\n",
      "Skipping entity\n",
      "Skipping entity\n",
      "Skipping entity\n",
      "Skipping entity\n",
      "Skipping entity\n",
      "Skipping entity\n",
      "Skipping entity\n",
      "Skipping entity\n",
      "Skipping entity\n",
      "Skipping entity\n",
      "Skipping entity\n",
      "Skipping entity\n",
      "Skipping entity\n",
      "Skipping entity\n"
     ]
    },
    {
     "name": "stderr",
     "output_type": "stream",
     "text": [
      " 55%|█████▌    | 7870/14183 [00:01<00:01, 4452.38it/s]"
     ]
    },
    {
     "name": "stdout",
     "output_type": "stream",
     "text": [
      "Skipping entity\n",
      "Skipping entity\n",
      "Skipping entity\n",
      "Skipping entity\n",
      "Skipping entity\n",
      "Skipping entity\n",
      "Skipping entity\n",
      "Skipping entity\n",
      "Skipping entity\n",
      "Skipping entity\n",
      "Skipping entity\n",
      "Skipping entity\n",
      "Skipping entity\n",
      "Skipping entity\n",
      "Skipping entity\n",
      "Skipping entity\n",
      "Skipping entity\n",
      "Skipping entity\n",
      "Skipping entity\n",
      "Skipping entity\n",
      "Skipping entity\n",
      "Skipping entity\n",
      "Skipping entity\n",
      "Skipping entity\n",
      "Skipping entity\n",
      "Skipping entity\n",
      "Skipping entity\n",
      "Skipping entity\n",
      "Skipping entity\n"
     ]
    },
    {
     "name": "stderr",
     "output_type": "stream",
     "text": [
      " 67%|██████▋   | 9481/14183 [00:02<00:00, 5057.93it/s]"
     ]
    },
    {
     "name": "stdout",
     "output_type": "stream",
     "text": [
      "Skipping entity\n",
      "Skipping entity\n",
      "Skipping entity\n",
      "Skipping entity\n",
      "Skipping entity\n",
      "Skipping entity\n",
      "Skipping entity\n",
      "Skipping entity\n",
      "Skipping entity\n",
      "Skipping entity\n",
      "Skipping entity\n",
      "Skipping entity\n",
      "Skipping entity\n",
      "Skipping entity\n",
      "Skipping entity\n",
      "Skipping entity\n",
      "Skipping entity\n"
     ]
    },
    {
     "name": "stderr",
     "output_type": "stream",
     "text": [
      " 78%|███████▊  | 11033/14183 [00:02<00:00, 4619.05it/s]"
     ]
    },
    {
     "name": "stdout",
     "output_type": "stream",
     "text": [
      "Skipping entity\n",
      "Skipping entity\n",
      "Skipping entity\n",
      "Skipping entity\n",
      "Skipping entity\n",
      "Skipping entity\n",
      "Skipping entity\n",
      "Skipping entity\n",
      "Skipping entity\n",
      "Skipping entity\n",
      "Skipping entity\n",
      "Skipping entity\n",
      "Skipping entity\n",
      "Skipping entity\n",
      "Skipping entity\n",
      "Skipping entity\n",
      "Skipping entity\n",
      "Skipping entity\n",
      "Skipping entity\n",
      "Skipping entity\n",
      "Skipping entity\n",
      "Skipping entity\n",
      "Skipping entity\n",
      "Skipping entity\n",
      "Skipping entity\n",
      "Skipping entity\n",
      "Skipping entity\n",
      "Skipping entity\n",
      "Skipping entity\n",
      "Skipping entity\n"
     ]
    },
    {
     "name": "stderr",
     "output_type": "stream",
     "text": [
      " 89%|████████▊ | 12553/14183 [00:02<00:00, 4899.61it/s]"
     ]
    },
    {
     "name": "stdout",
     "output_type": "stream",
     "text": [
      "Skipping entity\n",
      "Skipping entity\n",
      "Skipping entity\n",
      "Skipping entity\n",
      "Skipping entity\n",
      "Skipping entity\n",
      "Skipping entity\n",
      "Skipping entity\n",
      "Skipping entity\n",
      "Skipping entity\n",
      "Skipping entity\n",
      "Skipping entity\n",
      "Skipping entity\n",
      "Skipping entity\n",
      "Skipping entity\n",
      "Skipping entity\n",
      "Skipping entity\n"
     ]
    },
    {
     "name": "stderr",
     "output_type": "stream",
     "text": [
      " 99%|█████████▉| 14055/14183 [00:03<00:00, 4957.18it/s]"
     ]
    },
    {
     "name": "stdout",
     "output_type": "stream",
     "text": [
      "Skipping entity\n",
      "Skipping entity\n",
      "Skipping entity\n",
      "Skipping entity\n",
      "Skipping entity\n",
      "Skipping entity\n",
      "Skipping entity\n",
      "Skipping entity\n",
      "Skipping entity\n",
      "Skipping entity\n",
      "Skipping entity\n",
      "Skipping entity\n",
      "Skipping entity\n",
      "Skipping entity\n",
      "Skipping entity\n",
      "Skipping entity\n",
      "Skipping entity\n",
      "Skipping entity\n",
      "Skipping entity\n",
      "Skipping entity\n",
      "Skipping entity\n",
      "Skipping entity\n",
      "Skipping entity\n",
      "Skipping entity\n",
      "Skipping entity\n",
      "Skipping entity\n",
      "Skipping entity\n",
      "Skipping entity\n"
     ]
    },
    {
     "name": "stderr",
     "output_type": "stream",
     "text": [
      "100%|██████████| 14183/14183 [00:03<00:00, 4439.80it/s]\n"
     ]
    },
    {
     "name": "stdout",
     "output_type": "stream",
     "text": [
      "Skipping entity\n",
      "Skipping entity\n",
      "Skipping entity\n",
      "Skipping entity\n",
      "[i] Saving to output directory: output\n",
      "[i] Using CPU\n",
      "\u001b[1m\n",
      "=========================== Initializing pipeline ===========================\u001b[0m\n",
      "[+] Initialized pipeline\n",
      "\u001b[1m\n",
      "============================= Training pipeline =============================\u001b[0m\n",
      "[i] Pipeline: ['tok2vec', 'ner']\n",
      "[i] Initial learn rate: 0.001\n",
      "E    #       LOSS TOK2VEC  LOSS NER  ENTS_F  ENTS_P  ENTS_R  SCORE \n",
      "---  ------  ------------  --------  ------  ------  ------  ------\n",
      "  0       0          0.00     33.50    0.28    0.91    0.17    0.00\n",
      "  0     200        180.01   2743.61   75.86   75.03   76.72    0.76\n",
      "  0     400         73.94   1428.60   84.83   83.34   86.38    0.85\n",
      "  0     600         74.79   1336.31   87.04   81.52   93.35    0.87\n",
      "  0     800         84.08   1374.81   90.23   85.46   95.56    0.90\n",
      "  0    1000         89.53   1463.24   91.35   86.73   96.50    0.91\n",
      "  0    1200         99.91   1696.80   91.32   87.58   95.39    0.91\n",
      "  0    1400        123.87   2098.95   92.51   88.27   97.18    0.93\n",
      "  0    1600        144.77   2387.41   93.21   89.53   97.21    0.93\n",
      "  1    1800        155.08   2504.02   93.06   89.76   96.61    0.93\n",
      "  1    2000        182.78   2918.62   94.34   91.04   97.88    0.94\n",
      "  1    2200        214.72   3375.28   94.60   91.45   97.98    0.95\n",
      "  2    2400        282.41   3593.99   94.97   92.57   97.51    0.95\n",
      "  2    2600        318.87   3608.20   95.26   93.78   96.79    0.95\n",
      "  3    2800        344.61   3462.40   95.82   93.19   98.60    0.96\n",
      "  3    3000        390.81   3025.31   96.31   94.52   98.18    0.96\n",
      "  4    3200        417.61   3174.71   96.40   93.96   98.96    0.96\n",
      "  4    3400        438.94   2485.08   96.71   94.74   98.77    0.97\n",
      "  4    3600        480.91   2906.66   97.09   95.61   98.61    0.97\n",
      "  5    3800        503.99   2427.05   97.36   96.67   98.07    0.97\n",
      "  5    4000        597.35   2412.09   97.30   95.51   99.16    0.97\n",
      "  6    4200        470.89   2244.01   97.69   96.36   99.06    0.98\n",
      "  6    4400        521.82   2152.86   97.92   96.92   98.94    0.98\n",
      "  7    4600        522.12   2033.23   98.07   97.68   98.47    0.98\n",
      "  7    4800        588.25   1992.03   98.02   96.77   99.31    0.98\n",
      "  8    5000        529.21   1941.48   98.36   97.94   98.79    0.98\n",
      "  8    5200        641.39   1643.20   98.50   98.02   98.99    0.99\n",
      "  9    5400        623.63   1815.93   98.46   97.46   99.48    0.98\n",
      "  9    5600        646.48   1558.63   98.67   98.07   99.27    0.99\n",
      "  9    5800        626.80   1656.55   98.73   98.09   99.38    0.99\n",
      " 10    6000        716.06   1423.53   98.70   97.90   99.50    0.99\n",
      " 10    6200        626.29   1461.40   98.75   97.95   99.57    0.99\n",
      " 11    6400        617.71   1320.34   98.94   98.51   99.37    0.99\n",
      " 11    6600        768.09   1353.65   99.12   99.04   99.20    0.99\n",
      " 12    6800        682.75   1352.83   98.97   99.23   98.72    0.99\n",
      " 12    7000        738.70   1284.29   99.01   98.64   99.39    0.99\n",
      " 13    7200        599.60   1210.36   99.18   99.05   99.31    0.99\n",
      " 13    7400        786.12   1171.78   99.14   98.58   99.71    0.99\n",
      " 14    7600        645.43   1242.25   99.11   98.54   99.69    0.99\n",
      " 14    7800        680.27   1043.07   99.24   98.95   99.53    0.99\n",
      " 14    8000        733.58   1152.64   99.37   99.07   99.66    0.99\n",
      " 15    8200        780.81    986.24   99.32   99.00   99.64    0.99\n",
      " 15    8400        787.22   1018.61   99.19   98.66   99.71    0.99\n",
      " 16    8600        821.80    952.10   99.44   99.37   99.51    0.99\n",
      " 16    8800        747.75   1006.40   99.50   99.33   99.68    1.00\n",
      " 17    9000        662.46    913.07   99.46   99.17   99.76    0.99\n",
      " 17    9200        993.67    935.29   99.57   99.63   99.52    1.00\n",
      " 18    9400        758.03    864.29   99.37   98.85   99.88    0.99\n",
      " 18    9600        704.01    821.95   99.55   99.45   99.65    1.00\n",
      " 19    9800        673.84    873.70   99.62   99.47   99.77    1.00\n",
      " 19   10000        691.23    795.58   99.49   99.22   99.76    0.99\n",
      " 19   10200        830.37    871.48   99.67   99.64   99.71    1.00\n",
      " 20   10400        889.94    738.00   99.62   99.63   99.61    1.00\n",
      " 20   10600        727.46    799.69   99.66   99.51   99.80    1.00\n",
      " 21   10800        768.99    726.24   99.63   99.42   99.84    1.00\n",
      " 21   11000       1059.73    787.18   99.62   99.43   99.81    1.00\n",
      " 22   11200        785.06    717.94   99.60   99.66   99.55    1.00\n",
      " 22   11400        895.54    712.82   99.66   99.47   99.85    1.00\n",
      " 23   11600        777.45    769.78   99.65   99.44   99.87    1.00\n",
      " 23   11800        783.88    665.90   99.67   99.56   99.78    1.00\n",
      "[+] Saved pipeline to output directory\n",
      "output\\model-last\n",
      "\n",
      "Total keywords:  430\n",
      "List of Keywords:\n",
      "\n",
      " ['cheese', 'chicken', 'milk', 'butter', 'juice', 'cream', 'fruit', 'rice', 'water', 'garlic', 'bread', 'sugar', 'salt', 'chocolate', 'fish', 'yogurt', 'almond milk', 'greens', 'granola', 'nuts', 'chia seeds', 'whole', 'onions', 'apples', 'peanut butter', 'peaches', 'squash', 'soda', 'flour', 'garlic powder', 'buttermilk', 'potatoes', 'carrots', 'cottage cheese', 'sour cream', 'turkey', 'beans', 'cream cheese', 'bagel', 'pretzels', 'celery', 'white wine', 'fruit cocktail', 'crackers', 'whipped cream', 'margarine', 'ice cream', 'pineapple', 'whipped topping', 'mango', 'sausage', 'pork', 'onion powder', 'dried', 'parsley', 'eggs', 'beef', 'vegetables', 'rotisserie chicken', 'hot dogs', 'dips', 'meats', 'tuna', 'frozen entrees', 'soup', 'bacon', 'pasta', 'pizza', 'fried chicken', 'potato chips', 'cut', 'lean fish', 'cauliflower', 'cooked fish', 'honey', 'stuffed', 'dates', 'scallops', 'yuzu', 'shrimp', 'corn syrup', 'baking soda', 'molasses', 'yeast', 'cornmeal', 'vinegar', 'worcestershire sauce', 'mushrooms', 'broth', 'peppers', 'gravy', 'oats', 'guava', 'coconut', 'cake', 'lemon juice', 'strawberries', 'cheesecake', 'chicken nuggets', 'cinnamon', 'muffin', 'danish', 'pies', 'tomato sauce', 'apple juice', 'pickles', 'coffee', 'goat', 'baking powder', 'sesame seeds', 'pancakes', 'raspberries', 'cornstarch', 'hot sauce', 'grits', 'chives', 'tamarind paste', 'lime juice', 'tomatoes', 'cumin', 'chili powder', 'black pepper', 'pie crust', 'cooked rice', 'patties', 'nutmeg', 'peas', 'refried beans', 'bananas', 'okra', 'cabbage', 'syrup', 'juice concentrates', 'ketchup', 'basil', 'lentils', 'fruits', 'pesto', 'soy milk', 'hoisin sauce', 'sesame oil', 'chili sauce', 'peanuts', 'ham', 'mustard', 'bacon bits', 'chutney', 'sun dried tomatoes', 'boxes', 'string cheese', 'punch', 'waffles', 'crab', 'pasta salad', 'cereal', 'grapes', 'nectarines', 'pears', 'cashews', 'tea', 'pudding', 'coconut cream', 'coconut water', 'cocktail', 'walnuts', 'dough', 'roasted red peppers', 'whole wheat bread', 'thyme', 'mayonnaise', 'berries', 'coleslaw', 'tomato paste', 'oregano', 'canola oil', 'mung bean', 'ghee', 'avocado oil', 'almond oil', 'grapeseed oil', 'spelt', 'coconut milk', 'pure vanilla extract', 'butter flavor', 'olives', 'salsa', 'puff pastry', 'biscuits', 'orange juice', 'vegetable soup', 'garam masala', 'eggplant', 'pine nuts', 'coconut oil', 'quail', 'capers', 'apple cider vinegar', 'kefir', 'ricotta', 'cookie dough', 'base', 'corned beef', 'rye', 'meat products', 'cornish hens', 'fatty fish', 'miso', 'whole wheat flour', 'herbs', 'chicken salad', 'stews', 'leftovers', 'cream pies', 'quiche', 'asparagus', 'cilantro', 'sugar substitutes', 'cookies', 'potato salad', 'brussels sprouts', 'cherry tomatoes', 'taro', 'lamb', 'chocolate syrup', 'pectin', 'tortillas', 'nectar', 'rice milk', 'coconuts', 'turkey bacon', 'black bean sauce', 'tofu', 'oyster sauce', 'rosemary', 'papaya', 'powdered milk', 'popcorn', 'almond butter', 'cashew butter', 'hummus', 'lettuce', 'avocados', 'cantaloupe', 'canadian bacon', 'almonds', 'almond extract', 'pecans', 'apple cider', 'mint', 'carrot juice', 'beets', 'cranberry sauce', 'pate', 'buckwheat', 'seafood', 'prosciutto', 'cheese curds', 'bratwurst', 'coconut flour', 'kale', 'zucchini', 'cherries', 'polenta', 'aioli', 'anchovies', 'oils', 'pumpkin seeds', 'flaxseed', 'herring', 'chorizo', 'coffee creamer', 'egg dishes', 'quinoa', 'arugula', 'pistachios', 'veal', 'sausages', 'shellfish', 'leeks', 'venison', 'rabbit', 'pastrami', 'spaghetti sauce', 'jerky', 'dinners', 'goose', 'chicken parts', 'watermelon', 'capon', 'turducken', 'blueberries', 'salami', 'canned chicken', 'fruit drinks', 'red wine', 'canned goods', 'sunflower seeds', 'caviar', 'croutons', 'cucumbers', 'kimchi', 'crayfish', 'crab meat', 'crab legs', 'mussels', 'oysters', 'barley', 'soy flour', 'cooked pasta', 'farro', 'honeydew', 'star fruit', 'edamame', 'guacamole', 'balsamic vinegar', 'casseroles', 'passionfruit', 'fruit cake', 'pastries', 'marshmallows', 'fruit pies', 'brownie', 'tamarind', 'sorbet', 'duck fat', 'plums', 'apricots', 'pomegranate', 'cranberries', 'citrus fruit', 'kiwi fruit', 'plantains', 'artichokes', 'tapenade', 'bacon grease', 'parsnips', 'bamboo shoots', 'millet', 'beans and peas', 'radishes', 'rhubarb', 'almonds)', 'bok choy', 'jicama', 'swiss chard', 'melons', 'turnips', 'bean sprouts', 'kohlrabi', 'ginger root', 'lobster tails', 'tempeh', 'horseradish', 'barbecue sauce', 'marinades', 'relish', 'baby carrots', 'formula', 'nacho cheese', 'jellies', 'tahini', 'kumquats', 'bagged greens', 'egg salad', 'lemongrass', 'hot peppers', 'cinnamon rolls', 'ham salad', 'amaranth', 'pork roll', 'macadamias', 'sherbet', 'squid', 'prickly pear', 'applesauce', 'salad dressing', 'celery root', 'bison', 'preserves', 'milk solids', 'lemon extract', 'yuzu juice', 'macaroons', 'pork rinds', 'spaghetti squash', 'vegetable juice', 'doughnuts', 'radicchio', 'breadcrumbs', 'bulgur', 'pimento cheese', 'pheasant', 'pumpkins', 'cherimoya', 'rutabagas', 'dry egg noodles', 'jams', 'seafood salads', 'sunflower oil', 'cinnamon extract', 'coconut flavor', 'marinated vegetables', 'teff', 'fresh pasta', 'cooking wine', 'gelatin', 'duckling', 'nut oils', 'shortening', 'salad dressings', 'soup mixes', 'eggnog', 'giblets', 'ice pops', 'sauce mixes', 'toaster pastries', 'quark', 'vegan cheddar cheese', 'sorghum', 'kugel', 'variety meats', 'hard liquors', 'frying oil', 'egg substitutes', 'cooked shellfish', 'seasoning blends', 'tapiocas', 'pudding mixes', 'frozen potato products', 'frozen pretzels'] \n",
      "\n",
      "\n"
     ]
    },
    {
     "name": "stdout",
     "output_type": "stream",
     "text": [
      "[[37  7]\n",
      " [ 4 35]]\n",
      "              precision    recall  f1-score   support\n",
      "\n",
      "           1       0.90      0.84      0.87        44\n",
      "           0       0.83      0.90      0.86        39\n",
      "\n",
      "    accuracy                           0.87        83\n",
      "   macro avg       0.87      0.87      0.87        83\n",
      "weighted avg       0.87      0.87      0.87        83\n",
      "\n",
      "Total keywords:  430\n",
      "Total Tweets:  14183\n",
      "List of Keywords:\n",
      "\n",
      " ['cheese', 'chicken', 'milk', 'butter', 'juice', 'cream', 'fruit', 'rice', 'water', 'garlic', 'bread', 'sugar', 'salt', 'chocolate', 'fish', 'yogurt', 'almond milk', 'greens', 'granola', 'nuts', 'chia seeds', 'whole', 'onions', 'apples', 'peanut butter', 'peaches', 'squash', 'soda', 'flour', 'garlic powder', 'buttermilk', 'potatoes', 'carrots', 'cottage cheese', 'sour cream', 'turkey', 'beans', 'cream cheese', 'bagel', 'pretzels', 'celery', 'white wine', 'fruit cocktail', 'crackers', 'whipped cream', 'margarine', 'ice cream', 'pineapple', 'whipped topping', 'mango', 'sausage', 'pork', 'onion powder', 'dried', 'parsley', 'eggs', 'beef', 'vegetables', 'rotisserie chicken', 'hot dogs', 'dips', 'meats', 'tuna', 'frozen entrees', 'soup', 'bacon', 'pasta', 'pizza', 'fried chicken', 'potato chips', 'cut', 'lean fish', 'cauliflower', 'cooked fish', 'honey', 'stuffed', 'dates', 'scallops', 'yuzu', 'shrimp', 'corn syrup', 'baking soda', 'molasses', 'yeast', 'cornmeal', 'vinegar', 'worcestershire sauce', 'mushrooms', 'broth', 'peppers', 'gravy', 'oats', 'guava', 'coconut', 'cake', 'lemon juice', 'strawberries', 'cheesecake', 'chicken nuggets', 'cinnamon', 'muffin', 'danish', 'pies', 'tomato sauce', 'apple juice', 'pickles', 'coffee', 'goat', 'baking powder', 'sesame seeds', 'pancakes', 'raspberries', 'cornstarch', 'hot sauce', 'grits', 'chives', 'tamarind paste', 'lime juice', 'tomatoes', 'cumin', 'chili powder', 'black pepper', 'pie crust', 'cooked rice', 'patties', 'nutmeg', 'peas', 'refried beans', 'bananas', 'okra', 'cabbage', 'syrup', 'juice concentrates', 'ketchup', 'basil', 'lentils', 'fruits', 'pesto', 'soy milk', 'hoisin sauce', 'sesame oil', 'chili sauce', 'peanuts', 'ham', 'mustard', 'bacon bits', 'chutney', 'sun dried tomatoes', 'boxes', 'string cheese', 'punch', 'waffles', 'crab', 'pasta salad', 'cereal', 'grapes', 'nectarines', 'pears', 'cashews', 'tea', 'pudding', 'coconut cream', 'coconut water', 'cocktail', 'walnuts', 'dough', 'roasted red peppers', 'whole wheat bread', 'thyme', 'mayonnaise', 'berries', 'coleslaw', 'tomato paste', 'oregano', 'canola oil', 'mung bean', 'ghee', 'avocado oil', 'almond oil', 'grapeseed oil', 'spelt', 'coconut milk', 'pure vanilla extract', 'butter flavor', 'olives', 'salsa', 'puff pastry', 'biscuits', 'orange juice', 'vegetable soup', 'garam masala', 'eggplant', 'pine nuts', 'coconut oil', 'quail', 'capers', 'apple cider vinegar', 'kefir', 'ricotta', 'cookie dough', 'base', 'corned beef', 'rye', 'meat products', 'cornish hens', 'fatty fish', 'miso', 'whole wheat flour', 'herbs', 'chicken salad', 'stews', 'leftovers', 'cream pies', 'quiche', 'asparagus', 'cilantro', 'sugar substitutes', 'cookies', 'potato salad', 'brussels sprouts', 'cherry tomatoes', 'taro', 'lamb', 'chocolate syrup', 'pectin', 'tortillas', 'nectar', 'rice milk', 'coconuts', 'turkey bacon', 'black bean sauce', 'tofu', 'oyster sauce', 'rosemary', 'papaya', 'powdered milk', 'popcorn', 'almond butter', 'cashew butter', 'hummus', 'lettuce', 'avocados', 'cantaloupe', 'canadian bacon', 'almonds', 'almond extract', 'pecans', 'apple cider', 'mint', 'carrot juice', 'beets', 'cranberry sauce', 'pate', 'buckwheat', 'seafood', 'prosciutto', 'cheese curds', 'bratwurst', 'coconut flour', 'kale', 'zucchini', 'cherries', 'polenta', 'aioli', 'anchovies', 'oils', 'pumpkin seeds', 'flaxseed', 'herring', 'chorizo', 'coffee creamer', 'egg dishes', 'quinoa', 'arugula', 'pistachios', 'veal', 'sausages', 'shellfish', 'leeks', 'venison', 'rabbit', 'pastrami', 'spaghetti sauce', 'jerky', 'dinners', 'goose', 'chicken parts', 'watermelon', 'capon', 'turducken', 'blueberries', 'salami', 'canned chicken', 'fruit drinks', 'red wine', 'canned goods', 'sunflower seeds', 'caviar', 'croutons', 'cucumbers', 'kimchi', 'crayfish', 'crab meat', 'crab legs', 'mussels', 'oysters', 'barley', 'soy flour', 'cooked pasta', 'farro', 'honeydew', 'star fruit', 'edamame', 'guacamole', 'balsamic vinegar', 'casseroles', 'passionfruit', 'fruit cake', 'pastries', 'marshmallows', 'fruit pies', 'brownie', 'tamarind', 'sorbet', 'duck fat', 'plums', 'apricots', 'pomegranate', 'cranberries', 'citrus fruit', 'kiwi fruit', 'plantains', 'artichokes', 'tapenade', 'bacon grease', 'parsnips', 'bamboo shoots', 'millet', 'beans and peas', 'radishes', 'rhubarb', 'almonds)', 'bok choy', 'jicama', 'swiss chard', 'melons', 'turnips', 'bean sprouts', 'kohlrabi', 'ginger root', 'lobster tails', 'tempeh', 'horseradish', 'barbecue sauce', 'marinades', 'relish', 'baby carrots', 'formula', 'nacho cheese', 'jellies', 'tahini', 'kumquats', 'bagged greens', 'egg salad', 'lemongrass', 'hot peppers', 'cinnamon rolls', 'ham salad', 'amaranth', 'pork roll', 'macadamias', 'sherbet', 'squid', 'prickly pear', 'applesauce', 'salad dressing', 'celery root', 'bison', 'preserves', 'milk solids', 'lemon extract', 'yuzu juice', 'macaroons', 'pork rinds', 'spaghetti squash', 'vegetable juice', 'doughnuts', 'radicchio', 'breadcrumbs', 'bulgur', 'pimento cheese', 'pheasant', 'pumpkins', 'cherimoya', 'rutabagas', 'dry egg noodles', 'jams', 'seafood salads', 'sunflower oil', 'cinnamon extract', 'coconut flavor', 'marinated vegetables', 'teff', 'fresh pasta', 'cooking wine', 'gelatin', 'duckling', 'nut oils', 'shortening', 'salad dressings', 'soup mixes', 'eggnog', 'giblets', 'ice pops', 'sauce mixes', 'toaster pastries', 'quark', 'vegan cheddar cheese', 'sorghum', 'kugel', 'variety meats', 'hard liquors', 'frying oil', 'egg substitutes', 'cooked shellfish', 'seasoning blends', 'tapiocas', 'pudding mixes', 'frozen potato products', 'frozen pretzels'] \n",
      "\n",
      "\n",
      "Training Done...\n"
     ]
    }
   ],
   "source": [
    "\n",
    "trainModel(training_data)\n",
    "# print(keywords)  \n"
   ]
  },
  {
   "cell_type": "code",
   "execution_count": 21,
   "metadata": {},
   "outputs": [
    {
     "name": "stdout",
     "output_type": "stream",
     "text": [
      "['eat', 'know', 'think', 'want', 'got', 'like', 'love', 'use', 'need', 'add']\n"
     ]
    }
   ],
   "source": [
    "x = getCommonVerbs(training_data)\n",
    "print(x)"
   ]
  },
  {
   "cell_type": "code",
   "execution_count": 7,
   "metadata": {},
   "outputs": [],
   "source": [
    "def getCommonVerbs():\n",
    "    import en_core_web_sm\n",
    "    nlp2 = spacy.load(\"en_core_web_sm\")\n",
    "    count = 0\n",
    "    myVerbs = {}\n",
    "    for i in range(10): #(len(training_data)):\n",
    "        doc = nlp2(training_data[0][i])\n",
    "        for token in doc:\n",
    "            print(token, token.pos_)\n",
    "            if token.pos_ == \"VERB\":\n",
    "                if token.text in myVerbs:\n",
    "                    myVerbs[token.text] = myVerbs[token.text] + 1\n",
    "                else:\n",
    "                    if token.text not in nlp2.Defaults.stop_words:\n",
    "                        myVerbs[token.text] = 1\n",
    "        \n",
    "    print(count)\n",
    "    topVerbs = dict(sorted(myVerbs.items(), key = lambda item: item[1], reverse=True)[:10])\n",
    "    return [key for key in topVerbs]\n",
    "# print(getCommonVerbs())"
   ]
  },
  {
   "cell_type": "code",
   "execution_count": 14,
   "metadata": {},
   "outputs": [],
   "source": [
    "# nlp = spacy.load(MODEL_PATH)\n",
    "# # myTweet = \"My chicken is tasty\"\n",
    "# myTweet = test_data['tweet'][5]\n",
    "# # ent_recognize(\"chicken curry with coconut cream rice cake made with coconut water topped with salted egg sweet bean and candied baby coconut dessert topped with fresh shaved ice leche flan made with duck eggs and lime zest pastillas de leche made with carabao milk\")\n",
    "# x = nlp(myTweet)\n",
    "# splitSent = myTweet.split()\n",
    "# for i in range(len(x.ents)):\n",
    "#     if str(x.ents[i]) in splitSent:\n",
    "#         print(splitSent.index(str(x.ents[i])))\n",
    "        \n",
    "# print(x.doc.ents)\n",
    "# print(splitSent)"
   ]
  },
  {
   "cell_type": "code",
   "execution_count": 15,
   "metadata": {},
   "outputs": [],
   "source": [
    "#def findPreviousNextWord(tweets, keywords):\n",
    "foodKeeperKeywords = foodKeeperInfo()\n",
    "commonWords = {}\n",
    "commonPairWords = {}\n",
    "nlp2 = spacy.load(\"en_core_web_sm\")\n",
    "for i in range(len(training_data)):\n",
    "    #Preprocess and remove stop words from each tweet\n",
    "    myTweet = preProcess(training_data[0][i]).split()\n",
    "    myTweet = [word for word in myTweet if not word in nlp2.Defaults.stop_words]\n",
    "    \n",
    "    for i in range(len(myTweet)):\n",
    "        if myTweet[i] in foodKeeperKeywords:\n",
    "            try:\n",
    "                leftWord = myTweet[i-1]\n",
    "                if leftWord in commonWords:\n",
    "                    commonWords[leftWord] += 1\n",
    "                else:\n",
    "                    commonWords[leftWord] = 1\n",
    "            except:\n",
    "                pass\n",
    "            try: \n",
    "                rightWord = myTweet[i+1]\n",
    "                if rightWord in commonWords:\n",
    "                    commonWords[rightWord] += 1\n",
    "                else:\n",
    "                    commonWords[rightWord] = 1\n",
    "            except:\n",
    "                pass\n",
    "            try:\n",
    "                if (leftWord, rightWord) in commonPairWords:\n",
    "                    commonPairWords[(leftWord,rightWord)] += 1\n",
    "                else:\n",
    "                    commonPairWords[(leftWord,rightWord)] = 1\n",
    "            except:\n",
    "                pass\n",
    "\n",
    "#commonWords are words that occur before and after a keyword\n",
    "commonWords = dict(sorted(commonWords.items(), key = lambda item: item[1], reverse=True))\n",
    "commonWords = [key for key in commonWords]\n",
    "\n",
    "#commonPairWords are pairs or words that occur before and after a keyword\n",
    "commonPairWords = dict(sorted(commonPairWords.items(), key = lambda item: item[1], reverse=True))\n",
    "# print(training_data[0][1000])\n",
    "# print(foodKeeperKeywords)"
   ]
  },
  {
   "cell_type": "code",
   "execution_count": 16,
   "metadata": {},
   "outputs": [],
   "source": [
    "# print(commonWords[:25])\n",
    "# myIter= iter(commonPairWords)\n",
    "# for iter1 in iter(commonPairWords):\n",
    "#     print(iter1, commonPairWords[iter1])"
   ]
  },
  {
   "cell_type": "code",
   "execution_count": 17,
   "metadata": {},
   "outputs": [],
   "source": [
    "import re\n",
    "#count all words and adjacent\n",
    "def findAdjacentWords(data,keywords):\n",
    "    allWords = {}\n",
    "    count = 0\n",
    "    for tweet in data[0][:10]:\n",
    "        splitTweet = preProcess(tweet).split()\n",
    "        for i in range(len(splitTweet)):\n",
    "            word = splitTweet[i]\n",
    "            try:\n",
    "                biword = word + \" \" + splitTweet[i + 1]\n",
    "                if biword in keywords:\n",
    "                    print(\"Biword:\", biword)\n",
    "                    continue\n",
    "            except:\n",
    "                pass\n",
    "            try:\n",
    "                triword = word + \" \" + splitTweet[i + 1] + \" \" + splitTweet[i + 2]\n",
    "                if triword in keywords:\n",
    "                    print(\"Triword:\", triword)\n",
    "                    continue\n",
    "            except:\n",
    "                pass\n",
    "            \n",
    "        \n",
    "    \n",
    "    '''mySent = \"I am eating chicken for breakfast lunch and dinner tonight.\"\n",
    "    mySearch = re.search('chicken', mySent)\n",
    "    mySpan = mySearch.span()\n",
    "    print(mySent[mySpan[0]:mySpan[1]])\n",
    "    '''\n",
    "# findAdjacentWords(training_data, foodKeeperKeywords)"
   ]
  },
  {
   "cell_type": "markdown",
   "metadata": {},
   "source": [
    "# Test Data with 1.6 Million Tweet Dataset"
   ]
  },
  {
   "cell_type": "code",
   "execution_count": 11,
   "metadata": {},
   "outputs": [
    {
     "name": "stdout",
     "output_type": "stream",
     "text": [
      "Trying the model indidvidually \n",
      "Model loaded...\n"
     ]
    },
    {
     "data": {
      "text/html": [
       "<span class=\"tex2jax_ignore\"><div class=\"entities\" style=\"line-height: 2.5; direction: ltr\">he does like to eat \n",
       "<mark class=\"entity\" style=\"background: #ddd; padding: 0.45em 0.6em; margin: 0 0.25em; line-height: 1; border-radius: 0.35em;\">\n",
       "    cream cheese\n",
       "    <span style=\"font-size: 0.8em; font-weight: bold; line-height: 1; border-radius: 0.35em; vertical-align: middle; margin-left: 0.5rem\">FOOD</span>\n",
       "</mark>\n",
       "</div></span>"
      ],
      "text/plain": [
       "<IPython.core.display.HTML object>"
      ]
     },
     "metadata": {},
     "output_type": "display_data"
    },
    {
     "name": "stdout",
     "output_type": "stream",
     "text": [
      "cream cheese\n"
     ]
    }
   ],
   "source": [
    "# print(live_tweets[5][:10])\n",
    "# print(test_data['tweet'][5])\n",
    "print(\"Trying the model indidvidually \")\n",
    "try:\n",
    "    nlp = spacy.load(MODEL_PATH)\n",
    "    print('Model loaded...')\n",
    "except:\n",
    "    print('No model...')\n",
    "    \n",
    "x = nlp(preProcess(\"he does like to eat cream cheese\"))\n",
    "if x.doc.ents:\n",
    "    ent_recognize(preProcess(\"he does like to eat cream cheese\"))\n",
    "    for i in x.doc.ents:\n",
    "        print(i)\n",
    "else:\n",
    "    print(\"nothing found...\")"
   ]
  },
  {
   "cell_type": "markdown",
   "metadata": {},
   "source": [
    "# See what keywords are found by the created model"
   ]
  },
  {
   "cell_type": "code",
   "execution_count": null,
   "metadata": {},
   "outputs": [],
   "source": [
    "# keywordsFound = []\n",
    "# nlp = spacy.load(MODEL_PATH)\n",
    "# print(nlp.pipeline)\n",
    "# for tweet in live_tweets[5]: #test_data['tweet']:\n",
    "#     modeledTweet = nlp(preProcess(tweet))\n",
    "#     for token in modeledTweet.doc.ents:\n",
    "#         if str(token) in keywordsFound: continue\n",
    "#         keywordsFound.append(str(token))"
   ]
  },
  {
   "cell_type": "markdown",
   "metadata": {},
   "source": [
    "# If the model finds food keywords print the Tweet\n",
    "To help visualize which keywords are being found this loop iterates through the Tweets testing the model to see what keywords it finds. If it finds a keyword in the Tweet it will print the Tweet and highlight the keyword"
   ]
  },
  {
   "cell_type": "code",
   "execution_count": 21,
   "metadata": {
    "collapsed": true
   },
   "outputs": [
    {
     "data": {
      "text/html": [
       "<span class=\"tex2jax_ignore\"><div class=\"entities\" style=\"line-height: 2.5; direction: ltr\">just microwaved a kashi \n",
       "<mark class=\"entity\" style=\"background: #ddd; padding: 0.45em 0.6em; margin: 0 0.25em; line-height: 1; border-radius: 0.35em;\">\n",
       "    chicken\n",
       "    <span style=\"font-size: 0.8em; font-weight: bold; line-height: 1; border-radius: 0.35em; vertical-align: middle; margin-left: 0.5rem\">FOOD</span>\n",
       "</mark>\n",
       " and spinach thing and put in the \n",
       "<mark class=\"entity\" style=\"background: #ddd; padding: 0.45em 0.6em; margin: 0 0.25em; line-height: 1; border-radius: 0.35em;\">\n",
       "    milk\n",
       "    <span style=\"font-size: 0.8em; font-weight: bold; line-height: 1; border-radius: 0.35em; vertical-align: middle; margin-left: 0.5rem\">FOOD</span>\n",
       "</mark>\n",
       " dvd anyone seen it? i bet it's good i still havent seen slumdog</div></span>"
      ],
      "text/plain": [
       "<IPython.core.display.HTML object>"
      ]
     },
     "metadata": {},
     "output_type": "display_data"
    },
    {
     "data": {
      "text/html": [
       "<span class=\"tex2jax_ignore\"><div class=\"entities\" style=\"line-height: 2.5; direction: ltr\"> thats really sad i wolud hate that! but i had choco \n",
       "<mark class=\"entity\" style=\"background: #ddd; padding: 0.45em 0.6em; margin: 0 0.25em; line-height: 1; border-radius: 0.35em;\">\n",
       "    milk\n",
       "    <span style=\"font-size: 0.8em; font-weight: bold; line-height: 1; border-radius: 0.35em; vertical-align: middle; margin-left: 0.5rem\">FOOD</span>\n",
       "</mark>\n",
       " earlier =d lol</div></span>"
      ],
      "text/plain": [
       "<IPython.core.display.HTML object>"
      ]
     },
     "metadata": {},
     "output_type": "display_data"
    },
    {
     "name": "stderr",
     "output_type": "stream",
     "text": [
      "C:\\ProgramData\\Anaconda3\\lib\\site-packages\\spacy\\displacy\\__init__.py:200: UserWarning: [W006] No entities to visualize found in Doc object. If this is surprising to you, make sure the Doc was processed using a model that supports named entity recognition, and check the `doc.ents` property manually if necessary.\n",
      "  warnings.warn(Warnings.W006)\n"
     ]
    },
    {
     "data": {
      "text/html": [
       "<span class=\"tex2jax_ignore\"><div class=\"entities\" style=\"line-height: 2.5; direction: ltr\"> and it took me my entire walk to the train station to undo it</div></span>"
      ],
      "text/plain": [
       "<IPython.core.display.HTML object>"
      ]
     },
     "metadata": {},
     "output_type": "display_data"
    },
    {
     "data": {
      "text/html": [
       "<span class=\"tex2jax_ignore\"><div class=\"entities\" style=\"line-height: 2.5; direction: ltr\">just finished cooking spag bol from scratch in other words been cooking for the past 4 hours! i'm not hungry anymore</div></span>"
      ],
      "text/plain": [
       "<IPython.core.display.HTML object>"
      ]
     },
     "metadata": {},
     "output_type": "display_data"
    },
    {
     "data": {
      "text/html": [
       "<span class=\"tex2jax_ignore\"><div class=\"entities\" style=\"line-height: 2.5; direction: ltr\">oh noooooo kath is back from annual leave!!!!! du du duuuuuuuu!</div></span>"
      ],
      "text/plain": [
       "<IPython.core.display.HTML object>"
      ]
     },
     "metadata": {},
     "output_type": "display_data"
    },
    {
     "data": {
      "text/html": [
       "<span class=\"tex2jax_ignore\"><div class=\"entities\" style=\"line-height: 2.5; direction: ltr\">mashed hard boiled \n",
       "<mark class=\"entity\" style=\"background: #ddd; padding: 0.45em 0.6em; margin: 0 0.25em; line-height: 1; border-radius: 0.35em;\">\n",
       "    eggs\n",
       "    <span style=\"font-size: 0.8em; font-weight: bold; line-height: 1; border-radius: 0.35em; vertical-align: middle; margin-left: 0.5rem\">FOOD</span>\n",
       "</mark>\n",
       " + farmer's \n",
       "<mark class=\"entity\" style=\"background: #ddd; padding: 0.45em 0.6em; margin: 0 0.25em; line-height: 1; border-radius: 0.35em;\">\n",
       "    ham\n",
       "    <span style=\"font-size: 0.8em; font-weight: bold; line-height: 1; border-radius: 0.35em; vertical-align: middle; margin-left: 0.5rem\">FOOD</span>\n",
       "</mark>\n",
       " scraps + hickory \n",
       "<mark class=\"entity\" style=\"background: #ddd; padding: 0.45em 0.6em; margin: 0 0.25em; line-height: 1; border-radius: 0.35em;\">\n",
       "    bacon bits\n",
       "    <span style=\"font-size: 0.8em; font-weight: bold; line-height: 1; border-radius: 0.35em; vertical-align: middle; margin-left: 0.5rem\">FOOD</span>\n",
       "</mark>\n",
       " + \n",
       "<mark class=\"entity\" style=\"background: #ddd; padding: 0.45em 0.6em; margin: 0 0.25em; line-height: 1; border-radius: 0.35em;\">\n",
       "    cream cheese\n",
       "    <span style=\"font-size: 0.8em; font-weight: bold; line-height: 1; border-radius: 0.35em; vertical-align: middle; margin-left: 0.5rem\">FOOD</span>\n",
       "</mark>\n",
       " + \n",
       "<mark class=\"entity\" style=\"background: #ddd; padding: 0.45em 0.6em; margin: 0 0.25em; line-height: 1; border-radius: 0.35em;\">\n",
       "    honey\n",
       "    <span style=\"font-size: 0.8em; font-weight: bold; line-height: 1; border-radius: 0.35em; vertical-align: middle; margin-left: 0.5rem\">FOOD</span>\n",
       "</mark>\n",
       " dijon dressing = my delectable breakfast</div></span>"
      ],
      "text/plain": [
       "<IPython.core.display.HTML object>"
      ]
     },
     "metadata": {},
     "output_type": "display_data"
    },
    {
     "data": {
      "text/html": [
       "<span class=\"tex2jax_ignore\"><div class=\"entities\" style=\"line-height: 2.5; direction: ltr\">i made twice baked \n",
       "<mark class=\"entity\" style=\"background: #ddd; padding: 0.45em 0.6em; margin: 0 0.25em; line-height: 1; border-radius: 0.35em;\">\n",
       "    potatoes\n",
       "    <span style=\"font-size: 0.8em; font-weight: bold; line-height: 1; border-radius: 0.35em; vertical-align: middle; margin-left: 0.5rem\">FOOD</span>\n",
       "</mark>\n",
       " broccoli and \n",
       "<mark class=\"entity\" style=\"background: #ddd; padding: 0.45em 0.6em; margin: 0 0.25em; line-height: 1; border-radius: 0.35em;\">\n",
       "    tomato salad\n",
       "    <span style=\"font-size: 0.8em; font-weight: bold; line-height: 1; border-radius: 0.35em; vertical-align: middle; margin-left: 0.5rem\">FOOD</span>\n",
       "</mark>\n",
       " with my blue \n",
       "<mark class=\"entity\" style=\"background: #ddd; padding: 0.45em 0.6em; margin: 0 0.25em; line-height: 1; border-radius: 0.35em;\">\n",
       "    cheese\n",
       "    <span style=\"font-size: 0.8em; font-weight: bold; line-height: 1; border-radius: 0.35em; vertical-align: middle; margin-left: 0.5rem\">FOOD</span>\n",
       "</mark>\n",
       " dressing and \n",
       "<mark class=\"entity\" style=\"background: #ddd; padding: 0.45em 0.6em; margin: 0 0.25em; line-height: 1; border-radius: 0.35em;\">\n",
       "    lamb\n",
       "    <span style=\"font-size: 0.8em; font-weight: bold; line-height: 1; border-radius: 0.35em; vertical-align: middle; margin-left: 0.5rem\">FOOD</span>\n",
       "</mark>\n",
       " chops for dinner damn i'm good</div></span>"
      ],
      "text/plain": [
       "<IPython.core.display.HTML object>"
      ]
     },
     "metadata": {},
     "output_type": "display_data"
    },
    {
     "data": {
      "text/html": [
       "<span class=\"tex2jax_ignore\"><div class=\"entities\" style=\"line-height: 2.5; direction: ltr\"> hahahaha why do you love it so much again? oh right i remember now ha</div></span>"
      ],
      "text/plain": [
       "<IPython.core.display.HTML object>"
      ]
     },
     "metadata": {},
     "output_type": "display_data"
    },
    {
     "data": {
      "text/html": [
       "<span class=\"tex2jax_ignore\"><div class=\"entities\" style=\"line-height: 2.5; direction: ltr\">decided on having #cornflakes for breakfast and sparing the #marshmallows for making #smores at the next #bbq</div></span>"
      ],
      "text/plain": [
       "<IPython.core.display.HTML object>"
      ]
     },
     "metadata": {},
     "output_type": "display_data"
    },
    {
     "data": {
      "text/html": [
       "<span class=\"tex2jax_ignore\"><div class=\"entities\" style=\"line-height: 2.5; direction: ltr\"> alone at home too ;) eating cereals and watching videoclips on tv atm: coldplay's life in technicolor ii yeah</div></span>"
      ],
      "text/plain": [
       "<IPython.core.display.HTML object>"
      ]
     },
     "metadata": {},
     "output_type": "display_data"
    },
    {
     "data": {
      "text/html": [
       "<span class=\"tex2jax_ignore\"><div class=\"entities\" style=\"line-height: 2.5; direction: ltr\">i love sitting around jess' room just singing talking and laughing</div></span>"
      ],
      "text/plain": [
       "<IPython.core.display.HTML object>"
      ]
     },
     "metadata": {},
     "output_type": "display_data"
    },
    {
     "data": {
      "text/html": [
       "<span class=\"tex2jax_ignore\"><div class=\"entities\" style=\"line-height: 2.5; direction: ltr\">i love how my energy affects other people</div></span>"
      ],
      "text/plain": [
       "<IPython.core.display.HTML object>"
      ]
     },
     "metadata": {},
     "output_type": "display_data"
    },
    {
     "data": {
      "text/html": [
       "<span class=\"tex2jax_ignore\"><div class=\"entities\" style=\"line-height: 2.5; direction: ltr\"> of course dannytotally different everyone knows a good malbec pairs quite well with a med to hot \n",
       "<mark class=\"entity\" style=\"background: #ddd; padding: 0.45em 0.6em; margin: 0 0.25em; line-height: 1; border-radius: 0.35em;\">\n",
       "    salsa\n",
       "    <span style=\"font-size: 0.8em; font-weight: bold; line-height: 1; border-radius: 0.35em; vertical-align: middle; margin-left: 0.5rem\">FOOD</span>\n",
       "</mark>\n",
       "</div></span>"
      ],
      "text/plain": [
       "<IPython.core.display.HTML object>"
      ]
     },
     "metadata": {},
     "output_type": "display_data"
    },
    {
     "data": {
      "text/html": [
       "<span class=\"tex2jax_ignore\"><div class=\"entities\" style=\"line-height: 2.5; direction: ltr\"> im so jealousi want \n",
       "<mark class=\"entity\" style=\"background: #ddd; padding: 0.45em 0.6em; margin: 0 0.25em; line-height: 1; border-radius: 0.35em;\">\n",
       "    salsa\n",
       "    <span style=\"font-size: 0.8em; font-weight: bold; line-height: 1; border-radius: 0.35em; vertical-align: middle; margin-left: 0.5rem\">FOOD</span>\n",
       "</mark>\n",
       " but the \n",
       "<mark class=\"entity\" style=\"background: #ddd; padding: 0.45em 0.6em; margin: 0 0.25em; line-height: 1; border-radius: 0.35em;\">\n",
       "    cookies\n",
       "    <span style=\"font-size: 0.8em; font-weight: bold; line-height: 1; border-radius: 0.35em; vertical-align: middle; margin-left: 0.5rem\">FOOD</span>\n",
       "</mark>\n",
       " were amazing!</div></span>"
      ],
      "text/plain": [
       "<IPython.core.display.HTML object>"
      ]
     },
     "metadata": {},
     "output_type": "display_data"
    },
    {
     "data": {
      "text/html": [
       "<span class=\"tex2jax_ignore\"><div class=\"entities\" style=\"line-height: 2.5; direction: ltr\">rain ruined the malaysian gp  not much fun neither any money from it </div></span>"
      ],
      "text/plain": [
       "<IPython.core.display.HTML object>"
      ]
     },
     "metadata": {},
     "output_type": "display_data"
    },
    {
     "data": {
      "text/html": [
       "<span class=\"tex2jax_ignore\"><div class=\"entities\" style=\"line-height: 2.5; direction: ltr\">\n",
       "<mark class=\"entity\" style=\"background: #ddd; padding: 0.45em 0.6em; margin: 0 0.25em; line-height: 1; border-radius: 0.35em;\">\n",
       "    bananas\n",
       "    <span style=\"font-size: 0.8em; font-weight: bold; line-height: 1; border-radius: 0.35em; vertical-align: middle; margin-left: 0.5rem\">FOOD</span>\n",
       "</mark>\n",
       " \n",
       "<mark class=\"entity\" style=\"background: #ddd; padding: 0.45em 0.6em; margin: 0 0.25em; line-height: 1; border-radius: 0.35em;\">\n",
       "    rice\n",
       "    <span style=\"font-size: 0.8em; font-weight: bold; line-height: 1; border-radius: 0.35em; vertical-align: middle; margin-left: 0.5rem\">FOOD</span>\n",
       "</mark>\n",
       " \n",
       "<mark class=\"entity\" style=\"background: #ddd; padding: 0.45em 0.6em; margin: 0 0.25em; line-height: 1; border-radius: 0.35em;\">\n",
       "    applesauce\n",
       "    <span style=\"font-size: 0.8em; font-weight: bold; line-height: 1; border-radius: 0.35em; vertical-align: middle; margin-left: 0.5rem\">FOOD</span>\n",
       "</mark>\n",
       " toast</div></span>"
      ],
      "text/plain": [
       "<IPython.core.display.HTML object>"
      ]
     },
     "metadata": {},
     "output_type": "display_data"
    },
    {
     "data": {
      "text/html": [
       "<span class=\"tex2jax_ignore\"><div class=\"entities\" style=\"line-height: 2.5; direction: ltr\">still living on \n",
       "<mark class=\"entity\" style=\"background: #ddd; padding: 0.45em 0.6em; margin: 0 0.25em; line-height: 1; border-radius: 0.35em;\">\n",
       "    ice cream\n",
       "    <span style=\"font-size: 0.8em; font-weight: bold; line-height: 1; border-radius: 0.35em; vertical-align: middle; margin-left: 0.5rem\">FOOD</span>\n",
       "</mark>\n",
       " sherbet \n",
       "<mark class=\"entity\" style=\"background: #ddd; padding: 0.45em 0.6em; margin: 0 0.25em; line-height: 1; border-radius: 0.35em;\">\n",
       "    applesauce\n",
       "    <span style=\"font-size: 0.8em; font-weight: bold; line-height: 1; border-radius: 0.35em; vertical-align: middle; margin-left: 0.5rem\">FOOD</span>\n",
       "</mark>\n",
       " \n",
       "<mark class=\"entity\" style=\"background: #ddd; padding: 0.45em 0.6em; margin: 0 0.25em; line-height: 1; border-radius: 0.35em;\">\n",
       "    pudding\n",
       "    <span style=\"font-size: 0.8em; font-weight: bold; line-height: 1; border-radius: 0.35em; vertical-align: middle; margin-left: 0.5rem\">FOOD</span>\n",
       "</mark>\n",
       " and jello brian left today still cant talk yet only wispering</div></span>"
      ],
      "text/plain": [
       "<IPython.core.display.HTML object>"
      ]
     },
     "metadata": {},
     "output_type": "display_data"
    },
    {
     "data": {
      "text/html": [
       "<span class=\"tex2jax_ignore\"><div class=\"entities\" style=\"line-height: 2.5; direction: ltr\"> oh honey!</div></span>"
      ],
      "text/plain": [
       "<IPython.core.display.HTML object>"
      ]
     },
     "metadata": {},
     "output_type": "display_data"
    },
    {
     "data": {
      "text/html": [
       "<span class=\"tex2jax_ignore\"><div class=\"entities\" style=\"line-height: 2.5; direction: ltr\">just found out my brother is moving from hong kong to singapore in june and i didn't get a chance to visit him in hong kong yet!</div></span>"
      ],
      "text/plain": [
       "<IPython.core.display.HTML object>"
      ]
     },
     "metadata": {},
     "output_type": "display_data"
    },
    {
     "data": {
      "text/html": [
       "<span class=\"tex2jax_ignore\"><div class=\"entities\" style=\"line-height: 2.5; direction: ltr\"> thats so exciting! u are coming to south america in a few hours! but not to colombia hope u have fun here! we love u!!</div></span>"
      ],
      "text/plain": [
       "<IPython.core.display.HTML object>"
      ]
     },
     "metadata": {},
     "output_type": "display_data"
    },
    {
     "data": {
      "text/html": [
       "<span class=\"tex2jax_ignore\"><div class=\"entities\" style=\"line-height: 2.5; direction: ltr\">haha *squid!* oooo but ya im ganna try and get it figured out tomorrow im like freakin dieing without a phone</div></span>"
      ],
      "text/plain": [
       "<IPython.core.display.HTML object>"
      ]
     },
     "metadata": {},
     "output_type": "display_data"
    },
    {
     "data": {
      "text/html": [
       "<span class=\"tex2jax_ignore\"><div class=\"entities\" style=\"line-height: 2.5; direction: ltr\">we can't get the dog i'm seriously sad now</div></span>"
      ],
      "text/plain": [
       "<IPython.core.display.HTML object>"
      ]
     },
     "metadata": {},
     "output_type": "display_data"
    },
    {
     "data": {
      "text/html": [
       "<span class=\"tex2jax_ignore\"><div class=\"entities\" style=\"line-height: 2.5; direction: ltr\"> i found out that there's sushi with fake \n",
       "<mark class=\"entity\" style=\"background: #ddd; padding: 0.45em 0.6em; margin: 0 0.25em; line-height: 1; border-radius: 0.35em;\">\n",
       "    crab meat\n",
       "    <span style=\"font-size: 0.8em; font-weight: bold; line-height: 1; border-radius: 0.35em; vertical-align: middle; margin-left: 0.5rem\">FOOD</span>\n",
       "</mark>\n",
       " and it's not good for you</div></span>"
      ],
      "text/plain": [
       "<IPython.core.display.HTML object>"
      ]
     },
     "metadata": {},
     "output_type": "display_data"
    },
    {
     "data": {
      "text/html": [
       "<span class=\"tex2jax_ignore\"><div class=\"entities\" style=\"line-height: 2.5; direction: ltr\">spilled \n",
       "<mark class=\"entity\" style=\"background: #ddd; padding: 0.45em 0.6em; margin: 0 0.25em; line-height: 1; border-radius: 0.35em;\">\n",
       "    butter\n",
       "    <span style=\"font-size: 0.8em; font-weight: bold; line-height: 1; border-radius: 0.35em; vertical-align: middle; margin-left: 0.5rem\">FOOD</span>\n",
       "</mark>\n",
       " oil all over my blackberry while eating \n",
       "<mark class=\"entity\" style=\"background: #ddd; padding: 0.45em 0.6em; margin: 0 0.25em; line-height: 1; border-radius: 0.35em;\">\n",
       "    crab legs\n",
       "    <span style=\"font-size: 0.8em; font-weight: bold; line-height: 1; border-radius: 0.35em; vertical-align: middle; margin-left: 0.5rem\">FOOD</span>\n",
       "</mark>\n",
       "  its all messed up now</div></span>"
      ],
      "text/plain": [
       "<IPython.core.display.HTML object>"
      ]
     },
     "metadata": {},
     "output_type": "display_data"
    },
    {
     "data": {
      "text/html": [
       "<span class=\"tex2jax_ignore\"><div class=\"entities\" style=\"line-height: 2.5; direction: ltr\">ah beer and \n",
       "<mark class=\"entity\" style=\"background: #ddd; padding: 0.45em 0.6em; margin: 0 0.25em; line-height: 1; border-radius: 0.35em;\">\n",
       "    crab legs\n",
       "    <span style=\"font-size: 0.8em; font-weight: bold; line-height: 1; border-radius: 0.35em; vertical-align: middle; margin-left: 0.5rem\">FOOD</span>\n",
       "</mark>\n",
       " oh man tomorrow is gonna suck</div></span>"
      ],
      "text/plain": [
       "<IPython.core.display.HTML object>"
      ]
     },
     "metadata": {},
     "output_type": "display_data"
    },
    {
     "data": {
      "text/html": [
       "<span class=\"tex2jax_ignore\"><div class=\"entities\" style=\"line-height: 2.5; direction: ltr\"> totally jealous of the \n",
       "<mark class=\"entity\" style=\"background: #ddd; padding: 0.45em 0.6em; margin: 0 0.25em; line-height: 1; border-radius: 0.35em;\">\n",
       "    crab legs\n",
       "    <span style=\"font-size: 0.8em; font-weight: bold; line-height: 1; border-radius: 0.35em; vertical-align: middle; margin-left: 0.5rem\">FOOD</span>\n",
       "</mark>\n",
       "</div></span>"
      ],
      "text/plain": [
       "<IPython.core.display.HTML object>"
      ]
     },
     "metadata": {},
     "output_type": "display_data"
    },
    {
     "data": {
      "text/html": [
       "<span class=\"tex2jax_ignore\"><div class=\"entities\" style=\"line-height: 2.5; direction: ltr\"> \n",
       "<mark class=\"entity\" style=\"background: #ddd; padding: 0.45em 0.6em; margin: 0 0.25em; line-height: 1; border-radius: 0.35em;\">\n",
       "    crab legs\n",
       "    <span style=\"font-size: 0.8em; font-weight: bold; line-height: 1; border-radius: 0.35em; vertical-align: middle; margin-left: 0.5rem\">FOOD</span>\n",
       "</mark>\n",
       " huh?never had them allergic to shellfish here</div></span>"
      ],
      "text/plain": [
       "<IPython.core.display.HTML object>"
      ]
     },
     "metadata": {},
     "output_type": "display_data"
    },
    {
     "data": {
      "text/html": [
       "<span class=\"tex2jax_ignore\"><div class=\"entities\" style=\"line-height: 2.5; direction: ltr\">i just had a shot of \n",
       "<mark class=\"entity\" style=\"background: #ddd; padding: 0.45em 0.6em; margin: 0 0.25em; line-height: 1; border-radius: 0.35em;\">\n",
       "    quail\n",
       "    <span style=\"font-size: 0.8em; font-weight: bold; line-height: 1; border-radius: 0.35em; vertical-align: middle; margin-left: 0.5rem\">FOOD</span>\n",
       "</mark>\n",
       " egg chopped salmon and masago at cabin sushi plus it was all you can eat!</div></span>"
      ],
      "text/plain": [
       "<IPython.core.display.HTML object>"
      ]
     },
     "metadata": {},
     "output_type": "display_data"
    },
    {
     "data": {
      "text/html": [
       "<span class=\"tex2jax_ignore\"><div class=\"entities\" style=\"line-height: 2.5; direction: ltr\">just saw fast and furious movie! got 2 love fast cars wat u all thk? muscle vs import?</div></span>"
      ],
      "text/plain": [
       "<IPython.core.display.HTML object>"
      ]
     },
     "metadata": {},
     "output_type": "display_data"
    },
    {
     "data": {
      "text/html": [
       "<span class=\"tex2jax_ignore\"><div class=\"entities\" style=\"line-height: 2.5; direction: ltr\">gr8t day! love how god hears and answers my whispers love him cause he rescued me</div></span>"
      ],
      "text/plain": [
       "<IPython.core.display.HTML object>"
      ]
     },
     "metadata": {},
     "output_type": "display_data"
    },
    {
     "data": {
      "text/html": [
       "<span class=\"tex2jax_ignore\"><div class=\"entities\" style=\"line-height: 2.5; direction: ltr\">thought adventure land was good not as good as superbad</div></span>"
      ],
      "text/plain": [
       "<IPython.core.display.HTML object>"
      ]
     },
     "metadata": {},
     "output_type": "display_data"
    },
    {
     "data": {
      "text/html": [
       "<span class=\"tex2jax_ignore\"><div class=\"entities\" style=\"line-height: 2.5; direction: ltr\">mo jobs no money how in the hell is min wage here 4 f'n clams an hour?</div></span>"
      ],
      "text/plain": [
       "<IPython.core.display.HTML object>"
      ]
     },
     "metadata": {},
     "output_type": "display_data"
    },
    {
     "data": {
      "text/html": [
       "<span class=\"tex2jax_ignore\"><div class=\"entities\" style=\"line-height: 2.5; direction: ltr\"> yes missed my candy and \n",
       "<mark class=\"entity\" style=\"background: #ddd; padding: 0.45em 0.6em; margin: 0 0.25em; line-height: 1; border-radius: 0.35em;\">\n",
       "    pastrami\n",
       "    <span style=\"font-size: 0.8em; font-weight: bold; line-height: 1; border-radius: 0.35em; vertical-align: middle; margin-left: 0.5rem\">FOOD</span>\n",
       "</mark>\n",
       " too</div></span>"
      ],
      "text/plain": [
       "<IPython.core.display.HTML object>"
      ]
     },
     "metadata": {},
     "output_type": "display_data"
    },
    {
     "data": {
      "text/html": [
       "<span class=\"tex2jax_ignore\"><div class=\"entities\" style=\"line-height: 2.5; direction: ltr\">at work ima bout to make me somethinq to eat i would qo qet me a \n",
       "<mark class=\"entity\" style=\"background: #ddd; padding: 0.45em 0.6em; margin: 0 0.25em; line-height: 1; border-radius: 0.35em;\">\n",
       "    pastrami\n",
       "    <span style=\"font-size: 0.8em; font-weight: bold; line-height: 1; border-radius: 0.35em; vertical-align: middle; margin-left: 0.5rem\">FOOD</span>\n",
       "</mark>\n",
       " sandwich but its nasty out</div></span>"
      ],
      "text/plain": [
       "<IPython.core.display.HTML object>"
      ]
     },
     "metadata": {},
     "output_type": "display_data"
    },
    {
     "data": {
      "text/html": [
       "<span class=\"tex2jax_ignore\"><div class=\"entities\" style=\"line-height: 2.5; direction: ltr\">well my \n",
       "<mark class=\"entity\" style=\"background: #ddd; padding: 0.45em 0.6em; margin: 0 0.25em; line-height: 1; border-radius: 0.35em;\">\n",
       "    parsley\n",
       "    <span style=\"font-size: 0.8em; font-weight: bold; line-height: 1; border-radius: 0.35em; vertical-align: middle; margin-left: 0.5rem\">FOOD</span>\n",
       "</mark>\n",
       " is no longer organic!</div></span>"
      ],
      "text/plain": [
       "<IPython.core.display.HTML object>"
      ]
     },
     "metadata": {},
     "output_type": "display_data"
    },
    {
     "data": {
      "text/html": [
       "<span class=\"tex2jax_ignore\"><div class=\"entities\" style=\"line-height: 2.5; direction: ltr\"> some things they just never get old  i miss maya</div></span>"
      ],
      "text/plain": [
       "<IPython.core.display.HTML object>"
      ]
     },
     "metadata": {},
     "output_type": "display_data"
    },
    {
     "data": {
      "text/html": [
       "<span class=\"tex2jax_ignore\"><div class=\"entities\" style=\"line-height: 2.5; direction: ltr\">spring is finally here! cherry blossoms galore! such a shame they are so temporary</div></span>"
      ],
      "text/plain": [
       "<IPython.core.display.HTML object>"
      ]
     },
     "metadata": {},
     "output_type": "display_data"
    },
    {
     "data": {
      "text/html": [
       "<span class=\"tex2jax_ignore\"><div class=\"entities\" style=\"line-height: 2.5; direction: ltr\">i didn't see that many cherry blossoms this year</div></span>"
      ],
      "text/plain": [
       "<IPython.core.display.HTML object>"
      ]
     },
     "metadata": {},
     "output_type": "display_data"
    },
    {
     "data": {
      "text/html": [
       "<span class=\"tex2jax_ignore\"><div class=\"entities\" style=\"line-height: 2.5; direction: ltr\">mourning over my amaretto sourstained prada with cherry inside</div></span>"
      ],
      "text/plain": [
       "<IPython.core.display.HTML object>"
      ]
     },
     "metadata": {},
     "output_type": "display_data"
    },
    {
     "data": {
      "text/html": [
       "<span class=\"tex2jax_ignore\"><div class=\"entities\" style=\"line-height: 2.5; direction: ltr\"> great! now i want \n",
       "<mark class=\"entity\" style=\"background: #ddd; padding: 0.45em 0.6em; margin: 0 0.25em; line-height: 1; border-radius: 0.35em;\">\n",
       "    chocolate\n",
       "    <span style=\"font-size: 0.8em; font-weight: bold; line-height: 1; border-radius: 0.35em; vertical-align: middle; margin-left: 0.5rem\">FOOD</span>\n",
       "</mark>\n",
       "</div></span>"
      ],
      "text/plain": [
       "<IPython.core.display.HTML object>"
      ]
     },
     "metadata": {},
     "output_type": "display_data"
    },
    {
     "data": {
      "text/html": [
       "<span class=\"tex2jax_ignore\"><div class=\"entities\" style=\"line-height: 2.5; direction: ltr\">ew one more day till school</div></span>"
      ],
      "text/plain": [
       "<IPython.core.display.HTML object>"
      ]
     },
     "metadata": {},
     "output_type": "display_data"
    },
    {
     "data": {
      "text/html": [
       "<span class=\"tex2jax_ignore\"><div class=\"entities\" style=\"line-height: 2.5; direction: ltr\"> aiyooooo maybe \n",
       "<mark class=\"entity\" style=\"background: #ddd; padding: 0.45em 0.6em; margin: 0 0.25em; line-height: 1; border-radius: 0.35em;\">\n",
       "    chocolate\n",
       "    <span style=\"font-size: 0.8em; font-weight: bold; line-height: 1; border-radius: 0.35em; vertical-align: middle; margin-left: 0.5rem\">FOOD</span>\n",
       "</mark>\n",
       " will help? \n",
       "<mark class=\"entity\" style=\"background: #ddd; padding: 0.45em 0.6em; margin: 0 0.25em; line-height: 1; border-radius: 0.35em;\">\n",
       "    chocolate\n",
       "    <span style=\"font-size: 0.8em; font-weight: bold; line-height: 1; border-radius: 0.35em; vertical-align: middle; margin-left: 0.5rem\">FOOD</span>\n",
       "</mark>\n",
       " helps in most situations</div></span>"
      ],
      "text/plain": [
       "<IPython.core.display.HTML object>"
      ]
     },
     "metadata": {},
     "output_type": "display_data"
    },
    {
     "data": {
      "text/html": [
       "<span class=\"tex2jax_ignore\"><div class=\"entities\" style=\"line-height: 2.5; direction: ltr\">now that i'm trying to stay off \n",
       "<mark class=\"entity\" style=\"background: #ddd; padding: 0.45em 0.6em; margin: 0 0.25em; line-height: 1; border-radius: 0.35em;\">\n",
       "    chocolate\n",
       "    <span style=\"font-size: 0.8em; font-weight: bold; line-height: 1; border-radius: 0.35em; vertical-align: middle; margin-left: 0.5rem\">FOOD</span>\n",
       "</mark>\n",
       " it's everywhere</div></span>"
      ],
      "text/plain": [
       "<IPython.core.display.HTML object>"
      ]
     },
     "metadata": {},
     "output_type": "display_data"
    },
    {
     "data": {
      "text/html": [
       "<span class=\"tex2jax_ignore\"><div class=\"entities\" style=\"line-height: 2.5; direction: ltr\"> if ur home wednesday ill come or this weekend dude i really dont wanna go back to school tomorrow</div></span>"
      ],
      "text/plain": [
       "<IPython.core.display.HTML object>"
      ]
     },
     "metadata": {},
     "output_type": "display_data"
    },
    {
     "data": {
      "text/html": [
       "<span class=\"tex2jax_ignore\"><div class=\"entities\" style=\"line-height: 2.5; direction: ltr\"> it's still up for me but no 2010</div></span>"
      ],
      "text/plain": [
       "<IPython.core.display.HTML object>"
      ]
     },
     "metadata": {},
     "output_type": "display_data"
    },
    {
     "data": {
      "text/html": [
       "<span class=\"tex2jax_ignore\"><div class=\"entities\" style=\"line-height: 2.5; direction: ltr\">feels like family is getting closer i like it ps need flourrrr! i have an itch to bake something </div></span>"
      ],
      "text/plain": [
       "<IPython.core.display.HTML object>"
      ]
     },
     "metadata": {},
     "output_type": "display_data"
    },
    {
     "data": {
      "text/html": [
       "<span class=\"tex2jax_ignore\"><div class=\"entities\" style=\"line-height: 2.5; direction: ltr\"> not so good i think that's my fault though  didn't use \n",
       "<mark class=\"entity\" style=\"background: #ddd; padding: 0.45em 0.6em; margin: 0 0.25em; line-height: 1; border-radius: 0.35em;\">\n",
       "    buttermilk\n",
       "    <span style=\"font-size: 0.8em; font-weight: bold; line-height: 1; border-radius: 0.35em; vertical-align: middle; margin-left: 0.5rem\">FOOD</span>\n",
       "</mark>\n",
       " recipe was on back of the \n",
       "<mark class=\"entity\" style=\"background: #ddd; padding: 0.45em 0.6em; margin: 0 0.25em; line-height: 1; border-radius: 0.35em;\">\n",
       "    flour\n",
       "    <span style=\"font-size: 0.8em; font-weight: bold; line-height: 1; border-radius: 0.35em; vertical-align: middle; margin-left: 0.5rem\">FOOD</span>\n",
       "</mark>\n",
       "</div></span>"
      ],
      "text/plain": [
       "<IPython.core.display.HTML object>"
      ]
     },
     "metadata": {},
     "output_type": "display_data"
    },
    {
     "data": {
      "text/html": [
       "<span class=\"tex2jax_ignore\"><div class=\"entities\" style=\"line-height: 2.5; direction: ltr\"> i have \n",
       "<mark class=\"entity\" style=\"background: #ddd; padding: 0.45em 0.6em; margin: 0 0.25em; line-height: 1; border-radius: 0.35em;\">\n",
       "    popcorn\n",
       "    <span style=\"font-size: 0.8em; font-weight: bold; line-height: 1; border-radius: 0.35em; vertical-align: middle; margin-left: 0.5rem\">FOOD</span>\n",
       "</mark>\n",
       " and fruitcake nowbut it's just not the same as \n",
       "<mark class=\"entity\" style=\"background: #ddd; padding: 0.45em 0.6em; margin: 0 0.25em; line-height: 1; border-radius: 0.35em;\">\n",
       "    chocolate\n",
       "    <span style=\"font-size: 0.8em; font-weight: bold; line-height: 1; border-radius: 0.35em; vertical-align: middle; margin-left: 0.5rem\">FOOD</span>\n",
       "</mark>\n",
       "</div></span>"
      ],
      "text/plain": [
       "<IPython.core.display.HTML object>"
      ]
     },
     "metadata": {},
     "output_type": "display_data"
    },
    {
     "data": {
      "text/html": [
       "<span class=\"tex2jax_ignore\"><div class=\"entities\" style=\"line-height: 2.5; direction: ltr\">garden going well almost all the corn and \n",
       "<mark class=\"entity\" style=\"background: #ddd; padding: 0.45em 0.6em; margin: 0 0.25em; line-height: 1; border-radius: 0.35em;\">\n",
       "    peas\n",
       "    <span style=\"font-size: 0.8em; font-weight: bold; line-height: 1; border-radius: 0.35em; vertical-align: middle; margin-left: 0.5rem\">FOOD</span>\n",
       "</mark>\n",
       " are up no \n",
       "<mark class=\"entity\" style=\"background: #ddd; padding: 0.45em 0.6em; margin: 0 0.25em; line-height: 1; border-radius: 0.35em;\">\n",
       "    onions\n",
       "    <span style=\"font-size: 0.8em; font-weight: bold; line-height: 1; border-radius: 0.35em; vertical-align: middle; margin-left: 0.5rem\">FOOD</span>\n",
       "</mark>\n",
       " or \n",
       "<mark class=\"entity\" style=\"background: #ddd; padding: 0.45em 0.6em; margin: 0 0.25em; line-height: 1; border-radius: 0.35em;\">\n",
       "    beets\n",
       "    <span style=\"font-size: 0.8em; font-weight: bold; line-height: 1; border-radius: 0.35em; vertical-align: middle; margin-left: 0.5rem\">FOOD</span>\n",
       "</mark>\n",
       " up yet though</div></span>"
      ],
      "text/plain": [
       "<IPython.core.display.HTML object>"
      ]
     },
     "metadata": {},
     "output_type": "display_data"
    },
    {
     "data": {
      "text/html": [
       "<span class=\"tex2jax_ignore\"><div class=\"entities\" style=\"line-height: 2.5; direction: ltr\"> he steals my stuff buries them under fence embarassing when it's the man returning them! not much i can do about frogs</div></span>"
      ],
      "text/plain": [
       "<IPython.core.display.HTML object>"
      ]
     },
     "metadata": {},
     "output_type": "display_data"
    },
    {
     "data": {
      "text/html": [
       "<span class=\"tex2jax_ignore\"><div class=\"entities\" style=\"line-height: 2.5; direction: ltr\"> is competition around the corner? if not take it slow for at least a week twisted my ankle back in jc awfully painful</div></span>"
      ],
      "text/plain": [
       "<IPython.core.display.HTML object>"
      ]
     },
     "metadata": {},
     "output_type": "display_data"
    },
    {
     "data": {
      "text/html": [
       "<span class=\"tex2jax_ignore\"><div class=\"entities\" style=\"line-height: 2.5; direction: ltr\"> i know! but it does nothing for the gelatinous state of my belly</div></span>"
      ],
      "text/plain": [
       "<IPython.core.display.HTML object>"
      ]
     },
     "metadata": {},
     "output_type": "display_data"
    },
    {
     "data": {
      "text/html": [
       "<span class=\"tex2jax_ignore\"><div class=\"entities\" style=\"line-height: 2.5; direction: ltr\">did u know percy pigs are actually made of real pigs?! ingredients list \n",
       "<mark class=\"entity\" style=\"background: #ddd; padding: 0.45em 0.6em; margin: 0 0.25em; line-height: 1; border-radius: 0.35em;\">\n",
       "    pork\n",
       "    <span style=\"font-size: 0.8em; font-weight: bold; line-height: 1; border-radius: 0.35em; vertical-align: middle; margin-left: 0.5rem\">FOOD</span>\n",
       "</mark>\n",
       " gelatine</div></span>"
      ],
      "text/plain": [
       "<IPython.core.display.HTML object>"
      ]
     },
     "metadata": {},
     "output_type": "display_data"
    },
    {
     "data": {
      "text/html": [
       "<span class=\"tex2jax_ignore\"><div class=\"entities\" style=\"line-height: 2.5; direction: ltr\"> still an aftertaste from the gelatine thingick haven't found a good cupcake in bj yet would make some if i had an oven!</div></span>"
      ],
      "text/plain": [
       "<IPython.core.display.HTML object>"
      ]
     },
     "metadata": {},
     "output_type": "display_data"
    },
    {
     "data": {
      "text/html": [
       "<span class=\"tex2jax_ignore\"><div class=\"entities\" style=\"line-height: 2.5; direction: ltr\">road trip to florida with my sis been driving for 5 hrs in pouring rain! \n",
       "<mark class=\"entity\" style=\"background: #ddd; padding: 0.45em 0.6em; margin: 0 0.25em; line-height: 1; border-radius: 0.35em;\">\n",
       "    stopping\n",
       "    <span style=\"font-size: 0.8em; font-weight: bold; line-height: 1; border-radius: 0.35em; vertical-align: middle; margin-left: 0.5rem\">FOOD</span>\n",
       "</mark>\n",
       " for the night12 hours left to drive</div></span>"
      ],
      "text/plain": [
       "<IPython.core.display.HTML object>"
      ]
     },
     "metadata": {},
     "output_type": "display_data"
    },
    {
     "data": {
      "text/html": [
       "<span class=\"tex2jax_ignore\"><div class=\"entities\" style=\"line-height: 2.5; direction: ltr\">throat is closing up and i had some \n",
       "<mark class=\"entity\" style=\"background: #ddd; padding: 0.45em 0.6em; margin: 0 0.25em; line-height: 1; border-radius: 0.35em;\">\n",
       "    string cheese\n",
       "    <span style=\"font-size: 0.8em; font-weight: bold; line-height: 1; border-radius: 0.35em; vertical-align: middle; margin-left: 0.5rem\">FOOD</span>\n",
       "</mark>\n",
       " not a good idea</div></span>"
      ],
      "text/plain": [
       "<IPython.core.display.HTML object>"
      ]
     },
     "metadata": {},
     "output_type": "display_data"
    },
    {
     "data": {
      "text/html": [
       "<span class=\"tex2jax_ignore\"><div class=\"entities\" style=\"line-height: 2.5; direction: ltr\"> haaaaa i want mac and \n",
       "<mark class=\"entity\" style=\"background: #ddd; padding: 0.45em 0.6em; margin: 0 0.25em; line-height: 1; border-radius: 0.35em;\">\n",
       "    cheese\n",
       "    <span style=\"font-size: 0.8em; font-weight: bold; line-height: 1; border-radius: 0.35em; vertical-align: middle; margin-left: 0.5rem\">FOOD</span>\n",
       "</mark>\n",
       " toooooo!!! hahahaha heyi still got the one u left herei guess im making that today oo lol</div></span>"
      ],
      "text/plain": [
       "<IPython.core.display.HTML object>"
      ]
     },
     "metadata": {},
     "output_type": "display_data"
    },
    {
     "data": {
      "text/html": [
       "<span class=\"tex2jax_ignore\"><div class=\"entities\" style=\"line-height: 2.5; direction: ltr\">plug on train once again doesnt work</div></span>"
      ],
      "text/plain": [
       "<IPython.core.display.HTML object>"
      ]
     },
     "metadata": {},
     "output_type": "display_data"
    },
    {
     "data": {
      "text/html": [
       "<span class=\"tex2jax_ignore\"><div class=\"entities\" style=\"line-height: 2.5; direction: ltr\"> they have diff camps gahh they're all rural though woga woga and \n",
       "<mark class=\"entity\" style=\"background: #ddd; padding: 0.45em 0.6em; margin: 0 0.25em; line-height: 1; border-radius: 0.35em;\">\n",
       "    bathurst\n",
       "    <span style=\"font-size: 0.8em; font-weight: bold; line-height: 1; border-radius: 0.35em; vertical-align: middle; margin-left: 0.5rem\">FOOD</span>\n",
       "</mark>\n",
       " but they're the best 4 advertising</div></span>"
      ],
      "text/plain": [
       "<IPython.core.display.HTML object>"
      ]
     },
     "metadata": {},
     "output_type": "display_data"
    },
    {
     "data": {
      "text/html": [
       "<span class=\"tex2jax_ignore\"><div class=\"entities\" style=\"line-height: 2.5; direction: ltr\">\n",
       "<mark class=\"entity\" style=\"background: #ddd; padding: 0.45em 0.6em; margin: 0 0.25em; line-height: 1; border-radius: 0.35em;\">\n",
       "    chocolate\n",
       "    <span style=\"font-size: 0.8em; font-weight: bold; line-height: 1; border-radius: 0.35em; vertical-align: middle; margin-left: 0.5rem\">FOOD</span>\n",
       "</mark>\n",
       " covered \n",
       "<mark class=\"entity\" style=\"background: #ddd; padding: 0.45em 0.6em; margin: 0 0.25em; line-height: 1; border-radius: 0.35em;\">\n",
       "    strawberries\n",
       "    <span style=\"font-size: 0.8em; font-weight: bold; line-height: 1; border-radius: 0.35em; vertical-align: middle; margin-left: 0.5rem\">FOOD</span>\n",
       "</mark>\n",
       " and \n",
       "<mark class=\"entity\" style=\"background: #ddd; padding: 0.45em 0.6em; margin: 0 0.25em; line-height: 1; border-radius: 0.35em;\">\n",
       "    cottage cheese\n",
       "    <span style=\"font-size: 0.8em; font-weight: bold; line-height: 1; border-radius: 0.35em; vertical-align: middle; margin-left: 0.5rem\">FOOD</span>\n",
       "</mark>\n",
       " you have defeated me</div></span>"
      ],
      "text/plain": [
       "<IPython.core.display.HTML object>"
      ]
     },
     "metadata": {},
     "output_type": "display_data"
    },
    {
     "data": {
      "text/html": [
       "<span class=\"tex2jax_ignore\"><div class=\"entities\" style=\"line-height: 2.5; direction: ltr\">man i shouldn't have put \n",
       "<mark class=\"entity\" style=\"background: #ddd; padding: 0.45em 0.6em; margin: 0 0.25em; line-height: 1; border-radius: 0.35em;\">\n",
       "    cheese\n",
       "    <span style=\"font-size: 0.8em; font-weight: bold; line-height: 1; border-radius: 0.35em; vertical-align: middle; margin-left: 0.5rem\">FOOD</span>\n",
       "</mark>\n",
       " on that \n",
       "<mark class=\"entity\" style=\"background: #ddd; padding: 0.45em 0.6em; margin: 0 0.25em; line-height: 1; border-radius: 0.35em;\">\n",
       "    crab salad\n",
       "    <span style=\"font-size: 0.8em; font-weight: bold; line-height: 1; border-radius: 0.35em; vertical-align: middle; margin-left: 0.5rem\">FOOD</span>\n",
       "</mark>\n",
       " sandwich</div></span>"
      ],
      "text/plain": [
       "<IPython.core.display.HTML object>"
      ]
     },
     "metadata": {},
     "output_type": "display_data"
    },
    {
     "data": {
      "text/html": [
       "<span class=\"tex2jax_ignore\"><div class=\"entities\" style=\"line-height: 2.5; direction: ltr\">i thought  would be all about twitter in tooting i'm disappointed</div></span>"
      ],
      "text/plain": [
       "<IPython.core.display.HTML object>"
      ]
     },
     "metadata": {},
     "output_type": "display_data"
    },
    {
     "data": {
      "text/html": [
       "<span class=\"tex2jax_ignore\"><div class=\"entities\" style=\"line-height: 2.5; direction: ltr\">just woken up finally got to sleep last night alone on the couch watching one tree hill eating \n",
       "<mark class=\"entity\" style=\"background: #ddd; padding: 0.45em 0.6em; margin: 0 0.25em; line-height: 1; border-radius: 0.35em;\">\n",
       "    cheese\n",
       "    <span style=\"font-size: 0.8em; font-weight: bold; line-height: 1; border-radius: 0.35em; vertical-align: middle; margin-left: 0.5rem\">FOOD</span>\n",
       "</mark>\n",
       " and crackers!</div></span>"
      ],
      "text/plain": [
       "<IPython.core.display.HTML object>"
      ]
     },
     "metadata": {},
     "output_type": "display_data"
    },
    {
     "data": {
      "text/html": [
       "<span class=\"tex2jax_ignore\"><div class=\"entities\" style=\"line-height: 2.5; direction: ltr\">just woke upp [: \n",
       "<mark class=\"entity\" style=\"background: #ddd; padding: 0.45em 0.6em; margin: 0 0.25em; line-height: 1; border-radius: 0.35em;\">\n",
       "    cheese\n",
       "    <span style=\"font-size: 0.8em; font-weight: bold; line-height: 1; border-radius: 0.35em; vertical-align: middle; margin-left: 0.5rem\">FOOD</span>\n",
       "</mark>\n",
       " on toast yummmm i want to wear my spongebob teeshirt but i cant find it</div></span>"
      ],
      "text/plain": [
       "<IPython.core.display.HTML object>"
      ]
     },
     "metadata": {},
     "output_type": "display_data"
    },
    {
     "data": {
      "text/html": [
       "<span class=\"tex2jax_ignore\"><div class=\"entities\" style=\"line-height: 2.5; direction: ltr\">all smoked my \n",
       "<mark class=\"entity\" style=\"background: #ddd; padding: 0.45em 0.6em; margin: 0 0.25em; line-height: 1; border-radius: 0.35em;\">\n",
       "    rabbit\n",
       "    <span style=\"font-size: 0.8em; font-weight: bold; line-height: 1; border-radius: 0.35em; vertical-align: middle; margin-left: 0.5rem\">FOOD</span>\n",
       "</mark>\n",
       " is so cute but he hates me</div></span>"
      ],
      "text/plain": [
       "<IPython.core.display.HTML object>"
      ]
     },
     "metadata": {},
     "output_type": "display_data"
    },
    {
     "data": {
      "text/html": [
       "<span class=\"tex2jax_ignore\"><div class=\"entities\" style=\"line-height: 2.5; direction: ltr\">not wanting to get rid of her rabbits this is going to be a great day</div></span>"
      ],
      "text/plain": [
       "<IPython.core.display.HTML object>"
      ]
     },
     "metadata": {},
     "output_type": "display_data"
    },
    {
     "data": {
      "text/html": [
       "<span class=\"tex2jax_ignore\"><div class=\"entities\" style=\"line-height: 2.5; direction: ltr\">\n",
       "<mark class=\"entity\" style=\"background: #ddd; padding: 0.45em 0.6em; margin: 0 0.25em; line-height: 1; border-radius: 0.35em;\">\n",
       "    rabbit\n",
       "    <span style=\"font-size: 0.8em; font-weight: bold; line-height: 1; border-radius: 0.35em; vertical-align: middle; margin-left: 0.5rem\">FOOD</span>\n",
       "</mark>\n",
       " ran in front of my car</div></span>"
      ],
      "text/plain": [
       "<IPython.core.display.HTML object>"
      ]
     },
     "metadata": {},
     "output_type": "display_data"
    },
    {
     "data": {
      "text/html": [
       "<span class=\"tex2jax_ignore\"><div class=\"entities\" style=\"line-height: 2.5; direction: ltr\">does not want to write this history paper</div></span>"
      ],
      "text/plain": [
       "<IPython.core.display.HTML object>"
      ]
     },
     "metadata": {},
     "output_type": "display_data"
    },
    {
     "data": {
      "text/html": [
       "<span class=\"tex2jax_ignore\"><div class=\"entities\" style=\"line-height: 2.5; direction: ltr\">eww i skanky this morn dang that yucky 9 hour old \n",
       "<mark class=\"entity\" style=\"background: #ddd; padding: 0.45em 0.6em; margin: 0 0.25em; line-height: 1; border-radius: 0.35em;\">\n",
       "    pizza\n",
       "    <span style=\"font-size: 0.8em; font-weight: bold; line-height: 1; border-radius: 0.35em; vertical-align: middle; margin-left: 0.5rem\">FOOD</span>\n",
       "</mark>\n",
       " i ate lastnight before passing out i feel awful</div></span>"
      ],
      "text/plain": [
       "<IPython.core.display.HTML object>"
      ]
     },
     "metadata": {},
     "output_type": "display_data"
    },
    {
     "data": {
      "text/html": [
       "<span class=\"tex2jax_ignore\"><div class=\"entities\" style=\"line-height: 2.5; direction: ltr\">zzzzzpacking and cleaning all day \n",
       "<mark class=\"entity\" style=\"background: #ddd; padding: 0.45em 0.6em; margin: 0 0.25em; line-height: 1; border-radius: 0.35em;\">\n",
       "    pizza\n",
       "    <span style=\"font-size: 0.8em; font-weight: bold; line-height: 1; border-radius: 0.35em; vertical-align: middle; margin-left: 0.5rem\">FOOD</span>\n",
       "</mark>\n",
       " and glasses of red winenowpaint the 4th roomggrrrrr don't want to but i must</div></span>"
      ],
      "text/plain": [
       "<IPython.core.display.HTML object>"
      ]
     },
     "metadata": {},
     "output_type": "display_data"
    },
    {
     "data": {
      "text/html": [
       "<span class=\"tex2jax_ignore\"><div class=\"entities\" style=\"line-height: 2.5; direction: ltr\">school tomorrow (n) we(rhys amanda grant) we went ta glasgow and ran out of \n",
       "<mark class=\"entity\" style=\"background: #ddd; padding: 0.45em 0.6em; margin: 0 0.25em; line-height: 1; border-radius: 0.35em;\">\n",
       "    pizza\n",
       "    <span style=\"font-size: 0.8em; font-weight: bold; line-height: 1; border-radius: 0.35em; vertical-align: middle; margin-left: 0.5rem\">FOOD</span>\n",
       "</mark>\n",
       " hut then grant decides not to run so we have to scrape</div></span>"
      ],
      "text/plain": [
       "<IPython.core.display.HTML object>"
      ]
     },
     "metadata": {},
     "output_type": "display_data"
    },
    {
     "data": {
      "text/html": [
       "<span class=\"tex2jax_ignore\"><div class=\"entities\" style=\"line-height: 2.5; direction: ltr\">i just burnt my \n",
       "<mark class=\"entity\" style=\"background: #ddd; padding: 0.45em 0.6em; margin: 0 0.25em; line-height: 1; border-radius: 0.35em;\">\n",
       "    pizza\n",
       "    <span style=\"font-size: 0.8em; font-weight: bold; line-height: 1; border-radius: 0.35em; vertical-align: middle; margin-left: 0.5rem\">FOOD</span>\n",
       "</mark>\n",
       " and my left eye won't stop watering wtf plus i have work again tonight</div></span>"
      ],
      "text/plain": [
       "<IPython.core.display.HTML object>"
      ]
     },
     "metadata": {},
     "output_type": "display_data"
    },
    {
     "data": {
      "text/html": [
       "<span class=\"tex2jax_ignore\"><div class=\"entities\" style=\"line-height: 2.5; direction: ltr\">kfc + \n",
       "<mark class=\"entity\" style=\"background: #ddd; padding: 0.45em 0.6em; margin: 0 0.25em; line-height: 1; border-radius: 0.35em;\">\n",
       "    pizza\n",
       "    <span style=\"font-size: 0.8em; font-weight: bold; line-height: 1; border-radius: 0.35em; vertical-align: middle; margin-left: 0.5rem\">FOOD</span>\n",
       "</mark>\n",
       " hut =&amp;gt; deadly combi too full to sleep</div></span>"
      ],
      "text/plain": [
       "<IPython.core.display.HTML object>"
      ]
     },
     "metadata": {},
     "output_type": "display_data"
    },
    {
     "data": {
      "text/html": [
       "<span class=\"tex2jax_ignore\"><div class=\"entities\" style=\"line-height: 2.5; direction: ltr\"> i have too much veggies and \n",
       "<mark class=\"entity\" style=\"background: #ddd; padding: 0.45em 0.6em; margin: 0 0.25em; line-height: 1; border-radius: 0.35em;\">\n",
       "    rice\n",
       "    <span style=\"font-size: 0.8em; font-weight: bold; line-height: 1; border-radius: 0.35em; vertical-align: middle; margin-left: 0.5rem\">FOOD</span>\n",
       "</mark>\n",
       " i want \n",
       "<mark class=\"entity\" style=\"background: #ddd; padding: 0.45em 0.6em; margin: 0 0.25em; line-height: 1; border-radius: 0.35em;\">\n",
       "    pizza\n",
       "    <span style=\"font-size: 0.8em; font-weight: bold; line-height: 1; border-radius: 0.35em; vertical-align: middle; margin-left: 0.5rem\">FOOD</span>\n",
       "</mark>\n",
       " but no recession</div></span>"
      ],
      "text/plain": [
       "<IPython.core.display.HTML object>"
      ]
     },
     "metadata": {},
     "output_type": "display_data"
    },
    {
     "data": {
      "text/html": [
       "<span class=\"tex2jax_ignore\"><div class=\"entities\" style=\"line-height: 2.5; direction: ltr\"> sorry sweets i only use the pencil kind</div></span>"
      ],
      "text/plain": [
       "<IPython.core.display.HTML object>"
      ]
     },
     "metadata": {},
     "output_type": "display_data"
    },
    {
     "data": {
      "text/html": [
       "<span class=\"tex2jax_ignore\"><div class=\"entities\" style=\"line-height: 2.5; direction: ltr\">back twitterverse! what's the magic number? approx $1k and it's body corp insurance not landlords that covers the garage ;)</div></span>"
      ],
      "text/plain": [
       "<IPython.core.display.HTML object>"
      ]
     },
     "metadata": {},
     "output_type": "display_data"
    },
    {
     "data": {
      "text/html": [
       "<span class=\"tex2jax_ignore\"><div class=\"entities\" style=\"line-height: 2.5; direction: ltr\"> not really just upset got dressed to go out somewhere then got back into bed for no reason im being a bit of a sook</div></span>"
      ],
      "text/plain": [
       "<IPython.core.display.HTML object>"
      ]
     },
     "metadata": {},
     "output_type": "display_data"
    },
    {
     "data": {
      "text/html": [
       "<span class=\"tex2jax_ignore\"><div class=\"entities\" style=\"line-height: 2.5; direction: ltr\">its raining and its cold outside winter coats again</div></span>"
      ],
      "text/plain": [
       "<IPython.core.display.HTML object>"
      ]
     },
     "metadata": {},
     "output_type": "display_data"
    },
    {
     "data": {
      "text/html": [
       "<span class=\"tex2jax_ignore\"><div class=\"entities\" style=\"line-height: 2.5; direction: ltr\">sick roomie gave me her cold my throats sore (hurts to swallow my cereal) super tired 24/7 now damn colds</div></span>"
      ],
      "text/plain": [
       "<IPython.core.display.HTML object>"
      ]
     },
     "metadata": {},
     "output_type": "display_data"
    },
    {
     "data": {
      "text/html": [
       "<span class=\"tex2jax_ignore\"><div class=\"entities\" style=\"line-height: 2.5; direction: ltr\">no flying to ponca city today for breakfast oatmeal at home here i come \n",
       "<mark class=\"entity\" style=\"background: #ddd; padding: 0.45em 0.6em; margin: 0 0.25em; line-height: 1; border-radius: 0.35em;\">\n",
       "    oats\n",
       "    <span style=\"font-size: 0.8em; font-weight: bold; line-height: 1; border-radius: 0.35em; vertical-align: middle; margin-left: 0.5rem\">FOOD</span>\n",
       "</mark>\n",
       " ftw !</div></span>"
      ],
      "text/plain": [
       "<IPython.core.display.HTML object>"
      ]
     },
     "metadata": {},
     "output_type": "display_data"
    },
    {
     "data": {
      "text/html": [
       "<span class=\"tex2jax_ignore\"><div class=\"entities\" style=\"line-height: 2.5; direction: ltr\">just walked by marksandspencers food n didn't get her beloved \n",
       "<mark class=\"entity\" style=\"background: #ddd; padding: 0.45em 0.6em; margin: 0 0.25em; line-height: 1; border-radius: 0.35em;\">\n",
       "    honey\n",
       "    <span style=\"font-size: 0.8em; font-weight: bold; line-height: 1; border-radius: 0.35em; vertical-align: middle; margin-left: 0.5rem\">FOOD</span>\n",
       "</mark>\n",
       " n \n",
       "<mark class=\"entity\" style=\"background: #ddd; padding: 0.45em 0.6em; margin: 0 0.25em; line-height: 1; border-radius: 0.35em;\">\n",
       "    oats\n",
       "    <span style=\"font-size: 0.8em; font-weight: bold; line-height: 1; border-radius: 0.35em; vertical-align: middle; margin-left: 0.5rem\">FOOD</span>\n",
       "</mark>\n",
       " flapjack *poverty sucks*</div></span>"
      ],
      "text/plain": [
       "<IPython.core.display.HTML object>"
      ]
     },
     "metadata": {},
     "output_type": "display_data"
    },
    {
     "data": {
      "text/html": [
       "<span class=\"tex2jax_ignore\"><div class=\"entities\" style=\"line-height: 2.5; direction: ltr\">if lucas till and taylor swift start dating i will start barfing goats all over the placeeeeeeeeeeeeeeeeee +o(</div></span>"
      ],
      "text/plain": [
       "<IPython.core.display.HTML object>"
      ]
     },
     "metadata": {},
     "output_type": "display_data"
    },
    {
     "data": {
      "text/html": [
       "<span class=\"tex2jax_ignore\"><div class=\"entities\" style=\"line-height: 2.5; direction: ltr\">bed time back to reality</div></span>"
      ],
      "text/plain": [
       "<IPython.core.display.HTML object>"
      ]
     },
     "metadata": {},
     "output_type": "display_data"
    }
   ],
   "source": [
    "# for tweet in test_data['tweet'][:500]:\n",
    "#     ents = nlp(preProcess(tweet))\n",
    "#     #if ents.doc.ents:\n",
    "#     ent_recognize(preProcess(tweet))"
   ]
  },
  {
   "cell_type": "markdown",
   "metadata": {},
   "source": [
    "# Old Results (Don't Change Unless on Purpose!)"
   ]
  },
  {
   "cell_type": "code",
   "execution_count": null,
   "metadata": {},
   "outputs": [],
   "source": [
    "# foodK1 = foodKeeperInfo()\n",
    "# notInFoodKeeper = []\n",
    "# inFoodKeeper = []\n",
    "# for keyword in keywordsFound:\n",
    "#     if keyword not in foodK1 and keyword not in notInFoodKeeper: notInFoodKeeper.append(keyword)\n",
    "#     elif keyword in foodK1 and keyword not in inFoodKeeper: inFoodKeeper.append(keyword)\n",
    "        \n",
    "# # print(len(notInFoodKeeper), len(inFoodKeeper))\n",
    "# # print(inFoodKeeper)\n",
    "# #Normal Process"
   ]
  },
  {
   "cell_type": "code",
   "execution_count": null,
   "metadata": {},
   "outputs": [],
   "source": [
    "# foodK1 = foodKeeperInfo()\n",
    "# notInFoodKeeper = []\n",
    "# inFoodKeeper = []\n",
    "# for keyword in keywordsFound:\n",
    "#     if keyword not in foodK1 and keyword not in notInFoodKeeper: notInFoodKeeper.append(keyword)\n",
    "#     elif keyword in foodK1 and keyword not in inFoodKeeper: inFoodKeeper.append(keyword)\n",
    "        \n",
    "# print(len(notInFoodKeeper), len(inFoodKeeper))"
   ]
  }
 ],
 "metadata": {
  "kernelspec": {
   "display_name": "Python 3 (ipykernel)",
   "language": "python",
   "name": "python3"
  },
  "language_info": {
   "codemirror_mode": {
    "name": "ipython",
    "version": 3
   },
   "file_extension": ".py",
   "mimetype": "text/x-python",
   "name": "python",
   "nbconvert_exporter": "python",
   "pygments_lexer": "ipython3",
   "version": "3.9.13"
  }
 },
 "nbformat": 4,
 "nbformat_minor": 4
}
